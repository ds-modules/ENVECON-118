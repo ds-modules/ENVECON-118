{
 "cells": [
  {
   "cell_type": "markdown",
   "metadata": {},
   "source": [
    "# Example\n",
    "\n",
    "### this is an example\n",
    "\n",
    "My example"
   ]
  },
  {
   "cell_type": "code",
   "execution_count": 1,
   "metadata": {
    "scrolled": true
   },
   "outputs": [
    {
     "data": {
      "text/html": [
       "5"
      ],
      "text/latex": [
       "5"
      ],
      "text/markdown": [
       "5"
      ],
      "text/plain": [
       "[1] 5"
      ]
     },
     "metadata": {},
     "output_type": "display_data"
    }
   ],
   "source": [
    "a<-2+3\n",
    "a"
   ]
  },
  {
   "cell_type": "code",
   "execution_count": 2,
   "metadata": {
    "scrolled": true
   },
   "outputs": [
    {
     "data": {
      "text/html": [
       "<table>\n",
       "<thead><tr><th scope=col>X</th><th scope=col>gdp_pc..US.1000.dollars.</th><th scope=col>labor_prod..US.1000.dollars.</th></tr></thead>\n",
       "<tbody>\n",
       "\t<tr><td>Bangladesh</td><td> 0.593    </td><td> 0.506    </td></tr>\n",
       "\t<tr><td>Chile     </td><td> 9.430    </td><td> 6.490    </td></tr>\n",
       "\t<tr><td>Hungary   </td><td>11.230    </td><td> 9.595    </td></tr>\n",
       "\t<tr><td>Spain     </td><td>25.380    </td><td>33.200    </td></tr>\n",
       "\t<tr><td>Italy     </td><td>30.130    </td><td>47.900    </td></tr>\n",
       "</tbody>\n",
       "</table>\n"
      ],
      "text/latex": [
       "\\begin{tabular}{r|lll}\n",
       " X & gdp\\_pc..US.1000.dollars. & labor\\_prod..US.1000.dollars.\\\\\n",
       "\\hline\n",
       "\t Bangladesh &  0.593     &  0.506    \\\\\n",
       "\t Chile      &  9.430     &  6.490    \\\\\n",
       "\t Hungary    & 11.230     &  9.595    \\\\\n",
       "\t Spain      & 25.380     & 33.200    \\\\\n",
       "\t Italy      & 30.130     & 47.900    \\\\\n",
       "\\end{tabular}\n"
      ],
      "text/markdown": [
       "\n",
       "| X | gdp_pc..US.1000.dollars. | labor_prod..US.1000.dollars. |\n",
       "|---|---|---|\n",
       "| Bangladesh |  0.593     |  0.506     |\n",
       "| Chile      |  9.430     |  6.490     |\n",
       "| Hungary    | 11.230     |  9.595     |\n",
       "| Spain      | 25.380     | 33.200     |\n",
       "| Italy      | 30.130     | 47.900     |\n",
       "\n"
      ],
      "text/plain": [
       "  X          gdp_pc..US.1000.dollars. labor_prod..US.1000.dollars.\n",
       "1 Bangladesh  0.593                    0.506                      \n",
       "2 Chile       9.430                    6.490                      \n",
       "3 Hungary    11.230                    9.595                      \n",
       "4 Spain      25.380                   33.200                      \n",
       "5 Italy      30.130                   47.900                      "
      ]
     },
     "metadata": {},
     "output_type": "display_data"
    }
   ],
   "source": [
    "countries<-read.csv(\"countries1.csv\")\n",
    "head(countries)"
   ]
  },
  {
   "cell_type": "code",
   "execution_count": 3,
   "metadata": {},
   "outputs": [
    {
     "data": {
      "text/html": [
       "<table>\n",
       "<thead><tr><th scope=col>intervid</th><th scope=col>treatment</th><th scope=col>resp_female</th><th scope=col>resp_primary</th><th scope=col>resp_secondary</th><th scope=col>resp_tertiary</th><th scope=col>resp_noschool</th><th scope=col>resp_age</th><th scope=col>resp_married</th><th scope=col>resp_emp</th><th scope=col>...</th><th scope=col>hhmem_unemployed</th><th scope=col>hhmem_retired</th><th scope=col>hhmem_school</th><th scope=col>total_exp</th><th scope=col>food_exp</th><th scope=col>nondur_exp</th><th scope=col>dur_exp</th><th scope=col>temp_exp</th><th scope=col>savings_avg</th><th scope=col>followup</th></tr></thead>\n",
       "<tbody>\n",
       "\t<tr><td> 2   </td><td>1    </td><td>1    </td><td>1    </td><td>0    </td><td>0    </td><td>0    </td><td>29   </td><td>0    </td><td>0    </td><td>...  </td><td>1    </td><td>0    </td><td>2    </td><td> 5740</td><td> 2080</td><td> 960 </td><td>1400 </td><td>1300 </td><td>  0  </td><td>1    </td></tr>\n",
       "\t<tr><td> 4   </td><td>0    </td><td>0    </td><td>0    </td><td>0    </td><td>1    </td><td>0    </td><td>49   </td><td>0    </td><td>0    </td><td>...  </td><td>2    </td><td>0    </td><td>2    </td><td>34678</td><td>30160</td><td>4488 </td><td>  30 </td><td>   0 </td><td>500  </td><td>1    </td></tr>\n",
       "\t<tr><td> 6   </td><td>0    </td><td>0    </td><td>1    </td><td>0    </td><td>0    </td><td>0    </td><td>24   </td><td>1    </td><td>1    </td><td>...  </td><td>0    </td><td>0    </td><td>0    </td><td> 9180</td><td> 2600</td><td> 420 </td><td>4340 </td><td>1820 </td><td>  0  </td><td>1    </td></tr>\n",
       "\t<tr><td> 7   </td><td>0    </td><td>0    </td><td>0    </td><td>1    </td><td>0    </td><td>0    </td><td>45   </td><td>0    </td><td>1    </td><td>...  </td><td>0    </td><td>0    </td><td>0    </td><td>12696</td><td> 9360</td><td>1812 </td><td> 900 </td><td> 624 </td><td>  0  </td><td>1    </td></tr>\n",
       "\t<tr><td> 8   </td><td>1    </td><td>0    </td><td>1    </td><td>0    </td><td>0    </td><td>0    </td><td>52   </td><td>0    </td><td>1    </td><td>...  </td><td>0    </td><td>0    </td><td>2    </td><td> 2960</td><td> 2600</td><td> 360 </td><td>   0 </td><td>   0 </td><td>  0  </td><td>1    </td></tr>\n",
       "\t<tr><td>13   </td><td>1    </td><td>0    </td><td>0    </td><td>1    </td><td>0    </td><td>0    </td><td>18   </td><td>1    </td><td>1    </td><td>...  </td><td>0    </td><td>0    </td><td>1    </td><td> 9188</td><td> 7800</td><td> 360 </td><td> 300 </td><td> 728 </td><td>500  </td><td>1    </td></tr>\n",
       "</tbody>\n",
       "</table>\n"
      ],
      "text/latex": [
       "\\begin{tabular}{r|lllllllllllllllllllllllll}\n",
       " intervid & treatment & resp\\_female & resp\\_primary & resp\\_secondary & resp\\_tertiary & resp\\_noschool & resp\\_age & resp\\_married & resp\\_emp & ... & hhmem\\_unemployed & hhmem\\_retired & hhmem\\_school & total\\_exp & food\\_exp & nondur\\_exp & dur\\_exp & temp\\_exp & savings\\_avg & followup\\\\\n",
       "\\hline\n",
       "\t  2    & 1     & 1     & 1     & 0     & 0     & 0     & 29    & 0     & 0     & ...   & 1     & 0     & 2     &  5740 &  2080 &  960  & 1400  & 1300  &   0   & 1    \\\\\n",
       "\t  4    & 0     & 0     & 0     & 0     & 1     & 0     & 49    & 0     & 0     & ...   & 2     & 0     & 2     & 34678 & 30160 & 4488  &   30  &    0  & 500   & 1    \\\\\n",
       "\t  6    & 0     & 0     & 1     & 0     & 0     & 0     & 24    & 1     & 1     & ...   & 0     & 0     & 0     &  9180 &  2600 &  420  & 4340  & 1820  &   0   & 1    \\\\\n",
       "\t  7    & 0     & 0     & 0     & 1     & 0     & 0     & 45    & 0     & 1     & ...   & 0     & 0     & 0     & 12696 &  9360 & 1812  &  900  &  624  &   0   & 1    \\\\\n",
       "\t  8    & 1     & 0     & 1     & 0     & 0     & 0     & 52    & 0     & 1     & ...   & 0     & 0     & 2     &  2960 &  2600 &  360  &    0  &    0  &   0   & 1    \\\\\n",
       "\t 13    & 1     & 0     & 0     & 1     & 0     & 0     & 18    & 1     & 1     & ...   & 0     & 0     & 1     &  9188 &  7800 &  360  &  300  &  728  & 500   & 1    \\\\\n",
       "\\end{tabular}\n"
      ],
      "text/markdown": [
       "\n",
       "| intervid | treatment | resp_female | resp_primary | resp_secondary | resp_tertiary | resp_noschool | resp_age | resp_married | resp_emp | ... | hhmem_unemployed | hhmem_retired | hhmem_school | total_exp | food_exp | nondur_exp | dur_exp | temp_exp | savings_avg | followup |\n",
       "|---|---|---|---|---|---|---|---|---|---|---|---|---|---|---|---|---|---|---|---|---|\n",
       "|  2    | 1     | 1     | 1     | 0     | 0     | 0     | 29    | 0     | 0     | ...   | 1     | 0     | 2     |  5740 |  2080 |  960  | 1400  | 1300  |   0   | 1     |\n",
       "|  4    | 0     | 0     | 0     | 0     | 1     | 0     | 49    | 0     | 0     | ...   | 2     | 0     | 2     | 34678 | 30160 | 4488  |   30  |    0  | 500   | 1     |\n",
       "|  6    | 0     | 0     | 1     | 0     | 0     | 0     | 24    | 1     | 1     | ...   | 0     | 0     | 0     |  9180 |  2600 |  420  | 4340  | 1820  |   0   | 1     |\n",
       "|  7    | 0     | 0     | 0     | 1     | 0     | 0     | 45    | 0     | 1     | ...   | 0     | 0     | 0     | 12696 |  9360 | 1812  |  900  |  624  |   0   | 1     |\n",
       "|  8    | 1     | 0     | 1     | 0     | 0     | 0     | 52    | 0     | 1     | ...   | 0     | 0     | 2     |  2960 |  2600 |  360  |    0  |    0  |   0   | 1     |\n",
       "| 13    | 1     | 0     | 0     | 1     | 0     | 0     | 18    | 1     | 1     | ...   | 0     | 0     | 1     |  9188 |  7800 |  360  |  300  |  728  | 500   | 1     |\n",
       "\n"
      ],
      "text/plain": [
       "  intervid treatment resp_female resp_primary resp_secondary resp_tertiary\n",
       "1  2       1         1           1            0              0            \n",
       "2  4       0         0           0            0              1            \n",
       "3  6       0         0           1            0              0            \n",
       "4  7       0         0           0            1              0            \n",
       "5  8       1         0           1            0              0            \n",
       "6 13       1         0           0            1              0            \n",
       "  resp_noschool resp_age resp_married resp_emp ... hhmem_unemployed\n",
       "1 0             29       0            0        ... 1               \n",
       "2 0             49       0            0        ... 2               \n",
       "3 0             24       1            1        ... 0               \n",
       "4 0             45       0            1        ... 0               \n",
       "5 0             52       0            1        ... 0               \n",
       "6 0             18       1            1        ... 0               \n",
       "  hhmem_retired hhmem_school total_exp food_exp nondur_exp dur_exp temp_exp\n",
       "1 0             2             5740      2080     960       1400    1300    \n",
       "2 0             2            34678     30160    4488         30       0    \n",
       "3 0             0             9180      2600     420       4340    1820    \n",
       "4 0             0            12696      9360    1812        900     624    \n",
       "5 0             2             2960      2600     360          0       0    \n",
       "6 0             1             9188      7800     360        300     728    \n",
       "  savings_avg followup\n",
       "1   0         1       \n",
       "2 500         1       \n",
       "3   0         1       \n",
       "4   0         1       \n",
       "5   0         1       \n",
       "6 500         1       "
      ]
     },
     "metadata": {},
     "output_type": "display_data"
    }
   ],
   "source": [
    "library(haven)\n",
    "mfi<-read_dta(\"PS2_MFI.dta\")\n",
    "head(mfi)"
   ]
  },
  {
   "cell_type": "code",
   "execution_count": null,
   "metadata": {},
   "outputs": [],
   "source": []
  }
 ],
 "metadata": {
  "kernelspec": {
   "display_name": "R",
   "language": "R",
   "name": "ir"
  },
  "language_info": {
   "codemirror_mode": "r",
   "file_extension": ".r",
   "mimetype": "text/x-r-source",
   "name": "R",
   "pygments_lexer": "r",
   "version": "3.6.1"
  }
 },
 "nbformat": 4,
 "nbformat_minor": 2
}
