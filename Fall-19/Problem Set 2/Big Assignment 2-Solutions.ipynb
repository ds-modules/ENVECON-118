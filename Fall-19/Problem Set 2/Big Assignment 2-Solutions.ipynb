{
 "cells": [
  {
   "cell_type": "markdown",
   "metadata": {},
   "source": [
    "# Problem Set 2 Solutions"
   ]
  },
  {
   "cell_type": "markdown",
   "metadata": {},
   "source": [
    "# Exercise 1: Do Microfinance Loans Affect Expenditure?\n",
    "\n",
    "### Most of the world's poor have limited access to formal credit. Traditionally, they have had to resort to their social networks (family, friends) or local moneylenders that charge exorbitant interest rates (upwardsof 100%). This often prevents individuals from making investments in potential businesses or productive assets. In the last 15 years, microfinance institutions (MFI) have emerged all across the developing world to address this problem. The basic model of a microfinance institution (such as the Grameen Bank) is to provide small loans to a group of potential borrowers at much lower interest rates. The number of very poor families with a microloan has grown exponentially: from 7.6 million in 1997 to 137.5 million in 2010. Micro-credit has been heralded as a major advance in the reduction of global poverty. However, in recent years, critiques have emerged accusing micro-finance institutions of acting irresponsibly by holding the poor to very strict repayment schedules and charging unreasonably high interest rates. So where does this leave us? Does micro-credit help or hinder? In the January 2015 issue of the American Economic Journal: Applied Economics, six papers evaluating the merits of micro-credit were released. We will explore the results from one of these papers by Augsburg et al., which evaluates a microfinance institution in Bosnia and Herzegovina."
   ]
  },
  {
   "cell_type": "markdown",
   "metadata": {},
   "source": [
    "# Data Description"
   ]
  },
  {
   "cell_type": "markdown",
   "metadata": {},
   "source": [
    "### The data for this exercise comes from a study conducted in Bosnia and Herzegovina investigating the effects of a small loan on access to liquidity; self-employment and income; labor supply; expenditure and savings. These were individual-liability loans with monthly repayments and an interest rate of 22%. The sample consists of potential borrowers (who were just marginally eligible for loans). Approximately half the sample was randomly selected to receive the loan (the treatment group), while the other half did not receive anything (control group). You have a subsample of individuals (both in the treatment and control group) that the researchers used for their analysis. The respondent (= the loan applicant) answered questions about the household they belonged to as well (no two respondents are from the same household). The PS2_MFI.dta file includes the following variables:"
   ]
  },
  {
   "cell_type": "markdown",
   "metadata": {},
   "source": [
    "• `treatment` : dummy equal to 1 if the respondent is in the treatment group (which received a loan)\n",
    "\n",
    "• `resp_female`: dummy equal to 1 if the respondent is female\n",
    "\n",
    "• `resp_age`: the respondent's age\n",
    "\n",
    "• `hhmem`: number of household members\n",
    "\n",
    "• `hhmem_adults`: number of adults in household ($\\geq$14)\n",
    "\n",
    "• `hhmem_children`: number of children in household (<14)\n",
    "\n",
    "• `hhmem_elderly`: number of elderly in household (>64)\n",
    "\n",
    "• `total_exp`: total annual household expenditure in Bosnian Convertible Marka (BAM)\n",
    "\n",
    "• `food_exp`: annual household expenditure on food in BAM\n",
    "\n",
    "• `nondur_exp`: annual household expenditure on nondurables (rent, fuel, transport, clothes, insurance...) in BAM\n",
    "\n",
    "• `dur_exp`: annual household expenditure on durables (education, furniture, vehicle...) in BAM\n",
    "\n",
    "• `temp_exp`: annual household expenditure on temptation goods (cigarettes, tobacco, alcohol) in BAM\n",
    "\n",
    "### The prevailing exchange rate at the time of the study was approximately US$1 = 1.63 BAM."
   ]
  },
  {
   "cell_type": "markdown",
   "metadata": {},
   "source": [
    "# Question 1"
   ]
  },
  {
   "cell_type": "markdown",
   "metadata": {},
   "source": [
    "Load the dataset `PS2_MFI.dta`. Notice that this is a `.dta` file so you will need to use the `haven` package."
   ]
  },
  {
   "cell_type": "code",
   "execution_count": 13,
   "metadata": {},
   "outputs": [
    {
     "data": {
      "text/html": [
       "<table>\n",
       "<caption>A tibble: 6 × 25</caption>\n",
       "<thead>\n",
       "\t<tr><th scope=col>intervid</th><th scope=col>treatment</th><th scope=col>resp_female</th><th scope=col>resp_primary</th><th scope=col>resp_secondary</th><th scope=col>resp_tertiary</th><th scope=col>resp_noschool</th><th scope=col>resp_age</th><th scope=col>resp_married</th><th scope=col>resp_emp</th><th scope=col>⋯</th><th scope=col>hhmem_unemployed</th><th scope=col>hhmem_retired</th><th scope=col>hhmem_school</th><th scope=col>total_exp</th><th scope=col>food_exp</th><th scope=col>nondur_exp</th><th scope=col>dur_exp</th><th scope=col>temp_exp</th><th scope=col>savings_avg</th><th scope=col>followup</th></tr>\n",
       "\t<tr><th scope=col>&lt;dbl&gt;</th><th scope=col>&lt;dbl&gt;</th><th scope=col>&lt;dbl&gt;</th><th scope=col>&lt;dbl&gt;</th><th scope=col>&lt;dbl&gt;</th><th scope=col>&lt;dbl&gt;</th><th scope=col>&lt;dbl&gt;</th><th scope=col>&lt;dbl&gt;</th><th scope=col>&lt;dbl&gt;</th><th scope=col>&lt;dbl&gt;</th><th scope=col>⋯</th><th scope=col>&lt;dbl&gt;</th><th scope=col>&lt;dbl&gt;</th><th scope=col>&lt;dbl&gt;</th><th scope=col>&lt;dbl&gt;</th><th scope=col>&lt;dbl&gt;</th><th scope=col>&lt;dbl&gt;</th><th scope=col>&lt;dbl&gt;</th><th scope=col>&lt;dbl&gt;</th><th scope=col>&lt;dbl&gt;</th><th scope=col>&lt;dbl&gt;</th></tr>\n",
       "</thead>\n",
       "<tbody>\n",
       "\t<tr><td> 2</td><td>1</td><td>1</td><td>1</td><td>0</td><td>0</td><td>0</td><td>29</td><td>0</td><td>0</td><td>⋯</td><td>1</td><td>0</td><td>2</td><td> 5740</td><td> 2080</td><td> 960</td><td>1400</td><td>1300</td><td>  0</td><td>1</td></tr>\n",
       "\t<tr><td> 4</td><td>0</td><td>0</td><td>0</td><td>0</td><td>1</td><td>0</td><td>49</td><td>0</td><td>0</td><td>⋯</td><td>2</td><td>0</td><td>2</td><td>34678</td><td>30160</td><td>4488</td><td>  30</td><td>   0</td><td>500</td><td>1</td></tr>\n",
       "\t<tr><td> 6</td><td>0</td><td>0</td><td>1</td><td>0</td><td>0</td><td>0</td><td>24</td><td>1</td><td>1</td><td>⋯</td><td>0</td><td>0</td><td>0</td><td> 9180</td><td> 2600</td><td> 420</td><td>4340</td><td>1820</td><td>  0</td><td>1</td></tr>\n",
       "\t<tr><td> 7</td><td>0</td><td>0</td><td>0</td><td>1</td><td>0</td><td>0</td><td>45</td><td>0</td><td>1</td><td>⋯</td><td>0</td><td>0</td><td>0</td><td>12696</td><td> 9360</td><td>1812</td><td> 900</td><td> 624</td><td>  0</td><td>1</td></tr>\n",
       "\t<tr><td> 8</td><td>1</td><td>0</td><td>1</td><td>0</td><td>0</td><td>0</td><td>52</td><td>0</td><td>1</td><td>⋯</td><td>0</td><td>0</td><td>2</td><td> 2960</td><td> 2600</td><td> 360</td><td>   0</td><td>   0</td><td>  0</td><td>1</td></tr>\n",
       "\t<tr><td>13</td><td>1</td><td>0</td><td>0</td><td>1</td><td>0</td><td>0</td><td>18</td><td>1</td><td>1</td><td>⋯</td><td>0</td><td>0</td><td>1</td><td> 9188</td><td> 7800</td><td> 360</td><td> 300</td><td> 728</td><td>500</td><td>1</td></tr>\n",
       "</tbody>\n",
       "</table>\n"
      ],
      "text/latex": [
       "A tibble: 6 × 25\n",
       "\\begin{tabular}{r|lllllllllllllllllllllllll}\n",
       " intervid & treatment & resp\\_female & resp\\_primary & resp\\_secondary & resp\\_tertiary & resp\\_noschool & resp\\_age & resp\\_married & resp\\_emp & hhmem & hhmem\\_adults & hhmem\\_children & hhmem\\_elderly & hhmem\\_employed & hhmem\\_unemployed & hhmem\\_retired & hhmem\\_school & total\\_exp & food\\_exp & nondur\\_exp & dur\\_exp & temp\\_exp & savings\\_avg & followup\\\\\n",
       " <dbl> & <dbl> & <dbl> & <dbl> & <dbl> & <dbl> & <dbl> & <dbl> & <dbl> & <dbl> & <dbl> & <dbl> & <dbl> & <dbl> & <dbl> & <dbl> & <dbl> & <dbl> & <dbl> & <dbl> & <dbl> & <dbl> & <dbl> & <dbl> & <dbl>\\\\\n",
       "\\hline\n",
       "\t  2 & 1 & 1 & 1 & 0 & 0 & 0 & 29 & 0 & 0 & 5 & 2 & 3 & 0 & 0 & 1 & 0 & 2 &  5740 &  2080 &  960 & 1400 & 1300 &   0 & 1\\\\\n",
       "\t  4 & 0 & 0 & 0 & 0 & 1 & 0 & 49 & 0 & 0 & 4 & 3 & 1 & 0 & 0 & 2 & 0 & 2 & 34678 & 30160 & 4488 &   30 &    0 & 500 & 1\\\\\n",
       "\t  6 & 0 & 0 & 1 & 0 & 0 & 0 & 24 & 1 & 1 & 1 & 1 & 0 & 0 & 1 & 0 & 0 & 0 &  9180 &  2600 &  420 & 4340 & 1820 &   0 & 1\\\\\n",
       "\t  7 & 0 & 0 & 0 & 1 & 0 & 0 & 45 & 0 & 1 & 1 & 1 & 0 & 0 & 1 & 0 & 0 & 0 & 12696 &  9360 & 1812 &  900 &  624 &   0 & 1\\\\\n",
       "\t  8 & 1 & 0 & 1 & 0 & 0 & 0 & 52 & 0 & 1 & 4 & 2 & 2 & 0 & 1 & 0 & 0 & 2 &  2960 &  2600 &  360 &    0 &    0 &   0 & 1\\\\\n",
       "\t 13 & 1 & 0 & 0 & 1 & 0 & 0 & 18 & 1 & 1 & 5 & 3 & 2 & 0 & 3 & 0 & 0 & 1 &  9188 &  7800 &  360 &  300 &  728 & 500 & 1\\\\\n",
       "\\end{tabular}\n"
      ],
      "text/markdown": [
       "\n",
       "A tibble: 6 × 25\n",
       "\n",
       "| intervid &lt;dbl&gt; | treatment &lt;dbl&gt; | resp_female &lt;dbl&gt; | resp_primary &lt;dbl&gt; | resp_secondary &lt;dbl&gt; | resp_tertiary &lt;dbl&gt; | resp_noschool &lt;dbl&gt; | resp_age &lt;dbl&gt; | resp_married &lt;dbl&gt; | resp_emp &lt;dbl&gt; | ⋯ ⋯ | hhmem_unemployed &lt;dbl&gt; | hhmem_retired &lt;dbl&gt; | hhmem_school &lt;dbl&gt; | total_exp &lt;dbl&gt; | food_exp &lt;dbl&gt; | nondur_exp &lt;dbl&gt; | dur_exp &lt;dbl&gt; | temp_exp &lt;dbl&gt; | savings_avg &lt;dbl&gt; | followup &lt;dbl&gt; |\n",
       "|---|---|---|---|---|---|---|---|---|---|---|---|---|---|---|---|---|---|---|---|---|\n",
       "|  2 | 1 | 1 | 1 | 0 | 0 | 0 | 29 | 0 | 0 | ⋯ | 1 | 0 | 2 |  5740 |  2080 |  960 | 1400 | 1300 |   0 | 1 |\n",
       "|  4 | 0 | 0 | 0 | 0 | 1 | 0 | 49 | 0 | 0 | ⋯ | 2 | 0 | 2 | 34678 | 30160 | 4488 |   30 |    0 | 500 | 1 |\n",
       "|  6 | 0 | 0 | 1 | 0 | 0 | 0 | 24 | 1 | 1 | ⋯ | 0 | 0 | 0 |  9180 |  2600 |  420 | 4340 | 1820 |   0 | 1 |\n",
       "|  7 | 0 | 0 | 0 | 1 | 0 | 0 | 45 | 0 | 1 | ⋯ | 0 | 0 | 0 | 12696 |  9360 | 1812 |  900 |  624 |   0 | 1 |\n",
       "|  8 | 1 | 0 | 1 | 0 | 0 | 0 | 52 | 0 | 1 | ⋯ | 0 | 0 | 2 |  2960 |  2600 |  360 |    0 |    0 |   0 | 1 |\n",
       "| 13 | 1 | 0 | 0 | 1 | 0 | 0 | 18 | 1 | 1 | ⋯ | 0 | 0 | 1 |  9188 |  7800 |  360 |  300 |  728 | 500 | 1 |\n",
       "\n"
      ],
      "text/plain": [
       "  intervid treatment resp_female resp_primary resp_secondary resp_tertiary\n",
       "1  2       1         1           1            0              0            \n",
       "2  4       0         0           0            0              1            \n",
       "3  6       0         0           1            0              0            \n",
       "4  7       0         0           0            1              0            \n",
       "5  8       1         0           1            0              0            \n",
       "6 13       1         0           0            1              0            \n",
       "  resp_noschool resp_age resp_married resp_emp ⋯ hhmem_unemployed hhmem_retired\n",
       "1 0             29       0            0        ⋯ 1                0            \n",
       "2 0             49       0            0        ⋯ 2                0            \n",
       "3 0             24       1            1        ⋯ 0                0            \n",
       "4 0             45       0            1        ⋯ 0                0            \n",
       "5 0             52       0            1        ⋯ 0                0            \n",
       "6 0             18       1            1        ⋯ 0                0            \n",
       "  hhmem_school total_exp food_exp nondur_exp dur_exp temp_exp savings_avg\n",
       "1 2             5740      2080     960       1400    1300       0        \n",
       "2 2            34678     30160    4488         30       0     500        \n",
       "3 0             9180      2600     420       4340    1820       0        \n",
       "4 0            12696      9360    1812        900     624       0        \n",
       "5 2             2960      2600     360          0       0       0        \n",
       "6 1             9188      7800     360        300     728     500        \n",
       "  followup\n",
       "1 1       \n",
       "2 1       \n",
       "3 1       \n",
       "4 1       \n",
       "5 1       \n",
       "6 1       "
      ]
     },
     "metadata": {},
     "output_type": "display_data"
    }
   ],
   "source": [
    "library(haven)\n",
    "ps2<-read_dta(\"PS2_MFI.dta\")\n",
    "head(ps2)"
   ]
  },
  {
   "cell_type": "code",
   "execution_count": 14,
   "metadata": {},
   "outputs": [
    {
     "data": {
      "text/html": [
       "<ol class=list-inline>\n",
       "\t<li>'intervid'</li>\n",
       "\t<li>'treatment'</li>\n",
       "\t<li>'resp_female'</li>\n",
       "\t<li>'resp_primary'</li>\n",
       "\t<li>'resp_secondary'</li>\n",
       "\t<li>'resp_tertiary'</li>\n",
       "\t<li>'resp_noschool'</li>\n",
       "\t<li>'resp_age'</li>\n",
       "\t<li>'resp_married'</li>\n",
       "\t<li>'resp_emp'</li>\n",
       "\t<li>'hhmem'</li>\n",
       "\t<li>'hhmem_adults'</li>\n",
       "\t<li>'hhmem_children'</li>\n",
       "\t<li>'hhmem_elderly'</li>\n",
       "\t<li>'hhmem_employed'</li>\n",
       "\t<li>'hhmem_unemployed'</li>\n",
       "\t<li>'hhmem_retired'</li>\n",
       "\t<li>'hhmem_school'</li>\n",
       "\t<li>'total_exp'</li>\n",
       "\t<li>'food_exp'</li>\n",
       "\t<li>'nondur_exp'</li>\n",
       "\t<li>'dur_exp'</li>\n",
       "\t<li>'temp_exp'</li>\n",
       "\t<li>'savings_avg'</li>\n",
       "\t<li>'followup'</li>\n",
       "</ol>\n"
      ],
      "text/latex": [
       "\\begin{enumerate*}\n",
       "\\item 'intervid'\n",
       "\\item 'treatment'\n",
       "\\item 'resp\\_female'\n",
       "\\item 'resp\\_primary'\n",
       "\\item 'resp\\_secondary'\n",
       "\\item 'resp\\_tertiary'\n",
       "\\item 'resp\\_noschool'\n",
       "\\item 'resp\\_age'\n",
       "\\item 'resp\\_married'\n",
       "\\item 'resp\\_emp'\n",
       "\\item 'hhmem'\n",
       "\\item 'hhmem\\_adults'\n",
       "\\item 'hhmem\\_children'\n",
       "\\item 'hhmem\\_elderly'\n",
       "\\item 'hhmem\\_employed'\n",
       "\\item 'hhmem\\_unemployed'\n",
       "\\item 'hhmem\\_retired'\n",
       "\\item 'hhmem\\_school'\n",
       "\\item 'total\\_exp'\n",
       "\\item 'food\\_exp'\n",
       "\\item 'nondur\\_exp'\n",
       "\\item 'dur\\_exp'\n",
       "\\item 'temp\\_exp'\n",
       "\\item 'savings\\_avg'\n",
       "\\item 'followup'\n",
       "\\end{enumerate*}\n"
      ],
      "text/markdown": [
       "1. 'intervid'\n",
       "2. 'treatment'\n",
       "3. 'resp_female'\n",
       "4. 'resp_primary'\n",
       "5. 'resp_secondary'\n",
       "6. 'resp_tertiary'\n",
       "7. 'resp_noschool'\n",
       "8. 'resp_age'\n",
       "9. 'resp_married'\n",
       "10. 'resp_emp'\n",
       "11. 'hhmem'\n",
       "12. 'hhmem_adults'\n",
       "13. 'hhmem_children'\n",
       "14. 'hhmem_elderly'\n",
       "15. 'hhmem_employed'\n",
       "16. 'hhmem_unemployed'\n",
       "17. 'hhmem_retired'\n",
       "18. 'hhmem_school'\n",
       "19. 'total_exp'\n",
       "20. 'food_exp'\n",
       "21. 'nondur_exp'\n",
       "22. 'dur_exp'\n",
       "23. 'temp_exp'\n",
       "24. 'savings_avg'\n",
       "25. 'followup'\n",
       "\n",
       "\n"
      ],
      "text/plain": [
       " [1] \"intervid\"         \"treatment\"        \"resp_female\"      \"resp_primary\"    \n",
       " [5] \"resp_secondary\"   \"resp_tertiary\"    \"resp_noschool\"    \"resp_age\"        \n",
       " [9] \"resp_married\"     \"resp_emp\"         \"hhmem\"            \"hhmem_adults\"    \n",
       "[13] \"hhmem_children\"   \"hhmem_elderly\"    \"hhmem_employed\"   \"hhmem_unemployed\"\n",
       "[17] \"hhmem_retired\"    \"hhmem_school\"     \"total_exp\"        \"food_exp\"        \n",
       "[21] \"nondur_exp\"       \"dur_exp\"          \"temp_exp\"         \"savings_avg\"     \n",
       "[25] \"followup\"        "
      ]
     },
     "metadata": {},
     "output_type": "display_data"
    }
   ],
   "source": [
    "colnames(ps2)"
   ]
  },
  {
   "cell_type": "markdown",
   "metadata": {},
   "source": [
    "### a) How many respondents are in your data set? How many respondents are females? What is the mean age among the respondents in the sample? What is the mean number of household members among respondents in your sample?"
   ]
  },
  {
   "cell_type": "code",
   "execution_count": 2,
   "metadata": {},
   "outputs": [
    {
     "data": {
      "text/html": [
       "597"
      ],
      "text/latex": [
       "597"
      ],
      "text/markdown": [
       "597"
      ],
      "text/plain": [
       "[1] 597"
      ]
     },
     "metadata": {},
     "output_type": "display_data"
    },
    {
     "data": {
      "text/html": [
       "0.407035175879397"
      ],
      "text/latex": [
       "0.407035175879397"
      ],
      "text/markdown": [
       "0.407035175879397"
      ],
      "text/plain": [
       "[1] 0.4070352"
      ]
     },
     "metadata": {},
     "output_type": "display_data"
    },
    {
     "data": {
      "text/html": [
       "37.3724832214765"
      ],
      "text/latex": [
       "37.3724832214765"
      ],
      "text/markdown": [
       "37.3724832214765"
      ],
      "text/plain": [
       "[1] 37.37248"
      ]
     },
     "metadata": {},
     "output_type": "display_data"
    },
    {
     "data": {
      "text/html": [
       "1"
      ],
      "text/latex": [
       "1"
      ],
      "text/markdown": [
       "1"
      ],
      "text/plain": [
       "[1] 1"
      ]
     },
     "metadata": {},
     "output_type": "display_data"
    },
    {
     "data": {
      "text/html": [
       "3.62311557788945"
      ],
      "text/latex": [
       "3.62311557788945"
      ],
      "text/markdown": [
       "3.62311557788945"
      ],
      "text/plain": [
       "[1] 3.623116"
      ]
     },
     "metadata": {},
     "output_type": "display_data"
    }
   ],
   "source": [
    "nrow(ps2) #number of respondents\n",
    "mean(ps2$resp_female) #gender\n",
    "mean(ps2$resp_age, na.rm=T) #age\n",
    "nrow(ps2[is.na(ps2$resp_age),]) #missing values in age\n",
    "mean(ps2$hhmem) #household members"
   ]
  },
  {
   "cell_type": "markdown",
   "metadata": {},
   "source": [
    "There are 597 respondents in the data set. 40.7% of them are female. The average age of respondents is 37.3 (noting that we are missing age infomation on 1 respondent). On average a respondent's household has 3.62 members."
   ]
  },
  {
   "cell_type": "markdown",
   "metadata": {},
   "source": [
    "### b) Construct a variable `total_exp_pc` equal to total expenditures per capita in BAM. Plot a histogram (Hint: use the `hist()` command) of this constructed variable. What is the range of household total expenditures per capita? (You may want to refer to US Dollars in the discussion, so as to make sense of the income level of these MFI clients)."
   ]
  },
  {
   "cell_type": "code",
   "execution_count": 3,
   "metadata": {},
   "outputs": [
    {
     "data": {
      "text/plain": [
       "   Min. 1st Qu.  Median    Mean 3rd Qu.    Max. \n",
       "  421.4  1705.0  2887.0  3973.0  4530.0 34160.0 "
      ]
     },
     "metadata": {},
     "output_type": "display_data"
    },
    {
     "data": {
      "text/plain": [
       "   Min. 1st Qu.  Median    Mean 3rd Qu.    Max. \n",
       "  258.5  1046.0  1771.0  2437.0  2779.0 20960.0 "
      ]
     },
     "metadata": {},
     "output_type": "display_data"
    },
    {
     "data": {
      "text/html": [
       "20698.5100788782"
      ],
      "text/latex": [
       "20698.5100788782"
      ],
      "text/markdown": [
       "20698.5100788782"
      ],
      "text/plain": [
       "[1] 20698.51"
      ]
     },
     "metadata": {},
     "output_type": "display_data"
    },
    {
     "data": {
      "image/png": "[encoded data removed]",
      "text/plain": [
       "Plot with title “Per capita Expenditures”"
      ]
     },
     "metadata": {
      "image/png": {
       "height": 420,
       "width": 420
      },
      "text/plain": {
       "height": 420,
       "width": 420
      }
     },
     "output_type": "display_data"
    }
   ],
   "source": [
    "ps2$total_exp_pc<-ps2$total_exp/ps2$hhmem #Create variable\n",
    "summary(ps2$total_exp_pc) #summarize values in BAM\n",
    "summary(ps2$total_exp_pc/1.63) #summarize values in dollar equivalent\n",
    "(max(ps2$total_exp_pc)-min(ps2$total_exp_pc))/1.63 #calculate range in dollar equivalent\n",
    "\n",
    "hist(ps2$total_exp_pc,\n",
    "    main = \"Per capita Expenditures\",\n",
    "    xlab = \"Expeneditures in BAM\")\n",
    "\n"
   ]
  },
  {
   "cell_type": "markdown",
   "metadata": {},
   "source": [
    "Per capita expenditures in the sample ranges from 421.4 BAM to 34160.0 BAM, which is approximately \\$ 258 to \\$ 20,960, for a range of \\$20698.51."
   ]
  },
  {
   "cell_type": "markdown",
   "metadata": {},
   "source": [
    "### c) Calculate the proportion of household expenditures spent on non-durable goods (education, furniture, repairs, vehicle, appliances). You will need to create this new variable. What is the mean? What is the median? Compare the mean value of these proportions among treatment and control households."
   ]
  },
  {
   "cell_type": "code",
   "execution_count": 12,
   "metadata": {},
   "outputs": [
    {
     "data": {
      "text/plain": [
       "   Min. 1st Qu.  Median    Mean 3rd Qu.    Max. \n",
       "0.00813 0.09331 0.18220 0.21240 0.28300 0.93260 "
      ]
     },
     "metadata": {},
     "output_type": "display_data"
    },
    {
     "data": {
      "text/plain": [
       "   Min. 1st Qu.  Median    Mean 3rd Qu.    Max. \n",
       "0.00858 0.09418 0.17900 0.20570 0.27780 0.70410 "
      ]
     },
     "metadata": {},
     "output_type": "display_data"
    },
    {
     "data": {
      "text/plain": [
       "   Min. 1st Qu.  Median    Mean 3rd Qu.    Max. \n",
       "0.00813 0.09334 0.18500 0.21770 0.29200 0.93260 "
      ]
     },
     "metadata": {},
     "output_type": "display_data"
    },
    {
     "data": {
      "text/html": [
       "<ol class=list-inline>\n",
       "\t<li>'My value is'</li>\n",
       "\t<li>'4'</li>\n",
       "</ol>\n"
      ],
      "text/latex": [
       "\\begin{enumerate*}\n",
       "\\item 'My value is'\n",
       "\\item '4'\n",
       "\\end{enumerate*}\n"
      ],
      "text/markdown": [
       "1. 'My value is'\n",
       "2. '4'\n",
       "\n",
       "\n"
      ],
      "text/plain": [
       "[1] \"My value is\" \"4\"          "
      ]
     },
     "metadata": {},
     "output_type": "display_data"
    }
   ],
   "source": [
    "ps2$frac_nondur<-ps2$nondur_exp/ps2$total_exp\n",
    "\n",
    "summary(ps2$frac_nondur) ##summary stats for total population\n",
    "\n",
    "summary(ps2[ps2$treatment==0,]$frac_nondur) ##Summary stats for control\n",
    "summary(ps2[ps2$treatment==1,]$frac_nondur) ##Summary stats for treatment\n",
    "\n"
   ]
  },
  {
   "cell_type": "markdown",
   "metadata": {},
   "source": [
    "In the full population, an average of 21.2 $\\%$ and a median of 18.2 $\\%$ of household expenditures are spent on non-durables. Both the mean and median values are about 1 percentage point higher in the treatment group."
   ]
  },
  {
   "cell_type": "markdown",
   "metadata": {},
   "source": [
    "# Question 2"
   ]
  },
  {
   "cell_type": "markdown",
   "metadata": {},
   "source": [
    "### We will now explore the role of household size in food consumption. Consider these two models: \n",
    "\n",
    "Model 1: $\\ln( $ food_exp_pc $ ) = \\beta_0 + \\beta_1 \\ln($ total_exp_pc $) + \\beta_2 $ treatment $ + u $\n",
    "\n",
    "Model 2: $\\ln($ food_exp_pc$) = \\beta_0 + \\beta_1 \\ln($total_exp_pc$) + \\beta_2$ treatment$ + \\beta_3 \\ln($hhmem$) + u $"
   ]
  },
  {
   "cell_type": "markdown",
   "metadata": {},
   "source": [
    "### a) Estimate equations (1) and (2)."
   ]
  },
  {
   "cell_type": "code",
   "execution_count": 5,
   "metadata": {},
   "outputs": [
    {
     "data": {
      "text/plain": [
       "\n",
       "Call:\n",
       "lm(formula = log(food_exp_pc) ~ log(total_exp_pc) + treatment, \n",
       "    data = ps2)\n",
       "\n",
       "Residuals:\n",
       "     Min       1Q   Median       3Q      Max \n",
       "-2.16572 -0.23989  0.09223  0.32982  0.79996 \n",
       "\n",
       "Coefficients:\n",
       "                  Estimate Std. Error t value Pr(>|t|)    \n",
       "(Intercept)        0.71071    0.19621   3.622 0.000317 ***\n",
       "log(total_exp_pc)  0.83185    0.02415  34.452  < 2e-16 ***\n",
       "treatment         -0.03878    0.03709  -1.046 0.296186    \n",
       "---\n",
       "Signif. codes:  0 ‘***’ 0.001 ‘**’ 0.01 ‘*’ 0.05 ‘.’ 0.1 ‘ ’ 1\n",
       "\n",
       "Residual standard error: 0.4489 on 594 degrees of freedom\n",
       "Multiple R-squared:  0.6693,\tAdjusted R-squared:  0.6682 \n",
       "F-statistic:   601 on 2 and 594 DF,  p-value: < 2.2e-16\n"
      ]
     },
     "metadata": {},
     "output_type": "display_data"
    },
    {
     "data": {
      "text/plain": [
       "\n",
       "Call:\n",
       "lm(formula = log(food_exp_pc) ~ log(total_exp_pc) + treatment + \n",
       "    log(hhmem), data = ps2)\n",
       "\n",
       "Residuals:\n",
       "     Min       1Q   Median       3Q      Max \n",
       "-2.22709 -0.24332  0.07568  0.31814  0.93587 \n",
       "\n",
       "Coefficients:\n",
       "                  Estimate Std. Error t value Pr(>|t|)    \n",
       "(Intercept)        1.36345    0.24908   5.474 6.50e-08 ***\n",
       "log(total_exp_pc)  0.77565    0.02738  28.333  < 2e-16 ***\n",
       "treatment         -0.03604    0.03659  -0.985    0.325    \n",
       "log(hhmem)        -0.17457    0.04192  -4.164 3.59e-05 ***\n",
       "---\n",
       "Signif. codes:  0 ‘***’ 0.001 ‘**’ 0.01 ‘*’ 0.05 ‘.’ 0.1 ‘ ’ 1\n",
       "\n",
       "Residual standard error: 0.4428 on 593 degrees of freedom\n",
       "Multiple R-squared:  0.6787,\tAdjusted R-squared:  0.677 \n",
       "F-statistic: 417.5 on 3 and 593 DF,  p-value: < 2.2e-16\n"
      ]
     },
     "metadata": {},
     "output_type": "display_data"
    }
   ],
   "source": [
    "ps2$food_exp_pc<-ps2$food_exp/ps2$hhmem\n",
    "\n",
    "model1<-lm(log(food_exp_pc)~log(total_exp_pc)+treatment, data=ps2)\n",
    "summary(model1)\n",
    "\n",
    "model2<-lm(log(food_exp_pc)~log(total_exp_pc)+treatment +log(hhmem), data=ps2)\n",
    "summary(model2)"
   ]
  },
  {
   "cell_type": "markdown",
   "metadata": {},
   "source": [
    "### b) Interpret the estimated parameters of equation (2). The results you are finding on the role of household size may a priori seem suprising. Try to think about a scenario whereby two households of the same size, with the same total expenditures per capita decide to move in together. What does your estimation predict about food consumption per capita?"
   ]
  },
  {
   "cell_type": "markdown",
   "metadata": {},
   "source": [
    "$\\hat{\\beta_0}$ tells us that if a household's per capita expenditures is equal to 1 BAM, treatment status is equal to control, and household members are equal to 1, we would predict that their food consumption expenditures would be 3.9BAM (\\$2.39 USD). $\\hat{\\beta_1}$ tells us that holding household members and treatment status constant, a 1$\\%$ increase in per capita expenditures increases per capita food expenditures by 0.77$\\%$. $\\hat{\\beta_2}$ tells us that being in the treatment group (holding per capita expenditures and number of household members fixed) decreases per capita food expenditures by 3.6$\\%$. Finally, $\\hat{\\beta_3}$ tells us that holding treatment status and total per capita expenditure fixed, a 1$\\%$ increase in the number of household members leads to a 0.17$\\%$ decrease in food expenditures per capita. \n",
    "\n",
    "If these two households move in together, the household size doubles (increases by 100$\\%$) while per capita expenditures (and implicitly treatment status) stay the same. Hence we expect per capita food expenditures to decrease by 17.4$\\%$."
   ]
  },
  {
   "cell_type": "markdown",
   "metadata": {},
   "source": [
    "### c) How did your estimate of $\\hat{\\beta}_1$ change between equation (1) and equation (2)? Without performing any calculations, what information does this give you about the correlation between total expenditure per capita and household size? (Explain your reasoning in no more than 4 sentences.)"
   ]
  },
  {
   "cell_type": "markdown",
   "metadata": {},
   "source": [
    "$\\hat{\\beta_1}$ goes from 0.83 in Model 1 to 0.77 in Model 2, meaning we had an upward bias before including a control for total household members. Given the difference in the estimates, it seems that model 1 suffered from omitted variable bias (a violation of MLR 4). We see in model 2 that $\\log(hhmem)$ is negatively correlated with $\\log(food\\_exp\\_pc$.  Hence we can infer that the correlation between total expenditures per capita and household size is negative. "
   ]
  },
  {
   "cell_type": "markdown",
   "metadata": {},
   "source": [
    "### d) Predict the expected value of food expenditure of a control household with 3 members and total annual expenditure per capita of BAM 3000 using your estimates from equation (2)."
   ]
  },
  {
   "cell_type": "code",
   "execution_count": 6,
   "metadata": {},
   "outputs": [
    {
     "data": {
      "text/html": [
       "<strong>(Intercept):</strong> 1606.53956666571"
      ],
      "text/latex": [
       "\\textbf{(Intercept):} 1606.53956666571"
      ],
      "text/markdown": [
       "**(Intercept):** 1606.53956666571"
      ],
      "text/plain": [
       "(Intercept) \n",
       "    1606.54 "
      ]
     },
     "metadata": {},
     "output_type": "display_data"
    }
   ],
   "source": [
    "exp(model2$coefficients[1]+model2$coefficients[2]*log(3000)+model2$coefficients[3]*0+model2$coefficients[4]*log(3))\n"
   ]
  },
  {
   "cell_type": "markdown",
   "metadata": {},
   "source": [
    "For this household, we would predict per capita food expenditures to be 1,606.53 BAM (approx \\$ 982)."
   ]
  },
  {
   "cell_type": "markdown",
   "metadata": {},
   "source": [
    "# Question 3"
   ]
  },
  {
   "cell_type": "markdown",
   "metadata": {},
   "source": [
    "### A country's dependency ratio is the ratio of old and young dependents (dependents are those not in the labor force) to the working-age population. A similar measure could be constructed for the household: "
   ]
  },
  {
   "cell_type": "markdown",
   "metadata": {},
   "source": [
    "$hhdr =\\frac{\\text{hh members under 14 or over 64}} {\\text{hh members aged 14 to 64}}$ "
   ]
  },
  {
   "cell_type": "markdown",
   "metadata": {},
   "source": [
    "### Model 2 (as well as Model 1) does not capture how the composition of a household, i.e. the characteristics of the members, is associated with food consumption per capita. You suspect that the structure of the family affects food expenditure per capita controlling for the log of household size and the log of total expenditure per capita (think about how children and older people might consume less food than adults; and how larger households might have more children). Specifically you hypothesize that a higher dependency ratio is associated with lower food expenditure per capita. "
   ]
  },
  {
   "cell_type": "markdown",
   "metadata": {},
   "source": [
    "### (a) Write an equation you could estimate that would test this hypothesis."
   ]
  },
  {
   "cell_type": "markdown",
   "metadata": {},
   "source": [
    "$\\ln($ food_exp_pc$) = \\beta_0 + \\beta_1 \\ln($total_exp_pc$) + \\beta_2 \\ln($hhmem$) +\\beta_3 hhdr + u $ "
   ]
  },
  {
   "cell_type": "markdown",
   "metadata": {},
   "source": [
    "### (b) Estimate the equation in part (a). What can you conclude about the hypothesis?"
   ]
  },
  {
   "cell_type": "code",
   "execution_count": 7,
   "metadata": {},
   "outputs": [
    {
     "data": {
      "text/plain": [
       "   Min. 1st Qu.  Median    Mean 3rd Qu.    Max.    NA's \n",
       " 0.0000  0.0000  0.3333  0.4625  1.0000  3.0000       4 "
      ]
     },
     "metadata": {},
     "output_type": "display_data"
    },
    {
     "data": {
      "text/plain": [
       "\n",
       "Call:\n",
       "lm(formula = log(food_exp_pc) ~ log(total_exp_pc) + log(hhmem) + \n",
       "    hhdr, data = ps2)\n",
       "\n",
       "Residuals:\n",
       "     Min       1Q   Median       3Q      Max \n",
       "-2.23764 -0.23648  0.08115  0.31953  0.94111 \n",
       "\n",
       "Coefficients:\n",
       "                  Estimate Std. Error t value Pr(>|t|)    \n",
       "(Intercept)        1.25633    0.24811   5.064 5.51e-07 ***\n",
       "log(total_exp_pc)  0.78559    0.02744  28.633  < 2e-16 ***\n",
       "log(hhmem)        -0.18762    0.04482  -4.186 3.27e-05 ***\n",
       "hhdr               0.04967    0.03874   1.282      0.2    \n",
       "---\n",
       "Signif. codes:  0 ‘***’ 0.001 ‘**’ 0.01 ‘*’ 0.05 ‘.’ 0.1 ‘ ’ 1\n",
       "\n",
       "Residual standard error: 0.4413 on 589 degrees of freedom\n",
       "  (4 observations deleted due to missingness)\n",
       "Multiple R-squared:  0.6802,\tAdjusted R-squared:  0.6786 \n",
       "F-statistic: 417.6 on 3 and 589 DF,  p-value: < 2.2e-16\n"
      ]
     },
     "metadata": {},
     "output_type": "display_data"
    }
   ],
   "source": [
    "ps2$hhdr<- (ps2$hhmem_children+ps2$hhmem_elderly)/(ps2$hhmem_adults-ps2$hhmem_elderly)\n",
    "ps2[which(ps2$hhdr==Inf),]$hhdr<-NA\n",
    "summary(ps2$hhdr)\n",
    "model3<-lm(log(food_exp_pc)~log(total_exp_pc)+log(hhmem)+hhdr, data=ps2)\n",
    "summary(model3)"
   ]
  },
  {
   "cell_type": "markdown",
   "metadata": {},
   "source": [
    "Our null hypothesis is that $\\beta_3=0$. Note that with a t-statistic of 1.282, we fail to reject the null hypothesis, at the 5\\% level. "
   ]
  },
  {
   "cell_type": "markdown",
   "metadata": {},
   "source": [
    "# Exercise 2: Perception on Global Warming"
   ]
  },
  {
   "cell_type": "markdown",
   "metadata": {},
   "source": [
    "### Gallup Polling collects information about a variety of topics ( health, environment, political attitudes, education). In March 2018, Gallup conducted a poll to gather information about the perceived onset of global warming among Californian voters. Question: Do you believe that global warming is caused by human activities?"
   ]
  },
  {
   "cell_type": "markdown",
   "metadata": {},
   "source": [
    "|  Group      | Number of Observations  | Yes |\n",
    "|-------------|-------------------------|-----|\n",
    "|  All voters |  1108                   | 697 |\n",
    "| Republicans |  382                    | 133 |  \n",
    "| Democrats   |  421                    | 375 | \n",
    "| Independents|  305                    | 189 |\n"
   ]
  },
  {
   "cell_type": "markdown",
   "metadata": {},
   "source": [
    "### Consider first the overall result (all voters). Let p be the fraction of voters that believe that global warming is caused by human activities."
   ]
  },
  {
   "cell_type": "markdown",
   "metadata": {},
   "source": [
    " Note: You answer to the following questions should not necessarily require any R code (unless you would like to use R as a calculator). Some of your answers will require that you type in equations. Latex is a typsetting language that makes nicely formatted equations. At the begining and end of an equation you will need to type a $\\$$  to tell Jupyter that you are typing a Latex equation. The following website has some simple examples showing you how to format your equations in Latex:  http://www.personal.ceu.hu/tex/cookbook.html . "
   ]
  },
  {
   "cell_type": "markdown",
   "metadata": {},
   "source": [
    "### (a) Use the survey results to estimate p."
   ]
  },
  {
   "cell_type": "code",
   "execution_count": 8,
   "metadata": {},
   "outputs": [
    {
     "data": {
      "text/html": [
       "0.629061371841155"
      ],
      "text/latex": [
       "0.629061371841155"
      ],
      "text/markdown": [
       "0.629061371841155"
      ],
      "text/plain": [
       "[1] 0.6290614"
      ]
     },
     "metadata": {},
     "output_type": "display_data"
    }
   ],
   "source": [
    "p_hat<-697/1108\n",
    "p_hat\n"
   ]
  },
  {
   "cell_type": "markdown",
   "metadata": {},
   "source": [
    "$\\hat{p}=0.63$\n"
   ]
  },
  {
   "cell_type": "markdown",
   "metadata": {},
   "source": [
    "### (b) Construct a 95% confidence interval for p. Interpret."
   ]
  },
  {
   "cell_type": "code",
   "execution_count": 9,
   "metadata": {},
   "outputs": [
    {
     "name": "stdout",
     "output_type": "stream",
     "text": [
      "[1] \"[0.600632650410777,0.657490093271534]\"\n"
     ]
    }
   ],
   "source": [
    "se_p_hat<-sqrt((0.63*(1-0.63))/1108)\n",
    "\n",
    "left_side<-p_hat-1.96*se_p_hat\n",
    "right_side<-p_hat+1.96*se_p_hat\n",
    "\n",
    "print(paste0(\"[\", left_side, \",\", right_side, \"]\"))\n"
   ]
  },
  {
   "cell_type": "markdown",
   "metadata": {},
   "source": [
    "Using the z-table, for two-sides, with 95% confidence level, $c= 1.96.$ Hence we can calculate the standard error of $\\hat{p}$, and plug it into our confidence interval formula to get the confidence interval displayed above.\n"
   ]
  },
  {
   "cell_type": "markdown",
   "metadata": {},
   "source": [
    "### (c) Suppose you want to test the null hypothesis that 85% of Democrats believe that global warming is caused by human activities against the alternative hypothesis that more than 85% of Democrats believe that global warming is caused by human activities. Write down the null and alternative hypotheses. Is this a one-sided or two-sided test?"
   ]
  },
  {
   "cell_type": "markdown",
   "metadata": {},
   "source": [
    "The hypothesis are:\n",
    "$$H_0=p\\_dem=0.85 $$\n",
    "$$H_1=p\\_dem\\geq 0.85 $$\n",
    "\n",
    "This is a one-sided test."
   ]
  },
  {
   "cell_type": "markdown",
   "metadata": {},
   "source": [
    "### (d) Generate a test statistic which will allow you to test the null hypothesis that more than 85% of Democrats believe that global warming was caused by human activities, and identify a critical value which will give you 99% confidence."
   ]
  },
  {
   "cell_type": "code",
   "execution_count": 10,
   "metadata": {},
   "outputs": [
    {
     "data": {
      "text/html": [
       "2.3408198095225"
      ],
      "text/latex": [
       "2.3408198095225"
      ],
      "text/markdown": [
       "2.3408198095225"
      ],
      "text/plain": [
       "[1] 2.34082"
      ]
     },
     "metadata": {},
     "output_type": "display_data"
    }
   ],
   "source": [
    "p_dem_hat<-375/421\n",
    "\n",
    "t_stat<-(p_dem_hat-0.85)/sqrt((0.85*(1-0.85))/421)\n",
    "t_stat"
   ]
  },
  {
   "cell_type": "markdown",
   "metadata": {},
   "source": [
    "Using the same intuition of the questions above, we calculated a test statistic thusly. Additionally, using a t-table, we note that the critical value for a 99% one-sided (negative) test is -2.33."
   ]
  },
  {
   "cell_type": "markdown",
   "metadata": {},
   "source": [
    "### (e) Implement your test and interpret your results."
   ]
  },
  {
   "cell_type": "markdown",
   "metadata": {},
   "source": [
    "Comparing the test statistic and the critical value:\n",
    "$$2.3>-2.33 $$\n",
    "Therefore, we fail to reject the null. We do not have statistical evidence at the 1% level that more than 85%\n",
    "of democrats do not believe that global warming was caused by human activities."
   ]
  }
 ],
 "metadata": {
  "kernelspec": {
   "display_name": "R",
   "language": "R",
   "name": "ir"
  },
  "language_info": {
   "codemirror_mode": "r",
   "file_extension": ".r",
   "mimetype": "text/x-r-source",
   "name": "R",
   "pygments_lexer": "r",
   "version": "3.3.3"
  }
 },
 "nbformat": 4,
 "nbformat_minor": 2
}
