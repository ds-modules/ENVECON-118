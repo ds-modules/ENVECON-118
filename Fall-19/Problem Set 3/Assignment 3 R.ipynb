{
 "cells": [
  {
   "cell_type": "markdown",
   "metadata": {},
   "source": [
    "# Big Assignment 3\n",
    "\n",
    "## Background\n",
    "\n",
    "The data for this exercise were used in Ebonya Washington's paper: \"Female Socialization: How Daughters Affect Their Legislator Fathers' Voting on Women's Issues.\"  published in the American Economic Review in 2008. The paper asks whether having daughters influences the voting behavior of members of the US Congress. The hypothesis is that having (more) daughters makes legislators more likely to vote liberally on issues concerning women.\n",
    "\n",
    "For this exercise, we will focus on votes that took place in the 108th Congress, which held session in 2003/04. As a measure of a liberal voting record, we use scores assigned by the American Association of University Women (AAUW), a liberal group that concerns itself with issues of interest to women. For the 108th Congress, the AAUW selected 9 pieces of legislation in the areas of education, equality and reproductive rights. The AAUW then assigned a score to each member of Congress. The scores range from 0 to 100 and measure the percentage of times the legislator voted in favor of the position held by the AAUW.\n",
    "\n",
    " The dataset `legislators.dta` contains the following characteristics for 320 members of the 108th Congress:\n",
    " \n",
    " * $ngirls$ number of daughters\n",
    " * $totchi$ number of children\n",
    " * $age$ Age\n",
    " * $female$ indicator for being female\n",
    " * $repub$ indicator for being a Republican\n",
    " *  $moredef$ proportion of people in the legislator's district who are in favor of \"more spending on\n",
    "defense\" \n",
    " *  $aauw$ AAUW score"
   ]
  },
  {
   "cell_type": "markdown",
   "metadata": {},
   "source": [
    "### (a) Estimate and report results for the following regression models:\n",
    "\n",
    "Load in the data set `legislators.dta`. Remember, you will first need to call the `haven` package to do so.\n",
    "\n",
    "Generate a variable `age2` $=\\text{age}^2$\n",
    "\n",
    "Generate an interaction variable `repubage` $= \\text{repub}*\\text{age}$\n",
    "\n",
    "Generate an interaction variable `repubage2` $=\\text{repub}*\\text{age2}$\n",
    "\n",
    "Estimate the following three regression models:\n",
    "\n",
    "\\begin{align}\n",
    "aauw&=\\beta_0 +\\beta_1female+\\beta_2repub+\\beta_3age+u  ~~~~~~~~~~~~~~~~~~~~~~~~~~~~~~~~~~~~~~~~~~~~~~~~~~~~~~~~~~~~~~~~ (1) \\\\\n",
    "aauw&=\\beta_0 +\\beta_1female+\\beta_2repub+\\beta_3age+\\beta_4 age2+u ~~~~~~~~~~~~~~~~~~~~~~~~~~~~~~~~~~~~~~~~~~~~~~~(2)  \\\\\n",
    "aauw&=\\beta_0 + \\beta_1female+\\beta_2repub+\\beta_3age+\\beta_4 age2+\\beta_5 repubage+\\beta_6 repubage2+u\\ \\ \\ (3) \n",
    "\\end{align}"
   ]
  },
  {
   "cell_type": "code",
   "execution_count": 2,
   "metadata": {},
   "outputs": [],
   "source": [
    "# Add Code for part (a) here."
   ]
  },
  {
   "cell_type": "markdown",
   "metadata": {},
   "source": [
    "### (b) Suggest which model is the best fit to the data"
   ]
  },
  {
   "cell_type": "markdown",
   "metadata": {},
   "source": [
    "Add your written answer for part (b) here."
   ]
  },
  {
   "cell_type": "markdown",
   "metadata": {},
   "source": [
    "### (c) Interpret the effect of `age` on `aauw` in each model"
   ]
  },
  {
   "cell_type": "markdown",
   "metadata": {},
   "source": [
    "Add your written answer for part (c) here."
   ]
  },
  {
   "cell_type": "markdown",
   "metadata": {},
   "source": [
    "### (d) Test whether there is an effect of age on aauw scores using the second model. Be sure to describe carefully the null and alternative hypothesis."
   ]
  },
  {
   "cell_type": "markdown",
   "metadata": {},
   "source": [
    "Step 1: Estimate the restricted model.\n",
    "\n",
    "Step 2: Calculate the sum of squared residuals from the restricted and unrestricted models.\n",
    "\n",
    "Step 3: Apply the F-stat formula.\n",
    "\n",
    "Alternative (easier):\n",
    "\n",
    "Step 2 (alternative): Find the $R^2$ in the summary of the restricted and unrestricted models.\n",
    "\n",
    "Step 3 (alternative): Apply the $R^2$ version of the F-stat formula.\n",
    "\n",
    "\n"
   ]
  },
  {
   "cell_type": "code",
   "execution_count": null,
   "metadata": {},
   "outputs": [],
   "source": [
    "#Add code for part d here."
   ]
  },
  {
   "cell_type": "markdown",
   "metadata": {},
   "source": [
    "### (e) Using the third model, predict the aauw score for a female republican who is 65 years old, and suggest a $95\\%$ CI for that predicted value.\n",
    "\n",
    "Hint: See part 2-A of section notes 7."
   ]
  },
  {
   "cell_type": "markdown",
   "metadata": {},
   "source": [
    "Add your written answer for part (e) here."
   ]
  },
  {
   "cell_type": "markdown",
   "metadata": {},
   "source": [
    "### (f) Suppose you learn that a 65 year-old female republican is about to be elected for the first time. Generate a $95\\%$ CI for her voting score.\n",
    "\n",
    "Hint: See part 2-B of section notes 7. "
   ]
  },
  {
   "cell_type": "markdown",
   "metadata": {},
   "source": [
    "Add your written answer for part (f) here."
   ]
  },
  {
   "cell_type": "markdown",
   "metadata": {},
   "source": [
    "### (g) Interpret the coeffcient $\\beta_2$ from model (3)."
   ]
  },
  {
   "cell_type": "markdown",
   "metadata": {},
   "source": [
    "Add your written answer for part (g) here."
   ]
  },
  {
   "cell_type": "markdown",
   "metadata": {},
   "source": [
    "### (h) Suppose you think republicans and non-republicans may have different gender patterns in voting. That is, republican men may vote differently than republican women, who may vote differently thandemocratic women who may vote differently than democratic men. Write down an estimation equaiton to test whether republican women, democratic women, and democratic men vote differently than republican men."
   ]
  },
  {
   "cell_type": "markdown",
   "metadata": {},
   "source": [
    "Add your written answer to part (h) here."
   ]
  },
  {
   "cell_type": "markdown",
   "metadata": {},
   "source": [
    "### (i) Implement your test. Interpret each coeffcient.\n"
   ]
  },
  {
   "cell_type": "code",
   "execution_count": null,
   "metadata": {},
   "outputs": [],
   "source": [
    "#Add your code for part i here"
   ]
  },
  {
   "cell_type": "markdown",
   "metadata": {},
   "source": [
    "### (j) Adapt your regression to test whether democratic women vote differently than republican women. Please report your results (write out the estimating equations)."
   ]
  },
  {
   "cell_type": "code",
   "execution_count": null,
   "metadata": {},
   "outputs": [],
   "source": [
    "#Add your code for part j here"
   ]
  },
  {
   "cell_type": "markdown",
   "metadata": {},
   "source": [
    "Add your written answer for part (j) here."
   ]
  },
  {
   "cell_type": "markdown",
   "metadata": {},
   "source": [
    "## Downloading your Notebook\n",
    "\n",
    "Download a PDF copy of your notebook by using __File > Download as > PDF via Chrome (.pdf)__. It does not matter what browser you are using, you can use this command to download a copy of your notebook while on Chrome/Firefox/Opera/Edge/Safari/heck probably even Internet Explorer or Netscape Navigator.\n",
    "\n",
    "If you have a problem downloading your notebook or combining PDFs, or if you are using RStudio on your own computer and are unsure what sort of output I want, __please email me__."
   ]
  }
 ],
 "metadata": {
  "kernelspec": {
   "display_name": "R",
   "language": "R",
   "name": "ir"
  },
  "language_info": {
   "codemirror_mode": "r",
   "file_extension": ".r",
   "mimetype": "text/x-r-source",
   "name": "R",
   "pygments_lexer": "r",
   "version": "3.6.1"
  }
 },
 "nbformat": 4,
 "nbformat_minor": 2
}
