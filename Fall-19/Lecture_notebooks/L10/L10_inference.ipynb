{
 "cells": [
  {
   "cell_type": "code",
   "execution_count": null,
   "metadata": {},
   "outputs": [],
   "source": [
    "library(haven)\n",
    "dataset <- read_dta(\"WAGE1.DTA\")"
   ]
  },
  {
   "cell_type": "code",
   "execution_count": null,
   "metadata": {},
   "outputs": [],
   "source": [
    "#regress lwage on education, experience, and tenure\n",
    "reg1 <-lm(lwage ~ educ + exper + tenure, data = dataset)\n",
    "summary(reg1)"
   ]
  },
  {
   "cell_type": "code",
   "execution_count": null,
   "metadata": {},
   "outputs": [],
   "source": [
    "#load Ed Data\n",
    "meapdata<-read_dta(\"MEAP93.dta\")\n",
    "head(meapdata)"
   ]
  },
  {
   "cell_type": "code",
   "execution_count": null,
   "metadata": {},
   "outputs": [],
   "source": [
    "#regress test scores on enrollment, total compensation and number of staff\n",
    "reg2<-lm(math10~enroll + totcomp + staff, data = meapdata)\n",
    "summary(reg2)"
   ]
  },
  {
   "cell_type": "code",
   "execution_count": null,
   "metadata": {},
   "outputs": [],
   "source": [
    "#regress test scores on log enrollment, log compensation, and log staff\n",
    "reg3 <-lm(math10~lenroll + ltotcomp + lstaff, data = meapdata)\n",
    "summary(reg3)"
   ]
  },
  {
   "cell_type": "code",
   "execution_count": null,
   "metadata": {},
   "outputs": [],
   "source": [
    "#use twoyeardataset\n",
    "twoyeardata<- read_dta(\"twoyear.dta\")\n",
    "head(twoyeardata)"
   ]
  },
  {
   "cell_type": "code",
   "execution_count": null,
   "metadata": {},
   "outputs": [],
   "source": [
    "#generate regression model\n",
    "reg4 <- lm(lwage ~ jc + univ + exper, data = twoyeardata)\n",
    "summary(reg4)"
   ]
  },
  {
   "cell_type": "code",
   "execution_count": null,
   "metadata": {},
   "outputs": [],
   "source": [
    "#test for equality of coefficients.  Need \"car\" library\n",
    "library(car)\n",
    "#command linearHypothesis takes the regression object, and then states the model\n",
    "linearHypothesis(reg4, \"jc = univ\")"
   ]
  },
  {
   "cell_type": "code",
   "execution_count": null,
   "metadata": {},
   "outputs": [],
   "source": [
    "#alternative: rewrite the model\n",
    "twoyeardata[,\"allschool\"]= twoyeardata[,\"jc\"]+twoyeardata[,\"univ\"]\n",
    "reg5 <- lm(lwage ~ jc + allschool + exper, data = twoyeardata)\n",
    "summary(reg5)"
   ]
  },
  {
   "cell_type": "code",
   "execution_count": null,
   "metadata": {},
   "outputs": [],
   "source": []
  }
 ],
 "metadata": {
  "kernelspec": {
   "display_name": "R",
   "language": "R",
   "name": "ir"
  },
  "language_info": {
   "codemirror_mode": "r",
   "file_extension": ".r",
   "mimetype": "text/x-r-source",
   "name": "R",
   "pygments_lexer": "r",
   "version": "3.4.4"
  }
 },
 "nbformat": 4,
 "nbformat_minor": 2
}
