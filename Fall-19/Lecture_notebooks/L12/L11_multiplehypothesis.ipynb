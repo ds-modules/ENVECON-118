{
 "cells": [
  {
   "cell_type": "code",
   "execution_count": null,
   "metadata": {},
   "outputs": [],
   "source": [
    "library(haven)"
   ]
  },
  {
   "cell_type": "code",
   "execution_count": null,
   "metadata": {
    "scrolled": true
   },
   "outputs": [],
   "source": [
    "#load Ed Data\n",
    "meapdata<-read_dta(\"MEAP93.dta\")\n",
    "head(meapdata)"
   ]
  },
  {
   "cell_type": "code",
   "execution_count": null,
   "metadata": {},
   "outputs": [],
   "source": [
    "#regress test scores on enrollment, total compensation and number of staff\n",
    "reg2<-lm(math10~enroll + totcomp + staff, data = meapdata)\n",
    "summary(reg2)"
   ]
  },
  {
   "cell_type": "code",
   "execution_count": null,
   "metadata": {},
   "outputs": [],
   "source": [
    "#regress test scores on log enrollment, log compensation, and log staff\n",
    "reg3 <-lm(math10~lenroll + ltotcomp + lstaff, data = meapdata)\n",
    "summary(reg3)"
   ]
  },
  {
   "cell_type": "code",
   "execution_count": null,
   "metadata": {},
   "outputs": [],
   "source": [
    "#use twoyeardataset\n",
    "twoyeardata<- read_dta(\"twoyear.dta\")\n",
    "head(twoyeardata)"
   ]
  },
  {
   "cell_type": "code",
   "execution_count": null,
   "metadata": {},
   "outputs": [],
   "source": [
    "#generate regression model\n",
    "reg4 <- lm(lwage ~ jc + univ + exper, data = twoyeardata)\n",
    "summary(reg4)"
   ]
  },
  {
   "cell_type": "code",
   "execution_count": null,
   "metadata": {},
   "outputs": [],
   "source": [
    "#test for equality of coefficients.  Need \"car\" library\n",
    "library(car)\n",
    "#command linearHypothesis takes the regression object, and then states the model\n",
    "linearHypothesis(reg4, \"jc = univ\")"
   ]
  },
  {
   "cell_type": "code",
   "execution_count": null,
   "metadata": {},
   "outputs": [],
   "source": [
    "#alternative: rewrite the model\n",
    "twoyeardata[,\"allschool\"]= twoyeardata[,\"jc\"]+twoyeardata[,\"univ\"]\n",
    "reg5 <- lm(lwage ~ jc + allschool + exper, data = twoyeardata)\n",
    "summary(reg5)"
   ]
  },
  {
   "cell_type": "code",
   "execution_count": null,
   "metadata": {},
   "outputs": [],
   "source": [
    "#read in birthweight data\n",
    "bweight <- read_dta(\"BWGHT.DTA\")\n",
    "head(bweight)\n",
    "#only keep observations where all variables are not missing for F calculation\n",
    "bweight<- subset(bweight, is.na(fatheduc) == F &is.na(motheduc)== F)\n"
   ]
  },
  {
   "cell_type": "code",
   "execution_count": null,
   "metadata": {},
   "outputs": [],
   "source": [
    "#regress birthweight on cigarette consumption,  birth order, and family income\n",
    "reg5<- lm(bwght ~ cigs + parity + faminc, data = bweight)\n",
    "summary(reg5)"
   ]
  },
  {
   "cell_type": "code",
   "execution_count": null,
   "metadata": {},
   "outputs": [],
   "source": [
    "#include family background controls\n",
    "reg6 <- lm(bwght ~ cigs + parity + faminc + motheduc + fatheduc, data = bweight)\n",
    "summary(reg6)\n"
   ]
  },
  {
   "cell_type": "code",
   "execution_count": null,
   "metadata": {},
   "outputs": [],
   "source": [
    "#calculate sums of squared residuals\n",
    "#unrestricted model\n",
    "SSRU<-sum(resid(reg6)^2)\n",
    "SSRU\n",
    "#restricted model\n",
    "SSRR<-sum(resid(reg5)^2)\n",
    "SSRR\n",
    "#identify n\n",
    "n <- nobs(reg6)\n",
    "n"
   ]
  },
  {
   "cell_type": "code",
   "execution_count": null,
   "metadata": {},
   "outputs": [],
   "source": [
    "#generate F test\n",
    "F1<- ((SSRR-SSRU)/2)/(SSRU/(n-5-1))\n",
    "F1"
   ]
  },
  {
   "cell_type": "code",
   "execution_count": null,
   "metadata": {},
   "outputs": [],
   "source": [
    "#R-squared calculation\n",
    "#Pull unrestricted R-squared from regression output\n",
    "Rsq_u <-summary(reg6)$r.squared\n",
    "Rsq_u\n",
    "#Pull restricted R-squared from regression output\n",
    "Rsq_r <-summary(reg5)$r.squared\n",
    "Rsq_r\n",
    "F2 <- ((Rsq_u-Rsq_r)/2)/((1-Rsq_u)/(n-5-1))\n",
    "F2"
   ]
  },
  {
   "cell_type": "code",
   "execution_count": null,
   "metadata": {},
   "outputs": [],
   "source": [
    "#use linearHypothesis test to generate p-value\n",
    "F3 <- linearHypothesis(reg6,c(\"motheduc = 0\", \"fatheduc = 0\"))\n",
    "F3"
   ]
  },
  {
   "cell_type": "code",
   "execution_count": null,
   "metadata": {},
   "outputs": [],
   "source": []
  }
 ],
 "metadata": {
  "kernelspec": {
   "display_name": "R",
   "language": "R",
   "name": "ir"
  },
  "language_info": {
   "codemirror_mode": "r",
   "file_extension": ".r",
   "mimetype": "text/x-r-source",
   "name": "R",
   "pygments_lexer": "r",
   "version": "3.4.4"
  }
 },
 "nbformat": 4,
 "nbformat_minor": 2
}
