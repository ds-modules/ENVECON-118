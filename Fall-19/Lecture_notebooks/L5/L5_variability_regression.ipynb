{
 "cells": [
  {
   "cell_type": "code",
   "execution_count": null,
   "metadata": {},
   "outputs": [],
   "source": [
    "#load tidyverse for some needed packages\n",
    "library(tidyverse)\n",
    "#load our dataset\n",
    "co2 <- read.csv(\"co2gdp_all.csv\")"
   ]
  },
  {
   "cell_type": "code",
   "execution_count": null,
   "metadata": {
    "scrolled": true
   },
   "outputs": [],
   "source": [
    "#examine data\n",
    "co2"
   ]
  },
  {
   "cell_type": "code",
   "execution_count": null,
   "metadata": {
    "scrolled": true
   },
   "outputs": [],
   "source": [
    "#eliminate missing values\n",
    "co2 <-subset(co2, is.na(co2[,\"co2percaptons\"])==F)\n",
    "co2 <-subset(co2, is.na(co2[,\"gdp_dollars\"])==F)"
   ]
  },
  {
   "cell_type": "code",
   "execution_count": null,
   "metadata": {},
   "outputs": [],
   "source": [
    "#generate random samples - runif draws a uniform random number.  10% of these will be less than 0.1\n",
    "#drawing sample 1\n",
    "co2[,\"sample1\"]<-runif(nrow(co2))<0.1\n",
    "#drawing sample 2\n",
    "co2[,\"sample2\"]<-runif(nrow(co2))<0.1\n",
    "#for simplicity, make a new dataset with each of our samples\n",
    "co2_sample1 <-subset(co2,co2[,\"sample1\"])\n",
    "co2_sample2 <-subset(co2, co2[,\"sample2\"])"
   ]
  },
  {
   "cell_type": "code",
   "execution_count": null,
   "metadata": {},
   "outputs": [],
   "source": [
    "#view sample 1\n",
    "co2_sample1"
   ]
  },
  {
   "cell_type": "code",
   "execution_count": null,
   "metadata": {},
   "outputs": [],
   "source": [
    "#view sample 2\n",
    "co2_sample2"
   ]
  },
  {
   "cell_type": "code",
   "execution_count": null,
   "metadata": {},
   "outputs": [],
   "source": [
    "#scatter plot sample 1\n",
    "plot(co2_sample1[,\"gdppercapitapppconstant2005inter\"],co2_sample1[,\"co2percaptons\"])"
   ]
  },
  {
   "cell_type": "code",
   "execution_count": null,
   "metadata": {},
   "outputs": [],
   "source": [
    "#scatter plot sample 2\n",
    "plot(co2_sample2[,\"gdppercapitapppconstant2005inter\"],co2_sample2[,\"co2percaptons\"])"
   ]
  },
  {
   "cell_type": "code",
   "execution_count": null,
   "metadata": {},
   "outputs": [],
   "source": [
    "#regress co2 on gdp in sample 1\n",
    "s1_reg <- lm(co2percaptons ~gdppercapitapppconstant2005inter, data = co2_sample1)\n",
    "s1_reg\n"
   ]
  },
  {
   "cell_type": "code",
   "execution_count": null,
   "metadata": {},
   "outputs": [],
   "source": [
    "#regress co2 on gdp in sample 2\n",
    "s2_reg <- lm(co2percaptons ~gdppercapitapppconstant2005inter, data = co2_sample2)\n",
    "s2_reg"
   ]
  },
  {
   "cell_type": "code",
   "execution_count": null,
   "metadata": {},
   "outputs": [],
   "source": [
    "#view standard errors\n",
    "summary(s1_reg)"
   ]
  },
  {
   "cell_type": "code",
   "execution_count": null,
   "metadata": {},
   "outputs": [],
   "source": []
  }
 ],
 "metadata": {
  "kernelspec": {
   "display_name": "R",
   "language": "R",
   "name": "ir"
  },
  "language_info": {
   "codemirror_mode": "r",
   "file_extension": ".r",
   "mimetype": "text/x-r-source",
   "name": "R",
   "pygments_lexer": "r",
   "version": "3.4.4"
  }
 },
 "nbformat": 4,
 "nbformat_minor": 2
}
