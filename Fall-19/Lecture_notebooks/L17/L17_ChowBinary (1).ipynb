{
 "cells": [
  {
   "cell_type": "code",
   "execution_count": null,
   "metadata": {},
   "outputs": [],
   "source": [
    "library(haven)\n",
    "wagedata<-read_dta(\"WAGE1.DTA\")"
   ]
  },
  {
   "cell_type": "code",
   "execution_count": null,
   "metadata": {},
   "outputs": [],
   "source": [
    "#baseline regression\n",
    "reg1<- lm(lwage~female + educ + exper + tenure, data = wagedata)\n",
    "summary(reg1)"
   ]
  },
  {
   "cell_type": "code",
   "execution_count": null,
   "metadata": {},
   "outputs": [],
   "source": [
    "#allow interaction with education\n",
    "reg2<-lm(lwage~female * educ + exper + tenure, data = wagedata)\n",
    "summary(reg2)"
   ]
  },
  {
   "cell_type": "code",
   "execution_count": null,
   "metadata": {},
   "outputs": [],
   "source": [
    "#chow test\n",
    "#restricted regression\n",
    "reg1<- lm(lwage~female + educ + exper + tenure, data = wagedata)\n",
    "summary(reg1)\n",
    "#calculate sum of squared residuals\n",
    "SSR_r <- sum(reg1$residuals^2)\n",
    "SSR_r\n",
    "#calculate n\n",
    "n_all <- nobs(reg1)\n",
    "n_all"
   ]
  },
  {
   "cell_type": "code",
   "execution_count": null,
   "metadata": {},
   "outputs": [],
   "source": [
    "#Female-only regression\n",
    "reg3<-lm(lwage~ educ + exper + tenure, data = wagedata, subset = (female==1))\n",
    "summary(reg3)\n",
    "SSR_F <- sum(reg3$residuals^2)\n",
    "SSR_F"
   ]
  },
  {
   "cell_type": "code",
   "execution_count": null,
   "metadata": {},
   "outputs": [],
   "source": [
    "#Male-only regerssion\n",
    "reg4<-lm(lwage~ educ + exper + tenure, data = wagedata, subset = (female==0))\n",
    "summary(reg4)\n",
    "SSR_M<- sum(reg4$residuals^2)\n",
    "SSR_M\n"
   ]
  },
  {
   "cell_type": "code",
   "execution_count": null,
   "metadata": {},
   "outputs": [],
   "source": [
    "#Calculate F-statistic for Chow test\n",
    "Chow<-((SSR_r-(SSR_F + SSR_M))/(3+1))/((SSR_F + SSR_M)/(n_all-2*(3+1)))\n",
    "Chow"
   ]
  },
  {
   "cell_type": "code",
   "execution_count": null,
   "metadata": {},
   "outputs": [],
   "source": [
    "LFPdata<-read_dta(\"MROZ.DTA\")\n",
    "head(LFPdata)"
   ]
  },
  {
   "cell_type": "code",
   "execution_count": null,
   "metadata": {},
   "outputs": [],
   "source": [
    "reg5<- lm(inlf~nwifeinc + educ + exper + expersq + age + kidslt6 + kidsge6, data = LFPdata)\n",
    "summary(reg5)"
   ]
  },
  {
   "cell_type": "code",
   "execution_count": null,
   "metadata": {},
   "outputs": [],
   "source": [
    "wagedata2<-read_dta(\"WAGE2.DTA\")\n",
    "head(wagedata2)"
   ]
  },
  {
   "cell_type": "code",
   "execution_count": null,
   "metadata": {},
   "outputs": [],
   "source": [
    "#baseline regression\n",
    "reg6<-lm(lwage ~ educ + exper, data = wagedata2)\n",
    "summary(reg6)"
   ]
  },
  {
   "cell_type": "code",
   "execution_count": null,
   "metadata": {},
   "outputs": [],
   "source": [
    "#regression with proxy variable\n",
    "reg7<- lm(lwage ~ educ + exper + IQ, data = wagedata2)\n",
    "summary(reg7)"
   ]
  },
  {
   "cell_type": "code",
   "execution_count": null,
   "metadata": {},
   "outputs": [],
   "source": []
  }
 ],
 "metadata": {
  "kernelspec": {
   "display_name": "R",
   "language": "R",
   "name": "ir"
  },
  "language_info": {
   "codemirror_mode": "r",
   "file_extension": ".r",
   "mimetype": "text/x-r-source",
   "name": "R",
   "pygments_lexer": "r",
   "version": "3.4.4"
  }
 },
 "nbformat": 4,
 "nbformat_minor": 2
}
