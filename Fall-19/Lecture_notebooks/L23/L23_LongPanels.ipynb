{
 "cells": [
  {
   "cell_type": "code",
   "execution_count": null,
   "metadata": {},
   "outputs": [],
   "source": [
    "library(haven)\n",
    "crimedata<- read_dta(\"CRIME4.DTA\")\n",
    "head(crimedata)"
   ]
  },
  {
   "cell_type": "code",
   "execution_count": null,
   "metadata": {},
   "outputs": [],
   "source": [
    "head(crimedata[,c(\"lcrmrte\", \"clcrmrte\", \"year\", \"d83\", \"d84\")])"
   ]
  },
  {
   "cell_type": "code",
   "execution_count": null,
   "metadata": {},
   "outputs": [],
   "source": [
    "#run first differenced regression\n",
    "reg1<- lm(clcrmrte~ clprbarr + clprbcon + clprbpri + clavgsen + clpolpc + d83 + d84 + d85 + d86 + d87, data = crimedata)\n",
    "summary(reg1)"
   ]
  },
  {
   "cell_type": "code",
   "execution_count": null,
   "metadata": {},
   "outputs": [],
   "source": [
    "#run fixed effects regression\n",
    "crimedata$county<-as.factor(crimedata$county)\n",
    "reg2<-lm(lcrmrte ~ lprbarr + lprbconv + lprbpris + lavgsen + lpolpc + d83 + d84 + d85 + d86 + d87 + county, data = crimedata)\n",
    "summary(reg2)\n"
   ]
  },
  {
   "cell_type": "code",
   "execution_count": null,
   "metadata": {},
   "outputs": [],
   "source": [
    "#run fixed effects regression using felm\n",
    "library(lfe)\n",
    "reg3 <- felm(lcrmrte~ lprbarr + lprbconv + lprbpris + lavgsen + lpolpc + d83 + d84 + d85 + d86 + d87|county, data = crimedata)\n",
    "summary(reg3)"
   ]
  },
  {
   "cell_type": "code",
   "execution_count": null,
   "metadata": {},
   "outputs": [],
   "source": [
    "#compute clustered standard errors using vcovCL - can be used for first differences or fixed effects\n",
    "library(sandwich)\n",
    "#this command outputs the variance-covariance matrix.  The diagonal elements of this matrix are the variances\n",
    "#of the beta coefficients.  If we take the square root of these variances we get our standard errors.\n",
    "reg2$clus_se <- sqrt(diag(vcovCL(reg2, cluster = crimedata$county)))\n",
    "#cbind will \"bind\" the column of coefficients to the column of clustered standard errors\n",
    "cbind(reg2$coefficients, reg2$clus_se)"
   ]
  },
  {
   "cell_type": "code",
   "execution_count": null,
   "metadata": {},
   "outputs": [],
   "source": [
    "#compute clustered standard errors in fixed effects regression using felm\n",
    "reg4 <- felm(lcrmrte~ lprbarr + lprbconv + lprbpris + lavgsen + lpolpc + d83 + d84 + d85 + d86 + d87|county|0|county, data = crimedata)\n",
    "summary(reg4)"
   ]
  },
  {
   "cell_type": "code",
   "execution_count": null,
   "metadata": {},
   "outputs": [],
   "source": []
  }
 ],
 "metadata": {
  "kernelspec": {
   "display_name": "R",
   "language": "R",
   "name": "ir"
  },
  "language_info": {
   "codemirror_mode": "r",
   "file_extension": ".r",
   "mimetype": "text/x-r-source",
   "name": "R",
   "pygments_lexer": "r",
   "version": "3.4.4"
  }
 },
 "nbformat": 4,
 "nbformat_minor": 2
}
