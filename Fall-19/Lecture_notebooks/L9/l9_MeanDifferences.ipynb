{
 "cells": [
  {
   "cell_type": "code",
   "execution_count": null,
   "metadata": {},
   "outputs": [],
   "source": [
    "# load some needed packages and data\n",
    "library(haven)\n",
    "library(tidyverse)\n",
    "yields <- read_dta(\"irr_yields.dta\")\n"
   ]
  },
  {
   "cell_type": "code",
   "execution_count": null,
   "metadata": {},
   "outputs": [],
   "source": [
    "# find out means of log yield by irrigated status\n",
    "#declare the dataset\n",
    "yields %>%\n",
    "#tell it to sort by irrigation status\n",
    "group_by(irr_loc) %>%\n",
    "#ask it what the means are\n",
    "summarize(meanyield = mean(ln_tot_yield, na.rm = T)) \n"
   ]
  },
  {
   "cell_type": "code",
   "execution_count": null,
   "metadata": {},
   "outputs": [],
   "source": [
    "#same for standard deviations\n",
    "yields %>%\n",
    "group_by(irr_loc) %>%\n",
    "summarize(sdyield = sd(ln_tot_yield, na.rm = T)) "
   ]
  },
  {
   "cell_type": "code",
   "execution_count": null,
   "metadata": {},
   "outputs": [],
   "source": [
    "#find out n\n",
    "yields %>%\n",
    "group_by(irr_loc) %>%\n",
    "filter(is.na(ln_tot_yield == F)) %>%\n",
    "count(ln_tot_yield)\n"
   ]
  }
 ],
 "metadata": {
  "kernelspec": {
   "display_name": "R",
   "language": "R",
   "name": "ir"
  },
  "language_info": {
   "codemirror_mode": "r",
   "file_extension": ".r",
   "mimetype": "text/x-r-source",
   "name": "R",
   "pygments_lexer": "r",
   "version": "3.4.4"
  }
 },
 "nbformat": 4,
 "nbformat_minor": 2
}
