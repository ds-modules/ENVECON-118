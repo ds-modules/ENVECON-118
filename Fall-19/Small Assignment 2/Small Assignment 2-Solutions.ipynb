{
 "cells": [
  {
   "cell_type": "markdown",
   "metadata": {},
   "source": [
    "# Small Assignment 2 Solutions"
   ]
  },
  {
   "cell_type": "markdown",
   "metadata": {},
   "source": [
    "The following model is a simplified version of the multiple regression model used by Biddle and\n",
    "Hammermesh (1990) to study the tradeoff between time spent sleeping and working and to\n",
    "look at other factors affecting sleep\n",
    "\n",
    "$\\textrm{sleep}=\\beta_0+\\beta_1\\textrm{totwrk}+\\beta_2\\textrm{educ}+\\beta_3\\textrm{age}+u$\n",
    "\n",
    "where sleep and total work are measured in minutes per week and educ and age are measured\n",
    "in years."
   ]
  },
  {
   "cell_type": "markdown",
   "metadata": {},
   "source": [
    "### 1. If adults tradeoff sleep for work, what is the sign of $\\beta_1$?\n",
    "\n",
    "(Note: typing the words \"beta 1\" is fine. If you want to have it as math notation, type: \\$ \\beta_1 \\$ . You can double click this cell and copy the code.)"
   ]
  },
  {
   "cell_type": "markdown",
   "metadata": {},
   "source": [
    "If adults tradeoff sleep for work, we would expect a negative $\\beta_1$, as the more work adults do, the less sleep they will have."
   ]
  },
  {
   "cell_type": "markdown",
   "metadata": {},
   "source": [
    "### 2. What signs to you think $\\beta_2$ and $\\beta_3$ will have?"
   ]
  },
  {
   "attachments": {},
   "cell_type": "markdown",
   "metadata": {},
   "source": [
    "Example Answer: I expect $\\beta_2$ to be positive – holding constant age and total work, I expect increases in education to be associated with increases in sleep because people who are more educated will know more about the benefits of sleep and make sleep a priority. (You could also argue for the opposite sign).\n",
    "\n",
    "I expect $\\beta_3$ to be negative – holding constant education and total work, I expect increases in age to be associated with decreases in sleep because the human will likely find more things to distract herself/himself at night. (Again, you could also argue for the opposite sign).\n",
    "\n",
    "Regardless of the sign you chose for each, remember that because you are dealing with multiple regression, you need to think of the sign of the beta you’re asked about _holding other variables in the model constant_!"
   ]
  },
  {
   "cell_type": "markdown",
   "metadata": {},
   "source": [
    "### 3. Load in the dataset: sleep75.dta and estimate the above model. Display the results with the `summary()` command.  Remember that this is a .dta file, meaning that the `haven` package and `read_dta()` commands will be useful."
   ]
  },
  {
   "cell_type": "code",
   "execution_count": 6,
   "metadata": {},
   "outputs": [
    {
     "data": {
      "text/plain": [
       "\n",
       "Call:\n",
       "lm(formula = sleep ~ totwrk + educ + age, data = sleepdata)\n",
       "\n",
       "Residuals:\n",
       "     Min       1Q   Median       3Q      Max \n",
       "-2405.12  -236.50    14.53   253.87  1303.42 \n",
       "\n",
       "Coefficients:\n",
       "              Estimate Std. Error t value Pr(>|t|)    \n",
       "(Intercept) 3638.24531  112.27511  32.405   <2e-16 ***\n",
       "totwrk        -0.14837    0.01669  -8.888   <2e-16 ***\n",
       "educ         -11.13381    5.88457  -1.892   0.0589 .  \n",
       "age            2.19988    1.44572   1.522   0.1285    \n",
       "---\n",
       "Signif. codes:  0 ‘***’ 0.001 ‘**’ 0.01 ‘*’ 0.05 ‘.’ 0.1 ‘ ’ 1\n",
       "\n",
       "Residual standard error: 419.4 on 702 degrees of freedom\n",
       "Multiple R-squared:  0.1134,\tAdjusted R-squared:  0.1096 \n",
       "F-statistic: 29.92 on 3 and 702 DF,  p-value: < 2.2e-16\n"
      ]
     },
     "metadata": {},
     "output_type": "display_data"
    }
   ],
   "source": [
    "library(haven)\n",
    "sleepdata<-read_dta(\"sleep75.dta\")\n",
    "\n",
    "\n",
    "sleepreg<-lm(sleep~totwrk+educ+age, data=sleepdata)\n",
    "summary(sleepreg)"
   ]
  },
  {
   "cell_type": "markdown",
   "metadata": {},
   "source": [
    "### 4. Interpret the effect $\\hat{\\beta}_1 $."
   ]
  },
  {
   "cell_type": "markdown",
   "metadata": {},
   "source": [
    "An increase in 1 minute per week is associated with a decrease of 0.148 minutes per week of sleep, holding constant education and age."
   ]
  },
  {
   "cell_type": "markdown",
   "metadata": {},
   "source": [
    "### 5. Discuss whether assumptions MLR1-MLR4 are reasonable or may be violated in these data. "
   ]
  },
  {
   "cell_type": "markdown",
   "metadata": {},
   "source": [
    "MLR1– It seems plausible that the model linear in its parameters (no reason to think otherwise)\n",
    "\n",
    "MLR2–Having a random sample is contingent on the sampling method, so it may be violated if the authors were very selective about how they chose their sample.\n",
    "\n",
    "MLR3–None of the independent variables in the model are likely to be perfectlycollinear with one another. It is reasonable to expect that age, education, and total work do not perfectly explain one another. We can confirm this is true because we were able to estimate the model.\n",
    "\n",
    "MLR4–It is likely the case that this assumption is not satisfied. We are perhaps not including something that matters within our model, such as number of people in thehousehold (where you might imagine that\n",
    "the larger the household, the more noise people will make, and the less sleep one is likely able to have) that is also correlated with the included variables"
   ]
  }
 ],
 "metadata": {
  "kernelspec": {
   "display_name": "R",
   "language": "R",
   "name": "ir"
  },
  "language_info": {
   "codemirror_mode": "r",
   "file_extension": ".r",
   "mimetype": "text/x-r-source",
   "name": "R",
   "pygments_lexer": "r",
   "version": "3.3.3"
  }
 },
 "nbformat": 4,
 "nbformat_minor": 2
}
