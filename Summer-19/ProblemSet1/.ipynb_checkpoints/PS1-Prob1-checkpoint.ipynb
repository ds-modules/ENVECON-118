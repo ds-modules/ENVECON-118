{
 "cells": [
  {
   "cell_type": "markdown",
   "metadata": {},
   "source": [
    "# EEP 118 - Problem Set 1"
   ]
  },
  {
   "cell_type": "markdown",
   "metadata": {},
   "source": [
    "Measuring greenhouse gas emissions and understanding how economic activity affects these levels can be a\n",
    "difficult task. For example, greenhouse gases vary in the amount of time they remain in the atmosphere and\n",
    "how much energy they absorb. To address this issue, total greenhouse gas emissions are often measured in\n",
    "units of Global Warming Potential (GWP). GWP is also known as $CO_2$ equivalents; $CO_2$ is given a GWP of 1\n",
    "and all values less than/greater than 1 convey how many times less/more global warming potential the gas has\n",
    "relative to $CO_2$. For example, while methane ($CH_4$) has a shorter lifespan than $CO_2$ it absorbs much more\n",
    "energy, so it is considerably more harmful and is given a GWP of 28-36. In this problem set we will explore\n",
    "how two measures of economic activity, GDP per capita and renewable energy consumption, are correlated\n",
    "with greenhouse gas emissions.\n",
    "\n",
    "The data comes from the World Bank’s Development Indicators for 2012, which are provided for you. Here\n",
    "we focus on three variables. First is total greenhouse gas emissions, which include $CO_2$, all anthropogenic\n",
    "sources of methane ($CH_4$), nitrous oxide ($N_2O$) and F-gases. The total emissions per capita in a given country\n",
    "are calculated as metric tons of $CO_2$ equivalents divided by the midyear population. Next is GDP per capita,\n",
    "calculated as gross domestic product divided by midyear population and measured in thousands of US dollars.\n",
    "Lastly, renewable energy consumption is the share of renewables in total final energy consumption. The figures\n",
    "below plot data from all 123 countries contained in the original dataset (the provided dataset is a subset of this original data). The values for selected countries can be found in Tables 1, 2, and 3."
   ]
  },
  {
   "cell_type": "markdown",
   "metadata": {},
   "source": [
    "<img src=\"../../images/figure-1.png\" width=\"400\" />"
   ]
  },
  {
   "cell_type": "markdown",
   "metadata": {},
   "source": [
    "<img src=\"../../images/figure-2.png\" width=\"400\" />"
   ]
  },
  {
   "cell_type": "markdown",
   "metadata": {},
   "source": [
    "In the cell below, we load the dependencies."
   ]
  },
  {
   "cell_type": "code",
   "execution_count": 19,
   "metadata": {},
   "outputs": [
    {
     "name": "stderr",
     "output_type": "stream",
     "text": [
      "── Attaching packages ─────────────────────────────────────── tidyverse 1.2.1 ──\n",
      "✔ tibble  2.0.1       ✔ purrr   0.3.0  \n",
      "✔ tidyr   0.8.2       ✔ dplyr   0.8.0.1\n",
      "✔ readr   1.3.1       ✔ stringr 1.4.0  \n",
      "✔ tibble  2.0.1       ✔ forcats 0.4.0  \n",
      "Warning message:\n",
      "“package ‘tibble’ was built under R version 3.5.2”Warning message:\n",
      "“package ‘purrr’ was built under R version 3.5.2”Warning message:\n",
      "“package ‘dplyr’ was built under R version 3.5.2”Warning message:\n",
      "“package ‘stringr’ was built under R version 3.5.2”Warning message:\n",
      "“package ‘forcats’ was built under R version 3.5.2”── Conflicts ────────────────────────────────────────── tidyverse_conflicts() ──\n",
      "✖ dplyr::filter()  masks stats::filter()\n",
      "✖ purrr::flatten() masks jsonlite::flatten()\n",
      "✖ dplyr::lag()     masks stats::lag()\n"
     ]
    }
   ],
   "source": [
    "library(tidyverse, verbose=FALSE, warn.conflicts=FALSE, quietly=TRUE)\n",
    "restore = list(repr.plot.width=6, repr.plot.height=4)\n",
    "options(restore)"
   ]
  },
  {
   "cell_type": "markdown",
   "metadata": {},
   "source": [
    "### Problem 1: Relationship between GDP per capita and greenhouse gas emissions per capita\n",
    "\n",
    "Looking at the first graph, there appears to be an association between GDP per capita and greenhouse gas emissions per capita. We will establish a simple linear relationship on a (very small) subset of 5 countries. The data are defined below."
   ]
  },
  {
   "cell_type": "code",
   "execution_count": 2,
   "metadata": {},
   "outputs": [
    {
     "data": {
      "text/html": [
       "<table>\n",
       "<thead><tr><th scope=col>CountryName</th><th scope=col>GDPCapita</th><th scope=col>GGTonnesCapita</th></tr></thead>\n",
       "<tbody>\n",
       "\t<tr><td>Brazil       </td><td>11.56        </td><td>14.77        </td></tr>\n",
       "\t<tr><td>Cambodia     </td><td> 0.87        </td><td> 8.59        </td></tr>\n",
       "\t<tr><td>Canada       </td><td>48.72        </td><td>29.55        </td></tr>\n",
       "\t<tr><td>China        </td><td> 5.28        </td><td> 9.22        </td></tr>\n",
       "\t<tr><td>United States</td><td>49.48        </td><td>20.20        </td></tr>\n",
       "</tbody>\n",
       "</table>\n"
      ],
      "text/latex": [
       "\\begin{tabular}{r|lll}\n",
       " CountryName & GDPCapita & GGTonnesCapita\\\\\n",
       "\\hline\n",
       "\t Brazil        & 11.56         & 14.77        \\\\\n",
       "\t Cambodia      &  0.87         &  8.59        \\\\\n",
       "\t Canada        & 48.72         & 29.55        \\\\\n",
       "\t China         &  5.28         &  9.22        \\\\\n",
       "\t United States & 49.48         & 20.20        \\\\\n",
       "\\end{tabular}\n"
      ],
      "text/markdown": [
       "\n",
       "| CountryName | GDPCapita | GGTonnesCapita |\n",
       "|---|---|---|\n",
       "| Brazil        | 11.56         | 14.77         |\n",
       "| Cambodia      |  0.87         |  8.59         |\n",
       "| Canada        | 48.72         | 29.55         |\n",
       "| China         |  5.28         |  9.22         |\n",
       "| United States | 49.48         | 20.20         |\n",
       "\n"
      ],
      "text/plain": [
       "  CountryName   GDPCapita GGTonnesCapita\n",
       "1 Brazil        11.56     14.77         \n",
       "2 Cambodia       0.87      8.59         \n",
       "3 Canada        48.72     29.55         \n",
       "4 China          5.28      9.22         \n",
       "5 United States 49.48     20.20         "
      ]
     },
     "metadata": {},
     "output_type": "display_data"
    }
   ],
   "source": [
    "country.data = data.frame(\n",
    "    CountryName    = c(\"Brazil\", \"Cambodia\", \"Canada\", \"China\", \"United States\"),\n",
    "    GDPCapita      = c(11.56, 0.87, 48.72, 5.28, 49.48),\n",
    "    GGTonnesCapita = c(14.77, 8.59, 29.55, 9.22, 20.20)\n",
    ")\n",
    "country.data"
   ]
  },
  {
   "cell_type": "markdown",
   "metadata": {},
   "source": [
    "**Part (a):** Use `ggplot` to crate a scatter plot of these observations and an OLS regression line (with no shaded confidence interval). Don't forget to (1) label the axes and their units, and (2) title your graph."
   ]
  },
  {
   "cell_type": "code",
   "execution_count": 41,
   "metadata": {},
   "outputs": [
    {
     "data": {
      "image/png": "[encoded data removed]",
      "text/plain": [
       "plot without title"
      ]
     },
     "metadata": {},
     "output_type": "display_data"
    }
   ],
   "source": [
    "ggplot(country.data, aes(x=GDPCapita, y=GGTonnesCapita)) +\n",
    "geom_point() +\n",
    "geom_smooth(method=\"lm\", level=0) +\n",
    "xlab(\"GDP per capita ($1000)\") + ylab(\"Greenhouse gases per capita (tons)\")"
   ]
  },
  {
   "cell_type": "markdown",
   "metadata": {},
   "source": [
    "**Part (b):** Estimate the linear relationship between GDP per capita and greenhouse gas emissions per capita (E) by OLS, showing all intermediate calculations as we saw in the lecture 3 slides.\n",
    "\n",
    "$$\\hat{E}_i = \\hat{\\beta}_0 + \\hat{\\beta}_1 \\text{GDP/cap}_i + \\epsilon_i , \\; i = \\{ \\text{Brazil, Cambodia, Canada, China, US}\\}$$"
   ]
  },
  {
   "cell_type": "code",
   "execution_count": 4,
   "metadata": {},
   "outputs": [
    {
     "data": {
      "text/plain": [
       "\n",
       "Call:\n",
       "lm(formula = GGTonnesCapita ~ GDPCapita, data = country.data)\n",
       "\n",
       "Residuals:\n",
       "      1       2       3       4       5 \n",
       " 2.1364 -0.5185  4.6628 -1.3428 -4.9379 \n",
       "\n",
       "Coefficients:\n",
       "            Estimate Std. Error t value Pr(>|t|)  \n",
       "(Intercept)   8.8216     2.7625   3.193   0.0496 *\n",
       "GDPCapita     0.3297     0.0875   3.769   0.0327 *\n",
       "---\n",
       "Signif. codes:  0 ‘***’ 0.001 ‘**’ 0.01 ‘*’ 0.05 ‘.’ 0.1 ‘ ’ 1\n",
       "\n",
       "Residual standard error: 4.194 on 3 degrees of freedom\n",
       "Multiple R-squared:  0.8256,\tAdjusted R-squared:  0.7675 \n",
       "F-statistic:  14.2 on 1 and 3 DF,  p-value: 0.03269\n"
      ]
     },
     "metadata": {},
     "output_type": "display_data"
    }
   ],
   "source": [
    "model = lm(GGTonnesCapita ~ GDPCapita, data = country.data)\n",
    "summary(model)"
   ]
  },
  {
   "cell_type": "markdown",
   "metadata": {},
   "source": [
    "**Part (c):** In your table, compute the fitted value and the residual for each observation, and verify that the residuals (approximately) sum to 0."
   ]
  },
  {
   "cell_type": "code",
   "execution_count": 6,
   "metadata": {},
   "outputs": [
    {
     "data": {
      "text/html": [
       "<table>\n",
       "<thead><tr><th scope=col>CountryName</th><th scope=col>GDPCapita</th><th scope=col>GGTonnesCapita</th><th scope=col>FittedValues</th><th scope=col>Residuals</th></tr></thead>\n",
       "<tbody>\n",
       "\t<tr><td>Brazil       </td><td>11.56        </td><td>14.77        </td><td>12.633604    </td><td> 2.1363957   </td></tr>\n",
       "\t<tr><td>Cambodia     </td><td> 0.87        </td><td> 8.59        </td><td> 9.108539    </td><td>-0.5185389   </td></tr>\n",
       "\t<tr><td>Canada       </td><td>48.72        </td><td>29.55        </td><td>24.887246    </td><td> 4.6627540   </td></tr>\n",
       "\t<tr><td>China        </td><td> 5.28        </td><td> 9.22        </td><td>10.562752    </td><td>-1.3427521   </td></tr>\n",
       "\t<tr><td>United States</td><td>49.48        </td><td>20.20        </td><td>25.137859    </td><td>-4.9378587   </td></tr>\n",
       "</tbody>\n",
       "</table>\n"
      ],
      "text/latex": [
       "\\begin{tabular}{r|lllll}\n",
       " CountryName & GDPCapita & GGTonnesCapita & FittedValues & Residuals\\\\\n",
       "\\hline\n",
       "\t Brazil        & 11.56         & 14.77         & 12.633604     &  2.1363957   \\\\\n",
       "\t Cambodia      &  0.87         &  8.59         &  9.108539     & -0.5185389   \\\\\n",
       "\t Canada        & 48.72         & 29.55         & 24.887246     &  4.6627540   \\\\\n",
       "\t China         &  5.28         &  9.22         & 10.562752     & -1.3427521   \\\\\n",
       "\t United States & 49.48         & 20.20         & 25.137859     & -4.9378587   \\\\\n",
       "\\end{tabular}\n"
      ],
      "text/markdown": [
       "\n",
       "| CountryName | GDPCapita | GGTonnesCapita | FittedValues | Residuals |\n",
       "|---|---|---|---|---|\n",
       "| Brazil        | 11.56         | 14.77         | 12.633604     |  2.1363957    |\n",
       "| Cambodia      |  0.87         |  8.59         |  9.108539     | -0.5185389    |\n",
       "| Canada        | 48.72         | 29.55         | 24.887246     |  4.6627540    |\n",
       "| China         |  5.28         |  9.22         | 10.562752     | -1.3427521    |\n",
       "| United States | 49.48         | 20.20         | 25.137859     | -4.9378587    |\n",
       "\n"
      ],
      "text/plain": [
       "  CountryName   GDPCapita GGTonnesCapita FittedValues Residuals \n",
       "1 Brazil        11.56     14.77          12.633604     2.1363957\n",
       "2 Cambodia       0.87      8.59           9.108539    -0.5185389\n",
       "3 Canada        48.72     29.55          24.887246     4.6627540\n",
       "4 China          5.28      9.22          10.562752    -1.3427521\n",
       "5 United States 49.48     20.20          25.137859    -4.9378587"
      ]
     },
     "metadata": {},
     "output_type": "display_data"
    }
   ],
   "source": [
    "country.data$FittedValues = predict(model)\n",
    "country.data$Residuals    = country.data$GGTonnesCapita - country.data$FittedValues\n",
    "country.data"
   ]
  },
  {
   "cell_type": "code",
   "execution_count": 7,
   "metadata": {},
   "outputs": [
    {
     "data": {
      "text/html": [
       "-5.32907051820075e-15"
      ],
      "text/latex": [
       "-5.32907051820075e-15"
      ],
      "text/markdown": [
       "-5.32907051820075e-15"
      ],
      "text/plain": [
       "[1] -5.329071e-15"
      ]
     },
     "metadata": {},
     "output_type": "display_data"
    }
   ],
   "source": [
    "sum(country.data$Residuals)     # should be close to 0"
   ]
  },
  {
   "cell_type": "markdown",
   "metadata": {},
   "source": [
    "**Part (d):** According to the estimated relation, what is the predicted $\\hat{E}$ for a country with a GDP per capita of \\\\$10,000?"
   ]
  },
  {
   "cell_type": "code",
   "execution_count": 8,
   "metadata": {},
   "outputs": [
    {
     "data": {
      "text/html": [
       "<strong>1:</strong> 12.119188780048"
      ],
      "text/latex": [
       "\\textbf{1:} 12.119188780048"
      ],
      "text/markdown": [
       "**1:** 12.119188780048"
      ],
      "text/plain": [
       "       1 \n",
       "12.11919 "
      ]
     },
     "metadata": {},
     "output_type": "display_data"
    }
   ],
   "source": [
    "predict(model, data.frame(GDPCapita=c(10)))"
   ]
  },
  {
   "cell_type": "markdown",
   "metadata": {},
   "source": [
    "**Part (e):** How much of the variation in greenhouse gas emissions per capita for these 5 countries is explained by their GDP per capita? Can you provide some reasons for why emissions might be lower in less developed countries?"
   ]
  },
  {
   "cell_type": "code",
   "execution_count": 9,
   "metadata": {},
   "outputs": [],
   "source": [
    "# coding answer"
   ]
  },
  {
   "cell_type": "markdown",
   "metadata": {},
   "source": [
    "_Write your answer here, replacing this text._"
   ]
  },
  {
   "cell_type": "markdown",
   "metadata": {},
   "source": [
    "**Part (f):** Repeat (b) for two additional sets of countries below."
   ]
  },
  {
   "cell_type": "code",
   "execution_count": 10,
   "metadata": {},
   "outputs": [
    {
     "data": {
      "text/html": [
       "<table>\n",
       "<thead><tr><th scope=col>CountryName</th><th scope=col>GDPCapita</th><th scope=col>GGTonnesCapita</th></tr></thead>\n",
       "<tbody>\n",
       "\t<tr><td>Chile      </td><td>13.96      </td><td>6.94       </td></tr>\n",
       "\t<tr><td>Georgia    </td><td> 3.47      </td><td>3.82       </td></tr>\n",
       "\t<tr><td>Indonesia  </td><td> 3.43      </td><td>3.15       </td></tr>\n",
       "\t<tr><td>Malta      </td><td>19.95      </td><td>4.58       </td></tr>\n",
       "\t<tr><td>Philippines</td><td> 2.30      </td><td>1.74       </td></tr>\n",
       "</tbody>\n",
       "</table>\n"
      ],
      "text/latex": [
       "\\begin{tabular}{r|lll}\n",
       " CountryName & GDPCapita & GGTonnesCapita\\\\\n",
       "\\hline\n",
       "\t Chile       & 13.96       & 6.94       \\\\\n",
       "\t Georgia     &  3.47       & 3.82       \\\\\n",
       "\t Indonesia   &  3.43       & 3.15       \\\\\n",
       "\t Malta       & 19.95       & 4.58       \\\\\n",
       "\t Philippines &  2.30       & 1.74       \\\\\n",
       "\\end{tabular}\n"
      ],
      "text/markdown": [
       "\n",
       "| CountryName | GDPCapita | GGTonnesCapita |\n",
       "|---|---|---|\n",
       "| Chile       | 13.96       | 6.94        |\n",
       "| Georgia     |  3.47       | 3.82        |\n",
       "| Indonesia   |  3.43       | 3.15        |\n",
       "| Malta       | 19.95       | 4.58        |\n",
       "| Philippines |  2.30       | 1.74        |\n",
       "\n"
      ],
      "text/plain": [
       "  CountryName GDPCapita GGTonnesCapita\n",
       "1 Chile       13.96     6.94          \n",
       "2 Georgia      3.47     3.82          \n",
       "3 Indonesia    3.43     3.15          \n",
       "4 Malta       19.95     4.58          \n",
       "5 Philippines  2.30     1.74          "
      ]
     },
     "metadata": {},
     "output_type": "display_data"
    }
   ],
   "source": [
    "country.data.2 = data.frame(\n",
    "    CountryName    = c(\"Chile\", \"Georgia\", \"Indonesia\", \"Malta\", \"Philippines\"),\n",
    "    GDPCapita      = c(13.96, 3.47, 3.43, 19.95, 2.30),\n",
    "    GGTonnesCapita = c(6.94, 3.82, 3.15, 4.58, 1.74)\n",
    ")\n",
    "country.data.2"
   ]
  },
  {
   "cell_type": "code",
   "execution_count": 11,
   "metadata": {},
   "outputs": [
    {
     "data": {
      "text/plain": [
       "\n",
       "Call:\n",
       "lm(formula = GGTonnesCapita ~ GDPCapita, data = country.data.2)\n",
       "\n",
       "Residuals:\n",
       "       1        2        3        4        5 \n",
       " 2.00054  0.63633 -0.02697 -1.36206 -1.24784 \n",
       "\n",
       "Coefficients:\n",
       "            Estimate Std. Error t value Pr(>|t|)\n",
       "(Intercept)   2.6029     1.1382   2.287    0.106\n",
       "GDPCapita     0.1674     0.1021   1.640    0.200\n",
       "\n",
       "Residual standard error: 1.615 on 3 degrees of freedom\n",
       "Multiple R-squared:  0.4728,\tAdjusted R-squared:  0.297 \n",
       "F-statistic:  2.69 on 1 and 3 DF,  p-value: 0.1995\n"
      ]
     },
     "metadata": {},
     "output_type": "display_data"
    }
   ],
   "source": [
    "# work for country.data.2\n",
    "model = lm(GGTonnesCapita ~ GDPCapita, data = country.data.2)\n",
    "summary(model)"
   ]
  },
  {
   "cell_type": "code",
   "execution_count": 13,
   "metadata": {},
   "outputs": [
    {
     "data": {
      "text/html": [
       "<table>\n",
       "<thead><tr><th scope=col>CountryName</th><th scope=col>GDPCapita</th><th scope=col>GGTonnesCapita</th></tr></thead>\n",
       "<tbody>\n",
       "\t<tr><td>Belarus   </td><td>6.26      </td><td>11.59     </td></tr>\n",
       "\t<tr><td>Cambodia  </td><td>0.87      </td><td> 8.59     </td></tr>\n",
       "\t<tr><td>Lebanon   </td><td>8.05      </td><td> 4.14     </td></tr>\n",
       "\t<tr><td>Mozambique</td><td>0.45      </td><td>14.78     </td></tr>\n",
       "\t<tr><td>Namibia   </td><td>5.44      </td><td>16.60     </td></tr>\n",
       "</tbody>\n",
       "</table>\n"
      ],
      "text/latex": [
       "\\begin{tabular}{r|lll}\n",
       " CountryName & GDPCapita & GGTonnesCapita\\\\\n",
       "\\hline\n",
       "\t Belarus    & 6.26       & 11.59     \\\\\n",
       "\t Cambodia   & 0.87       &  8.59     \\\\\n",
       "\t Lebanon    & 8.05       &  4.14     \\\\\n",
       "\t Mozambique & 0.45       & 14.78     \\\\\n",
       "\t Namibia    & 5.44       & 16.60     \\\\\n",
       "\\end{tabular}\n"
      ],
      "text/markdown": [
       "\n",
       "| CountryName | GDPCapita | GGTonnesCapita |\n",
       "|---|---|---|\n",
       "| Belarus    | 6.26       | 11.59      |\n",
       "| Cambodia   | 0.87       |  8.59      |\n",
       "| Lebanon    | 8.05       |  4.14      |\n",
       "| Mozambique | 0.45       | 14.78      |\n",
       "| Namibia    | 5.44       | 16.60      |\n",
       "\n"
      ],
      "text/plain": [
       "  CountryName GDPCapita GGTonnesCapita\n",
       "1 Belarus     6.26      11.59         \n",
       "2 Cambodia    0.87       8.59         \n",
       "3 Lebanon     8.05       4.14         \n",
       "4 Mozambique  0.45      14.78         \n",
       "5 Namibia     5.44      16.60         "
      ]
     },
     "metadata": {},
     "output_type": "display_data"
    }
   ],
   "source": [
    "country.data.3 = data.frame(\n",
    "    CountryName    = c(\"Belarus\", \"Cambodia\", \"Lebanon\", \"Mozambique\", \"Namibia\"),\n",
    "    GDPCapita      = c(6.26, 0.87, 8.05, 0.45, 5.44),\n",
    "    GGTonnesCapita = c(11.59, 8.59, 4.14, 14.78, 16.60)\n",
    ")\n",
    "country.data.3"
   ]
  },
  {
   "cell_type": "code",
   "execution_count": 14,
   "metadata": {},
   "outputs": [
    {
     "data": {
      "text/plain": [
       "\n",
       "Call:\n",
       "lm(formula = GGTonnesCapita ~ GDPCapita, data = country.data.3)\n",
       "\n",
       "Residuals:\n",
       "     1      2      3      4      5 \n",
       " 1.542 -4.334 -4.953  1.632  6.114 \n",
       "\n",
       "Coefficients:\n",
       "            Estimate Std. Error t value Pr(>|t|)  \n",
       "(Intercept)  13.3883     4.0998   3.266   0.0469 *\n",
       "GDPCapita    -0.5335     0.7904  -0.675   0.5480  \n",
       "---\n",
       "Signif. codes:  0 ‘***’ 0.001 ‘**’ 0.01 ‘*’ 0.05 ‘.’ 0.1 ‘ ’ 1\n",
       "\n",
       "Residual standard error: 5.346 on 3 degrees of freedom\n",
       "Multiple R-squared:  0.1319,\tAdjusted R-squared:  -0.1575 \n",
       "F-statistic: 0.4557 on 1 and 3 DF,  p-value: 0.548\n"
      ]
     },
     "metadata": {},
     "output_type": "display_data"
    }
   ],
   "source": [
    "# work for country.data.2\n",
    "model = lm(GGTonnesCapita ~ GDPCapita, data = country.data.3)\n",
    "summary(model)"
   ]
  },
  {
   "cell_type": "markdown",
   "metadata": {},
   "source": [
    "**Part (g):** How do your estimates of $\\hat{\\beta}_0$ and $\\hat{\\beta}_1$ change between `country.data`, `country.data.2`, and `country.data.3`? Briefly explain this variation in 3-5 sentences."
   ]
  },
  {
   "cell_type": "markdown",
   "metadata": {},
   "source": [
    "_Write your answer here, replacing this text._"
   ]
  },
  {
   "cell_type": "markdown",
   "metadata": {},
   "source": [
    "### Problem 3: Working with Data in R"
   ]
  },
  {
   "cell_type": "markdown",
   "metadata": {},
   "source": [
    "_Part (a):_ Load the data set `World_Bank_Indicators_PS1.csv` into R as `indicators`."
   ]
  },
  {
   "cell_type": "code",
   "execution_count": 20,
   "metadata": {},
   "outputs": [
    {
     "data": {
      "text/html": [
       "<table>\n",
       "<thead><tr><th scope=col>CountryName</th><th scope=col>Year</th><th scope=col>GDPCapita</th><th scope=col>RenewEnergyPct</th><th scope=col>GGTonnesCapita</th></tr></thead>\n",
       "<tbody>\n",
       "\t<tr><td>Algeria    </td><td>2012       </td><td> 4.581328  </td><td>0.001903738</td><td> 4.713513  </td></tr>\n",
       "\t<tr><td>Angola     </td><td>2012       </td><td> 3.972601  </td><td>0.571752700</td><td> 1.836280  </td></tr>\n",
       "\t<tr><td>Argentina  </td><td>2012       </td><td>11.981576  </td><td>0.087725783</td><td> 9.034168  </td></tr>\n",
       "\t<tr><td>Armenia    </td><td>2012       </td><td> 3.489729  </td><td>0.065678729</td><td> 4.136329  </td></tr>\n",
       "\t<tr><td>Australia  </td><td>2012       </td><td>53.321879  </td><td>0.084426661</td><td>33.512749  </td></tr>\n",
       "\t<tr><td>Austria    </td><td>2012       </td><td>47.951557  </td><td>0.344505992</td><td>10.730760  </td></tr>\n",
       "</tbody>\n",
       "</table>\n"
      ],
      "text/latex": [
       "\\begin{tabular}{r|lllll}\n",
       " CountryName & Year & GDPCapita & RenewEnergyPct & GGTonnesCapita\\\\\n",
       "\\hline\n",
       "\t Algeria     & 2012        &  4.581328   & 0.001903738 &  4.713513  \\\\\n",
       "\t Angola      & 2012        &  3.972601   & 0.571752700 &  1.836280  \\\\\n",
       "\t Argentina   & 2012        & 11.981576   & 0.087725783 &  9.034168  \\\\\n",
       "\t Armenia     & 2012        &  3.489729   & 0.065678729 &  4.136329  \\\\\n",
       "\t Australia   & 2012        & 53.321879   & 0.084426661 & 33.512749  \\\\\n",
       "\t Austria     & 2012        & 47.951557   & 0.344505992 & 10.730760  \\\\\n",
       "\\end{tabular}\n"
      ],
      "text/markdown": [
       "\n",
       "| CountryName | Year | GDPCapita | RenewEnergyPct | GGTonnesCapita |\n",
       "|---|---|---|---|---|\n",
       "| Algeria     | 2012        |  4.581328   | 0.001903738 |  4.713513   |\n",
       "| Angola      | 2012        |  3.972601   | 0.571752700 |  1.836280   |\n",
       "| Argentina   | 2012        | 11.981576   | 0.087725783 |  9.034168   |\n",
       "| Armenia     | 2012        |  3.489729   | 0.065678729 |  4.136329   |\n",
       "| Australia   | 2012        | 53.321879   | 0.084426661 | 33.512749   |\n",
       "| Austria     | 2012        | 47.951557   | 0.344505992 | 10.730760   |\n",
       "\n"
      ],
      "text/plain": [
       "  CountryName Year GDPCapita RenewEnergyPct GGTonnesCapita\n",
       "1 Algeria     2012  4.581328 0.001903738     4.713513     \n",
       "2 Angola      2012  3.972601 0.571752700     1.836280     \n",
       "3 Argentina   2012 11.981576 0.087725783     9.034168     \n",
       "4 Armenia     2012  3.489729 0.065678729     4.136329     \n",
       "5 Australia   2012 53.321879 0.084426661    33.512749     \n",
       "6 Austria     2012 47.951557 0.344505992    10.730760     "
      ]
     },
     "metadata": {},
     "output_type": "display_data"
    }
   ],
   "source": [
    "indicators = read.csv(\"World_Bank_Indicators_PS1.csv\")\n",
    "head(indicators)"
   ]
  },
  {
   "cell_type": "markdown",
   "metadata": {},
   "source": [
    "_Part (b):_ Use function `summarize` from the `dplyr` package to get detailed summary statistics of the `GGTonnesCapita` variable."
   ]
  },
  {
   "cell_type": "code",
   "execution_count": 43,
   "metadata": {},
   "outputs": [
    {
     "data": {
      "text/html": [
       "<table>\n",
       "<thead><tr><th scope=col>mean</th><th scope=col>sd</th><th scope=col>median</th><th scope=col>min</th><th scope=col>max</th><th scope=col>first.quartile</th><th scope=col>third.quartile</th></tr></thead>\n",
       "<tbody>\n",
       "\t<tr><td>9.094913 </td><td>7.978273 </td><td>6.940698 </td><td>0.8587438</td><td>45.69878 </td><td>3.692263 </td><td>11.58951 </td></tr>\n",
       "</tbody>\n",
       "</table>\n"
      ],
      "text/latex": [
       "\\begin{tabular}{r|lllllll}\n",
       " mean & sd & median & min & max & first.quartile & third.quartile\\\\\n",
       "\\hline\n",
       "\t 9.094913  & 7.978273  & 6.940698  & 0.8587438 & 45.69878  & 3.692263  & 11.58951 \\\\\n",
       "\\end{tabular}\n"
      ],
      "text/markdown": [
       "\n",
       "| mean | sd | median | min | max | first.quartile | third.quartile |\n",
       "|---|---|---|---|---|---|---|\n",
       "| 9.094913  | 7.978273  | 6.940698  | 0.8587438 | 45.69878  | 3.692263  | 11.58951  |\n",
       "\n"
      ],
      "text/plain": [
       "  mean     sd       median   min       max      first.quartile third.quartile\n",
       "1 9.094913 7.978273 6.940698 0.8587438 45.69878 3.692263       11.58951      "
      ]
     },
     "metadata": {},
     "output_type": "display_data"
    }
   ],
   "source": [
    "summarize(indicators, \n",
    "          mean = mean(GGTonnesCapita), \n",
    "          sd = sd(GGTonnesCapita),\n",
    "          median = median(GGTonnesCapita),\n",
    "          min = min(GGTonnesCapita),\n",
    "          max = max(GGTonnesCapita),\n",
    "          first.quartile = quantile(GGTonnesCapita, 0.25),\n",
    "          third.quartile = quantile(GGTonnesCapita, 0.75)\n",
    "         )"
   ]
  },
  {
   "cell_type": "markdown",
   "metadata": {},
   "source": [
    "_Part (c):_ What are (1) the number of observations and (2) the 95th percentile of the `GGTonnesCapita` variable?"
   ]
  },
  {
   "cell_type": "code",
   "execution_count": 44,
   "metadata": {},
   "outputs": [
    {
     "data": {
      "text/html": [
       "<table>\n",
       "<thead><tr><th scope=col>count</th><th scope=col>percentile.95</th></tr></thead>\n",
       "<tbody>\n",
       "\t<tr><td>115     </td><td>22.14455</td></tr>\n",
       "</tbody>\n",
       "</table>\n"
      ],
      "text/latex": [
       "\\begin{tabular}{r|ll}\n",
       " count & percentile.95\\\\\n",
       "\\hline\n",
       "\t 115      & 22.14455\\\\\n",
       "\\end{tabular}\n"
      ],
      "text/markdown": [
       "\n",
       "| count | percentile.95 |\n",
       "|---|---|\n",
       "| 115      | 22.14455 |\n",
       "\n"
      ],
      "text/plain": [
       "  count percentile.95\n",
       "1 115   22.14455     "
      ]
     },
     "metadata": {},
     "output_type": "display_data"
    }
   ],
   "source": [
    "indicators %>%\n",
    "    summarize(\n",
    "        count = n(),\n",
    "        percentile.95 = quantile(GGTonnesCapita, 0.95)\n",
    "    )"
   ]
  }
 ],
 "metadata": {
  "@webio": {
   "lastCommId": null,
   "lastKernelId": null
  },
  "kernelspec": {
   "display_name": "R",
   "language": "R",
   "name": "ir"
  },
  "language_info": {
   "codemirror_mode": "r",
   "file_extension": ".r",
   "mimetype": "text/x-r-source",
   "name": "R",
   "pygments_lexer": "r",
   "version": "3.5.1"
  },
  "toc": {
   "base_numbering": 1,
   "nav_menu": {},
   "number_sections": true,
   "sideBar": true,
   "skip_h1_title": false,
   "title_cell": "Table of Contents",
   "title_sidebar": "Contents",
   "toc_cell": false,
   "toc_position": {},
   "toc_section_display": true,
   "toc_window_display": false
  },
  "varInspector": {
   "cols": {
    "lenName": 16,
    "lenType": 16,
    "lenVar": 40
   },
   "kernels_config": {
    "python": {
     "delete_cmd_postfix": "",
     "delete_cmd_prefix": "del ",
     "library": "var_list.py",
     "varRefreshCmd": "print(var_dic_list())"
    },
    "r": {
     "delete_cmd_postfix": ") ",
     "delete_cmd_prefix": "rm(",
     "library": "var_list.r",
     "varRefreshCmd": "cat(var_dic_list()) "
    }
   },
   "types_to_exclude": [
    "module",
    "function",
    "builtin_function_or_method",
    "instance",
    "_Feature"
   ],
   "window_display": false
  }
 },
 "nbformat": 4,
 "nbformat_minor": 2
}
