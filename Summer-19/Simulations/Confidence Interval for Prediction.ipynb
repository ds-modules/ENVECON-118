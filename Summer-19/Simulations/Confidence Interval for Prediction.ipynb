{
 "cells": [
  {
   "cell_type": "markdown",
   "metadata": {},
   "source": [
    "# EEP/IAS 118\n",
    "\n",
    "## Confidence Intervals for Prediction Example\n",
    "\n",
    "### July 30, 2019\n"
   ]
  },
  {
   "cell_type": "code",
   "execution_count": 1,
   "metadata": {},
   "outputs": [
    {
     "name": "stderr",
     "output_type": "stream",
     "text": [
      "Registered S3 methods overwritten by 'ggplot2':\n",
      "  method         from \n",
      "  [.quosures     rlang\n",
      "  c.quosures     rlang\n",
      "  print.quosures rlang\n",
      "── \u001b[1mAttaching packages\u001b[22m ─────────────────────────────────────── tidyverse 1.2.1 ──\n",
      "\u001b[32m✔\u001b[39m \u001b[34mggplot2\u001b[39m 3.1.0     \u001b[32m✔\u001b[39m \u001b[34mpurrr  \u001b[39m 0.3.2\n",
      "\u001b[32m✔\u001b[39m \u001b[34mtibble \u001b[39m 2.1.3     \u001b[32m✔\u001b[39m \u001b[34mdplyr  \u001b[39m 0.8.1\n",
      "\u001b[32m✔\u001b[39m \u001b[34mtidyr  \u001b[39m 0.8.3     \u001b[32m✔\u001b[39m \u001b[34mstringr\u001b[39m 1.4.0\n",
      "\u001b[32m✔\u001b[39m \u001b[34mreadr  \u001b[39m 1.3.1     \u001b[32m✔\u001b[39m \u001b[34mforcats\u001b[39m 0.4.0\n",
      "── \u001b[1mConflicts\u001b[22m ────────────────────────────────────────── tidyverse_conflicts() ──\n",
      "\u001b[31m✖\u001b[39m \u001b[34mdplyr\u001b[39m::\u001b[32mfilter()\u001b[39m masks \u001b[34mstats\u001b[39m::filter()\n",
      "\u001b[31m✖\u001b[39m \u001b[34mdplyr\u001b[39m::\u001b[32mlag()\u001b[39m    masks \u001b[34mstats\u001b[39m::lag()\n",
      "\n",
      "Please cite as: \n",
      "\n",
      " Hlavac, Marek (2018). stargazer: Well-Formatted Regression and Summary Statistics Tables.\n",
      " R package version 5.2.2. https://CRAN.R-project.org/package=stargazer \n",
      "\n"
     ]
    },
    {
     "data": {
      "text/html": [
       "<table>\n",
       "<caption>A tibble: 6 × 35</caption>\n",
       "<thead>\n",
       "\t<tr><th scope=col>age</th><th scope=col>black</th><th scope=col>case</th><th scope=col>clerical</th><th scope=col>construc</th><th scope=col>educ</th><th scope=col>earns74</th><th scope=col>gdhlth</th><th scope=col>inlf</th><th scope=col>leis1</th><th scope=col>⋯</th><th scope=col>totwrk</th><th scope=col>union</th><th scope=col>worknrm</th><th scope=col>workscnd</th><th scope=col>exper</th><th scope=col>yngkid</th><th scope=col>yrsmarr</th><th scope=col>hrwage</th><th scope=col>agesq</th><th scope=col>sleep_nightly</th></tr>\n",
       "\t<tr><th scope=col>&lt;dbl&gt;</th><th scope=col>&lt;dbl&gt;</th><th scope=col>&lt;dbl&gt;</th><th scope=col>&lt;dbl&gt;</th><th scope=col>&lt;dbl&gt;</th><th scope=col>&lt;dbl&gt;</th><th scope=col>&lt;dbl&gt;</th><th scope=col>&lt;dbl&gt;</th><th scope=col>&lt;dbl&gt;</th><th scope=col>&lt;dbl&gt;</th><th scope=col>⋯</th><th scope=col>&lt;dbl&gt;</th><th scope=col>&lt;dbl&gt;</th><th scope=col>&lt;dbl&gt;</th><th scope=col>&lt;dbl&gt;</th><th scope=col>&lt;dbl&gt;</th><th scope=col>&lt;dbl&gt;</th><th scope=col>&lt;dbl&gt;</th><th scope=col>&lt;dbl&gt;</th><th scope=col>&lt;dbl&gt;</th><th scope=col>&lt;dbl&gt;</th></tr>\n",
       "</thead>\n",
       "<tbody>\n",
       "\t<tr><td>32</td><td>0</td><td>1</td><td>0</td><td>0</td><td>12</td><td>    0</td><td>0</td><td>1</td><td>3529</td><td>⋯</td><td>3438</td><td>0</td><td>3438</td><td>   0</td><td>14</td><td>0</td><td>13</td><td> 7.070004</td><td>1024</td><td>7.411905</td></tr>\n",
       "\t<tr><td>31</td><td>0</td><td>2</td><td>0</td><td>0</td><td>14</td><td> 9500</td><td>1</td><td>1</td><td>2140</td><td>⋯</td><td>5020</td><td>0</td><td>5020</td><td>   0</td><td>11</td><td>0</td><td> 0</td><td> 1.429999</td><td> 961</td><td>6.952381</td></tr>\n",
       "\t<tr><td>44</td><td>0</td><td>3</td><td>0</td><td>0</td><td>17</td><td>42500</td><td>1</td><td>1</td><td>4595</td><td>⋯</td><td>2815</td><td>0</td><td>2815</td><td>   0</td><td>21</td><td>0</td><td> 0</td><td>20.529997</td><td>1936</td><td>6.357143</td></tr>\n",
       "\t<tr><td>30</td><td>0</td><td>4</td><td>0</td><td>0</td><td>12</td><td>42500</td><td>1</td><td>1</td><td>3211</td><td>⋯</td><td>3786</td><td>0</td><td>3786</td><td>   0</td><td>12</td><td>0</td><td>12</td><td> 9.619998</td><td> 900</td><td>7.340476</td></tr>\n",
       "\t<tr><td>64</td><td>0</td><td>5</td><td>0</td><td>0</td><td>14</td><td> 2500</td><td>1</td><td>1</td><td>4052</td><td>⋯</td><td>2580</td><td>0</td><td>2580</td><td>   0</td><td>44</td><td>0</td><td>33</td><td> 2.750000</td><td>4096</td><td>8.209524</td></tr>\n",
       "\t<tr><td>41</td><td>0</td><td>6</td><td>0</td><td>0</td><td>12</td><td>    0</td><td>1</td><td>1</td><td>4812</td><td>⋯</td><td>1205</td><td>0</td><td>   0</td><td>1205</td><td>23</td><td>0</td><td>23</td><td>19.249998</td><td>1681</td><td>9.673810</td></tr>\n",
       "</tbody>\n",
       "</table>\n"
      ],
      "text/latex": [
       "A tibble: 6 × 35\n",
       "\\begin{tabular}{r|lllllllllllllllllllllllllllllllllll}\n",
       " age & black & case & clerical & construc & educ & earns74 & gdhlth & inlf & leis1 & leis2 & leis3 & smsa & lhrwage & lothinc & male & marr & prot & rlxall & selfe & sleep & slpnaps & south & spsepay & spwrk75 & totwrk & union & worknrm & workscnd & exper & yngkid & yrsmarr & hrwage & agesq & sleep\\_nightly\\\\\n",
       " <dbl> & <dbl> & <dbl> & <dbl> & <dbl> & <dbl> & <dbl> & <dbl> & <dbl> & <dbl> & <dbl> & <dbl> & <dbl> & <dbl> & <dbl> & <dbl> & <dbl> & <dbl> & <dbl> & <dbl> & <dbl> & <dbl> & <dbl> & <dbl> & <dbl> & <dbl> & <dbl> & <dbl> & <dbl> & <dbl> & <dbl> & <dbl> & <dbl> & <dbl> & <dbl>\\\\\n",
       "\\hline\n",
       "\t 32 & 0 & 1 & 0 & 0 & 12 &     0 & 0 & 1 & 3529 & 3479 & 3479 & 0 & 1.955861 & 10.075380 & 1 & 1 & 1 & 3163 & 0 & 3113 & 3163 & 0 &     0 & 0 & 3438 & 0 & 3438 &    0 & 14 & 0 & 13 &  7.070004 & 1024 & 7.411905\\\\\n",
       "\t 31 & 0 & 2 & 0 & 0 & 14 &  9500 & 1 & 1 & 2140 & 2140 & 2140 & 0 & 0.357674 &  0.000000 & 1 & 0 & 1 & 2920 & 1 & 2920 & 2920 & 1 &     0 & 0 & 5020 & 0 & 5020 &    0 & 11 & 0 &  0 &  1.429999 &  961 & 6.952381\\\\\n",
       "\t 44 & 0 & 3 & 0 & 0 & 17 & 42500 & 1 & 1 & 4595 & 4505 & 4227 & 1 & 3.021887 &  0.000000 & 1 & 1 & 0 & 3038 & 1 & 2670 & 2760 & 0 & 20000 & 1 & 2815 & 0 & 2815 &    0 & 21 & 0 &  0 & 20.529997 & 1936 & 6.357143\\\\\n",
       "\t 30 & 0 & 4 & 0 & 0 & 12 & 42500 & 1 & 1 & 3211 & 3211 & 3211 & 0 & 2.263844 &  0.000000 & 0 & 1 & 1 & 3083 & 1 & 3083 & 3083 & 0 &  5000 & 1 & 3786 & 0 & 3786 &    0 & 12 & 0 & 12 &  9.619998 &  900 & 7.340476\\\\\n",
       "\t 64 & 0 & 5 & 0 & 0 & 14 &  2500 & 1 & 1 & 4052 & 4007 & 4007 & 0 & 1.011601 &  9.328213 & 1 & 1 & 1 & 3493 & 0 & 3448 & 3493 & 0 &  2400 & 1 & 2580 & 0 & 2580 &    0 & 44 & 0 & 33 &  2.750000 & 4096 & 8.209524\\\\\n",
       "\t 41 & 0 & 6 & 0 & 0 & 12 &     0 & 1 & 1 & 4812 & 4797 & 4797 & 0 & 2.957511 & 10.657280 & 1 & 1 & 1 & 4078 & 0 & 4063 & 4078 & 0 &     0 & 0 & 1205 & 0 &    0 & 1205 & 23 & 0 & 23 & 19.249998 & 1681 & 9.673810\\\\\n",
       "\\end{tabular}\n"
      ],
      "text/markdown": [
       "\n",
       "A tibble: 6 × 35\n",
       "\n",
       "| age &lt;dbl&gt; | black &lt;dbl&gt; | case &lt;dbl&gt; | clerical &lt;dbl&gt; | construc &lt;dbl&gt; | educ &lt;dbl&gt; | earns74 &lt;dbl&gt; | gdhlth &lt;dbl&gt; | inlf &lt;dbl&gt; | leis1 &lt;dbl&gt; | ⋯ ⋯ | totwrk &lt;dbl&gt; | union &lt;dbl&gt; | worknrm &lt;dbl&gt; | workscnd &lt;dbl&gt; | exper &lt;dbl&gt; | yngkid &lt;dbl&gt; | yrsmarr &lt;dbl&gt; | hrwage &lt;dbl&gt; | agesq &lt;dbl&gt; | sleep_nightly &lt;dbl&gt; |\n",
       "|---|---|---|---|---|---|---|---|---|---|---|---|---|---|---|---|---|---|---|---|---|\n",
       "| 32 | 0 | 1 | 0 | 0 | 12 |     0 | 0 | 1 | 3529 | ⋯ | 3438 | 0 | 3438 |    0 | 14 | 0 | 13 |  7.070004 | 1024 | 7.411905 |\n",
       "| 31 | 0 | 2 | 0 | 0 | 14 |  9500 | 1 | 1 | 2140 | ⋯ | 5020 | 0 | 5020 |    0 | 11 | 0 |  0 |  1.429999 |  961 | 6.952381 |\n",
       "| 44 | 0 | 3 | 0 | 0 | 17 | 42500 | 1 | 1 | 4595 | ⋯ | 2815 | 0 | 2815 |    0 | 21 | 0 |  0 | 20.529997 | 1936 | 6.357143 |\n",
       "| 30 | 0 | 4 | 0 | 0 | 12 | 42500 | 1 | 1 | 3211 | ⋯ | 3786 | 0 | 3786 |    0 | 12 | 0 | 12 |  9.619998 |  900 | 7.340476 |\n",
       "| 64 | 0 | 5 | 0 | 0 | 14 |  2500 | 1 | 1 | 4052 | ⋯ | 2580 | 0 | 2580 |    0 | 44 | 0 | 33 |  2.750000 | 4096 | 8.209524 |\n",
       "| 41 | 0 | 6 | 0 | 0 | 12 |     0 | 1 | 1 | 4812 | ⋯ | 1205 | 0 |    0 | 1205 | 23 | 0 | 23 | 19.249998 | 1681 | 9.673810 |\n",
       "\n"
      ],
      "text/plain": [
       "  age black case clerical construc educ earns74 gdhlth inlf leis1 ⋯ totwrk\n",
       "1 32  0     1    0        0        12       0   0      1    3529  ⋯ 3438  \n",
       "2 31  0     2    0        0        14    9500   1      1    2140  ⋯ 5020  \n",
       "3 44  0     3    0        0        17   42500   1      1    4595  ⋯ 2815  \n",
       "4 30  0     4    0        0        12   42500   1      1    3211  ⋯ 3786  \n",
       "5 64  0     5    0        0        14    2500   1      1    4052  ⋯ 2580  \n",
       "6 41  0     6    0        0        12       0   1      1    4812  ⋯ 1205  \n",
       "  union worknrm workscnd exper yngkid yrsmarr hrwage    agesq sleep_nightly\n",
       "1 0     3438       0     14    0      13       7.070004 1024  7.411905     \n",
       "2 0     5020       0     11    0       0       1.429999  961  6.952381     \n",
       "3 0     2815       0     21    0       0      20.529997 1936  6.357143     \n",
       "4 0     3786       0     12    0      12       9.619998  900  7.340476     \n",
       "5 0     2580       0     44    0      33       2.750000 4096  8.209524     \n",
       "6 0        0    1205     23    0      23      19.249998 1681  9.673810     "
      ]
     },
     "metadata": {},
     "output_type": "display_data"
    },
    {
     "data": {
      "text/plain": [
       "\n",
       "Call:\n",
       "lm(formula = sleep_nightly ~ educ + exper + hrwage, data = sleepdata)\n",
       "\n",
       "Residuals:\n",
       "    Min      1Q  Median      3Q     Max \n",
       "-4.1833 -0.6140 -0.0052  0.5941  3.3239 \n",
       "\n",
       "Coefficients:\n",
       "             Estimate Std. Error t value Pr(>|t|)    \n",
       "(Intercept)  7.880271   0.285872  27.566   <2e-16 ***\n",
       "educ        -0.011255   0.019477  -0.578    0.564    \n",
       "exper        0.004340   0.004157   1.044    0.297    \n",
       "hrwage      -0.012069   0.012646  -0.954    0.340    \n",
       "---\n",
       "Signif. codes:  0 ‘***’ 0.001 ‘**’ 0.01 ‘*’ 0.05 ‘.’ 0.1 ‘ ’ 1\n",
       "\n",
       "Residual standard error: 1.025 on 528 degrees of freedom\n",
       "  (174 observations deleted due to missingness)\n",
       "Multiple R-squared:  0.007316,\tAdjusted R-squared:  0.001675 \n",
       "F-statistic: 1.297 on 3 and 528 DF,  p-value: 0.2747\n"
      ]
     },
     "metadata": {},
     "output_type": "display_data"
    }
   ],
   "source": [
    "library(tidyverse)\n",
    "library(haven)\n",
    "library(stargazer)\n",
    "\n",
    "sleepdata <- read_dta(\"sleep75.dta\") %>%\n",
    "    mutate(sleep_nightly = sleep/7/60)\n",
    "head(sleepdata)\n",
    "\n",
    "\n",
    "reg <- lm(sleep_nightly ~ educ + exper + hrwage , data = sleepdata)\n",
    "summary(reg)\n",
    "#stargazer(reg, type = \"html\")\n"
   ]
  },
  {
   "cell_type": "markdown",
   "metadata": {},
   "source": [
    "<table style=\"text-align:center\"><tr><td colspan=\"2\" style=\"border-bottom: 1px solid black\"></td></tr><tr><td style=\"text-align:left\"></td><td><em>Dependent variable:</em></td></tr>\n",
    "<tr><td></td><td colspan=\"1\" style=\"border-bottom: 1px solid black\"></td></tr>\n",
    "<tr><td style=\"text-align:left\"></td><td>sleep_nightly</td></tr>\n",
    "<tr><td colspan=\"2\" style=\"border-bottom: 1px solid black\"></td></tr><tr><td style=\"text-align:left\">educ</td><td>-0.011</td></tr>\n",
    "<tr><td style=\"text-align:left\"></td><td>(0.019)</td></tr>\n",
    "<tr><td style=\"text-align:left\"></td><td></td></tr>\n",
    "<tr><td style=\"text-align:left\">exper</td><td>0.004</td></tr>\n",
    "<tr><td style=\"text-align:left\"></td><td>(0.004)</td></tr>\n",
    "<tr><td style=\"text-align:left\"></td><td></td></tr>\n",
    "<tr><td style=\"text-align:left\">hrwage</td><td>-0.012</td></tr>\n",
    "<tr><td style=\"text-align:left\"></td><td>(0.013)</td></tr>\n",
    "<tr><td style=\"text-align:left\"></td><td></td></tr>\n",
    "<tr><td style=\"text-align:left\">Constant</td><td>7.880<sup>***</sup></td></tr>\n",
    "<tr><td style=\"text-align:left\"></td><td>(0.286)</td></tr>\n",
    "<tr><td style=\"text-align:left\"></td><td></td></tr>\n",
    "<tr><td colspan=\"2\" style=\"border-bottom: 1px solid black\"></td></tr><tr><td style=\"text-align:left\">Observations</td><td>532</td></tr>\n",
    "<tr><td style=\"text-align:left\">R<sup>2</sup></td><td>0.007</td></tr>\n",
    "<tr><td style=\"text-align:left\">Adjusted R<sup>2</sup></td><td>0.002</td></tr>\n",
    "<tr><td style=\"text-align:left\">Residual Std. Error</td><td>1.025 (df = 528)</td></tr>\n",
    "<tr><td style=\"text-align:left\">F Statistic</td><td>1.297 (df = 3; 528)</td></tr>\n",
    "<tr><td colspan=\"2\" style=\"border-bottom: 1px solid black\"></td></tr><tr><td style=\"text-align:left\"><em>Note:</em></td><td style=\"text-align:right\"><sup>*</sup>p<0.1; <sup>**</sup>p<0.05; <sup>***</sup>p<0.01</td></tr>\n",
    "</table>\n",
    "\n",
    "__Residual Std. Error__ reports $\\frac{\\sum \\hat u^2_i}{n-k-1} = \\frac{SSR}{n-k-1}$. To see this:"
   ]
  },
  {
   "cell_type": "code",
   "execution_count": 2,
   "metadata": {},
   "outputs": [
    {
     "data": {
      "text/html": [
       "'SSR = 555.017963171349'"
      ],
      "text/latex": [
       "'SSR = 555.017963171349'"
      ],
      "text/markdown": [
       "'SSR = 555.017963171349'"
      ],
      "text/plain": [
       "[1] \"SSR = 555.017963171349\""
      ]
     },
     "metadata": {},
     "output_type": "display_data"
    },
    {
     "data": {
      "text/html": [
       "'sigma_hat = 1.025'"
      ],
      "text/latex": [
       "'sigma\\_hat = 1.025'"
      ],
      "text/markdown": [
       "'sigma_hat = 1.025'"
      ],
      "text/plain": [
       "[1] \"sigma_hat = 1.025\""
      ]
     },
     "metadata": {},
     "output_type": "display_data"
    }
   ],
   "source": [
    "resid <- reg$residuals\n",
    "ssr <- sum(resid^2)\n",
    "paste0(\"SSR = \", ssr)\n",
    "var_u <- ssr/(532 - 3 - 1)\n",
    "se_u <- sqrt(var_u)\n",
    "paste0(\"sigma_hat = \", round(se_u,3))\n"
   ]
  },
  {
   "cell_type": "markdown",
   "metadata": {},
   "source": [
    "#### Predict Average hours slept per night when $educ = 10$, $exper = 4$, and $hrwage = 15$"
   ]
  },
  {
   "cell_type": "code",
   "execution_count": 3,
   "metadata": {},
   "outputs": [
    {
     "data": {
      "text/html": [
       "'Predicted Average Y when educ is 10, exper is 4, and hourly wage is 15 equals 7.60403764743343'"
      ],
      "text/latex": [
       "'Predicted Average Y when educ is 10, exper is 4, and hourly wage is 15 equals 7.60403764743343'"
      ],
      "text/markdown": [
       "'Predicted Average Y when educ is 10, exper is 4, and hourly wage is 15 equals 7.60403764743343'"
      ],
      "text/plain": [
       "[1] \"Predicted Average Y when educ is 10, exper is 4, and hourly wage is 15 equals 7.60403764743343\""
      ]
     },
     "metadata": {},
     "output_type": "display_data"
    },
    {
     "data": {
      "text/plain": [
       "\n",
       "Call:\n",
       "lm(formula = sleep_nightly ~ educ_adj + exper_adj + wage_adj, \n",
       "    data = sleepdata)\n",
       "\n",
       "Residuals:\n",
       "    Min      1Q  Median      3Q     Max \n",
       "-4.1833 -0.6140 -0.0052  0.5941  3.3239 \n",
       "\n",
       "Coefficients:\n",
       "             Estimate Std. Error t value Pr(>|t|)    \n",
       "(Intercept)  7.604038   0.187291  40.600   <2e-16 ***\n",
       "educ_adj    -0.011255   0.019477  -0.578    0.564    \n",
       "exper_adj    0.004340   0.004157   1.044    0.297    \n",
       "wage_adj    -0.012069   0.012646  -0.954    0.340    \n",
       "---\n",
       "Signif. codes:  0 ‘***’ 0.001 ‘**’ 0.01 ‘*’ 0.05 ‘.’ 0.1 ‘ ’ 1\n",
       "\n",
       "Residual standard error: 1.025 on 528 degrees of freedom\n",
       "  (174 observations deleted due to missingness)\n",
       "Multiple R-squared:  0.007316,\tAdjusted R-squared:  0.001675 \n",
       "F-statistic: 1.297 on 3 and 528 DF,  p-value: 0.2747\n"
      ]
     },
     "metadata": {},
     "output_type": "display_data"
    }
   ],
   "source": [
    "yhat <- reg$coefficients[1] + reg$coefficients[2]*10 + reg$coefficients[3]*4 + reg$coefficients[4]*15\n",
    "paste0(\"Predicted Average Y when educ is 10, exper is 4, and hourly wage is 15 equals \", yhat)\n",
    "\n",
    "sleepdata <- sleepdata %>%\n",
    "    mutate(educ_adj = educ - 10,\n",
    "          exper_adj = exper - 4,\n",
    "          wage_adj = hrwage - 15)\n",
    "\n",
    "reg_adj <- lm(sleep_nightly ~ educ_adj +exper_adj +wage_adj, data = sleepdata)\n",
    "summary(reg_adj)"
   ]
  },
  {
   "cell_type": "markdown",
   "metadata": {},
   "source": [
    "You can grab the value of the residual standard error from your `lm` object using the `sigma()` function."
   ]
  },
  {
   "cell_type": "code",
   "execution_count": 4,
   "metadata": {},
   "outputs": [
    {
     "data": {
      "text/html": [
       "1.02526600684614"
      ],
      "text/latex": [
       "1.02526600684614"
      ],
      "text/markdown": [
       "1.02526600684614"
      ],
      "text/plain": [
       "[1] 1.025266"
      ]
     },
     "metadata": {},
     "output_type": "display_data"
    }
   ],
   "source": [
    "sigma(reg_adj)"
   ]
  }
 ],
 "metadata": {
  "kernelspec": {
   "display_name": "R",
   "language": "R",
   "name": "ir"
  },
  "language_info": {
   "codemirror_mode": "r",
   "file_extension": ".r",
   "mimetype": "text/x-r-source",
   "name": "R",
   "pygments_lexer": "r",
   "version": "3.6.0"
  }
 },
 "nbformat": 4,
 "nbformat_minor": 2
}
