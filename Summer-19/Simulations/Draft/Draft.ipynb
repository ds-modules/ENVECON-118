{
 "cells": [
  {
   "cell_type": "markdown",
   "metadata": {
    "deletable": false,
    "editable": false
   },
   "source": [
    "# Midterm, Spring 2020, Villas-Boas"
   ]
  },
  {
   "cell_type": "markdown",
   "metadata": {
    "deletable": false,
    "editable": false
   },
   "source": [
    "Due <u>Thursday, March 12 at 11am</u>\n",
    "\n",
    "Submit Jupyter notebook as a pdf on [Gradescope](https://www.gradescope.com/courses/85265). Your exam submission **must be received by 11am**.\n",
    "\n",
    "*Please answer in the allocated spaces below and show all your work. This is an open book midterm (i.e. textbooks, notes, and lecture materials).*"
   ]
  },
  {
   "cell_type": "markdown",
   "metadata": {
    "deletable": false,
    "editable": false
   },
   "source": [
    "# Question 1"
   ]
  },
  {
   "cell_type": "markdown",
   "metadata": {
    "deletable": false,
    "editable": false
   },
   "source": [
    "We collected data on the number of cigarettes smoked per day Y and obtained a sample of 807 individuals. We wish to explain the variation in the number of cigarettes smoked per day as a linear model of regressors including a constant, the price of cigarettes in the state the individual lives in ($x_1$), the age of the individual ($x_2$), whether the state has restaurant smoking restrictions ($x_3=1$) or not ($x_3=0$), and also as a function of the individual’s income ($x_4$) and the education of the individual ($x_5$).\n",
    "We estimated the following model\n",
    "\n",
    "\\begin{align*} y_i = \\beta_0 + x_{1i} \\beta_1 + x_{2i} \\beta_2 + x_{3i} \\beta_3 +  x_{4i} \\beta_4 +  x_{5i} \\beta_5 + u_i\\end{align*}\n",
    "\n",
    "using R but the toner of the printer had some issues, so please complete all the missing numbers in the output below (show all your work).\n",
    "\n",
    "<img src=\"images/forExercise1.png\" width=\"600\"/> \n",
    "\n"
   ]
  },
  {
   "cell_type": "markdown",
   "metadata": {},
   "source": [
    "**a)** Add you answer to a) here."
   ]
  },
  {
   "cell_type": "markdown",
   "metadata": {},
   "source": [
    "**b)** Add you answer to b) here."
   ]
  },
  {
   "cell_type": "markdown",
   "metadata": {},
   "source": [
    "**c)** Add you answer to c) here."
   ]
  },
  {
   "cell_type": "markdown",
   "metadata": {},
   "source": [
    "**d)** Add you answer to d) here."
   ]
  },
  {
   "cell_type": "markdown",
   "metadata": {
    "deletable": false,
    "editable": false
   },
   "source": [
    "# Question 2"
   ]
  },
  {
   "cell_type": "markdown",
   "metadata": {
    "deletable": false,
    "editable": false
   },
   "source": [
    "**a)** Please test the null that, given the other factors in the regression, an increase in the cigarettes’ price (by one unit) has no effect on the number of cigarettes smoked per day at the 10 percent significance level against a two-sided alternative (State the null hypothesis and then do the five steps)."
   ]
  },
  {
   "cell_type": "markdown",
   "metadata": {},
   "source": [
    "**a)** Add you answer to a) here."
   ]
  },
  {
   "cell_type": "markdown",
   "metadata": {
    "deletable": false,
    "editable": false
   },
   "source": [
    "**b)** Please test the null that, holding all else constant, one more year of education is associated with -0.4 cigarettes per day against a two-sided alternative at the 5 percent significance level (do the five steps).\n",
    "\n"
   ]
  },
  {
   "cell_type": "markdown",
   "metadata": {},
   "source": [
    "**b)** Add you answer to b) here."
   ]
  },
  {
   "cell_type": "markdown",
   "metadata": {
    "deletable": false,
    "editable": false
   },
   "source": [
    "**c)** Please interpret the estimate for the coefficient of education (discussing Sign, Size, and Significance)"
   ]
  },
  {
   "cell_type": "markdown",
   "metadata": {},
   "source": [
    "**c)** Add your answer to c) here."
   ]
  },
  {
   "cell_type": "markdown",
   "metadata": {
    "deletable": false,
    "editable": false
   },
   "source": [
    "**d)** Please provide evidence of whether your model is explaining the variation in the data of the number of cigarettes smoked well."
   ]
  },
  {
   "cell_type": "markdown",
   "metadata": {},
   "source": [
    "**d)** Add your answer to d) here."
   ]
  },
  {
   "cell_type": "markdown",
   "metadata": {
    "deletable": false,
    "editable": false
   },
   "source": [
    "# Question 3"
   ]
  },
  {
   "cell_type": "markdown",
   "metadata": {
    "deletable": false,
    "editable": false
   },
   "source": [
    "We estimated the following model\n",
    "\n",
    "\\begin{align*} y_i = \\beta_0 + x_{1i} \\beta_1 + x_{2i} \\beta_2 + x_{3i} \\beta_3 +  x_{4i} \\beta_4 + u_i\\end{align*}\n",
    "\n",
    "using R and omitted the variable education. The parameter for the variable of whether the individual lives in a state with restaurant smoking restrictions is now \n",
    "\n",
    "\n",
    "|$~~$ | $\\hat\\beta_3~~~~$ | $se(\\hat\\beta_3)$ | t-stat|\n",
    "|-----|--------------|---------------------|--|\n",
    "| $~~~~~~x_{3i} = restaurn$ | $~~~~~~~-3.028~~~~$ | $~~~~~~1.133~~~~$ | $-2.672$ |\n",
    "\n",
    "When we include education, the coefficients on restaurant restrictions and on education were equal to\n",
    "\n",
    "|$~~$ | $\\hat\\beta_3~~~~$ | $se(\\hat\\beta_3)$ | t-stat|\n",
    "|-----|--------------|---------------------|--|\n",
    "| $~~~~~~x_{3i} = restaurn$ | $~~~~~~~~~~-2.982~~~~$ | $~~~~~~1.131~~~~$ | $-2.637 $|\n",
    "| $~~~~~x_{5i} = educ$ | $~~~~~~~~~~~~-0.3680~~~~$| $~~~~~~~~~0.1692~~~~$ |$ -2.176$ |\n",
    "\n",
    "Please use this fact to explain whether the level of education is positively or negatively correlated with states having restaurant smoking restrictions (use the omitted variable bias formula).\n",
    "\n"
   ]
  },
  {
   "cell_type": "markdown",
   "metadata": {},
   "source": [
    "Add your answer to Question 3 here."
   ]
  },
  {
   "cell_type": "markdown",
   "metadata": {
    "deletable": false,
    "editable": false
   },
   "source": [
    "# Question 4\n",
    "\n",
    "The R-squared from the model in question 1 is given by $R^2 = 0.0194$. To test the hypotheses that $\\beta_2 = \\beta_3 = \\beta_4 = \\beta_5 = 0$, we ran the regression for the restricted model  $y_i = \\beta_0 + x_{1i} \\beta_1 + u_i$\n",
    "and got an R-squared of $R^2 = 0.0001296$. Use this information to do the five steps to test this null hypothesis on all these coefficients at the 5 percent significance level. "
   ]
  },
  {
   "cell_type": "markdown",
   "metadata": {},
   "source": [
    "Add your answer to Question 4 here."
   ]
  },
  {
   "cell_type": "markdown",
   "metadata": {
    "deletable": false,
    "editable": false
   },
   "source": [
    "# Question 5\n",
    "\n",
    "True or False, and briefly explain why: “If we add another variable into the regression that has a 95% correlation with the level of education, then the standard errors of the education parameter will increase a lot.”"
   ]
  },
  {
   "cell_type": "markdown",
   "metadata": {},
   "source": [
    "Add your answer to Question 5 here."
   ]
  },
  {
   "cell_type": "markdown",
   "metadata": {
    "deletable": false,
    "editable": false
   },
   "source": [
    "# Question 6\n",
    "\n",
    "Let $p$ be the true unknown proportion in the population of students that prefer to take midterms online. We define the sample estimate of the proportion of individuals that answer yes ($x_i = 1$) that they wish to take online as  $$\\hat p = \\frac{\\sum_{i}^N x_i}{N}$$\n",
    ".  There are 60 individuals that stated they wish to take a midterm online among a sample of N=80 students that responded to a survey sent to them recently."
   ]
  },
  {
   "cell_type": "markdown",
   "metadata": {
    "deletable": false,
    "editable": false
   },
   "source": [
    "**a)** Please estimate $\\hat p$ in this sample."
   ]
  },
  {
   "cell_type": "markdown",
   "metadata": {},
   "source": [
    "**a)** Add your answer to a) here."
   ]
  },
  {
   "cell_type": "markdown",
   "metadata": {
    "deletable": false,
    "editable": false
   },
   "source": [
    "**b)** What is the variance of $\\hat p$?"
   ]
  },
  {
   "cell_type": "markdown",
   "metadata": {},
   "source": [
    "**b)** add your answer to b) here."
   ]
  },
  {
   "cell_type": "markdown",
   "metadata": {
    "deletable": false,
    "editable": false
   },
   "source": [
    "**c)** Construct a 95% confidence interval for $p$ given the sample estimate you obtained."
   ]
  },
  {
   "cell_type": "markdown",
   "metadata": {},
   "source": [
    "**c)** add your answer to c) here."
   ]
  },
  {
   "cell_type": "markdown",
   "metadata": {
    "deletable": false,
    "editable": false
   },
   "source": [
    "**d)** If we want to construct a 99% confidence interval would this interval be wider or narrower? Explain briefly."
   ]
  },
  {
   "cell_type": "markdown",
   "metadata": {},
   "source": [
    "**d)** add your answer to d) here."
   ]
  }
 ],
 "metadata": {
  "kernelspec": {
   "display_name": "R",
   "language": "R",
   "name": "ir"
  },
  "language_info": {
   "codemirror_mode": "r",
   "file_extension": ".r",
   "mimetype": "text/x-r-source",
   "name": "R",
   "pygments_lexer": "r",
   "version": "3.6.1"
  }
 },
 "nbformat": 4,
 "nbformat_minor": 4
}
