{
 "cells": [
  {
   "cell_type": "markdown",
   "metadata": {},
   "source": [
    "# Section 2\n",
    "\n",
    "Today's section will help familiarize ourselves with some more __R__ functions, improve our ability to manipulate and summarize data, and will spend some time getting more familiar with our regression output.\n",
    "\n",
    "\n",
    "For today, let's load a few packages and read in a dataset on sleep quality and time allocation for 706 individuals. This dataset is saved to the section folder as `sleep75.dta`. "
   ]
  },
  {
   "cell_type": "code",
   "execution_count": null,
   "metadata": {},
   "outputs": [],
   "source": [
    "library(tidyverse)\n",
    "library(haven)\n",
    "sleepdata <- read_dta(\"sleep75.dta\")"
   ]
  },
  {
   "cell_type": "markdown",
   "metadata": {},
   "source": [
    "## Grouping Data\n",
    "\n",
    "Sometimes we may want to group our data by values of certain variables. For example, if we have data on automobile accidents and speed limits across states, we might want to group our data at the state level and look at how factors differ across states.\n",
    "\n",
    "We can group data using __tidyverse__'s `group_by()` function. The function takes two arguments: first the name of the data, second the variable to group on: `group_by(data, varname)`"
   ]
  },
  {
   "cell_type": "code",
   "execution_count": null,
   "metadata": {},
   "outputs": [],
   "source": []
  },
  {
   "cell_type": "markdown",
   "metadata": {},
   "source": [
    "## Pipes\n",
    "\n",
    "As we start wanting to generate more specific summary statistics that require multiple coding steps, it can get tedious (and memory-intensive) to constantly have to assign objects to memory in each intermediate step.\n",
    "\n",
    "For an example, let's load in data on sleep quality and time allocation for 706 individuals. This dataset is saved to the section folder as `sleep75.dta`. \n",
    "\n",
    "Let's consider the variable `sleep`, the minutes slept at night per week. If we were interested in altering it to keep track of hours per night and also wanted to obtain summary statistics by whether individuals are in good or excellent health (`gdhlth = 1`), we could do it in the following way\n"
   ]
  },
  {
   "cell_type": "code",
   "execution_count": 3,
   "metadata": {},
   "outputs": [
    {
     "data": {
      "text/html": [
       "<table>\n",
       "<caption>A tibble: 6 × 9</caption>\n",
       "<thead>\n",
       "\t<tr><th scope=col>totexp</th><th scope=col>foodexp</th><th scope=col>energyexp</th><th scope=col>hhsize</th><th scope=col>nrooms</th><th scope=col>rural</th><th scope=col>indigenous</th><th scope=col>femalehead</th><th scope=col>kids</th></tr>\n",
       "\t<tr><th scope=col>&lt;dbl&gt;</th><th scope=col>&lt;dbl&gt;</th><th scope=col>&lt;dbl&gt;</th><th scope=col>&lt;dbl&gt;</th><th scope=col>&lt;dbl&gt;</th><th scope=col>&lt;dbl&gt;</th><th scope=col>&lt;dbl&gt;</th><th scope=col>&lt;dbl&gt;</th><th scope=col>&lt;dbl&gt;</th></tr>\n",
       "</thead>\n",
       "<tbody>\n",
       "\t<tr><td>31429.906</td><td>14200.739</td><td>247.0</td><td>4</td><td>4</td><td>1</td><td>0</td><td>0</td><td>2</td></tr>\n",
       "\t<tr><td> 5598.218</td><td> 2684.173</td><td>  6.0</td><td>1</td><td>1</td><td>1</td><td>1</td><td>1</td><td>0</td></tr>\n",
       "\t<tr><td>26099.916</td><td> 6004.517</td><td>250.5</td><td>3</td><td>4</td><td>0</td><td>0</td><td>1</td><td>0</td></tr>\n",
       "\t<tr><td>10849.955</td><td> 5180.582</td><td> 35.0</td><td>3</td><td>1</td><td>1</td><td>0</td><td>0</td><td>1</td></tr>\n",
       "\t<tr><td>65354.637</td><td>26290.994</td><td> 66.0</td><td>4</td><td>2</td><td>0</td><td>0</td><td>0</td><td>0</td></tr>\n",
       "\t<tr><td>33261.453</td><td>13266.268</td><td>142.0</td><td>5</td><td>3</td><td>1</td><td>0</td><td>0</td><td>3</td></tr>\n",
       "</tbody>\n",
       "</table>\n"
      ],
      "text/latex": [
       "A tibble: 6 × 9\n",
       "\\begin{tabular}{r|lllllllll}\n",
       " totexp & foodexp & energyexp & hhsize & nrooms & rural & indigenous & femalehead & kids\\\\\n",
       " <dbl> & <dbl> & <dbl> & <dbl> & <dbl> & <dbl> & <dbl> & <dbl> & <dbl>\\\\\n",
       "\\hline\n",
       "\t 31429.906 & 14200.739 & 247.0 & 4 & 4 & 1 & 0 & 0 & 2\\\\\n",
       "\t  5598.218 &  2684.173 &   6.0 & 1 & 1 & 1 & 1 & 1 & 0\\\\\n",
       "\t 26099.916 &  6004.517 & 250.5 & 3 & 4 & 0 & 0 & 1 & 0\\\\\n",
       "\t 10849.955 &  5180.582 &  35.0 & 3 & 1 & 1 & 0 & 0 & 1\\\\\n",
       "\t 65354.637 & 26290.994 &  66.0 & 4 & 2 & 0 & 0 & 0 & 0\\\\\n",
       "\t 33261.453 & 13266.268 & 142.0 & 5 & 3 & 1 & 0 & 0 & 3\\\\\n",
       "\\end{tabular}\n"
      ],
      "text/markdown": [
       "\n",
       "A tibble: 6 × 9\n",
       "\n",
       "| totexp &lt;dbl&gt; | foodexp &lt;dbl&gt; | energyexp &lt;dbl&gt; | hhsize &lt;dbl&gt; | nrooms &lt;dbl&gt; | rural &lt;dbl&gt; | indigenous &lt;dbl&gt; | femalehead &lt;dbl&gt; | kids &lt;dbl&gt; |\n",
       "|---|---|---|---|---|---|---|---|---|\n",
       "| 31429.906 | 14200.739 | 247.0 | 4 | 4 | 1 | 0 | 0 | 2 |\n",
       "|  5598.218 |  2684.173 |   6.0 | 1 | 1 | 1 | 1 | 1 | 0 |\n",
       "| 26099.916 |  6004.517 | 250.5 | 3 | 4 | 0 | 0 | 1 | 0 |\n",
       "| 10849.955 |  5180.582 |  35.0 | 3 | 1 | 1 | 0 | 0 | 1 |\n",
       "| 65354.637 | 26290.994 |  66.0 | 4 | 2 | 0 | 0 | 0 | 0 |\n",
       "| 33261.453 | 13266.268 | 142.0 | 5 | 3 | 1 | 0 | 0 | 3 |\n",
       "\n"
      ],
      "text/plain": [
       "  totexp    foodexp   energyexp hhsize nrooms rural indigenous femalehead kids\n",
       "1 31429.906 14200.739 247.0     4      4      1     0          0          2   \n",
       "2  5598.218  2684.173   6.0     1      1      1     1          1          0   \n",
       "3 26099.916  6004.517 250.5     3      4      0     0          1          0   \n",
       "4 10849.955  5180.582  35.0     3      1      1     0          0          1   \n",
       "5 65354.637 26290.994  66.0     4      2      0     0          0          0   \n",
       "6 33261.453 13266.268 142.0     5      3      1     0          0          3   "
      ]
     },
     "metadata": {},
     "output_type": "display_data"
    }
   ],
   "source": [
    "library(tidyverse)\n",
    "library(haven)\n",
    "sleepdata <- read_dta(\"sleep75.dta\")\n",
    "\n",
    "sleepdata <- mutate(sleepdata, hrs_night = sleep/(7*60))\n",
    "sleepdata_goodhealth <- filter(sleepdata, gdhlth == 1)\n",
    "sleepdata_poorhealth <- filter(sleepdata, gdhlth == 0)\n",
    "\n",
    "summarize(sleepdata_goodhealth, mean_hours = mean(hrs_night), min_hours = min(hrs_night), max = max(hrs_night), count_goodhealth = n())\n",
    "summarize(sleepdata_badhealth, mean_hours = mean(hrs_night), min_hours = min(hrs_night), max = max(hrs_night), count_badhealth = n())\n"
   ]
  },
  {
   "cell_type": "markdown",
   "metadata": {},
   "source": [
    "To get summary statistics on hours slept per night for each of the good and poor health groups, we had to use `filter()` to subset the data on health quality, store those subsets in data, and then generate summary statistics for each subset individually. \n",
    "\n",
    "`tidyverse` has a fantastic alternative that helps us skip these intermediate steps: a pipe `%>%`. The way the pipe (`%>%`) works is by taking the output from one expression and plugging it into the next expression (defaulting to the first argument in the second expression). For instance, we could rewrite the above code using pipes in fewer lines and without having to store our intermediate data:"
   ]
  },
  {
   "cell_type": "code",
   "execution_count": null,
   "metadata": {},
   "outputs": [],
   "source": [
    "sleepdata %>%\n",
    "    mutate(hrs_night = sleep/(7*60)) %>%\n",
    "    group_by(gdhlth) %>%\n",
    "    summarize(mean_hours = mean(hrs_night), min_hours = min(hrs_night), max = max(hrs_night), count = n())"
   ]
  }
 ],
 "metadata": {
  "kernelspec": {
   "display_name": "R",
   "language": "R",
   "name": "ir"
  },
  "language_info": {
   "codemirror_mode": "r",
   "file_extension": ".r",
   "mimetype": "text/x-r-source",
   "name": "R",
   "pygments_lexer": "r",
   "version": "3.6.0"
  }
 },
 "nbformat": 4,
 "nbformat_minor": 2
}
