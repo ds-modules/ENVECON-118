{
 "cells": [
  {
   "cell_type": "markdown",
   "metadata": {},
   "source": [
    "# Daily Assignment 7/16/19\n",
    "\n",
    "Use the data in hprice1.dta for this exercise.\n",
    "\n",
    "## C6.5\n",
    "\n",
    "#### 1. Estimate the model\n",
    "\n",
    "$$ \\log(price) = \\beta_0 + \\beta_1log(lotsize) + \\beta_2 \\log(sqrft) + \\beta_3 bdrms + u $$\n",
    "\n",
    "#### and report the results  in the usual OLS format."
   ]
  },
  {
   "cell_type": "code",
   "execution_count": null,
   "metadata": {},
   "outputs": [],
   "source": [
    "# Insert preamble code here (i.e. load packages, bring in data)"
   ]
  },
  {
   "cell_type": "code",
   "execution_count": 5,
   "metadata": {},
   "outputs": [],
   "source": [
    "# Insert code for Q1 here."
   ]
  },
  {
   "cell_type": "markdown",
   "metadata": {},
   "source": [
    "#### 2. Find the predicted value of $\\log(price)$, when $lotsize = 20,000$, $sqrft = 2,500$, and $bdrms = 4$. Find the predicted balue of $price$ at the same values of the explanatory variables."
   ]
  },
  {
   "cell_type": "code",
   "execution_count": 6,
   "metadata": {},
   "outputs": [],
   "source": [
    "# Insert code for Q2 here."
   ]
  },
  {
   "cell_type": "markdown",
   "metadata": {},
   "source": [
    "Add Discussion here."
   ]
  },
  {
   "cell_type": "markdown",
   "metadata": {},
   "source": [
    "#### 3. For explaining variation in price, decide whether you prefer the model from part 1. or the model\n",
    "\n",
    "$$ price = \\beta_0 + \\beta_1 lotsize + \\beta_2 sqrft + \\beta_3 dbrms + u$$"
   ]
  },
  {
   "cell_type": "code",
   "execution_count": 7,
   "metadata": {},
   "outputs": [],
   "source": [
    "# Insert code for Q3 here."
   ]
  },
  {
   "cell_type": "markdown",
   "metadata": {},
   "source": [
    "Add discussion here."
   ]
  },
  {
   "cell_type": "markdown",
   "metadata": {},
   "source": [
    "## C6.8\n",
    "\n",
    "use the data in hprice1.dta for this exercise.\n",
    "\n",
    "#### 1. Estimate the model:\n",
    "\n",
    "\n",
    "$$ price = \\beta_0 + \\beta_1 lotsize + \\beta_2 sqrft + \\beta_3 dbrms + u$$\n",
    "\n",
    "### and interpret your results, including the standard error of the regression. Obtain predicted price, when we plug in $lotsize = 10,000$, $sqrft = 2,300$ and $bdrms = 4$; round this price to the nearest dollar."
   ]
  },
  {
   "cell_type": "code",
   "execution_count": 8,
   "metadata": {},
   "outputs": [],
   "source": [
    "# Insert code for Q1 here."
   ]
  },
  {
   "cell_type": "markdown",
   "metadata": {},
   "source": [
    "Add discussion here."
   ]
  },
  {
   "cell_type": "markdown",
   "metadata": {},
   "source": [
    "#### 2. Run a regression that allows you to put a 95% confidence interval around the predicted value in part 1. Note that your prediction will differ somewhat due to rounding error.\n"
   ]
  },
  {
   "cell_type": "code",
   "execution_count": 9,
   "metadata": {},
   "outputs": [],
   "source": [
    "#Insert code for Q2 here."
   ]
  },
  {
   "cell_type": "markdown",
   "metadata": {},
   "source": [
    "Add discussion here."
   ]
  },
  {
   "cell_type": "markdown",
   "metadata": {},
   "source": [
    "#### 3. Let $price^0$ be the unknown future selling price of the house with characteristics used in parts 1. and 2. Find a 95% confidence interval for $price^0$ and comment on the width of this confidence interval.\n"
   ]
  },
  {
   "cell_type": "code",
   "execution_count": 10,
   "metadata": {},
   "outputs": [],
   "source": [
    "#Insert code for Q3 here."
   ]
  },
  {
   "cell_type": "markdown",
   "metadata": {},
   "source": [
    "Add discussion here."
   ]
  },
  {
   "cell_type": "code",
   "execution_count": 11,
   "metadata": {},
   "outputs": [],
   "source": [
    "# Another code cell, if you want to keep some stuff separate."
   ]
  },
  {
   "cell_type": "code",
   "execution_count": null,
   "metadata": {},
   "outputs": [],
   "source": [
    "# More space."
   ]
  }
 ],
 "metadata": {
  "kernelspec": {
   "display_name": "R",
   "language": "R",
   "name": "ir"
  },
  "language_info": {
   "codemirror_mode": "r",
   "file_extension": ".r",
   "mimetype": "text/x-r-source",
   "name": "R",
   "pygments_lexer": "r",
   "version": "3.6.0"
  }
 },
 "nbformat": 4,
 "nbformat_minor": 2
}
