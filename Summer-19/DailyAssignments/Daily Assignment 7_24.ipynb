{
 "cells": [
  {
   "cell_type": "markdown",
   "metadata": {},
   "source": [
    "# Daily Assignment 7/24/19\n",
    "\n",
    "Use the data in `progressa.dta` for this exercise.\n",
    "\n",
    "## Schooling Decision and Impact of the PROGRESA Program in Mexico.\n",
    "\n",
    "While primary school is almost universal in Mexico, secondary education in rural areas is trailing behind the national average, especially among poor households. In order to increase school enrollment among the youth in poor rural families, in 1998 the Mexican government introduced the PROGRESA program. The program gives cash transfers to mothers in poor households if their children attend school regularly and receive periodical medical checkups. We will use a large data set collected by this program to better understand the determinants of school enrollment and evaluate the effects of the program. As mentioned in class, for a sample of 507 villages, the program was randomly assigned to some of them.\n",
    "\n",
    "The data `progresa.dta` consist of a subset of the children 12-13 years old that have just completed primary school. (You will find a result that differ from what we saw in class because this subsample only include children that are 12-13 years old)\n",
    "\n",
    "### 1. Estimate the impact of the program on school attendance.\n",
    "\n",
    "### 2. What are the conditions for the validity of the method to measure the causal impact of the program? Proceed with the appropriate tests that support the validity of the randomization.\n",
    "\n",
    "### 3. Add variables that may influence the decision to enroll in school in the regression. Do they actually explain enrollment? Do they affect the estimated coefficient of the program? Is that what you expected, and why?\n",
    "\n",
    "### 4. Now, write a simple equation (without un-necessary variables) that allow you to test whether the impact of program is equal for boys and girls. Report the result and comment."
   ]
  },
  {
   "cell_type": "code",
   "execution_count": null,
   "metadata": {},
   "outputs": [],
   "source": [
    "# Insert code here"
   ]
  },
  {
   "cell_type": "markdown",
   "metadata": {},
   "source": [
    "Add discussion here."
   ]
  },
  {
   "cell_type": "code",
   "execution_count": 11,
   "metadata": {},
   "outputs": [],
   "source": [
    "# Another code cell, if you want to keep some stuff separate."
   ]
  },
  {
   "cell_type": "code",
   "execution_count": null,
   "metadata": {},
   "outputs": [],
   "source": [
    "# More space."
   ]
  }
 ],
 "metadata": {
  "kernelspec": {
   "display_name": "R",
   "language": "R",
   "name": "ir"
  },
  "language_info": {
   "codemirror_mode": "r",
   "file_extension": ".r",
   "mimetype": "text/x-r-source",
   "name": "R",
   "pygments_lexer": "r",
   "version": "3.6.0"
  }
 },
 "nbformat": 4,
 "nbformat_minor": 2
}
