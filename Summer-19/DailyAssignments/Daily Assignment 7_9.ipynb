{
 "cells": [
  {
   "cell_type": "markdown",
   "metadata": {},
   "source": [
    "# Daily Assignment 7/9/19 - Tests and Confidence Intervals of Regression Parameters\n",
    "\n",
    "Use the dataset _GPA.dta_ for this exercise.  Suppose we are interested in predicting college GPA for students at Michigan State University. Consider the equation:


    $$colGPA = \beta_0 + \beta_1 hsGPA + \beta_2 ACT + \beta_3 skipped + u$$\n",
    "\n",
    "where $colGPA$ is cumulative college grade point average, $hsGPA$ the student's high school grade point average, and $skipped$ is the average number of lectures skipped per week."
   ]
  },
  {
   "cell_type": "code",
   "execution_count": null,
   "metadata": {},
   "outputs": [],
   "source": [
    "# Add code here."
   ]
  },
  {
   "cell_type": "code",
   "execution_count": null,
   "metadata": {},
   "outputs": [],
   "source": [
    "# Another code cell, if you want to keep some stuff separate."
   ]
  },
  {
   "cell_type": "code",
   "execution_count": null,
   "metadata": {},
   "outputs": [],
   "source": [
    "# More space."
   ]
  }
 ],
 "metadata": {
  "kernelspec": {
   "display_name": "R",
   "language": "R",
   "name": "ir"
  },
  "language_info": {
   "codemirror_mode": "r",
   "file_extension": ".r",
   "mimetype": "text/x-r-source",
   "name": "R",
   "pygments_lexer": "r",
   "version": "3.6.0"
  }
 },
 "nbformat": 4,
 "nbformat_minor": 2
}
