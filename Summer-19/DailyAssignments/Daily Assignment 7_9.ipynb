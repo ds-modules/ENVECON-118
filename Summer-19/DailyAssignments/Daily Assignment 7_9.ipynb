{
 "cells": [
  {
   "cell_type": "markdown",
   "metadata": {},
   "source": [
    "# Daily Assignment 7/9/19 - Hypothesis Tests and Confidence Intervals with Parameters\n",
    "\n",
    "Use the dataset _GPA.dta_ for this exercise. Suppose we are interested in predicting college GPA for students at Michigan State University. Consider the equation:\n",
    "\n",
    "$$colGPA = \\beta_0 + \\beta_1hsGPA + \\beta_2ACT + \\beta_33skipped + u$$\n",
    "\n",
    "where $colGPA$ is cumulative college grade point average, $hsGPA$ the student’s high school grade point\n",
    "average, and $skipped$ is the average number of lectures skipped per week."
   ]
  },
  {
   "cell_type": "code",
   "execution_count": null,
   "metadata": {},
   "outputs": [],
   "source": [
    "# Insert preamble code here (i.e. load packages, bring in data)"
   ]
  },
  {
   "cell_type": "markdown",
   "metadata": {},
   "source": [
    "#### 1. What are your expectations for the coefficients in this equation? Which ones are you unsure about?"
   ]
  },
  {
   "cell_type": "code",
   "execution_count": null,
   "metadata": {},
   "outputs": [],
   "source": [
    "# Insert code for Q1 here."
   ]
  },
  {
   "cell_type": "markdown",
   "metadata": {},
   "source": [
    "Add Discussion here."
   ]
  },
  {
   "cell_type": "markdown",
   "metadata": {},
   "source": [
    "#### 2. Estimate the equation and report the results. Test for the hypothesis $\\beta_3 = 0$.\n"
   ]
  },
  {
   "cell_type": "code",
   "execution_count": null,
   "metadata": {},
   "outputs": [],
   "source": [
    "# Insert code for Q2 here."
   ]
  },
  {
   "cell_type": "markdown",
   "metadata": {},
   "source": [
    "Add discussion here."
   ]
  },
  {
   "cell_type": "markdown",
   "metadata": {},
   "source": [
    "#### 3. Construct a 90% confidence interval for $\\beta_3$. Interpret your results.\n"
   ]
  },
  {
   "cell_type": "code",
   "execution_count": null,
   "metadata": {},
   "outputs": [],
   "source": [
    "# Insert code for Q3 here."
   ]
  },
  {
   "cell_type": "markdown",
   "metadata": {},
   "source": [
    "Add discussion here."
   ]
  },
  {
   "cell_type": "markdown",
   "metadata": {},
   "source": [
    "#### 4. Test for the hypothesis $\\beta_1 = 0.4$ against the two-sided alternative at the 5% significance level. 5. Test for the hypothesis $\\beta_1 = 1$ against $\\beta_1 < 1$ at the 10% significance level.\n"
   ]
  },
  {
   "cell_type": "code",
   "execution_count": null,
   "metadata": {},
   "outputs": [],
   "source": [
    "#Insert code for Q4 here."
   ]
  },
  {
   "cell_type": "markdown",
   "metadata": {},
   "source": [
    "Add discussion here."
   ]
  },
  {
   "cell_type": "code",
   "execution_count": null,
   "metadata": {},
   "outputs": [],
   "source": [
    "# Another code cell, if you want to keep some stuff separate."
   ]
  },
  {
   "cell_type": "code",
   "execution_count": null,
   "metadata": {},
   "outputs": [],
   "source": [
    "# More space."
   ]
  }
 ],
 "metadata": {
  "kernelspec": {
   "display_name": "R",
   "language": "R",
   "name": "ir"
  },
  "language_info": {
   "codemirror_mode": "r",
   "file_extension": ".r",
   "mimetype": "text/x-r-source",
   "name": "R",
   "pygments_lexer": "r",
   "version": "3.6.0"
  }
 },
 "nbformat": 4,
 "nbformat_minor": 2
}
