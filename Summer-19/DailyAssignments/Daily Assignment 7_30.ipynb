{
 "cells": [
  {
   "cell_type": "markdown",
   "metadata": {},
   "source": [
    "# Daily Assignment 7/30/19\n",
    "\n",
    "Use the data in `apple.dta` for this exercise.\n",
    "\n",
    "## Willingness to Pay for Eco-friendly Apples\n",
    "\n",
    "\n",
    "The data set __apple.dta__ in Wooldridge is an interesting example of experimental data (it can suggest ideas\n",
    "for future projects). They are telephone survey data attempting to elicit the demand for a (fictional)\n",
    "“ecologically friendly” apple. Each family was randomly presented with a set of prices for both regular apples\n",
    "and eco-labeled apples. They were asked how many pounds of each kind of apple they would buy at those prices. The\n",
    "data set includes the following variables:\n",
    "\n",
    "| Variable Name | Label |\n",
    "|---------------|-------|\n",
    "| educ          | years schooling of respondent |\n",
    "|\t\tregprc  |price of regular apples (\\$/lbs) |\n",
    "|\t\tecoprc  |price of ecolabeled apples (\\$/lbs) |\n",
    "|\t\thhsize  |household size |\n",
    "|\t\tmale    |=1 if respondent is male |\n",
    "|\t\tfaminc  |family income, thousands \\$ |\n",
    "|  ecobuy       |=1 if ecolbs $>$ 0 |\n",
    "|\t\treglbs  |quantity regular apples, lbs |\n",
    "|\t\tecolbs  |quantity ecolabeled apples, lbs |\n",
    "\n",
    "These exercises relate to changing the comparison of variables included in your model. Sometimes it is useful to alter the default comparison for the sake of a test or easier interpretation.\n",
    "\n",
    "### Question 1. Estimate the following model:\n",
    "\n",
    "$$ ecolbs = \\beta_0 + \\beta_1 faminc + \\beta_2 regprc + \\beta_3 ecoprc + \\beta_4 hhsize + \\beta_5 male + \\beta_6 educ $$\n",
    "\n",
    "### Interpret $\\hat\\beta_3$, the coefficient on $ecoprc$. \n",
    "\n",
    "### Question 2. Generate the variable $eco\\_diff = ecoprc - regprc$. Estimate the model \n",
    "\n",
    "$$ ecolbs = \\beta_0 + \\beta_1 faminc + \\beta_2 regprc + \\beta_3 eco\\_diff + \\beta_4 hhsize + \\beta_5 male + \\beta_6 educ $$\n",
    "\n",
    "### Is the coefficient on $eco\\_diff$ different than the coefficient on $ecoprc$ in the previous model? What about $regprc$? How has the interpretation of $\\hat\\beta_3$ changed from the first model? \n",
    "\n",
    "### Question 3. Estimate the model of Question 2, but replacing regular price with eco price:\n",
    "\n",
    "$$ ecolbs = \\beta_0 + \\beta_1 faminc + \\beta_2 ecoprc + \\beta_3 eco\\_diff + \\beta_4 hhsize + \\beta_5 male + \\beta_6 educ $$\n",
    "\n",
    "### (a) What happened to the coefficient on $eco\\_diff$? How does the coefficient on $ecoprc$ relate to the coefficient on $regprc$ in the previous model?\n",
    "\n",
    "### (b) Comment on statistical significance of the price variables across the three models. Why did it change in the way that it did?"
   ]
  },
  {
   "cell_type": "code",
   "execution_count": 15,
   "metadata": {},
   "outputs": [],
   "source": [
    "\n"
   ]
  },
  {
   "cell_type": "markdown",
   "metadata": {},
   "source": [
    "Add discussion here."
   ]
  },
  {
   "cell_type": "code",
   "execution_count": 11,
   "metadata": {},
   "outputs": [],
   "source": [
    "# Another code cell, if you want to keep some stuff separate."
   ]
  },
  {
   "cell_type": "code",
   "execution_count": null,
   "metadata": {},
   "outputs": [],
   "source": [
    "# More space."
   ]
  }
 ],
 "metadata": {
  "kernelspec": {
   "display_name": "R",
   "language": "R",
   "name": "ir"
  },
  "language_info": {
   "codemirror_mode": "r",
   "file_extension": ".r",
   "mimetype": "text/x-r-source",
   "name": "R",
   "pygments_lexer": "r",
   "version": "3.6.0"
  }
 },
 "nbformat": 4,
 "nbformat_minor": 2
}
