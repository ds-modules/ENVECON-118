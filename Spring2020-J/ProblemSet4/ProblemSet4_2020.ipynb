{
 "cells": [
  {
   "cell_type": "markdown",
   "metadata": {
    "deletable": false,
    "editable": false
   },
   "source": [
    "# Problem Set 4, Spring 2020, Villas-Boas"
   ]
  },
  {
   "cell_type": "markdown",
   "metadata": {
    "deletable": false,
    "editable": false
   },
   "source": [
    "Due <u>Friday, April 10 at 11:59pm</u>\n",
    "\n",
    "Submit materials (Jupyter notebook with all code cells run and output visible) as one pdf on [Gradescope](https://www.gradescope.com/courses/85265)."
   ]
  },
  {
   "cell_type": "markdown",
   "metadata": {
    "deletable": false,
    "editable": false
   },
   "source": [
    "The data file is `pset4_2020.dta`. This problem set is to be done using R."
   ]
  },
  {
   "cell_type": "markdown",
   "metadata": {
    "deletable": false,
    "editable": false
   },
   "source": [
    "#### Exercise 1:\n",
    "\n",
    "|Variable Name\t|\tDescription |\t\n",
    "| :----------- | :----------------------- |\n",
    "|totexp| Total medical expenditure in dollars|\n",
    "|retire | =1 if retired|\n",
    "|female | =1 if female|\n",
    "|famsze |   Size of the family|\n",
    "|age | Age|\n",
    "|marry | =1 if married|\n",
    "|income|  annual household income/1000|\n",
    "|injury |  =1 if condition is caused by an accident/injury|\n",
    "|totchr| # of chronic problems|\n",
    "|suppins| =1 if has supplemental private insurance|\n"
   ]
  },
  {
   "cell_type": "markdown",
   "metadata": {
    "deletable": false,
    "editable": false
   },
   "source": [
    "## Tips\n",
    "\n",
    "* Do **NOT** install packages on the server. All packages that you need to complete the assignment are already installed and can be loaded with the `library()` function. Trying to install packages will create conflicts and potentially require reloading a fresh copy of the notebook.\n",
    "* When submitting the notebook, do **NOT** include output of the entire dataset. This is a **large** dataset, and printing out all rows will take multiple pages of output and make it much harder for the GSIs to find your answers.\n",
    "\n",
    "* `xtable` and `stargazer` are two great packages for making tables. `xtable` is great for turning a dataframe into a table output, while `stargazer` is great for making a table of your regression results.$^2$ I recommend exploring these packages when you are making your summary statistics table and regression output table in this problem set.\n",
    "\n",
    "* If you google and find other R packages you would like to use, make sure you install them in your locally-installed RStudio. If you want to use new packages in DataHub to solve the problem set inside the Problem Set 3 notebook, let any of the GSI's know so they ask for those packages you want to use to be installed.  As mentioned, all packages that you need for this problem set are already installed and ready for use on Datahub.\n",
    "\n",
    "$^2$: `stargazer` is great for professional-looking LaTeX or postscript tables, but if you want to produce tables for your regression output in the notebook you will need to use `type = \"html\"` and then copy/paste the html output into a Markdown cell."
   ]
  },
  {
   "cell_type": "markdown",
   "metadata": {
    "deletable": false,
    "editable": false
   },
   "source": [
    "## Preamble\n",
    "\n",
    "#### Use the below code cell to load all your packages (we will use `haven()` and `tidyverse()`) and the dataset."
   ]
  },
  {
   "cell_type": "code",
   "execution_count": null,
   "metadata": {},
   "outputs": [],
   "source": []
  },
  {
   "cell_type": "markdown",
   "metadata": {
    "deletable": false,
    "editable": false
   },
   "source": [
    "## Excercise 1:"
   ]
  },
  {
   "cell_type": "markdown",
   "metadata": {
    "deletable": false,
    "editable": false
   },
   "source": [
    "### 1.\n",
    "#### Please provide a table of summary statistics for Total Medical Expenditures and for all the other variables in the data"
   ]
  },
  {
   "cell_type": "code",
   "execution_count": null,
   "metadata": {},
   "outputs": [],
   "source": []
  },
  {
   "cell_type": "markdown",
   "metadata": {
    "deletable": false,
    "editable": false
   },
   "source": [
    "### 2.\n",
    "\n",
    "#### Please graph the histogram of total expenditures per capita for respondents with total chronic conditions greater than 0. Please plot the same graph for respondents with no chronic conditions. What do you conclude in terms of similarities and differences in the histograms? (brief answer only)"
   ]
  },
  {
   "cell_type": "code",
   "execution_count": null,
   "metadata": {},
   "outputs": [],
   "source": []
  },
  {
   "cell_type": "markdown",
   "metadata": {},
   "source": [
    "Write your answer to part 2 here. "
   ]
  },
  {
   "cell_type": "markdown",
   "metadata": {
    "deletable": false,
    "editable": false
   },
   "source": [
    "### 3.\n",
    "\n",
    "#### Estimate the model of total expenditures as a linear model of a constant, age, and family size. Comment on the estimated intercept and each of the right hand side variables estimated parameters in terms of Sign, size and Significance (SSS). \n"
   ]
  },
  {
   "cell_type": "code",
   "execution_count": null,
   "metadata": {},
   "outputs": [],
   "source": []
  },
  {
   "cell_type": "markdown",
   "metadata": {},
   "source": [
    "Write your answer to part 3 here. "
   ]
  },
  {
   "cell_type": "markdown",
   "metadata": {
    "deletable": false,
    "editable": false
   },
   "source": [
    "### 4.\n",
    "\n",
    "#### In absolute terms, does the age of the respondent matter more or does family size of the respondent matter more in predicting total expenditures? (use standardized approach)\n"
   ]
  },
  {
   "cell_type": "code",
   "execution_count": null,
   "metadata": {},
   "outputs": [],
   "source": []
  },
  {
   "cell_type": "markdown",
   "metadata": {},
   "source": [
    "Write your answer to part 4 here."
   ]
  },
  {
   "cell_type": "markdown",
   "metadata": {
    "deletable": false,
    "editable": false
   },
   "source": [
    "### 5.\n",
    "\n",
    "#### Estimate the model of total expenditures on a constant, age, family size, number of chronic conditions and insurance. Test the joint significance of the family size and age at the 10 % significance.\n"
   ]
  },
  {
   "cell_type": "code",
   "execution_count": null,
   "metadata": {},
   "outputs": [],
   "source": []
  },
  {
   "cell_type": "markdown",
   "metadata": {},
   "source": [
    "Write you answer to part 5 here. "
   ]
  },
  {
   "cell_type": "markdown",
   "metadata": {
    "deletable": false,
    "editable": false
   },
   "source": [
    "### 6. \n",
    "\n",
    "#### Use a model specified by you to predict the average medical expenditures for a family with age=61, size=4, and with 2 as the number of chronic conditions. \n"
   ]
  },
  {
   "cell_type": "code",
   "execution_count": null,
   "metadata": {},
   "outputs": [],
   "source": []
  },
  {
   "cell_type": "markdown",
   "metadata": {
    "deletable": false,
    "editable": false
   },
   "source": [
    "### 7.\n",
    "\n",
    "#### Run a regression that allows you to easily obtain “inputs” for a confidence interval for that average prediction and report the 99% confidence interval.\n",
    "\n",
    "**Hint:** Generate the new x variables such that when you regress y on newx1 newx2 newx3  the constant is what you need, as we did in lecture 14.\n"
   ]
  },
  {
   "cell_type": "code",
   "execution_count": null,
   "metadata": {},
   "outputs": [],
   "source": []
  },
  {
   "cell_type": "markdown",
   "metadata": {},
   "source": [
    "Write your answer to part 6 here."
   ]
  },
  {
   "cell_type": "markdown",
   "metadata": {
    "deletable": false,
    "editable": false
   },
   "source": [
    "### 8.\n",
    "\n",
    "#### Suppose I told you I want you to construct the 99% confidence interval for my neighbor family’s predicted medical expenditures according to the model you estimated in 6 above, and I told you that his family has age =61, there are 4 of them in the household, and they have two chronic conditions. True or False? “The 99% confidence interval for his family’s medical expenses is wider than the CI you obtained in 7?” Explain briefly.\n",
    "\n",
    "**Hint:** We did this also in lectures 14 or 15\n",
    "\n"
   ]
  },
  {
   "cell_type": "code",
   "execution_count": null,
   "metadata": {},
   "outputs": [],
   "source": []
  },
  {
   "cell_type": "markdown",
   "metadata": {},
   "source": [
    "Write your answer to question 8 here. "
   ]
  },
  {
   "cell_type": "markdown",
   "metadata": {
    "deletable": false,
    "editable": false
   },
   "source": [
    "### 9.\n",
    "\n",
    "#### Would you put faith in the confidence intervals in 7 and 8, given the data you have? YES/NO? Briefly explain why or why not.\n",
    "\n"
   ]
  },
  {
   "cell_type": "markdown",
   "metadata": {},
   "source": [
    "Write your answer to question 9 here. "
   ]
  },
  {
   "cell_type": "markdown",
   "metadata": {
    "deletable": false,
    "editable": false
   },
   "source": [
    "### 10.\n",
    "\n",
    "#### Now estimate the model (10.1) of total expenditure linear on a constant, age, insurance, total chronical conditions, and square age. Consider and estimate an alternative model (10.2) of total expenditures linear on a constant, natural log of age,  and on chronic conditions, insurance. Which one do you prefer?See also lectures where we did this one lecture 14"
   ]
  },
  {
   "cell_type": "code",
   "execution_count": null,
   "metadata": {},
   "outputs": [],
   "source": []
  },
  {
   "cell_type": "markdown",
   "metadata": {},
   "source": [
    "Write your answer to question 10 here. "
   ]
  },
  {
   "cell_type": "markdown",
   "metadata": {
    "deletable": false,
    "editable": false
   },
   "source": [
    "## Excercise 2:"
   ]
  },
  {
   "cell_type": "markdown",
   "metadata": {
    "deletable": false,
    "editable": false
   },
   "source": [
    "#### Consider two models below:\n",
    "\n",
    "\\begin{align*}\n",
    "totexp&= \\beta_0+\\beta_1 age+\\beta_2 famsze+\\beta_3 totchr+ u ~~~~~~~~(A) \\\\\n",
    "ln(totexp)&= \\beta_0+\\beta_1 age+\\beta_2 famsze+\\beta_3 totchr+ u ~~~~~~~~(B) \\\\\n",
    "\\end{align*} \n"
   ]
  },
  {
   "cell_type": "markdown",
   "metadata": {
    "deletable": false,
    "editable": false
   },
   "source": [
    "### 1. \n",
    "\n",
    "#### Predict the average total medical expenditures for a 75 year old respondent living with another person (famsze=2) and with one critical medical condition, using model B. (see lecture 15)"
   ]
  },
  {
   "cell_type": "code",
   "execution_count": null,
   "metadata": {},
   "outputs": [],
   "source": []
  },
  {
   "cell_type": "markdown",
   "metadata": {},
   "source": [
    "Write your answer to part 1 here. "
   ]
  },
  {
   "cell_type": "markdown",
   "metadata": {
    "deletable": false,
    "editable": false
   },
   "source": [
    "### 2.\n",
    "\n",
    "#### Which of the models do you prefer? Show all the calculations and the required values obtained via R to answer this question.  (We did this also in lectures 15).\n"
   ]
  },
  {
   "cell_type": "code",
   "execution_count": null,
   "metadata": {},
   "outputs": [],
   "source": []
  },
  {
   "cell_type": "markdown",
   "metadata": {},
   "source": [
    "Write your answer to part 2 here. "
   ]
  },
  {
   "cell_type": "markdown",
   "metadata": {
    "deletable": false,
    "editable": false
   },
   "source": [
    "## Excercise 3:\n",
    "\n",
    "### 1.\n",
    "\n",
    "####  Estimate model B separately for respondents with supplemental insurance and for those without. Formally test whether the estimation regression should be done separately or whether we can pool the data (See lecture 17)."
   ]
  },
  {
   "cell_type": "code",
   "execution_count": null,
   "metadata": {},
   "outputs": [],
   "source": []
  },
  {
   "cell_type": "markdown",
   "metadata": {},
   "source": [
    "Write your answer to part 1 here."
   ]
  },
  {
   "cell_type": "markdown",
   "metadata": {
    "deletable": false,
    "editable": false
   },
   "source": [
    "### 2. \n",
    "\n",
    "#### I would like to know whether the effect of total chronic conditions on total medical expenditures differs depending on whether respondents have supplemental medical insurance or not. Estimate a model that enables you to test this and please interpret your findings. Compare the p value for the estimated coefficient of interest with 10 percent significance level to conclude whether you reject the null of no heterogeneity of insurance  on the effect of chronic conditions on ln(total expenditures), against a two sided alternative.\n",
    "\n",
    "**Hint:** generate the interaction you need and add to the regression.\n"
   ]
  },
  {
   "cell_type": "code",
   "execution_count": null,
   "metadata": {},
   "outputs": [],
   "source": []
  },
  {
   "cell_type": "markdown",
   "metadata": {},
   "source": [
    "Write your answer to part 2 here. "
   ]
  }
 ],
 "metadata": {
  "kernelspec": {
   "display_name": "R",
   "language": "R",
   "name": "ir"
  },
  "language_info": {
   "codemirror_mode": "r",
   "file_extension": ".r",
   "mimetype": "text/x-r-source",
   "name": "R",
   "pygments_lexer": "r",
   "version": "3.6.1"
  }
 },
 "nbformat": 4,
 "nbformat_minor": 2
}
