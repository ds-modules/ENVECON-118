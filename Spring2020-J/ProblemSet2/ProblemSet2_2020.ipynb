{
 "cells": [
  {
   "cell_type": "markdown",
   "metadata": {
    "deletable": false,
    "editable": false
   },
   "source": [
    "# Problem Set 2, Spring 2020, Villas-Boas"
   ]
  },
  {
   "cell_type": "markdown",
   "metadata": {
    "deletable": false,
    "editable": false
   },
   "source": [
    "Due <u>Tuesday, February 25 at 9:30am</u>\n",
    "\n",
    "Submit materials (Jupyter notebook with all code cells run) as one pdf on [Gradescope](https://www.gradescope.com/courses/85265)."
   ]
  },
  {
   "cell_type": "markdown",
   "metadata": {
    "deletable": false,
    "editable": false
   },
   "source": [
    "# Exercise 1: Food expenditures, food at home, away from home, in US, by region"
   ]
  },
  {
   "cell_type": "markdown",
   "metadata": {
    "deletable": false,
    "editable": false
   },
   "source": [
    "## Guidelines\n",
    "\n",
    "This exercise should be completed using R . Remember, when you want output to show in the notebook, you need to *explicitly* call the object in your R code. For example, if I want to show the mean of food at home expenditures per capita (*FAHE*), I can’t just type `MeanFAHE <- mean(FAHE)` because that will just save the output to `MeanFAHE`. Instead, I need to then type `MeanFAHE` on its own so it displays the output. __Answers that do not display any output will be graded as incorrect.__\n",
    "\n",
    "To write comments in your script (text that will display and will not be read as commands), type a `#` at the beginning of the line you want to be a comment. Use these as notes to keep track of which question you are trying to answer, the purpose of each command, etc.\n"
   ]
  },
  {
   "cell_type": "code",
   "execution_count": null,
   "metadata": {},
   "outputs": [],
   "source": [
    "# Here is an example of a comment in a code cell. Note that running this cell (shift + enter) does not do anything\n",
    "# because these lines are commented, even if there is a normal command in them. For instance,\n",
    "# 4 + 4\n",
    "# or\n",
    "# library(tidyverse)"
   ]
  },
  {
   "cell_type": "markdown",
   "metadata": {
    "deletable": false,
    "editable": false
   },
   "source": [
    "**To get started:**\n",
    "\n",
    "* This time you are opening a STATA-formatted \".dta\" file, so you will use the `read_dta()` function instead of the import function that was applied to a \".csv\" spreadsheet in Problem Set 1. You will need to load the `haven` package to do this. Your command should look like this: \n",
    "\n",
    "`DataName <- read_dta(\"file_name\")`\n",
    "\n",
    "* Exercise 1 requires both R work and written answers. Exercise 2 does not require any coding. \n",
    "\n",
    "**hint:** the function `group_by()` in the `tidyverse` package might be helpful. Section 2 Notes will give some examples of how to use the function.) The function takes two arguments: first the name of the data, second the variable whose values we want to group on: `group_by(data, varname)`. Grouping the data doesn't modify the data itself, instead it changes how the data behaves when we pass it to other `tidyverse` functions. If when we use `summarise()` on our data after using `group_by()`, we will produce separate sets of summary statistics for each level of the grouping variable. \n",
    "\n",
    "For example, if we were working with the `sleep75` dataset with information on the average time slept per night, $sleep$, and each person's gender, $male$, we could first group on gender by running `sleep75 <- group_by(gender)`. If we then wanted to look at the average sleep per night and number of observations *split by gender*, we could run `summarise(sleep75, avg_sleep = mean(sleep), count = n())` which will yield a table that has two rows of summary statistics: one row for females (`male = 0`) and one row for males (`male =1`)\n",
    "\n",
    "\n",
    "| male\t|\tavg_sleep |\t count |\n",
    "| :----------- | :----------------------- |:------|\n",
    "| 0 | 7.54 | 306 |\n",
    "| 1 | 7.67 | 400 |\n",
    "\n",
    "When you are done with the grouped commands and want to make sure you perform calculations on the entire dataset, you can use the `ungroup()` function to ungroup the data.\n"
   ]
  },
  {
   "cell_type": "markdown",
   "metadata": {
    "deletable": false,
    "editable": false
   },
   "source": [
    "## R Tips\n",
    "\n",
    "* See the Coding Bootcamp Parts 1 and 2 for some basic operations (i.e. counting observations, scatterplots, generating variables). See also all the Lecture R command files to replicate lectures where we did most of what you are asked to do here : e.g., Lecture4.R, Lecture5.R\n",
    "* The command `table()` lists all values a variable takes in the sample and the number of times it takes each value.\n",
    "* To summarize data for a specified subset of the observations, you can use `filter()` to subset the data, and then either `summary()` for simple summary statistics or `summarise()` in __tidyverse__ to generate more detailed summary statistics (as we saw in Coding Bootcamp and Problem Set 1)."
   ]
  },
  {
   "cell_type": "markdown",
   "metadata": {
    "deletable": false,
    "editable": false
   },
   "source": [
    "## Data Description\n",
    "\n",
    "The data for this exercise come from the Bureau of Labor Statistics (BLS) Consumer Expenditure Survey (CES). With special permission researchers can have access to very dissaggregate data, but anyone can access their representative consumer spending data by U.S. census region (there are nine Census Regions). In this problem set we delve into that data to provide insights into how food spending varies across the nine Census regions and how food is consumed by region (at home or away from home), and then relate food expenditures to regional characteristics. \n",
    "\n",
    "The *dataPset2.dta* file includes the following variables:\n",
    "\n",
    "|Variable Name\t|\tDescription |\t\n",
    "| :----------- | :----------------------- |\n",
    "| _region_   | U.S. census region  |\n",
    "| _ncu_\t|\tNumber of consumer units (in thousands)\t|\n",
    "| _incgross_ | Income before taxes in 2018 |\n",
    "| _incnet_\t| Income after taxes in 2018 |\n",
    "| _n_\t| Number of people per consumer unit |\n",
    "| _ncars_\t| Number of Vehicles in consumer unit in 2018 |\n",
    "| _exp_\t| Average annual expenditures of consumer unit in 2018 Dollars |\n",
    "| _fahe_\t| Food at home expenditures in 2018 |\n",
    "| _fawaye_\t| Food away from home expenditures in 2018 |"
   ]
  },
  {
   "cell_type": "markdown",
   "metadata": {
    "deletable": false,
    "editable": false
   },
   "source": [
    "## Preamble\n",
    "\n",
    "Use the below code cell to load all your packages (we'll use functions in both the `haven` and `tidyverse` packages). You can also load your data here."
   ]
  },
  {
   "cell_type": "code",
   "execution_count": null,
   "metadata": {},
   "outputs": [],
   "source": []
  },
  {
   "cell_type": "markdown",
   "metadata": {
    "deletable": false,
    "editable": false
   },
   "source": [
    "## Question 1\n",
    "\n",
    "First we would like you to become familiar with your data.\n",
    "\n",
    "(a) Please detail the following: How many US regions are in the data set? How many regions  have food away from home expenditures larger than food at home expenditures?  What is the average number of people per consumer unit in the data set?   What is the range for the variable _Ncars_ in the data? \n"
   ]
  },
  {
   "cell_type": "code",
   "execution_count": null,
   "metadata": {
    "deletable": false
   },
   "outputs": [],
   "source": [
    "# Write your code for part (a) here"
   ]
  },
  {
   "cell_type": "markdown",
   "metadata": {
    "deletable": false
   },
   "source": [
    "Write your answer for part (a) here"
   ]
  },
  {
   "cell_type": "markdown",
   "metadata": {
    "deletable": false,
    "editable": false
   },
   "source": [
    "(b) Construct a variable `totexp_dlr_pc` equal to total expenditures __per capita in USD__ which is equal to total expenditures by consumer unit divided by Number of people in the consumer unit. You will need to create this new variable in R. Plot a histogram of this constructed variable. What is the range of total expenditures per capita in the US in 2018?\n"
   ]
  },
  {
   "cell_type": "code",
   "execution_count": null,
   "metadata": {
    "deletable": false
   },
   "outputs": [],
   "source": [
    "# Write your code for part (b) here"
   ]
  },
  {
   "cell_type": "markdown",
   "metadata": {
    "deletable": false
   },
   "source": [
    "Write your answer for part (b) here"
   ]
  },
  {
   "cell_type": "markdown",
   "metadata": {
    "deletable": false,
    "editable": false
   },
   "source": [
    "(c) Calculate the proportion of household expenditures spent on food. You will need to create this new variable. What is the mean? What is the median? "
   ]
  },
  {
   "cell_type": "code",
   "execution_count": null,
   "metadata": {
    "deletable": false
   },
   "outputs": [],
   "source": [
    "# Write your code for part (c) here"
   ]
  },
  {
   "cell_type": "markdown",
   "metadata": {
    "deletable": false
   },
   "source": [
    "Write your answer for part (c) here"
   ]
  },
  {
   "cell_type": "markdown",
   "metadata": {
    "deletable": false,
    "editable": false
   },
   "source": [
    "(d) Calculate the proportion of household net income spent on food. Note that you need to first create Total Food expenditures in 2018 given the available data (call this new variable $foodExp$), and then with that create the share of net income spent on food. You will need to create this new variable in R. What is the mean? What is the median? "
   ]
  },
  {
   "cell_type": "code",
   "execution_count": null,
   "metadata": {
    "deletable": false
   },
   "outputs": [],
   "source": [
    "# Write your code for part (d) here"
   ]
  },
  {
   "cell_type": "markdown",
   "metadata": {
    "deletable": false
   },
   "source": [
    "Write your answer for part (d) here"
   ]
  },
  {
   "cell_type": "markdown",
   "metadata": {
    "deletable": false,
    "editable": false
   },
   "source": [
    "## Question 2\n",
    "\n",
    "Consider the following two models of food expenditures and net income (where $INC$ is the net income variable in our data):\n",
    "\n",
    "\\begin{align}\n",
    "FAWAYE &= \\beta_0 + \\beta_1 INC + u~~~~~~~~~~~~~~~~~~~~~~~~~~~~~~~~~~~~(1)\n",
    "\\end{align}\n",
    "\n",
    "\\begin{align}\n",
    "~~~~~~~~FAHE &= \\beta_0 + \\beta_1 INC + u ~~~~~~~~~~~~~~~~~~~~~~~~~~~~~~~~~~~~ (2)~~\n",
    "\\end{align}\n"
   ]
  },
  {
   "cell_type": "markdown",
   "metadata": {
    "deletable": false,
    "editable": false
   },
   "source": [
    "(a) Estimate the two models in R with the `lm()` command. Interpret your $\\hat \\beta_1$ coefficients for both models, remembering the triplet **S**(ign), **S**(ignificance), **S**(ize), though you don't need to comment on significance in this problem set. \n",
    "\n",
    "**Make sure you run all code cells and the corresponding output appears in your notebook before submitting online.**"
   ]
  },
  {
   "cell_type": "code",
   "execution_count": null,
   "metadata": {
    "deletable": false
   },
   "outputs": [],
   "source": [
    "# Write you code for part (a) here."
   ]
  },
  {
   "cell_type": "markdown",
   "metadata": {
    "deletable": false
   },
   "source": [
    "Write your answer for part (a) here."
   ]
  },
  {
   "cell_type": "markdown",
   "metadata": {
    "deletable": false,
    "editable": false
   },
   "source": [
    "(b) How well does total net income predict (i) food at home expenditures, and (ii) food away from home expenditures?"
   ]
  },
  {
   "cell_type": "code",
   "execution_count": null,
   "metadata": {
    "deletable": false
   },
   "outputs": [],
   "source": [
    "# Write your code for part (b) here."
   ]
  },
  {
   "cell_type": "markdown",
   "metadata": {
    "deletable": false
   },
   "source": [
    "Write your answer for part (b) here."
   ]
  },
  {
   "cell_type": "markdown",
   "metadata": {
    "deletable": false,
    "editable": false
   },
   "source": [
    "(c) What are the predicted levels of Food Away From Home expenditures for a consumer unit with total annual  income of 100,000 dollars? \n",
    "    \n",
    "\n"
   ]
  },
  {
   "cell_type": "code",
   "execution_count": null,
   "metadata": {
    "deletable": false
   },
   "outputs": [],
   "source": [
    "# Write your code for part (c) here."
   ]
  },
  {
   "cell_type": "markdown",
   "metadata": {
    "deletable": false
   },
   "source": [
    "Write your answer for part (c) here."
   ]
  },
  {
   "cell_type": "markdown",
   "metadata": {
    "deletable": false,
    "editable": false
   },
   "source": [
    "## Question 3\n",
    "\n",
    "You already created Total Food expenditures in 2018 ($foodExp$) given the available data. Consider the following model of food expenditures, where *INC* is net income in the data:\n",
    "\n",
    "\\begin{align}\n",
    "\\log(foodExp)= \\beta_0 +\\beta_1\\log(INC) +u ~~~~~~~~~~~~~~(3)\n",
    "\\end{align}"
   ]
  },
  {
   "cell_type": "markdown",
   "metadata": {
    "deletable": false,
    "editable": false
   },
   "source": [
    "(a) Estimate the model, and interpret your $\\hat \\beta_1$ coefficient."
   ]
  },
  {
   "cell_type": "code",
   "execution_count": null,
   "metadata": {
    "deletable": false
   },
   "outputs": [],
   "source": [
    "# Write your code for part (a) here."
   ]
  },
  {
   "cell_type": "markdown",
   "metadata": {
    "deletable": false
   },
   "source": [
    "Write your answer for part (a) here."
   ]
  },
  {
   "cell_type": "markdown",
   "metadata": {
    "deletable": false,
    "editable": false
   },
   "source": [
    "(b) Using the results from estimating equation (3), how would you expect food expenditure to change if total income increases by 25%?"
   ]
  },
  {
   "cell_type": "code",
   "execution_count": null,
   "metadata": {
    "deletable": false
   },
   "outputs": [],
   "source": [
    "# Write your code for part (b) here."
   ]
  },
  {
   "cell_type": "markdown",
   "metadata": {
    "deletable": false
   },
   "source": [
    "Write your answer for part (b) here."
   ]
  },
  {
   "cell_type": "markdown",
   "metadata": {
    "deletable": false,
    "editable": false
   },
   "source": [
    "## Question 4\n",
    "\n",
    "\n",
    "We will now explore the role of consumer unit size in total food expenditures.  \n",
    "\n",
    "\\begin{align}\n",
    "\\log(FoodExp)&=\\beta_0 +\\beta_1\\log(INC) +\\beta_2 \\log (N) +u  ~~~~(4)\n",
    "\\end{align}"
   ]
  },
  {
   "cell_type": "markdown",
   "metadata": {
    "deletable": false,
    "editable": false
   },
   "source": [
    "(a) Estimate equation (4), and interpret your $\\hat \\beta_0$, $\\hat \\beta_1$ and $\\hat \\beta_2$ coefficients. "
   ]
  },
  {
   "cell_type": "code",
   "execution_count": null,
   "metadata": {
    "deletable": false
   },
   "outputs": [],
   "source": [
    "# Write your code for part (a) here."
   ]
  },
  {
   "cell_type": "markdown",
   "metadata": {
    "deletable": false
   },
   "source": [
    "Write your answer for part (a) here."
   ]
  },
  {
   "cell_type": "markdown",
   "metadata": {
    "deletable": false,
    "editable": false
   },
   "source": [
    "(b) How did your estimate $\\hat\\beta_1$ change between equation (3) and equation (4)? Without performing any\n",
    "calculations, what information does this give you about the correlation between net income and\n",
    "consumer unit size? (Explain your reasoning in no more than 4 sentences.)"
   ]
  },
  {
   "cell_type": "markdown",
   "metadata": {
    "deletable": false
   },
   "source": [
    "Write your answer for part (b) here."
   ]
  },
  {
   "cell_type": "markdown",
   "metadata": {
    "deletable": false,
    "editable": false
   },
   "source": [
    "(c) Predict the expected value of food expenditure for a consumer unit with 3 members and total net\n",
    "income of \\$90,000 using your estimates from equation (4)."
   ]
  },
  {
   "cell_type": "code",
   "execution_count": null,
   "metadata": {
    "deletable": false
   },
   "outputs": [],
   "source": [
    "# Write your code for part (c) here."
   ]
  },
  {
   "cell_type": "markdown",
   "metadata": {
    "deletable": false
   },
   "source": [
    "Write your answer for part (c) here."
   ]
  },
  {
   "cell_type": "markdown",
   "metadata": {
    "deletable": false,
    "editable": false
   },
   "source": [
    "# Exercise 2. Demand for Multivitamins"
   ]
  },
  {
   "cell_type": "markdown",
   "metadata": {
    "deletable": false,
    "editable": false
   },
   "source": [
    "Many researchers have attempted to estimate important determinants of demand for vitamins. Suppose\n",
    "a researcher was interested in the effect of price of a bottle of vitamins on quantity purchased of vitamins.\n",
    "One could estimate such a regression as follows:\n",
    "\n",
    "\\begin{align}\n",
    "~~~~~~~~~~~~~~~~ Q_j = \\beta_0 + \\beta_1 Price_j + \\beta_2 Education_j + u_{ij}~~~~~~~~~~~~~~~~(1)\n",
    "\\end{align}\n",
    "\n",
    "where $Q_j$ corresponds to the quantity of vitamins sold in region $j$, $Education_j$ is the level of education in\n",
    "region $j$, and $Price_j$ is the price of vitamins in region $j$.\n"
   ]
  },
  {
   "cell_type": "markdown",
   "metadata": {
    "deletable": false,
    "editable": false
   },
   "source": [
    "(a) What do you expect the sign of $\\beta_1$ to be in equation (1)? Why?"
   ]
  },
  {
   "cell_type": "markdown",
   "metadata": {
    "deletable": false
   },
   "source": [
    "Write your answer for part (a) here."
   ]
  },
  {
   "cell_type": "markdown",
   "metadata": {
    "deletable": false,
    "editable": false
   },
   "source": [
    "(b) List three other factors that could influence whether the quantity sold of vitamins increases."
   ]
  },
  {
   "cell_type": "markdown",
   "metadata": {
    "deletable": false
   },
   "source": [
    "Write your answer for part (b) here."
   ]
  },
  {
   "cell_type": "markdown",
   "metadata": {
    "deletable": false,
    "editable": false
   },
   "source": [
    "(c) What would happen to $\\beta_1$ if you omit education from the estimation? Explain (very briefly) why."
   ]
  },
  {
   "cell_type": "markdown",
   "metadata": {
    "deletable": false
   },
   "source": [
    "Write your answer for part (c) here."
   ]
  },
  {
   "cell_type": "markdown",
   "metadata": {
    "deletable": false,
    "editable": false
   },
   "source": [
    "(d) Give an example of one factor that would induce $\\beta_1$ to be biased. State the direction of the bias\n",
    "and how you determined that direction."
   ]
  },
  {
   "cell_type": "markdown",
   "metadata": {
    "deletable": false
   },
   "source": [
    "Write your answer for part (d) here."
   ]
  },
  {
   "cell_type": "markdown",
   "metadata": {
    "deletable": false,
    "editable": false
   },
   "source": [
    "(e) What are the four conditions that must be satisfied for $\\beta_1$ to be unbiased? Explain whether you\n",
    "believe each assumption is satisfied, and why or why not (suppose we used supermarket data on the quantities and prices of multivitamins across regions to estimate $\\beta_1$)"
   ]
  },
  {
   "cell_type": "markdown",
   "metadata": {
    "deletable": false
   },
   "source": [
    "Write your answer for part (e) here."
   ]
  },
  {
   "cell_type": "markdown",
   "metadata": {
    "deletable": false,
    "editable": false
   },
   "source": [
    "### Submitting\n",
    "\n",
    "Save a completed version of your notebook as a pdf by \n",
    "going to **File > Download As > PDF Via Chrome** in the menu. You will use **PDF Via Chrome** regardless of the web browser you are on). \n",
    "\n",
    "**Important:** Make sure that all coding cells are run before submission. You can easily do this by going to **Cell > Run All** and then checking to make sure the correct output is displayed."
   ]
  }
 ],
 "metadata": {
  "kernelspec": {
   "display_name": "R",
   "language": "R",
   "name": "ir"
  },
  "language_info": {
   "codemirror_mode": "r",
   "file_extension": ".r",
   "mimetype": "text/x-r-source",
   "name": "R",
   "pygments_lexer": "r",
   "version": "3.6.1"
  }
 },
 "nbformat": 4,
 "nbformat_minor": 2
}
