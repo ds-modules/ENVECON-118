{
 "cells": [
  {
   "cell_type": "markdown",
   "metadata": {},
   "source": [
    "# Problem Set 3, Spring 2020, Villas-Boas"
   ]
  },
  {
   "cell_type": "markdown",
   "metadata": {},
   "source": [
    "Due <u>Tuesday, March 17 at 9:30am</u>\n",
    "\n",
    "Submit materials (Jupyter notebook with all code cells run) as one pdf on [Gradescope](https://www.gradescope.com/courses/85265)."
   ]
  },
  {
   "cell_type": "markdown",
   "metadata": {},
   "source": [
    "# Exercise 1: The Value of Environmental Services"
   ]
  },
  {
   "cell_type": "markdown",
   "metadata": {},
   "source": [
    "## Background\n",
    "\n",
    "This exercise is based on the paper [Does Hazardous Waste Matter? Evidence from the Housing Market and the Superfund Program by Greenstone and Gallagher 2008](https://academic.oup.com/qje/article-abstract/123/3/951/1928203?redirectedFrom=fulltext). This\n",
    "paper explores individuals’ willingness to pay (WTP) for environmental quality by observing the\n",
    "impact of increasing environmental quality on housing prices. This method is known as the hedonic\n",
    "valuation method, whereby the price of a good is determined by each of its attributes. In the case of a house, its value is determined by all of its physical characteristics (e.g., number of bedrooms) as well as the characteristics of the neighborhood in which it is located (including environmental quality). \n",
    "\n",
    "For this paper, the change in environmental quality results from the cleanup of hazardous\n",
    "waste sites. The study focuses on Superfund sites, areas designated by the US government as\n",
    "contaminated by hazardous waste and that pose a hazard to environmental/human health. The\n",
    "EPA placed certain Superfund sites on the National Priorities List (NPL), which meant that these\n",
    "sites were legally required to undergo remediation. If individuals value environmental quality, then\n",
    "housing prices should increase after nearby NPL sites are cleaned up. To determine the extent to\n",
    "which individuals value the cleanup, we can compare housing close to a hazardous waste site that\n",
    "was cleaned up to *comparable* homes near a similar waste site that was not cleaned up.\n"
   ]
  },
  {
   "cell_type": "markdown",
   "metadata": {},
   "source": [
    "## Data\n",
    "\n",
    "The data include observations on 450 census tracts that are within 2 miles of a hazardous waste site.$^1$  This includes census tracts where the site in question was on the NPL, and thus was legally required to be cleaned up, as well as those that were not on the NPL. \n",
    "\n",
    "The shared dataset contains the following variables for each census tract in the year 2000.\n",
    "\n",
    "\n",
    "|Variable Name\t|\tDescription |\t\n",
    "| :----------- | :----------------------- |\n",
    "| _fips_   | Federal Information Processing Standards (FIPS) census tract identifier  |\n",
    "| _npl_\t|\tbinary indicator for whether the site in a given census tract was placed on the NPL|\n",
    "| _lnmdvalhs_ | log median housing value |\n",
    "| _owner\\_occupied_\t| % of housing that is owner occupied |\n",
    "| _pop\\_den_\t| Population density|\n",
    "| _ba\\_or\\_better_\t| % of the population that has a Bachelors degree or higher |\n",
    "| _unemprt_\t| Unemployment rate |\n",
    "| _povrat_\t| Poverty rate |\n",
    "| _bedrms1-bedrms5_\t| % of housing with the indicated number of bedrooms |\n",
    "|  bedrms\\_3orless  |  % of housing with 3 bedrooms or less |\n",
    "|blt0\\_10yrs |% of housing $< 10$ years old |\n",
    "\n",
    "\n",
    "\n",
    "\n",
    "\n",
    "$^1$ : Census tracts are statistical subdivisions of a county that are defined by the Census Bureau to allow comparisons from census to census."
   ]
  },
  {
   "cell_type": "markdown",
   "metadata": {},
   "source": [
    "## Tips\n",
    "\n",
    "* Do **NOT** install packages on the server. All packages that you need to complete the assignment are already installedand can be loaded with the `library()` function. Trying to install packages will create conflicts and potentially require reloading a fresh copy of the notebook.\n",
    "* When submitting the notebook, do **NOT** include output of the entire dataset. This is a large dataset, and printing out all rows will take multiple pages of output and make it much harder for the GSIs to find your answers.\n",
    "\n",
    "* `xtable` and `stargazer` are two great packages for making tables. `xtable` is great for turning a dataframe into a table output, while `stargazer` is great for making a table of your regression results.$^2$ I recommend exploring these packages when you are making your summary statistics table and regression output table in this problem set.\n",
    "\n",
    "* If you google and find other R packages you would like to use, make sure you install them in your locally-installed RStudio. If you want to use new packages in DataHub to solve the problem set inside the Problem Set 3 notebook, let any of the GSI's know so they ask for those packages you want to use to be installed.  As mentioned, all packages that you need for this problem set are already installed and ready for use on Datahub.\n",
    "\n",
    "$^2$: `stargazer` is great for professional-looking LaTeX or postscript tables, but if you want to produce tables for your regression output in the notebook you will need to use `type = \"html\"` and then copy/paste the html output into a Markdown cell."
   ]
  },
  {
   "cell_type": "markdown",
   "metadata": {},
   "source": [
    "## Preamble\n",
    "\n",
    "Use the below code cell to load all your packages (we will use `haven()` and `tidyverse()`)."
   ]
  },
  {
   "cell_type": "code",
   "execution_count": 1,
   "metadata": {},
   "outputs": [],
   "source": [
    "# Use this cell to load any packages or set options."
   ]
  },
  {
   "cell_type": "markdown",
   "metadata": {},
   "source": [
    "### 1.\n",
    "Load the data. This problem set will focus on census tracts that have 50% or less homes built within the last ten years; that is for $blt0\\_ 10yrs <=0.5$. So first open the original data (`Greenstone_Gallagher_PS3.dta`) and create a subset of the data to be used in this problem set. Call this data frame in R  $my\\_dataPset3$.  How many observations do you lose when you focus on this subset of the data?\n",
    "\n",
    "*Hint:* use `filter(data, condition)`"
   ]
  },
  {
   "cell_type": "code",
   "execution_count": null,
   "metadata": {},
   "outputs": [],
   "source": [
    "# Add any code for part 1 here."
   ]
  },
  {
   "cell_type": "markdown",
   "metadata": {},
   "source": [
    "Add any written answer for part 1 here."
   ]
  },
  {
   "cell_type": "markdown",
   "metadata": {},
   "source": [
    "### 2.\n",
    "Briefly describe your $my\\_dataPset3$ data set. Since these data use the impact of the NPL to estimate WTP for environmental services, you \n",
    "1. Want to look at the number of census tracts in both the NPL group and the non-NPL group (and the number in the sample overall),\n",
    "2. What is the average home value in npl=1 and in npl=0 groups. and \n",
    "3. Compare the means of at least 4 characteristics (covariates like unemployment) of these census tracts across the two groups. By compare, we mean report them and discuss whether they are similar across groups, and why you might expect such a result (no need to test formally if means of 4 co variates are similar).\n",
    "\n",
    "(Hint: use `group_by()` and `summarise()` to obtain separate summary statistics according to the value of $npl$)"
   ]
  },
  {
   "cell_type": "code",
   "execution_count": 2,
   "metadata": {},
   "outputs": [],
   "source": [
    "# Add your code for part 2 here."
   ]
  },
  {
   "cell_type": "markdown",
   "metadata": {},
   "source": [
    "Add any written answer for part 2 here."
   ]
  },
  {
   "cell_type": "markdown",
   "metadata": {},
   "source": [
    "### 3.\n",
    "We will now compare (log) of housing prices across the two groups (group $npl=1 $ and $npl=0$) using the  $my\\_dataPset3$ sub dataset. Draw a histogram of the (log) median housing price for each group.  Comment on differences (be precise - and explain why the differences intuitively make sense).\\\\\n",
    "\n",
    "(Hint: use `hist(data$variable, main=\"Title\", xlab=\"Log(Y)\", ylab=\"Frequency\")` )\n"
   ]
  },
  {
   "cell_type": "code",
   "execution_count": 4,
   "metadata": {},
   "outputs": [],
   "source": [
    "# Add your code for part 3 here."
   ]
  },
  {
   "cell_type": "markdown",
   "metadata": {},
   "source": [
    "Add any written answer for part 3 here."
   ]
  },
  {
   "cell_type": "markdown",
   "metadata": {},
   "source": [
    "### Show work for all steps for Questions 3-6. You can use R to calculate the sample mean, variance, and \\# obs, and perform arithmetic operations (or do it by hand). No credit will be given if you use a canned confidence interval/hypothesis test function in R. Credit will be lost if you do not clearly show your steps."
   ]
  },
  {
   "cell_type": "markdown",
   "metadata": {},
   "source": [
    "### 4.\n",
    "Compute an estimate for the mean of the variable *lnmdvalhs* for the NPL group in the $my\\_dataPset3$ data frame. Construct a 90% confidence interval for this mean. Give an interpretation of these results in a sentence."
   ]
  },
  {
   "cell_type": "code",
   "execution_count": 5,
   "metadata": {},
   "outputs": [],
   "source": [
    "# Add your code for part 4 here."
   ]
  },
  {
   "cell_type": "markdown",
   "metadata": {},
   "source": [
    "Add any written answer for part 4 here."
   ]
  },
  {
   "cell_type": "markdown",
   "metadata": {},
   "source": [
    "### 5.\n",
    "Call the difference in  *lnmdvalhs* between the NPL and non-NPL groups $D$. State an estimator $\\hat D$ for $D$ and use the estimator to compute an estimate of $D$. Compute a standard error for $\\hat D$. Derive a 95% confidence interval for $D$ and interpret in a sentence."
   ]
  },
  {
   "cell_type": "code",
   "execution_count": 6,
   "metadata": {},
   "outputs": [],
   "source": [
    "# Add your code for part 5 here."
   ]
  },
  {
   "cell_type": "markdown",
   "metadata": {},
   "source": [
    "Add any written answer for part 5 here."
   ]
  },
  {
   "cell_type": "markdown",
   "metadata": {},
   "source": [
    "### 6.\n",
    "Using the $my\\_dataPset3$ data frame, test whether the log of housing values (*lnmdvalhs*) for the NPL group is statistically different at the 5\\% level from log of housing values in the non-NPL group. (Recall the 5 step-procedure for hypothesis testing)."
   ]
  },
  {
   "cell_type": "code",
   "execution_count": 7,
   "metadata": {},
   "outputs": [],
   "source": [
    "# Add your code for part 6 here."
   ]
  },
  {
   "cell_type": "markdown",
   "metadata": {},
   "source": [
    "Add any written answer for part 6 here."
   ]
  },
  {
   "cell_type": "markdown",
   "metadata": {},
   "source": [
    "### 7.\n",
    "Now, consider the case where we use one-sided test, such that the alternative hypothesis is now $H_a = D > 0$. Is there a scenario under which you would reject this null hypothesis, but not the null hypothesis in part 6? If so, what is the probability that this occurs? Use a picture in the explanation of your answer.\n"
   ]
  },
  {
   "cell_type": "markdown",
   "metadata": {},
   "source": [
    "Add any written answer for part 7 here."
   ]
  },
  {
   "cell_type": "markdown",
   "metadata": {},
   "source": [
    "### 8.\n",
    "\n",
    "Now we want to see how adding covariates on the right hand side of our equation affects the coefficient on the treatment indicator *npl*.  We run the following regressions using the data $my\\_dataPset3$ in R: \n",
    "\n",
    "\\begin{align*}\n",
    "lnmdvalhs&= \\beta_0+\\beta_1 npl+ u ~~~~~~~~~~~~~~~~~~~~~~~~~~~~~~~~~~~~~~~~~(1) \\\\\n",
    "lnmdvalhs&= \\beta_0+\\beta_1 npl+ \\beta_2  unemprt +u ~~~~~~~~~~~~~~~~~~~(2)\\\\\n",
    "lnmdvalhs&= \\beta_0+\\beta_1 npl+ \\beta_2 unemprt + \\beta_3 owner\\_occupied +u~~~~~~~~~~~~~~(3)\n",
    "\\end{align*} \n"
   ]
  },
  {
   "cell_type": "code",
   "execution_count": 11,
   "metadata": {},
   "outputs": [],
   "source": [
    "# Add your code for part 8 here."
   ]
  },
  {
   "cell_type": "markdown",
   "metadata": {},
   "source": [
    "#### (a) \n",
    "Interpret (SSS) the estimated coefficient, $\\hat \\beta_1$, that you obtain from estimating equation (1). "
   ]
  },
  {
   "cell_type": "markdown",
   "metadata": {},
   "source": [
    "Add any written answer for part 8(a) here."
   ]
  },
  {
   "cell_type": "markdown",
   "metadata": {},
   "source": [
    "#### (b)\n",
    "Looking both at $R^2$ and the evolution of $\\hat \\beta_1$ as we add variables,\n",
    "\n",
    "i) Comment on which variable matters in explaining the outcome, and which is likely correlated with the variable *npl* (go through equation by equation). \n",
    "    \n",
    "ii) What does this tell you about the how sites were selected to end up on the National Priorities List (that is, about the correlation between $npl$ and those additional variables you added? (Hint: go through the OVB formula)"
   ]
  },
  {
   "cell_type": "markdown",
   "metadata": {},
   "source": [
    "Add any written answer for part 8(b) here."
   ]
  },
  {
   "cell_type": "markdown",
   "metadata": {},
   "source": [
    "### 9.\n",
    " If you estimate \n",
    "\n",
    "\\begin{align*}\n",
    "lnmdvalhs= \\beta_0+\\beta_1 npl+ u\n",
    "\\end{align*}\n",
    "\n",
    " using the complete data set (not the subset $my\\_dataPset3$), what happens to the standard errors of the coefficient of $npl$? Explain briefly why that is. "
   ]
  },
  {
   "cell_type": "code",
   "execution_count": 12,
   "metadata": {},
   "outputs": [],
   "source": [
    "# Add your code for part 9 here."
   ]
  },
  {
   "cell_type": "markdown",
   "metadata": {},
   "source": [
    "Add any written answer for part 9 here."
   ]
  },
  {
   "cell_type": "markdown",
   "metadata": {},
   "source": [
    "## Exercise 2: Perception on Wildfires\n",
    "\n",
    "#### Note: this question does not require R. If you do use R, you must show all steps used to calculate the relevant formulas from lecture. No credit will be given if a canned routine is used. Credit will be lost if values are given and work is not shown.\n",
    "\n",
    "#### The Public Policy Institute conducts statewide surveys (across California) to collect information about a variety of topics (health, environment, political attitudes, education, wildfires and power shut offs).   In November 2019, PPIC conducted a survey on more than 1600 adults. One of the many questions was aimed to gather information about how  California voters viewed the Governor's handling of the wildfire season and the power shut offs.  They asked the following question: *Do you approve or disapprove of the way that Governor Newsom is handling the issue of wildfires and power shutoffs in California?* https://www.ppic.org/wp-content/uploads/crosstabs-all-adults-1119.pdf.\n",
    "\n",
    " Below is the percentage of respondents that do approve. We also report results broken out for two regions of residence.\n",
    "\n",
    "|               |% responding \"approve\"| Total Number of  Respondents|\n",
    "|---------------|----------------------|-----------------------------|\n",
    "|All            |            46%       |              1693           |\n",
    "|Central Valley |            40%       |              318            |\n",
    "|SF Bay Area    |            47%       |              346            |\n",
    "\n",
    "\n",
    "Consider first the overall result (all voters).  Let $p$ be the fraction of Californian voters that approve."
   ]
  },
  {
   "cell_type": "markdown",
   "metadata": {},
   "source": [
    "#####  1. Use the survey results to estimate $p$.  Also estimate the standard error of your estimate."
   ]
  },
  {
   "cell_type": "markdown",
   "metadata": {},
   "source": [
    "Add any written answer for part 1 here."
   ]
  },
  {
   "cell_type": "markdown",
   "metadata": {},
   "source": [
    "##### 2. Construct a 99% confidence interval for $p$. Interpret."
   ]
  },
  {
   "cell_type": "markdown",
   "metadata": {},
   "source": [
    "Add any written answer for part 2 here."
   ]
  },
  {
   "cell_type": "markdown",
   "metadata": {},
   "source": [
    "##### 3. Construct a 95% confidence interval for $p$.  Is it larger or narrower than the 99% confidence interval? Why?"
   ]
  },
  {
   "cell_type": "markdown",
   "metadata": {},
   "source": [
    "Add any written answer for part 3 here."
   ]
  },
  {
   "cell_type": "markdown",
   "metadata": {},
   "source": [
    "##### 4. Is there statistical evidence that more than 40% of Bay Area adults believe that the governor did well? Use the 5 steps for hypothesis testing with a 5% significance level."
   ]
  },
  {
   "cell_type": "markdown",
   "metadata": {},
   "source": [
    "Add any written answer for part 4 here."
   ]
  },
  {
   "cell_type": "markdown",
   "metadata": {},
   "source": [
    "##### 5. Is there statistical evidence that the SF Bay Area adults are more likely to approve than Central Valley adults? Explain (to answer this question use the 5 steps for hypothesis testing)."
   ]
  },
  {
   "cell_type": "markdown",
   "metadata": {},
   "source": [
    "Add any written answer for part 5 here."
   ]
  }
 ],
 "metadata": {
  "kernelspec": {
   "display_name": "R",
   "language": "R",
   "name": "ir"
  },
  "language_info": {
   "codemirror_mode": "r",
   "file_extension": ".r",
   "mimetype": "text/x-r-source",
   "name": "R",
   "pygments_lexer": "r",
   "version": "3.6.1"
  }
 },
 "nbformat": 4,
 "nbformat_minor": 4
}
