{
 "cells": [
  {
   "cell_type": "markdown",
   "metadata": {},
   "source": [
    "# R Bootcamp Part 5\n",
    "\n",
    "## stargazer, xtable, and fixed effects regressions\n",
    "\n",
    "\n",
    "This bootcamp will help us get more comfortable using **stargazer** and **xtable** to produce high-quality results and summary statistics tables, and using `felm()` from the **lfe** package for regressions (both fixed effects and regular OLS).\n",
    "\n",
    "\n",
    "For today, let's load a few packages and read in a dataset on residential water use for residents in Alameda and Contra Costa Counties. "
   ]
  },
  {
   "cell_type": "markdown",
   "metadata": {},
   "source": [
    "## Preamble\n",
    "Here we'll load in our necessary packages and the data file"
   ]
  },
  {
   "cell_type": "code",
   "execution_count": 1,
   "metadata": {
    "scrolled": true
   },
   "outputs": [
    {
     "name": "stderr",
     "output_type": "stream",
     "text": [
      "-- Attaching packages --------------------------------------- tidyverse 1.3.0 --\n",
      "v ggplot2 3.2.1     v purrr   0.3.3\n",
      "v tibble  2.1.3     v dplyr   0.8.5\n",
      "v tidyr   1.0.2     v stringr 1.4.0\n",
      "v readr   1.3.1     v forcats 0.4.0\n",
      "Warning message:\n",
      "\"package 'tidyr' was built under R version 3.6.2\"Warning message:\n",
      "\"package 'dplyr' was built under R version 3.6.3\"-- Conflicts ------------------------------------------ tidyverse_conflicts() --\n",
      "x dplyr::filter() masks stats::filter()\n",
      "x dplyr::lag()    masks stats::lag()\n",
      "Warning message:\n",
      "\"package 'lfe' was built under R version 3.6.2\"Loading required package: Matrix\n",
      "\n",
      "Attaching package: 'Matrix'\n",
      "\n",
      "The following objects are masked from 'package:tidyr':\n",
      "\n",
      "    expand, pack, unpack\n",
      "\n",
      "Loading required package: zoo\n",
      "Warning message:\n",
      "\"package 'zoo' was built under R version 3.6.2\"\n",
      "Attaching package: 'zoo'\n",
      "\n",
      "The following objects are masked from 'package:base':\n",
      "\n",
      "    as.Date, as.Date.numeric\n",
      "\n",
      "\n",
      "Attaching package: 'lmtest'\n",
      "\n",
      "The following object is masked from 'package:lfe':\n",
      "\n",
      "    waldtest\n",
      "\n",
      "\n",
      "Please cite as: \n",
      "\n",
      " Hlavac, Marek (2018). stargazer: Well-Formatted Regression and Summary Statistics Tables.\n",
      " R package version 5.2.2. https://CRAN.R-project.org/package=stargazer \n",
      "\n"
     ]
    },
    {
     "data": {
      "text/html": [
       "<table>\n",
       "<thead><tr><th scope=col>hh</th><th scope=col>billingcycle</th><th scope=col>unit</th><th scope=col>num_days</th><th scope=col>zip</th><th scope=col>yearbuilt</th><th scope=col>homesize</th><th scope=col>num_baths</th><th scope=col>num_beds</th><th scope=col>num_rooms</th><th scope=col>homeval</th><th scope=col>lotsize</th><th scope=col>degree_days</th><th scope=col>precip</th><th scope=col>city</th><th scope=col>gpd</th></tr></thead>\n",
       "<tbody>\n",
       "\t<tr><td> 1       </td><td>4        </td><td>142      </td><td>61       </td><td>94506    </td><td>1991     </td><td>6055     </td><td>5.5      </td><td>5        </td><td>15       </td><td>4451858  </td><td>1.0560147</td><td>759.7091 </td><td>  1.60   </td><td> 6       </td><td>1741.246 </td></tr>\n",
       "\t<tr><td> 1       </td><td>6        </td><td> 83      </td><td>62       </td><td>94506    </td><td>1991     </td><td>6055     </td><td>5.5      </td><td>5        </td><td>15       </td><td>4451858  </td><td>1.0560147</td><td>257.3720 </td><td>105.86   </td><td> 6       </td><td>1001.355 </td></tr>\n",
       "\t<tr><td> 9       </td><td>2        </td><td>162      </td><td>62       </td><td>94563    </td><td>1978     </td><td>3400     </td><td>3.0      </td><td>4        </td><td> 9       </td><td>2253082  </td><td>1.8099862</td><td>810.0521 </td><td>  2.48   </td><td>17       </td><td>1954.452 </td></tr>\n",
       "\t<tr><td> 9       </td><td>5        </td><td>150      </td><td>61       </td><td>94563    </td><td>1978     </td><td>3400     </td><td>3.0      </td><td>4        </td><td> 9       </td><td>2253082  </td><td>1.8099862</td><td>442.4290 </td><td> 51.93   </td><td>17       </td><td>1839.344 </td></tr>\n",
       "\t<tr><td>11       </td><td>2        </td><td>186      </td><td>61       </td><td>94507    </td><td>2004     </td><td>7453     </td><td>4.5      </td><td>3        </td><td>15       </td><td>3447285  </td><td>0.9800046</td><td>795.5771 </td><td>  1.42   </td><td> 2       </td><td>2280.787 </td></tr>\n",
       "\t<tr><td>11       </td><td>5        </td><td> 94      </td><td>58       </td><td>94507    </td><td>2004     </td><td>7453     </td><td>4.5      </td><td>3        </td><td>15       </td><td>3447285  </td><td>0.9800046</td><td>523.2530 </td><td> 44.66   </td><td> 2       </td><td>1212.276 </td></tr>\n",
       "</tbody>\n",
       "</table>\n"
      ],
      "text/latex": [
       "\\begin{tabular}{r|llllllllllllllll}\n",
       " hh & billingcycle & unit & num\\_days & zip & yearbuilt & homesize & num\\_baths & num\\_beds & num\\_rooms & homeval & lotsize & degree\\_days & precip & city & gpd\\\\\n",
       "\\hline\n",
       "\t  1        & 4         & 142       & 61        & 94506     & 1991      & 6055      & 5.5       & 5         & 15        & 4451858   & 1.0560147 & 759.7091  &   1.60    &  6        & 1741.246 \\\\\n",
       "\t  1        & 6         &  83       & 62        & 94506     & 1991      & 6055      & 5.5       & 5         & 15        & 4451858   & 1.0560147 & 257.3720  & 105.86    &  6        & 1001.355 \\\\\n",
       "\t  9        & 2         & 162       & 62        & 94563     & 1978      & 3400      & 3.0       & 4         &  9        & 2253082   & 1.8099862 & 810.0521  &   2.48    & 17        & 1954.452 \\\\\n",
       "\t  9        & 5         & 150       & 61        & 94563     & 1978      & 3400      & 3.0       & 4         &  9        & 2253082   & 1.8099862 & 442.4290  &  51.93    & 17        & 1839.344 \\\\\n",
       "\t 11        & 2         & 186       & 61        & 94507     & 2004      & 7453      & 4.5       & 3         & 15        & 3447285   & 0.9800046 & 795.5771  &   1.42    &  2        & 2280.787 \\\\\n",
       "\t 11        & 5         &  94       & 58        & 94507     & 2004      & 7453      & 4.5       & 3         & 15        & 3447285   & 0.9800046 & 523.2530  &  44.66    &  2        & 1212.276 \\\\\n",
       "\\end{tabular}\n"
      ],
      "text/markdown": [
       "\n",
       "| hh | billingcycle | unit | num_days | zip | yearbuilt | homesize | num_baths | num_beds | num_rooms | homeval | lotsize | degree_days | precip | city | gpd |\n",
       "|---|---|---|---|---|---|---|---|---|---|---|---|---|---|---|---|\n",
       "|  1        | 4         | 142       | 61        | 94506     | 1991      | 6055      | 5.5       | 5         | 15        | 4451858   | 1.0560147 | 759.7091  |   1.60    |  6        | 1741.246  |\n",
       "|  1        | 6         |  83       | 62        | 94506     | 1991      | 6055      | 5.5       | 5         | 15        | 4451858   | 1.0560147 | 257.3720  | 105.86    |  6        | 1001.355  |\n",
       "|  9        | 2         | 162       | 62        | 94563     | 1978      | 3400      | 3.0       | 4         |  9        | 2253082   | 1.8099862 | 810.0521  |   2.48    | 17        | 1954.452  |\n",
       "|  9        | 5         | 150       | 61        | 94563     | 1978      | 3400      | 3.0       | 4         |  9        | 2253082   | 1.8099862 | 442.4290  |  51.93    | 17        | 1839.344  |\n",
       "| 11        | 2         | 186       | 61        | 94507     | 2004      | 7453      | 4.5       | 3         | 15        | 3447285   | 0.9800046 | 795.5771  |   1.42    |  2        | 2280.787  |\n",
       "| 11        | 5         |  94       | 58        | 94507     | 2004      | 7453      | 4.5       | 3         | 15        | 3447285   | 0.9800046 | 523.2530  |  44.66    |  2        | 1212.276  |\n",
       "\n"
      ],
      "text/plain": [
       "  hh billingcycle unit num_days zip   yearbuilt homesize num_baths num_beds\n",
       "1  1 4            142  61       94506 1991      6055     5.5       5       \n",
       "2  1 6             83  62       94506 1991      6055     5.5       5       \n",
       "3  9 2            162  62       94563 1978      3400     3.0       4       \n",
       "4  9 5            150  61       94563 1978      3400     3.0       4       \n",
       "5 11 2            186  61       94507 2004      7453     4.5       3       \n",
       "6 11 5             94  58       94507 2004      7453     4.5       3       \n",
       "  num_rooms homeval lotsize   degree_days precip city gpd     \n",
       "1 15        4451858 1.0560147 759.7091      1.60  6   1741.246\n",
       "2 15        4451858 1.0560147 257.3720    105.86  6   1001.355\n",
       "3  9        2253082 1.8099862 810.0521      2.48 17   1954.452\n",
       "4  9        2253082 1.8099862 442.4290     51.93 17   1839.344\n",
       "5 15        3447285 0.9800046 795.5771      1.42  2   2280.787\n",
       "6 15        3447285 0.9800046 523.2530     44.66  2   1212.276"
      ]
     },
     "metadata": {},
     "output_type": "display_data"
    }
   ],
   "source": [
    "library(tidyverse)\n",
    "library(haven)\n",
    "library(lfe)\n",
    "library(lmtest)\n",
    "library(sandwich)\n",
    "library(stargazer)\n",
    "library(xtable)\n",
    "\n",
    "# load in wateruse data, add in measure of gallons per day \"gpd\"\n",
    "waterdata <- read_dta(\"wateruse.dta\") %>%\n",
    "    mutate(gpd = (unit*748)/num_days)\n",
    "head(waterdata)"
   ]
  },
  {
   "cell_type": "markdown",
   "metadata": {},
   "source": [
    "# xtable\n",
    "\n",
    "`xtable` is a useful package for producing custom summary statistics tables. let's say we're interested in summarizing water use ($gpd$) and degree days ($degree\\_days$) according to whether a lot is less than or greater than one acre ($lotsize_1$) or more than 4 acres ($lotsize_4$):\n",
    "\n",
    "`homesize <- waterdata %>%\n",
    "    select(hh, billingcycle, gpd, degree_days, lotsize) %>%\n",
    "    drop_na() %>%\n",
    "    mutate(lotsize_1 = ifelse((lotsize < 1), \"< 1\", \">= 1\"),\n",
    "           lotsize_4 = ifelse((lotsize > 4), \"> 4\", \"<= 4\"))\n",
    "head(homesize)`\n"
   ]
  },
  {
   "cell_type": "code",
   "execution_count": 2,
   "metadata": {},
   "outputs": [
    {
     "data": {
      "text/html": [
       "<table>\n",
       "<thead><tr><th scope=col>hh</th><th scope=col>billingcycle</th><th scope=col>gpd</th><th scope=col>degree_days</th><th scope=col>lotsize</th><th scope=col>lotsize_1</th><th scope=col>lotsize_4</th></tr></thead>\n",
       "<tbody>\n",
       "\t<tr><td> 1       </td><td>4        </td><td>1741.246 </td><td>759.7091 </td><td>1.0560147</td><td>&gt;= 1  </td><td>&lt;= 4  </td></tr>\n",
       "\t<tr><td> 1       </td><td>6        </td><td>1001.355 </td><td>257.3720 </td><td>1.0560147</td><td>&gt;= 1  </td><td>&lt;= 4  </td></tr>\n",
       "\t<tr><td> 9       </td><td>2        </td><td>1954.452 </td><td>810.0521 </td><td>1.8099862</td><td>&gt;= 1  </td><td>&lt;= 4  </td></tr>\n",
       "\t<tr><td> 9       </td><td>5        </td><td>1839.344 </td><td>442.4290 </td><td>1.8099862</td><td>&gt;= 1  </td><td>&lt;= 4  </td></tr>\n",
       "\t<tr><td>11       </td><td>2        </td><td>2280.787 </td><td>795.5771 </td><td>0.9800046</td><td>&lt; 1   </td><td>&lt;= 4  </td></tr>\n",
       "\t<tr><td>11       </td><td>5        </td><td>1212.276 </td><td>523.2530 </td><td>0.9800046</td><td>&lt; 1   </td><td>&lt;= 4  </td></tr>\n",
       "</tbody>\n",
       "</table>\n"
      ],
      "text/latex": [
       "\\begin{tabular}{r|lllllll}\n",
       " hh & billingcycle & gpd & degree\\_days & lotsize & lotsize\\_1 & lotsize\\_4\\\\\n",
       "\\hline\n",
       "\t  1        & 4         & 1741.246  & 759.7091  & 1.0560147 & >= 1      & <= 4     \\\\\n",
       "\t  1        & 6         & 1001.355  & 257.3720  & 1.0560147 & >= 1      & <= 4     \\\\\n",
       "\t  9        & 2         & 1954.452  & 810.0521  & 1.8099862 & >= 1      & <= 4     \\\\\n",
       "\t  9        & 5         & 1839.344  & 442.4290  & 1.8099862 & >= 1      & <= 4     \\\\\n",
       "\t 11        & 2         & 2280.787  & 795.5771  & 0.9800046 & < 1       & <= 4     \\\\\n",
       "\t 11        & 5         & 1212.276  & 523.2530  & 0.9800046 & < 1       & <= 4     \\\\\n",
       "\\end{tabular}\n"
      ],
      "text/markdown": [
       "\n",
       "| hh | billingcycle | gpd | degree_days | lotsize | lotsize_1 | lotsize_4 |\n",
       "|---|---|---|---|---|---|---|\n",
       "|  1        | 4         | 1741.246  | 759.7091  | 1.0560147 | >= 1      | <= 4      |\n",
       "|  1        | 6         | 1001.355  | 257.3720  | 1.0560147 | >= 1      | <= 4      |\n",
       "|  9        | 2         | 1954.452  | 810.0521  | 1.8099862 | >= 1      | <= 4      |\n",
       "|  9        | 5         | 1839.344  | 442.4290  | 1.8099862 | >= 1      | <= 4      |\n",
       "| 11        | 2         | 2280.787  | 795.5771  | 0.9800046 | < 1       | <= 4      |\n",
       "| 11        | 5         | 1212.276  | 523.2530  | 0.9800046 | < 1       | <= 4      |\n",
       "\n"
      ],
      "text/plain": [
       "  hh billingcycle gpd      degree_days lotsize   lotsize_1 lotsize_4\n",
       "1  1 4            1741.246 759.7091    1.0560147 >= 1      <= 4     \n",
       "2  1 6            1001.355 257.3720    1.0560147 >= 1      <= 4     \n",
       "3  9 2            1954.452 810.0521    1.8099862 >= 1      <= 4     \n",
       "4  9 5            1839.344 442.4290    1.8099862 >= 1      <= 4     \n",
       "5 11 2            2280.787 795.5771    0.9800046 < 1       <= 4     \n",
       "6 11 5            1212.276 523.2530    0.9800046 < 1       <= 4     "
      ]
     },
     "metadata": {},
     "output_type": "display_data"
    }
   ],
   "source": [
    "homesize <- waterdata %>%\n",
    "    select(hh, billingcycle, gpd, degree_days, lotsize) %>%\n",
    "    drop_na() %>%\n",
    "    mutate(lotsize_1 = ifelse((lotsize < 1), \"< 1\", \">= 1\"),\n",
    "           lotsize_4 = ifelse((lotsize > 4), \"> 4\", \"<= 4\"))\n",
    "head(homesize)"
   ]
  },
  {
   "cell_type": "markdown",
   "metadata": {},
   "source": [
    "We know how to create summary statistics for these two variables for both levels of $lotsize\\_1$ and $lotsize\\_4$ using `summarise()`:\n",
    "\n",
    "`sumstat_1 <- homesize %>%\n",
    "    group_by(lotsize_1) %>%\n",
    "    summarise(mean_gpd = mean(gpd), \n",
    "              mean_degdays = mean(degree_days))\n",
    "sumstat_1`\n",
    "\n",
    "`sumstat_4 <- homesize %>%\n",
    "    group_by(lotsize_4) %>%\n",
    "    summarise(mean_gpd = mean(gpd), \n",
    "              mean_degdays = mean(degree_days))\n",
    "sumstat_4`"
   ]
  },
  {
   "cell_type": "code",
   "execution_count": 3,
   "metadata": {},
   "outputs": [
    {
     "data": {
      "text/html": [
       "<table>\n",
       "<thead><tr><th scope=col>lotsize_1</th><th scope=col>mean_gpd</th><th scope=col>mean_degdays</th></tr></thead>\n",
       "<tbody>\n",
       "\t<tr><td>&lt; 1  </td><td>1490.199</td><td>568.8051</td></tr>\n",
       "\t<tr><td>&gt;= 1 </td><td>1961.472</td><td>569.2840</td></tr>\n",
       "</tbody>\n",
       "</table>\n"
      ],
      "text/latex": [
       "\\begin{tabular}{r|lll}\n",
       " lotsize\\_1 & mean\\_gpd & mean\\_degdays\\\\\n",
       "\\hline\n",
       "\t < 1      & 1490.199 & 568.8051\\\\\n",
       "\t >= 1     & 1961.472 & 569.2840\\\\\n",
       "\\end{tabular}\n"
      ],
      "text/markdown": [
       "\n",
       "| lotsize_1 | mean_gpd | mean_degdays |\n",
       "|---|---|---|\n",
       "| < 1      | 1490.199 | 568.8051 |\n",
       "| >= 1     | 1961.472 | 569.2840 |\n",
       "\n"
      ],
      "text/plain": [
       "  lotsize_1 mean_gpd mean_degdays\n",
       "1 < 1       1490.199 568.8051    \n",
       "2 >= 1      1961.472 569.2840    "
      ]
     },
     "metadata": {},
     "output_type": "display_data"
    },
    {
     "data": {
      "text/html": [
       "<table>\n",
       "<thead><tr><th scope=col>lotsize_4</th><th scope=col>mean_gpd</th><th scope=col>mean_degdays</th></tr></thead>\n",
       "<tbody>\n",
       "\t<tr><td>&lt;= 4 </td><td>1589.234</td><td>568.5734</td></tr>\n",
       "\t<tr><td>&gt; 4  </td><td>2616.090</td><td>575.1284</td></tr>\n",
       "</tbody>\n",
       "</table>\n"
      ],
      "text/latex": [
       "\\begin{tabular}{r|lll}\n",
       " lotsize\\_4 & mean\\_gpd & mean\\_degdays\\\\\n",
       "\\hline\n",
       "\t <= 4     & 1589.234 & 568.5734\\\\\n",
       "\t > 4      & 2616.090 & 575.1284\\\\\n",
       "\\end{tabular}\n"
      ],
      "text/markdown": [
       "\n",
       "| lotsize_4 | mean_gpd | mean_degdays |\n",
       "|---|---|---|\n",
       "| <= 4     | 1589.234 | 568.5734 |\n",
       "| > 4      | 2616.090 | 575.1284 |\n",
       "\n"
      ],
      "text/plain": [
       "  lotsize_4 mean_gpd mean_degdays\n",
       "1 <= 4      1589.234 568.5734    \n",
       "2 > 4       2616.090 575.1284    "
      ]
     },
     "metadata": {},
     "output_type": "display_data"
    }
   ],
   "source": [
    "sumstat_1 <- homesize %>%\n",
    "    group_by(lotsize_1) %>%\n",
    "    summarise(mean_gpd = mean(gpd), \n",
    "              mean_degdays = mean(degree_days))\n",
    "sumstat_1\n",
    "\n",
    "sumstat_4 <- homesize %>%\n",
    "    group_by(lotsize_4) %>%\n",
    "    summarise(mean_gpd = mean(gpd), \n",
    "              mean_degdays = mean(degree_days))\n",
    "sumstat_4"
   ]
  },
  {
   "cell_type": "markdown",
   "metadata": {},
   "source": [
    "And now we can use `xtable()` to put them into the same table!\n",
    "\n",
    "`full <- xtable(cbind(t(sumstat_1), t(sumstat_4)))\n",
    "rownames(full)[1] <- \"Lotsize Group\"\n",
    "colnames(full) <- c(\"lotsize_1 = 1\", \"lotsize_1 = 0\", \"lotsize_4 = 0\", \"lotsize_4 =1\")\n",
    "full`"
   ]
  },
  {
   "cell_type": "code",
   "execution_count": 4,
   "metadata": {},
   "outputs": [
    {
     "data": {
      "text/html": [
       "<table>\n",
       "<thead><tr><th></th><th scope=col>lotsize_1 = 1</th><th scope=col>lotsize_1 = 0</th><th scope=col>lotsize_4 = 0</th><th scope=col>lotsize_4 =1</th></tr></thead>\n",
       "<tbody>\n",
       "\t<tr><th scope=row>Lotsize Group</th><td><span style=white-space:pre-wrap>&lt; 1     </span></td><td><span style=white-space:pre-wrap>&gt;= 1    </span></td><td><span style=white-space:pre-wrap>&lt;= 4    </span></td><td><span style=white-space:pre-wrap>&gt; 4     </span></td></tr>\n",
       "\t<tr><th scope=row>mean_gpd</th><td>1490.199</td><td>1961.472</td><td>1589.234</td><td>2616.090</td></tr>\n",
       "\t<tr><th scope=row>mean_degdays</th><td>568.8051</td><td>569.2840</td><td>568.5734</td><td>575.1284</td></tr>\n",
       "</tbody>\n",
       "</table>\n"
      ],
      "text/latex": [
       "\\begin{tabular}{r|llll}\n",
       "  & lotsize\\_1 = 1 & lotsize\\_1 = 0 & lotsize\\_4 = 0 & lotsize\\_4 =1\\\\\n",
       "\\hline\n",
       "\tLotsize Group & < 1      & >= 1     & <= 4     & > 4     \\\\\n",
       "\tmean\\_gpd & 1490.199 & 1961.472 & 1589.234 & 2616.090\\\\\n",
       "\tmean\\_degdays & 568.8051 & 569.2840 & 568.5734 & 575.1284\\\\\n",
       "\\end{tabular}\n"
      ],
      "text/markdown": [
       "\n",
       "| <!--/--> | lotsize_1 = 1 | lotsize_1 = 0 | lotsize_4 = 0 | lotsize_4 =1 |\n",
       "|---|---|---|---|---|\n",
       "| Lotsize Group | < 1      | >= 1     | <= 4     | > 4      |\n",
       "| mean_gpd | 1490.199 | 1961.472 | 1589.234 | 2616.090 |\n",
       "| mean_degdays | 568.8051 | 569.2840 | 568.5734 | 575.1284 |\n",
       "\n"
      ],
      "text/plain": [
       "              lotsize_1 = 1 lotsize_1 = 0 lotsize_4 = 0 lotsize_4 =1\n",
       "Lotsize Group < 1           >= 1          <= 4          > 4         \n",
       "mean_gpd      1490.199      1961.472      1589.234      2616.090    \n",
       "mean_degdays  568.8051      569.2840      568.5734      575.1284    "
      ]
     },
     "metadata": {},
     "output_type": "display_data"
    }
   ],
   "source": [
    "full <- xtable(cbind(t(sumstat_1), t(sumstat_4)))\n",
    "rownames(full)[1] <- \"Lotsize Group\"\n",
    "colnames(full) <- c(\"lotsize_1 = 1\", \"lotsize_1 = 0\", \"lotsize_4 = 0\", \"lotsize_4 =1\")\n",
    "full"
   ]
  },
  {
   "cell_type": "markdown",
   "metadata": {},
   "source": [
    "We now have a table `full` that is an xtable object. \n",
    "\n",
    "We can also spit this table out in html or latex form if needed using the `print.xtable()` function on our xtable `full`. To get the html code for the table, specify `type = \"html\"`:\n",
    "\n",
    "`print.xtable(full, type = \"html\")`"
   ]
  },
  {
   "cell_type": "code",
   "execution_count": null,
   "metadata": {},
   "outputs": [],
   "source": []
  },
  {
   "cell_type": "markdown",
   "metadata": {},
   "source": [
    "Copy and paste the html code here to see how it appears"
   ]
  },
  {
   "cell_type": "markdown",
   "metadata": {},
   "source": [
    "# Stargazer\n",
    "\n",
    "`stargazer` is a super useful package for producing professional-quality regression tables. While it defaults to producing LaTeX format tables (a typesetting language a lot of economists use), for use in our class we can also produce html code that can easily be copied into text cells and formatted perfectly.\n",
    "\n",
    "## Stargazer for Summary Statistics Tables\n",
    "\n",
    "Like `xtable`, we can use `stargazer` to produce attractive summary statistics tables. \n",
    "\n",
    "To produce the basic summary statistic table, we can just run `stargazer()` on our data frame in the following way:\n",
    "\n",
    "`stargazer(as.data.frame(waterdata), type = \"text\")`"
   ]
  },
  {
   "cell_type": "code",
   "execution_count": null,
   "metadata": {},
   "outputs": [],
   "source": []
  },
  {
   "cell_type": "markdown",
   "metadata": {},
   "source": [
    "Note that we need to include the `as.data.frame()` around our dataset to make sure stargazer reads it in properly (if you forget this you'll get column names but no rows in the table).\n",
    "\n",
    "By default, we get the number of observations, the mean, standard deviation, minimum, 25th and 27th percentiles, and max for each variable. \n",
    "\n",
    "You can change which statistics get displayed by including the `summary.stat` argument to specify the statistics we want, or using `omit.summary.stat` to hide the ones we don't want. For example, we can omit the 25th and 75th percentiles with the following two ways (and include the median in the first):\n",
    "\n",
    "`stargazer(as.data.frame(waterdata), type = \"text\", summary.stat = c(\"n\", \"mean\", \"median\", \"sd\", \"min\", \"max\"))`\n",
    "`stargazer(as.data.frame(waterdata), type = \"text\", omit.summary.stat = c(\"p25\", \"p75\"))`"
   ]
  },
  {
   "cell_type": "code",
   "execution_count": null,
   "metadata": {},
   "outputs": [],
   "source": []
  },
  {
   "cell_type": "markdown",
   "metadata": {},
   "source": [
    "You can also obtain the corresponding html code by specifying `type = \"html\"` and then copying + pasting the code into a markdownd cell:\n",
    "\n",
    "`stargazer(as.data.frame(waterdata), type = \"html\", \n",
    "           summary.stat = c(\"n\", \"mean\", \"median\", \"sd\", \"min\", \"max\"))`"
   ]
  },
  {
   "cell_type": "code",
   "execution_count": null,
   "metadata": {},
   "outputs": [],
   "source": []
  },
  {
   "cell_type": "markdown",
   "metadata": {},
   "source": [
    "Copy and paste the html code here!"
   ]
  },
  {
   "cell_type": "markdown",
   "metadata": {},
   "source": [
    "## Stargazer for Regression Tables\n",
    "\n",
    "We can also use `stargazer to produce high-quality regression tables. If we run the following three regressions: \n",
    "\n",
    "\\begin{align*} GPD_{it} &= \\beta_0 + \\beta_1 degree\\_days_{it} + \\beta_2 precip_{it} ~~~~~~~~~~~~~~~~~~~~~~~~~~~~~~~~~~~~~~~~~~~~~~~~~~~~~~~~~~~~~~~~(1)\\\\\n",
    " GPD_{it} &= \\beta_0 + \\beta_1 degree\\_days_{it} + \\beta_2 precip_{it} + \\beta_3 lotsize_{i}~~~~~~~~~~~~~~~~~~~~~~~~~~~~~~~~~~~~~~~~~~~(2)\\\\\n",
    "GPD_{it} &= \\beta_0 + \\beta_1 degree\\_days_{it} + \\beta_2 precip_{it} + \\beta_3 lotsize_{i} + \\beta_4 Homeval_i~~~~~~~~~~~~~~~~~~(3)\n",
    "\\end{align*}\n",
    "\n",
    "We might want to present the results side by side in the same table so that we can easily compare coefficients from one column to the other. To do that with `stargazer`, we can \n",
    "\n",
    "1. Run each regression, storing them in memory (here we'll use `felm()` to run OLS without fixed effects)\n",
    "2. Run `stargazer(reg1, reg2, reg3, ..., type )` where the first arguments are all the regression objects we want in the table, and telling R what type of output we want\n",
    "\n",
    "If we specify `type = \"text\"`, we'll get the table displayed directly in the output window:\n",
    "\n",
    "`reg_a <- felm(gpd ~ degree_days + precip, waterdata)\n",
    " reg_b <- felm(gpd ~ degree_days + precip + lotsize, waterdata)\n",
    " reg_c <- felm(gpd ~ degree_days + precip + lotsize + homeval, waterdata)`\n",
    "\n",
    "`stargazer(reg_a, reg_b, reg_c, type = \"text\")`"
   ]
  },
  {
   "cell_type": "code",
   "execution_count": null,
   "metadata": {},
   "outputs": [],
   "source": []
  },
  {
   "cell_type": "markdown",
   "metadata": {},
   "source": [
    "And if we specify `type = \"html\"`, we'll get html code that we need to copy and paste into a text/markdown cell:\n",
    "\n",
    "`stargazer(reg_a, reg_b, reg_c, type = \"html\")`"
   ]
  },
  {
   "cell_type": "code",
   "execution_count": null,
   "metadata": {},
   "outputs": [],
   "source": []
  },
  {
   "cell_type": "markdown",
   "metadata": {},
   "source": [
    "Now all we need to do is copy and paste that html code from the output into a text cell and we've got our table!"
   ]
  },
  {
   "cell_type": "markdown",
   "metadata": {},
   "source": [
    "(copy your code here)"
   ]
  },
  {
   "cell_type": "markdown",
   "metadata": {},
   "source": [
    "And we get a nice looking regression table with all three models side by side! This makes it easy to see how the coefficient on lot size falls when we add in home value, letting us quickly figure out the sign of correlation between the two."
   ]
  },
  {
   "cell_type": "markdown",
   "metadata": {},
   "source": [
    "## Stargazer and Heteroskedasticity-Robust Standard Errors \n",
    "\n",
    "There are often times where you want to use heteroskedasticity-robust standard errors in place of the normal kind to account for situations where we might be worried about violating our homoskedasticity assumption. To add robust standard errors to our table, we'll need to access them from the felm object with `$rse` and add them to stargazer() with the `se` argument as a list:\n",
    "\n",
    "`stargazer(reg_a, reg_b, reg_c, \n",
    "           type = \"html\",\n",
    "          se = list(reg_a$rse, reg_b$rse, reg_c$rse),\n",
    "          omit.stat = \"f\")`\n",
    "          \n",
    "Here we're adding the robust standard errors to `stargazer()` with the `se =` argument (combining them together in the right order as a list). I'm also omitting the overall F test at the bottom with `omit.stat = \"f\"` since we'd need to correct that too for heteroskedasticity. \n",
    "\n",
    "Try copying the code below to see how the standard errors change when we use robust standard errors:"
   ]
  },
  {
   "cell_type": "code",
   "execution_count": null,
   "metadata": {},
   "outputs": [],
   "source": []
  },
  {
   "cell_type": "markdown",
   "metadata": {},
   "source": [
    "Copy and paste the updated table code here.\n"
   ]
  },
  {
   "cell_type": "markdown",
   "metadata": {},
   "source": [
    "Now that looks pretty good, though note that the less than signs in the note for signifcance labels don't appear right. This is because html is reading the < symbol as a piece of code and not the math symbol. To get around this, you can add dollar signs around the < signs in the html code for the note to have the signs display properly:\n",
    "\n",
    "`<sup>*</sup>p $<$ 0.1; <sup>**</sup>p $<$ 0.05; <sup>***</sup>p $<$ 0.01</td>`"
   ]
  },
  {
   "cell_type": "markdown",
   "metadata": {},
   "source": [
    "## Table Options\n",
    "\n",
    "Stargazer has a ton of different options for customizing the look of our table with optional arguments, including\n",
    "* `title` lets us add a custom title\n",
    "* `column.labels` lets you add text labels to the columns\n",
    "* `covariate.labels` lets us specify custom labels for all our variables other than the variable names. Specify each label in quotations in the form of a vector with `c()`\n",
    "* `ci = TRUE` adds in confidence intervals (by default for the 10\\% level, but you can change it to the 1\\% level with `ci.level = 0.99`\n",
    "* `intercept.bottom = FALSE` will move the constant to the top of the table\n",
    "* `digits` lets you choose the number of decimal places to display\n",
    "* `notes` lets you add some notes at the bottom\n",
    "* `order` lets you change the order in which the independent variables appear in the table. This expects a numeric vector with the new ordering\n",
    "* `dep.var.caption` lets you change the text of `Dependent variable:` at the top. If you set it to the empty character string `\"\"` it will remove the caption entirely.\n",
    "\n",
    "For example, we could customize the above table as\n",
    "\n",
    "`stargazer(reg_a, reg_b, reg_c, type = \"text\",\n",
    "          title = \"Water Use, Weather, and Home Characteristics\",\n",
    "          column.labels = c(\"Weather\", \"With Lotsize\", \"With HomeVal\"),\n",
    "          order = c(1,5,4,3,2),         \n",
    "          intercept.bottom = FALSE,\n",
    "          dep.var.caption = \"\",\n",
    "          digits = 2,\n",
    "          note = \"Isn't stargazer neat?\"\n",
    "          )`"
   ]
  },
  {
   "cell_type": "code",
   "execution_count": null,
   "metadata": {},
   "outputs": [],
   "source": []
  },
  {
   "cell_type": "markdown",
   "metadata": {},
   "source": [
    "\n",
    "# Fixed Effects Regression\n",
    "\n",
    "\n",
    "Today we will practice with fixed effects regressions in __R__. We have two different ways to estimate the model, and we will see how to do both and the situations in which we might favor one versus the other.\n",
    "\n",
    "Let's give this a try using the dataset `wateruse.dta`. The subset of households are high water users, people who used over 1,000 gallons per billing cycle. We have information on their water use, weather during the period, as well as information on the city and zipcode of where the home is located, and information on the size and value of the house.\n",
    "\n",
    "Suppose we are interested in running the following panel regression of residential water use:\n",
    "\n",
    "$$ GPD_{it} = \\beta_0 + \\beta_1 degree\\_days_{it} + \\beta_2 precip_{it} ~~~~~~~~~~~~~~~~~~~~~~~(1)$$\n",
    "\n",
    "Where $GPD$ is the gallons used per day by household $i$ in billing cycle $t$, $degree\\_days$ the count of degree days experienced by the household in that billing cycle (degree days are a measure of cumulative time spent above a certain temperature threshold), and $precip$ the amount of precipitation in millimeters.\n",
    "\n",
    "`reg1 <- lm(gpd ~ degree_days + precip, data = waterdata)\n",
    "summary(reg1)`"
   ]
  },
  {
   "cell_type": "code",
   "execution_count": null,
   "metadata": {
    "scrolled": false
   },
   "outputs": [],
   "source": []
  },
  {
   "cell_type": "markdown",
   "metadata": {},
   "source": [
    "Here we obtain an estimate of $\\hat\\beta_1 = 0.777$, telling us that an additional degree day per billing cycle is associated with an additional $0.7769$ gallon used per day. These billing cycles are roughly two months long, so this suggests an increase of roughly 47 gallons per billing cycle. Our estimate is statistically significant at all conventional levels, suggesting residential water use does respond to increased exposure to high heat.\n",
    "\n",
    "We estimate a statistically insignificant coefficient on additional precipitation, which tells us that on average household water use in our sample doesn't adjust to how much it rains.\n",
    "\n",
    "We might think that characteristics of the home impact how much water is used there, so we add in some home controls:\n",
    "\n",
    "\n",
    "$$ GPD_{it} = \\beta_0 + \\beta_1 degree\\_days_{it} + \\beta_2 precip_{it}  + \\beta_3 lotsize_{i} + \\beta_4 homesize_i + \\beta_5 num\\_baths_i + \\beta_6 num\\_beds_i + \\beta_7 homeval_i~~~~~~~~~~~~~~~~~~~~~~~(2)$$\n",
    "\n",
    "`reg2 <- lm(gpd ~ degree_days + precip + lotsize + homesize + num_baths + num_beds + homeval, data = waterdata)\n",
    "summary(reg2)`"
   ]
  },
  {
   "cell_type": "code",
   "execution_count": null,
   "metadata": {},
   "outputs": [],
   "source": []
  },
  {
   "cell_type": "markdown",
   "metadata": {},
   "source": [
    "Our coefficient on $degree\\_days$ remains statistically significant and doesn't change much, so we find that $\\hat\\beta_1$ is robust to the addition of home characteristics. Of these characteristics, we obtain statistically significant coefficients on the size of the lot in acres ($lotsize$), the size of the home in square feet ($homesize$), and the number of bedrooms in the home ($num_beds$).\n",
    "\n",
    "We get a curious result for $\\hat\\beta_6$: for each additional bedroom in the home we predict that water use will *fall* by 48 gallons per day. \n",
    "\n",
    "### Discussion: what might be driving this effect? "
   ]
  },
  {
   "cell_type": "markdown",
   "metadata": {},
   "source": [
    "Since there are likely a number of sources of omitted variable bias in the previous model, we think it might be worth including some fixed effects in our model. These will allow us to control for some of the unobserved sources of OVB without having to measure them directly!\n",
    "\n",
    "## Method 1: Fixed Effects with lm() \n",
    "\n",
    "Up to this point we have been running our regressions using the `lm()` function. We can still use `lm()` for our fixed effects models, but it takes some more work and gets increasingly time-intensive as datasets get large.\n",
    "\n",
    "Recall that we can write our general panel fixed effects model as \n",
    "\n",
    "$$ y_{it} = \\beta x_{it} + \\mathbf{a}_i + \\mathbf{d}_t + u_{it} $$\n",
    "\n",
    "* $y$ our outcome of interest, which varies in both the time and cross-sectional dimensions\n",
    "* $x_{it}$ our set of time-varying unit characteristics\n",
    "* $\\mathbf{a}_i$ our set of unit fixed effects\n",
    "* $\\mathbf{d}_t$ our time fixed effects\n",
    "\n",
    "We can estimate this model in `lm()` provided we have variables in our dataframe that correspond to each level of $a_i$ and $d_t$. This means we'll have to generate them before we can run any regression.\n",
    "\n",
    "### Generating Dummy Variables\n",
    "\n",
    "In order to include fixed effects for our regression, we can first generate the set of dummy variables that we want. For example, if we want to include a set of city fixed effects in our model, we need to generate them.\n",
    "\n",
    "We can do this in a few ways.\n",
    "\n",
    "1. First, we can use `mutate()` and add a separate line for each individual city:\n",
    "\n",
    "`fe_1 <- waterdata %>%\n",
    "    mutate(city_1 = as.numeric((city==1)),\n",
    "           city_2 = as.numeric((city ==2)),\n",
    "           city_3 = as.numeric((city ==3))) %>%\n",
    "    select(hh, city, city_1, city_2, city_3)\n",
    "head(fe_1)`"
   ]
  },
  {
   "cell_type": "code",
   "execution_count": 26,
   "metadata": {},
   "outputs": [
    {
     "data": {
      "text/html": [
       "<table>\n",
       "<caption>A tibble: 6 × 5</caption>\n",
       "<thead>\n",
       "\t<tr><th scope=col>hh</th><th scope=col>city</th><th scope=col>city_1</th><th scope=col>city_2</th><th scope=col>city_3</th></tr>\n",
       "\t<tr><th scope=col>&lt;dbl&gt;</th><th scope=col>&lt;dbl&gt;</th><th scope=col>&lt;dbl&gt;</th><th scope=col>&lt;dbl&gt;</th><th scope=col>&lt;dbl&gt;</th></tr>\n",
       "</thead>\n",
       "<tbody>\n",
       "\t<tr><td> 1</td><td> 6</td><td>0</td><td>0</td><td>0</td></tr>\n",
       "\t<tr><td> 1</td><td> 6</td><td>0</td><td>0</td><td>0</td></tr>\n",
       "\t<tr><td> 9</td><td>17</td><td>0</td><td>0</td><td>0</td></tr>\n",
       "\t<tr><td> 9</td><td>17</td><td>0</td><td>0</td><td>0</td></tr>\n",
       "\t<tr><td>11</td><td> 2</td><td>0</td><td>1</td><td>0</td></tr>\n",
       "\t<tr><td>11</td><td> 2</td><td>0</td><td>1</td><td>0</td></tr>\n",
       "</tbody>\n",
       "</table>\n"
      ],
      "text/latex": [
       "A tibble: 6 × 5\n",
       "\\begin{tabular}{r|lllll}\n",
       " hh & city & city\\_1 & city\\_2 & city\\_3\\\\\n",
       " <dbl> & <dbl> & <dbl> & <dbl> & <dbl>\\\\\n",
       "\\hline\n",
       "\t  1 &  6 & 0 & 0 & 0\\\\\n",
       "\t  1 &  6 & 0 & 0 & 0\\\\\n",
       "\t  9 & 17 & 0 & 0 & 0\\\\\n",
       "\t  9 & 17 & 0 & 0 & 0\\\\\n",
       "\t 11 &  2 & 0 & 1 & 0\\\\\n",
       "\t 11 &  2 & 0 & 1 & 0\\\\\n",
       "\\end{tabular}\n"
      ],
      "text/markdown": [
       "\n",
       "A tibble: 6 × 5\n",
       "\n",
       "| hh &lt;dbl&gt; | city &lt;dbl&gt; | city_1 &lt;dbl&gt; | city_2 &lt;dbl&gt; | city_3 &lt;dbl&gt; |\n",
       "|---|---|---|---|---|\n",
       "|  1 |  6 | 0 | 0 | 0 |\n",
       "|  1 |  6 | 0 | 0 | 0 |\n",
       "|  9 | 17 | 0 | 0 | 0 |\n",
       "|  9 | 17 | 0 | 0 | 0 |\n",
       "| 11 |  2 | 0 | 1 | 0 |\n",
       "| 11 |  2 | 0 | 1 | 0 |\n",
       "\n"
      ],
      "text/plain": [
       "  hh city city_1 city_2 city_3\n",
       "1  1  6   0      0      0     \n",
       "2  1  6   0      0      0     \n",
       "3  9 17   0      0      0     \n",
       "4  9 17   0      0      0     \n",
       "5 11  2   0      1      0     \n",
       "6 11  2   0      1      0     "
      ]
     },
     "metadata": {},
     "output_type": "display_data"
    }
   ],
   "source": []
  },
  {
   "cell_type": "markdown",
   "metadata": {},
   "source": [
    "This can be super tedious though when we have a bunch of different levels of our variable that we want to make fixed effects for. In this case, we have 27 different cities.\n",
    "\n",
    "2. Alternatively, we can use the `spread()` function to help us out. Here we first group our data by household and billing cycle (our level of identification). Then we add in a constant variable `v` that is equal to one in all rows, and a copy of city that adds \"city_\" to the front of the city number. Then we pass the data to `spread`, telling it to split the variable `cty` into dummy variables for all its levels, with all the \"false\" cases filled with zeros.\n",
    "\n",
    "`fe_2 <- waterdata %>%\n",
    "select(city, billingcycle)`\n",
    "\n",
    "\n",
    "`fe_2 <- group_by(fe_2, hh, billingcycle) %>%\n",
    " mutate(v = 1, cty = paste0(\"city_\", city)) %>% \n",
    "   spread(cty, v, fill = 0)\n",
    "head(fe_2)`"
   ]
  },
  {
   "cell_type": "code",
   "execution_count": null,
   "metadata": {},
   "outputs": [],
   "source": []
  },
  {
   "cell_type": "markdown",
   "metadata": {},
   "source": [
    "That is much easier! \n",
    "\n",
    "This is a useful approach if you want to produce summary statistics for the fixed effects (i.e. what share of the sample lives in each city), but isn't truly necessary.\n",
    "\n",
    "Alternatively, we can tell R to read our fixed effects variables as factors:\n",
    "\n",
    "`lm(gpd ~ degree_days + precip + factor(city), data = waterdata)`\n",
    "\n",
    "`factor()` around $city$ tells R to split city into dummy variables for each unique value it takes. R will then drop the first level when we run the regression - in our case making the first city our omitted group.\n",
    "\n",
    "\n",
    "`reg3 <- lm(gpd ~ degree_days + precip + factor(city), data = waterdata)\n",
    "summary(reg3)`"
   ]
  },
  {
   "cell_type": "code",
   "execution_count": null,
   "metadata": {},
   "outputs": [],
   "source": []
  },
  {
   "cell_type": "markdown",
   "metadata": {},
   "source": [
    "Now we have everything we need to run the regression\n",
    "\n",
    "\n",
    "$$ GPD_{it} = \\beta_0 + \\beta_1 degree\\_days_{it} + \\beta_2 precip_{it}  + \\mathbf{a}_i + \\mathbf{d}_t~~~~~~~~~~~~~~~~~~~~~~~(2)$$\n",
    "\n",
    "Where $\\mathbf{a}_i$ are our city fixed effects, and $\\mathbf{d}_t$ our billing cycle fixed effects:\n",
    "\n",
    "`fe_reg1 <- lm(gpd ~ degree_days + precip + factor(city) + factor(billingcycle), data = waterdata)\n",
    "summary(fe_reg1)`"
   ]
  },
  {
   "cell_type": "code",
   "execution_count": null,
   "metadata": {},
   "outputs": [],
   "source": []
  },
  {
   "cell_type": "markdown",
   "metadata": {},
   "source": [
    "__R__ automatically chose the first dummy variable for each set of fixed effect (city 1 and billing cycle 1) to leave out as our omitted group. \n",
    "\n",
    "Now that we account for which billing cycle we're in (i.e. whether we're in the winter or whether we're in the summer), we find that the coefficient on $degree\\_days$ is now much smaller and statistically insignificant. This makes sense, as we were falsely attributing the extra water use that comes from seasonality to temperature on its own. Now that we control for the season we're in via billing cycle fixed effects, we find that deviations in temperature exposure during a billing cycle don't result in dramatically higher water use within the sample.\n",
    "\n",
    "### Discussion: Why did we drop the home characteristics from our model?"
   ]
  },
  {
   "cell_type": "markdown",
   "metadata": {},
   "source": [
    "## Method 2: Fixed Effects with felm()\n",
    "\n",
    "Alternatively, we could do everything way faster using the `felm()` function from the package __lfe__. This package doesn't require us to produce all the dummy variables by hand. Further, it performs the background math way faster so will be much quicker to estimate models using large datasets and many variables.\n",
    "\n",
    "The syntax we use is now \n",
    "\n",
    "`felm(y ~ x1 + x2 + ... + xk | FE_1 + FE_2 + ..., data = df)`\n",
    "\n",
    "* The first section $y \\sim x1 + x2 +... xk$ is our formula, written the same way as with `lm()` - but omitting the fixed effects\n",
    "* We now add a `|` and in the second section we specify our fixed effects. Here we say $FE\\_1 + FE\\_2$ which tells __R__ to include fixed effects for each level of the variables $FE\\_1$ and $FE\\_2$.\n",
    "* we add the data source after the comma, as before.\n",
    "\n",
    "Let's go ahead and try this now with our water data model:\n",
    "\n",
    "`fe_reg2 <- felm(gpd ~ degree_days + precip | city + billingcycle, data = waterdata)\n",
    "summary(fe_reg2)`"
   ]
  },
  {
   "cell_type": "code",
   "execution_count": null,
   "metadata": {},
   "outputs": [],
   "source": []
  },
  {
   "cell_type": "markdown",
   "metadata": {},
   "source": [
    "And we estimate the exact same coefficients on $degree\\_days$ and $precip$ as in the case where we specified everything by hand! We didn't have to mutate our data or add any variables. The one potential downside is that this approach doesn't report the fixed effects themselves by default. The tradeoff is that `felm` runs a lot faster than `lm`, especially with large datasets. \n",
    "\n",
    "We can also recover the fixed effects with getfe(): \n",
    "\n",
    "`getfe(fe_reg2, se = TRUE, robust = TRUE)`"
   ]
  },
  {
   "cell_type": "code",
   "execution_count": null,
   "metadata": {},
   "outputs": [],
   "source": []
  },
  {
   "cell_type": "markdown",
   "metadata": {},
   "source": [
    "the argument `se = TRUE` tells it to produce standard errors too, and `robust = TRUE` further indicates that we want heteroskedasticity-robust standard errors.\n",
    "\n",
    "\n",
    "Note that this approach doesn't give you the same reference groups as before, but we get the same relative values. Note that before the coefficient on $city2$ was 301.7 and now is 73.9. But the coefficient on $city1$ is -227.8, and if we subtract $city1$ from $city2$ to get the difference in averages for city 2 relative to city 1 we get $73.9 - (-227.8) = 301.7$, the same as before!"
   ]
  },
  {
   "cell_type": "markdown",
   "metadata": {},
   "source": [
    "# Fixed Effects Practice Question #1\n",
    "\n",
    "#### From a random sample of agricultural yields Y (1000 dollars per acre) for region $i$ in year $t$ for the US, we have estimated the following eqation:\n",
    "\n",
    " \\begin{align*} \\widehat{\\log(Y)}_{it} &=\t0.49\t+ .01 GE_{it} ~~~~ \tR^2 = .32\\\\\n",
    "\t&~~~~~(.11)\t ~~~~ (.01)                ~~~~  n = 1526       \\end{align*}\n",
    "\n",
    "#### (a) Interpret the results on the Genetically engineered ($GE$) technology on yields. (follow SSS= Sign Size Significance)\n",
    "\n",
    "#### (b) Suppose $GE$ is used more on the West Coast, where crop yields are also higher. How would the estimated effect of GE change if we include a West Coast region dummy variable in the equation? Justify your answer.\n",
    "\n",
    "#### (c) If we include region fixed effects, would they control for the factors in (b)? Justify your answer.\n",
    "\n",
    "#### (d)  If yields have been generally improving over time and GE adoption was only recently introduced in the USA, what would happen to the coefficient of GE if we included year fixed effects?\n",
    "\n",
    "\n",
    "\n",
    "# Fixed Effects Practice Question #2\n",
    "\n",
    "#### A recent paper investigates whether advertisement for Viagra causes increases in birth rates in the USA.  Apparently, advertising for products, including Viagra, happens on TV and reaches households that have a TV within a Marketing region and does not happen in areas outside a designated marketing region. What the authors do is look at hospital birth rates in regions inside and near the advertising region border  and collect data on dollars per 100 people (Ads) for a certain time, and compare those to the birth rates in hospitals located outside and near the advertising region designated border. They conduct a panel data analysis and estimate the following model:\n",
    "\n",
    "$$ Births_{it} = \\beta_0 + \\beta_1 Ads + \\beta_2 Ads^2 + Z_i + M_t + u_{it}$$\n",
    "\n",
    "#### Where $Z_i$ are zipcode fixed effects and $M_t$ monthly fixed effects.\n",
    "\n",
    "#### (a) Why do the authors include Zip Code Fixed Effects? In particular, what would be a variable that they are controlling for when adding Zip Code fixed effects that could cause a problem when interpreting the marginal effect of ad spending on birth rates? What would that (solved) problem be?\n",
    "\n",
    "#### (b) Why do they add month fixed effects? \n",
    "\n"
   ]
  }
 ],
 "metadata": {
  "kernelspec": {
   "display_name": "R",
   "language": "R",
   "name": "ir"
  },
  "language_info": {
   "codemirror_mode": "r",
   "file_extension": ".r",
   "mimetype": "text/x-r-source",
   "name": "R",
   "pygments_lexer": "r",
   "version": "3.6.1"
  }
 },
 "nbformat": 4,
 "nbformat_minor": 2
}
