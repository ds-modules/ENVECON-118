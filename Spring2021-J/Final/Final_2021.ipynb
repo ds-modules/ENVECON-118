{
 "cells": [
  {
   "cell_type": "markdown",
   "metadata": {},
   "source": [
    "### Indicate the Following:"
   ]
  },
  {
   "cell_type": "markdown",
   "metadata": {},
   "source": [
    "Name: _____________________  SID: ________________________"
   ]
  },
  {
   "cell_type": "markdown",
   "metadata": {},
   "source": [
    "## Exam Instructions\n",
    "\n",
    "*\tThis exam will be made available on May 11 at 9:00pm pacific time. \n",
    "*\tIt MUST be submitted to [Gradescope](https://www.gradescope.com/courses/226571) before May 13th end of day pacific 11:59pm, NO EXCEPTIONS. Submit early enough to deal with any unforeseen technical issues that may arise while submitting. Make sure to select the page(s) that correspond to each problem part!\n",
    "*\tThis exam should be solved in two hours (three hours max).  Upload it to Gradescope once you are done. Do not dither and spend too much time/energy on the exam, it will not improve your grade. \n",
    "* To receive full credit, answers must include a correct answer, demonstrate all steps used to obtain the answer, and round to four decimal places unless otherwise indicated.\n",
    "* Final written answers **must be placed in the indicated text/Markdown cell**. Text/comments in coding cells can easily be cut off when exported as a pdf and will not be used as answers when grading. R output provided without words or indication are not considered complete answers.\n",
    "* This exam **does not require R**. R may be used as a calculator or to obtain critical values from statistical tables, but no credit will be given for the use of confidence interval or hypothesis test functions. If R is used to complete steps on a problem, make sure to include the utilized code/output along with your written text answers.\n",
    "*\tWe are looking for concise accurate responses and explanations. Long wishy-washy responses will not work to your advantage. \n",
    "* If submitting photos of your handwritten exam, make sure the photos are clearly visible and centered on the page. Your pictures should look the same as if we had run your exam through a scanner.\n",
    "* This is an open book exam; you may use all your notes and materials from the course.\n",
    "\n",
    "## Honor Code Statement:\n",
    "\n",
    "### \"As a member of the UC Berkeley community I act with honesty, integrity, and respect for others.”\n",
    "\n",
    "\n",
    "**This is an individual exam.  Cases of collaboration/copying will be given scores of zero.**\n",
    "\n",
    "Please print your name below to indicate that you understand that this exam is to be completed alone, without outside assistance, and that you understand the penalty for failing to do so:\n"
   ]
  },
  {
   "cell_type": "markdown",
   "metadata": {},
   "source": [
    "**Printed Name:**\n",
    "<br>\n",
    "<br>"
   ]
  },
  {
   "cell_type": "markdown",
   "metadata": {
    "editable": false
   },
   "source": [
    "<hr style=\"border:1.5px solid gray\"> </hr>"
   ]
  },
  {
   "cell_type": "markdown",
   "metadata": {},
   "source": [
    "# Final 2021 - EEP/IAS 118 - Villas Boas\n",
    "\n",
    "## 100 Points Total"
   ]
  },
  {
   "cell_type": "markdown",
   "metadata": {},
   "source": [
    "## Exercise 1. (26 Points)\n",
    "\n",
    "We estimate the following model where $price_{jt}$ is the price of sandwich j at time t, and is a function of the calories of sandwich j at time t (which is measured as the difference between each sandwich's calories and 40 calories) using a dataset with 602 observations.\n",
    "\n",
    "The OLS regression line is\n",
    "\n",
    "$$\\widehat{price_{jt}} = 3.5 + 0.185 * (Calories_{jt} - 40)$$\n",
    "$$(0.9)~~~(0.044)~~~~~~~~~~~~~~$$\n",
    "\n",
    "Where standard errors of the estimated coefficients are in parentheses."
   ]
  },
  {
   "cell_type": "markdown",
   "metadata": {},
   "source": [
    "**(a) (4 Points)** Please construct a 95% confidence interval of the predicted average price of a sandwich with 40 calories."
   ]
  },
  {
   "cell_type": "markdown",
   "metadata": {},
   "source": [
    "➡️ Written Solutions for Ex1(a)"
   ]
  },
  {
   "cell_type": "code",
   "execution_count": null,
   "metadata": {},
   "outputs": [],
   "source": [
    "# Include any code used for EX1-(a) here. (Coding Cell) Final answers do not belong in this cell. "
   ]
  },
  {
   "cell_type": "markdown",
   "metadata": {},
   "source": [
    "**(b) (5 Points)** Do you find evidence that more calories are associated with higher prices at the 10 percent significance level for a one-sided alternative? Do all 5 steps in hypothesis testing."
   ]
  },
  {
   "cell_type": "markdown",
   "metadata": {},
   "source": [
    "➡️ Written Solutions for Ex1(b)"
   ]
  },
  {
   "cell_type": "code",
   "execution_count": null,
   "metadata": {},
   "outputs": [],
   "source": [
    "# Include any code used for EX1-(b) here. (Coding Cell) Final answers do not belong in this cell. "
   ]
  },
  {
   "cell_type": "markdown",
   "metadata": {},
   "source": [
    "**(c) (5 Points)** When we calculate the correlation between actual and predicted prices we obtain a value of 0.34. What is the regression’s goodness of fit measure <u>adjusted R-squared’s</u> value? Round to four decimal places."
   ]
  },
  {
   "cell_type": "markdown",
   "metadata": {},
   "source": [
    "➡️ Written Solutions for Ex1(c)"
   ]
  },
  {
   "cell_type": "code",
   "execution_count": null,
   "metadata": {},
   "outputs": [],
   "source": [
    "# Include any code used for EX1-(c) here. (Coding Cell) Final answers do not belong in this cell. "
   ]
  },
  {
   "cell_type": "markdown",
   "metadata": {},
   "source": [
    "**(d) (5 Points)** We run the regression of prices on (Calories-40) and add the level of saturated fat (measured in grams) to the regression. We note that the coefficient on saturated fat is -0.05 with a standard error of (0.01). Moreover, in that regression the estimated coefficient of (Calories-40) is now 0.06 with a standard error of (0.02). What does this tell you in terms of the correlation between the variable (Calories-40) and the variable saturated fat content of sandwiches?"
   ]
  },
  {
   "cell_type": "markdown",
   "metadata": {},
   "source": [
    "➡️ Written Solutions for Ex1(d)"
   ]
  },
  {
   "cell_type": "code",
   "execution_count": null,
   "metadata": {},
   "outputs": [],
   "source": [
    "# Include any code used for EX1-(d) here. (Coding Cell) Final answers do not belong in this cell. "
   ]
  },
  {
   "cell_type": "markdown",
   "metadata": {},
   "source": [
    "**(e) (7 Points)** We wish to test the null hypothesis that the coefficients on “Calories-40” is equal to 0.03 and the coefficient on “saturated fat” is equal to -0.03 at the 5% level. Please perform the 5 steps in hypothesis testing and conclude, given that the Residual standard error from the unrestricted regression is 1.9 and the Sum of Squared Residuals (SSR) for the restricted regression is 2850. "
   ]
  },
  {
   "cell_type": "markdown",
   "metadata": {},
   "source": [
    "➡️ Written Solutions for Ex1(e)"
   ]
  },
  {
   "cell_type": "code",
   "execution_count": null,
   "metadata": {},
   "outputs": [],
   "source": [
    "# Include any code used for EX1-(e) here. (Coding Cell) Final answers do not belong in this cell. "
   ]
  },
  {
   "cell_type": "markdown",
   "metadata": {},
   "source": [
    "## Exercise 2. (24 Points)\n",
    "\n",
    "We estimated the following model where $price_{jt}$ is the price of good j at time t, and is a function of the calories ($Calories_{jt}$) of product j at time t using a subset of the same dataset with 36 observations. We now want to control for factors specific to each product and also factors changing year to year that could affect prices common to all products.  We have 3 different types of sandwiches and 2 years in the data, and these sandwiches are sold in different regions of the country. Here is the regression you would use to estimate the effect of calories on prices controlling for those factors:\n",
    "\n",
    "$$price_{jt} =~ ∝_0 ~+~ ∝_1 ~ type_1 ~+~ ∝_2 ~ type_2 ~+~ ∝_3 ~ type_3 ~+~ β ~ Calories_{jt} ~+~ γ ~ Year_2 ~+~ ε_{jt}$$"
   ]
  },
  {
   "cell_type": "markdown",
   "metadata": {},
   "source": [
    "**(a) (4 Points)** Can you estimate all coefficients $∝_0, ∝_1, ∝_2, ∝_3, β, γ$ by OLS? Why or why not? Explain briefly with reference to collinearity."
   ]
  },
  {
   "cell_type": "markdown",
   "metadata": {},
   "source": [
    "➡️ Written Solutions for Ex2(a)"
   ]
  },
  {
   "cell_type": "markdown",
   "metadata": {},
   "source": [
    "**(b) (4 Points)** What is the variable $type1$ in this regression? Please define it and explain what it looks like in the data set. "
   ]
  },
  {
   "cell_type": "markdown",
   "metadata": {},
   "source": [
    "➡️ Written Solutions for Ex2(b)"
   ]
  },
  {
   "cell_type": "markdown",
   "metadata": {},
   "source": [
    "### For parts c) through f) assume that the variable $type_3$ is the omitted group."
   ]
  },
  {
   "cell_type": "markdown",
   "metadata": {},
   "source": [
    "**(c) (4 Points)** Please interpret the meaning and statistical significance of the OLS estimate $\\hat{∝_0}$ = 5 with a standard error of 1.8. (2-3 sentences max)"
   ]
  },
  {
   "cell_type": "markdown",
   "metadata": {},
   "source": [
    "➡️ Written Solutions for Ex2(c)"
   ]
  },
  {
   "cell_type": "code",
   "execution_count": null,
   "metadata": {},
   "outputs": [],
   "source": [
    "# Include any code used for EX2-(c) here. (Coding Cell) Final answers do not belong in this cell. "
   ]
  },
  {
   "cell_type": "markdown",
   "metadata": {},
   "source": [
    "**(d) (4 Points)** Please interpret the meaning and statistical significance of the OLS estimate $\\hat{∝_1}$ = -3 with a standard error of 5. (2-3 sentences max)"
   ]
  },
  {
   "cell_type": "markdown",
   "metadata": {},
   "source": [
    "➡️ Written Solutions for Ex2(d)"
   ]
  },
  {
   "cell_type": "code",
   "execution_count": null,
   "metadata": {},
   "outputs": [],
   "source": [
    "# Include any code used for EX2-(d) here. (Coding Cell) Final answers do not belong in this cell. "
   ]
  },
  {
   "cell_type": "markdown",
   "metadata": {},
   "source": [
    "**(e) (4 Points)** Please interpret the meaning and statistical significance of the OLS estimate $\\hat{γ}$ = 2.9 with a standard error of 1.6. (2-3 sentences max)"
   ]
  },
  {
   "cell_type": "markdown",
   "metadata": {},
   "source": [
    "➡️ Written Solutions for Ex2(e)"
   ]
  },
  {
   "cell_type": "code",
   "execution_count": null,
   "metadata": {},
   "outputs": [],
   "source": [
    "# Include any code used for EX2-(e) here. (Coding Cell) Final answers do not belong in this cell. "
   ]
  },
  {
   "cell_type": "markdown",
   "metadata": {},
   "source": [
    "**(f) (4 Points)** Please interpret the meaning and statistical significance of the OLS estimate $\\hat{β}$ = 0.02 with a standard error of 0.002. (2-3 sentences max)"
   ]
  },
  {
   "cell_type": "markdown",
   "metadata": {},
   "source": [
    "➡️ Written Solutions for Ex2(f)"
   ]
  },
  {
   "cell_type": "code",
   "execution_count": null,
   "metadata": {},
   "outputs": [],
   "source": [
    "# Include any code used for EX2-(f) here. (Coding Cell) Final answers do not belong in this cell. "
   ]
  },
  {
   "cell_type": "markdown",
   "metadata": {},
   "source": [
    "## Exercise 3. (23 Points) \n",
    "\n",
    "Now assume there are more than 3 sandwiches in our data (using all 602 observations). We learn that a random subset of the sandwiches in our sample were affected by a quasi-experiment. On half of them a sticker was added that explained that the workers in the restaurant earn a living wage because they operate in counties that were subject to a 15-dollar hourly minimum wage regulation. The other half of the sandwiches were served in regions that did not have a minimum wage of 15 dollars an hour (and whose sandwiches did not feature stickers). Moreover, regulation happened in Year 2 and did not happen in Year 1, so we can observe the prices of sandwiches before and after the minimum wage regulation is implemented and the sticker added to the sandwich wrapper in regulated counties. We also have access to data on the sandwiches’ nutritional characteristics and restaurant and employee characteristics in year 1."
   ]
  },
  {
   "cell_type": "markdown",
   "metadata": {},
   "source": [
    "**(a) (5 Points)** Below is a table showing the average prices in Year 1 and Year 2 in areas that received the minimum wage and disclosure regulations and in non-regulated areas. Please complete all the missing pieces in this table. Show any work in the box below and **write all missing values in the table.**"
   ]
  },
  {
   "cell_type": "markdown",
   "metadata": {},
   "source": [
    "| Average Sandwich Prices | Regulated=0 | Regulated=1 |\tDifference (Reg-Not Regulated) |\n",
    "| :----------- | :----------------------- | :----------------------- | :----------------------- |\n",
    "| Year2 = 0 | $$4.2$$ | $$6$$ |  $$(iii)$$ |\n",
    "|||||\n",
    "| Year2 = 1 | $$5$$ | $$ (ii) $$ | $$(iv)$$ |\n",
    "|||||\n",
    "| Difference (Year2 – Year1) | $$(i)$$ | $$3$$ | $$(v)$$ |"
   ]
  },
  {
   "cell_type": "markdown",
   "metadata": {},
   "source": [
    "➡️ (i) = "
   ]
  },
  {
   "cell_type": "markdown",
   "metadata": {},
   "source": [
    "➡️ (ii) = "
   ]
  },
  {
   "cell_type": "markdown",
   "metadata": {},
   "source": [
    "➡️ (iii) = "
   ]
  },
  {
   "cell_type": "markdown",
   "metadata": {},
   "source": [
    "➡️ (iv) ="
   ]
  },
  {
   "cell_type": "markdown",
   "metadata": {},
   "source": [
    "➡️ (v) ="
   ]
  },
  {
   "cell_type": "code",
   "execution_count": null,
   "metadata": {},
   "outputs": [],
   "source": [
    "# Include any code used for EX3-(a) here. (Coding Cell) Final answers do not belong in this cell. "
   ]
  },
  {
   "cell_type": "markdown",
   "metadata": {},
   "source": [
    "**(b) (6 Points)** Below is the equation we estimate to measure the causal effect of regulation on sandwich prices.\n",
    "\n",
    "$$ \\widehat{price} = \\hat{δ_0} + \\hat{δ_1}  Year_2 + \\hat{δ_2} Regulated + \\hat{δ_3} Regulated*Year2 $$\n",
    "\n",
    "What are the values of all the estimated coefficients in this price equation given what you know in (a)? Place your answers next to the coefficients in the box below."
   ]
  },
  {
   "cell_type": "markdown",
   "metadata": {},
   "source": [
    "➡️ $\\hat{δ_0}$ = "
   ]
  },
  {
   "cell_type": "markdown",
   "metadata": {},
   "source": [
    "➡️ $\\hat{δ_1}$ ="
   ]
  },
  {
   "cell_type": "markdown",
   "metadata": {},
   "source": [
    "➡️ $\\hat{δ_2}$ = "
   ]
  },
  {
   "cell_type": "markdown",
   "metadata": {},
   "source": [
    "➡️ $\\hat{δ_3}$ = "
   ]
  },
  {
   "cell_type": "code",
   "execution_count": null,
   "metadata": {},
   "outputs": [],
   "source": [
    "# Include any code used for EX3-(b) here. (Coding Cell) Final answers do not belong in this cell. "
   ]
  },
  {
   "cell_type": "markdown",
   "metadata": {},
   "source": [
    "**(c) (2 Points)** What is the impact analysis method used for causal identification in the equation in (b)? (1 sentence max)"
   ]
  },
  {
   "cell_type": "markdown",
   "metadata": {},
   "source": [
    "➡️ Written Solutions for Ex3(c)"
   ]
  },
  {
   "cell_type": "markdown",
   "metadata": {},
   "source": [
    "**(d) (5 Points)** \tPlease test the null hypothesis that regulation has no causal effect on prices in a two-sided test at the 1 percent significance level given the provided standard errors: $\\widehat{se(δ_0)}$ = 4.2, $\\widehat{se(δ_1)}$ = 0.5, $\\widehat{se(δ_2)}$ = 0.2, $\\widehat{se(δ_3)}$ = 0.5. Use the 5 steps of hypothesis testing."
   ]
  },
  {
   "cell_type": "markdown",
   "metadata": {},
   "source": [
    "➡️ Written Solutions for Ex3(d)"
   ]
  },
  {
   "cell_type": "code",
   "execution_count": null,
   "metadata": {},
   "outputs": [],
   "source": [
    "# Include any code used for EX3-(d) here. (Coding Cell) Final answers do not belong in this cell. "
   ]
  },
  {
   "cell_type": "markdown",
   "metadata": {},
   "source": [
    "**(e) (5 Points)** You do a balance test on the characteristics of regulated and unregulated sandwiches in year 1. The p-values for the equality of averages of your observable characteristics of sandwiches and restaurants in regulated and unregulated areas in year 1 are all greater than 0.4. Are you assured that the quasi-experimental randomization is present given the method you are using to measure the causal effect of regulation on prices? Why or why not, explain briefly. (3-4 sentences max)"
   ]
  },
  {
   "cell_type": "markdown",
   "metadata": {},
   "source": [
    "➡️ Written Solutions for Ex3(e)"
   ]
  },
  {
   "cell_type": "markdown",
   "metadata": {},
   "source": [
    "## Exercise 4. (12 Points)\n",
    "\n",
    "The R output below shows the summary statistics for prices of 46 footlong sandwiches and 60 panini sandwiches."
   ]
  },
  {
   "cell_type": "markdown",
   "metadata": {},
   "source": [
    "<hr>\n",
    "\n",
    "avg_footlong <- mean(mydata\\\\$price[which(mydata\\\\$footlong==1)])\n",
    "\n",
    "avg_panini <- mean(mydata\\\\$price[which(mydata\\\\$panini==1)])\n",
    "\n",
    "avg_footlong\n",
    "\n",
    "$\\color{blue}{[1] ~ 3.44913}$\n",
    "\n",
    "avg_panini\n",
    "\n",
    "$\\color{blue}{[1] ~ 4.22417}$\n",
    "\n",
    "sd_footlong <- sd(mydata\\\\$price[which(mydata\\\\$footlong==1)])\n",
    "\n",
    "sd_panini <- sd(mydata\\\\$price[which(mydata\\\\$panini==1)])\n",
    "\n",
    "sd_footlong\n",
    "\n",
    "$\\color{blue}{[1] ~ 1.002813}$\n",
    "\n",
    "sd_panini\n",
    "\n",
    "$\\color{blue}{[1] ~ 1.242687}$\n",
    "\n",
    "<hr>"
   ]
  },
  {
   "cell_type": "markdown",
   "metadata": {},
   "source": [
    "**(a) (8 Points)** Test whether the average prices of footlong (footlong=1) sandwiches and panini sandwiches (panini=1) are equal at the 5% level. Use the 5 steps of hypothesis testing and round your answer to 4 decimal places."
   ]
  },
  {
   "cell_type": "markdown",
   "metadata": {},
   "source": [
    "➡️ Written Solutions for Ex4(a)"
   ]
  },
  {
   "cell_type": "code",
   "execution_count": null,
   "metadata": {},
   "outputs": [],
   "source": [
    "# Include any code used for EX4-(a) here. (Coding Cell) Final answers do not belong in this cell. "
   ]
  },
  {
   "cell_type": "markdown",
   "metadata": {},
   "source": [
    "**(b) (4 Points)** Construct a 99 percent confidence interval for the mean of prices for panini sandwiches. Round your answer to 4 decimal places."
   ]
  },
  {
   "cell_type": "markdown",
   "metadata": {},
   "source": [
    "➡️ Written Solutions for Ex4(b)"
   ]
  },
  {
   "cell_type": "code",
   "execution_count": null,
   "metadata": {},
   "outputs": [],
   "source": [
    "# Include any code used for EX4-(b) here. (Coding Cell) Final answers do not belong in this cell. "
   ]
  },
  {
   "cell_type": "markdown",
   "metadata": {},
   "source": [
    "## Exercise 5. (15 points)\n",
    "\n",
    "We next want to understand the probability of individuals buying sandwiches made only from organic ingredients.\n",
    "\n",
    "The R output below corresponds to the linear probability model of whether individuals bought organic sandwiches (choseOrganic = 1 or 0) as a function of whether individuals have children less than 6 years (kidslt6 =1 or 0) and the level of the individual’s education (educ) and family income (faminc). "
   ]
  },
  {
   "cell_type": "markdown",
   "metadata": {},
   "source": [
    "<img src=\"images/Pic1.png\" width=\"500\" />"
   ]
  },
  {
   "cell_type": "markdown",
   "metadata": {},
   "source": [
    "<img src=\"images/Pic2_e.png\" width=\"500\" />"
   ]
  },
  {
   "cell_type": "markdown",
   "metadata": {},
   "source": [
    "**(a) (2 Points)** What is the estimate of the robust standard error for the less than 6 years children (kidslt6) parameter?"
   ]
  },
  {
   "cell_type": "markdown",
   "metadata": {},
   "source": [
    "➡️ Written Solutions for Ex5(a)"
   ]
  },
  {
   "cell_type": "markdown",
   "metadata": {},
   "source": [
    "**(b) (3 Points)** Please interpret whether education level significantly affects the probability of choosing organic, controlling for an individual having young (less than 6 years old) children and income."
   ]
  },
  {
   "cell_type": "markdown",
   "metadata": {},
   "source": [
    "➡️ Written Solutions for Ex5(b)"
   ]
  },
  {
   "cell_type": "markdown",
   "metadata": {},
   "source": [
    "Next, please consider the output below that estimates a logit model and the corresponding marginal effects.\n",
    "\n",
    "<img src=\"images/Pic3.png\" width=\"500\" />"
   ]
  },
  {
   "cell_type": "markdown",
   "metadata": {},
   "source": [
    "**(c) (4 Points)** Please construct a 90 percent confidence interval for the average marginal effect (AME) of having children less than 6 years old on the probability of choosing organic, controlling for education and income. "
   ]
  },
  {
   "cell_type": "markdown",
   "metadata": {},
   "source": [
    "➡️ Written Solutions for Ex5(c)"
   ]
  },
  {
   "cell_type": "code",
   "execution_count": null,
   "metadata": {},
   "outputs": [],
   "source": [
    "# Include any code used for EX5-(c) here. (Coding Cell) Final answers do not belong in this cell. "
   ]
  },
  {
   "cell_type": "markdown",
   "metadata": {},
   "source": [
    "**(d) (3 Points)** Why is this interval different from the 95 percent confidence interval reported above in the corresponding columns lower and upper? Explain briefly."
   ]
  },
  {
   "cell_type": "markdown",
   "metadata": {},
   "source": [
    "➡️ Written Solutions for Ex5(d)"
   ]
  },
  {
   "cell_type": "markdown",
   "metadata": {},
   "source": [
    "**(e) (3 Points)** Does a one year increase in education significantly affect the probability of choosing organic in the logit model, all else equal? Explain."
   ]
  },
  {
   "cell_type": "markdown",
   "metadata": {},
   "source": [
    "➡️ Written Solutions for Ex5(e)"
   ]
  },
  {
   "cell_type": "markdown",
   "metadata": {},
   "source": [
    "<img src=\"images/Pic4.png\" width=\"300\" />\n",
    "\n",
    "It was a pleasure to teach you this Spring and we value your hard work and focus during this remote semester of econometrics in EEP 118. We really appreciate you filling out the evaluations and giving us feedback on things that worked well and what we can improve.\n",
    "\n",
    "We hope you have a good end of semester and hope to meet you one day in person in the future.\n",
    "\n",
    "All the best\n",
    "\n",
    "Sofia,  James, and Sung\n",
    "\n",
    "From your EEP 118 Spring 2021 team\n"
   ]
  }
 ],
 "metadata": {
  "kernelspec": {
   "display_name": "R",
   "language": "R",
   "name": "ir"
  },
  "language_info": {
   "codemirror_mode": "r",
   "file_extension": ".r",
   "mimetype": "text/x-r-source",
   "name": "R",
   "pygments_lexer": "r",
   "version": "3.6.1"
  }
 },
 "nbformat": 4,
 "nbformat_minor": 4
}
