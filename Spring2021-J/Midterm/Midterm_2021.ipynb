{
 "cells": [
  {
   "cell_type": "markdown",
   "metadata": {},
   "source": [
    "### Indicate the Following:"
   ]
  },
  {
   "cell_type": "markdown",
   "metadata": {},
   "source": [
    "Name: _____________________  SID: ________________________  GSI: _______________________                    "
   ]
  },
  {
   "cell_type": "markdown",
   "metadata": {},
   "source": [
    "# Midterm 2021 - EEP/IAS 118 - Villas Boas"
   ]
  },
  {
   "cell_type": "markdown",
   "metadata": {},
   "source": [
    "**Instructions:** Please answer questions in the boxes and spaces provided. This is an open book midterm. To receive full credit, answers must include a correct answer, demonstrate all steps used to obtain the answer, and be uploaded to gradescope within the allotted deadline, correctly indicating on which pages your answers to each question can be found. This exam **does not require R**. R may be used as a calculator or to obtain critical values from statistical tables, but no credit will be given for the use of confidence interval or hypothesis test functions. If R is used to complete steps on a problem, make sure to include the utilized code. **Final answers must be placed in the appropriate text/Markdown cell** - text/comments in coding cells will not be graded. **75 Points Total**"
   ]
  },
  {
   "cell_type": "markdown",
   "metadata": {},
   "source": [
    "### Question 1 (Total: 10 Points)"
   ]
  },
  {
   "cell_type": "markdown",
   "metadata": {},
   "source": [
    "In May, September, and November 2020, Pew Research Center conducted waves of the American Trends Panel (ATP), a nationally-representative panel of randomly selected U.S. adults, focused on receptiveness to a coronavirus vaccine. Below are the results:"
   ]
  },
  {
   "cell_type": "markdown",
   "metadata": {},
   "source": [
    "<img src=\"images/MT_2021_Picture1_trim.png\" width=\"500\" />"
   ]
  },
  {
   "cell_type": "markdown",
   "metadata": {},
   "source": [
    "**(a) (5 points)** Please test at the 5% significance level whether the true proportion in November 2020 (12,648 respondents) that would not get a vaccine (that is, that answered either probably not or definitely not) is equal to 36%. Use the five steps of hypothesis testing. Round to 4 places."
   ]
  },
  {
   "cell_type": "markdown",
   "metadata": {},
   "source": [
    "➡️ Type your answer / steps for Q1-(a) here. (Markdown Cell)"
   ]
  },
  {
   "cell_type": "code",
   "execution_count": null,
   "metadata": {},
   "outputs": [],
   "source": [
    "# Include any code used for Q1-(a) here only. (Coding Cell) Final answers do not belong in this cell."
   ]
  },
  {
   "cell_type": "markdown",
   "metadata": {},
   "source": [
    "**(b) (5 points)** Within the subset of respondents in the Nov 2020 wave who answered that they would not get the vaccine, 46% stated that they would possibly get the vaccine once others began getting vaccinated and there is more information, while 53% were pretty certain they would still not get a vaccine.\n",
    "\n",
    "Construct a 99% confidence interval for the true proportion in this subpopulation that would not get the vaccine even once others start getting it and more information is available (denote this as p_b).\n",
    "\n",
    "Please round the sample size you use here to the nearest integer, and otherwise round to 4 places."
   ]
  },
  {
   "cell_type": "markdown",
   "metadata": {},
   "source": [
    "***Write Solution Here:*** 99% Confidence interval p_b  = [                  ,                  ]"
   ]
  },
  {
   "cell_type": "markdown",
   "metadata": {},
   "source": [
    "➡️ Type your answer / steps for Q1-(b) here. (Markdown Cell)"
   ]
  },
  {
   "cell_type": "code",
   "execution_count": null,
   "metadata": {},
   "outputs": [],
   "source": [
    "# Include any code used for Q1-(b) here only. (Coding Cell) Final answers do not belong in this cell."
   ]
  },
  {
   "cell_type": "markdown",
   "metadata": {},
   "source": [
    "### Question 2 (Total: 45 Points)"
   ]
  },
  {
   "cell_type": "markdown",
   "metadata": {},
   "source": [
    "**(a) - (g) (5 points each)** Please complete the missing elements in the Stata output below:"
   ]
  },
  {
   "cell_type": "markdown",
   "metadata": {},
   "source": [
    "<img src=\"images/MT_2021_Picture2.png\" width=\"600\" />"
   ]
  },
  {
   "cell_type": "markdown",
   "metadata": {},
   "source": [
    "➡️ Type your answer / steps for Q2-(a) here. (Markdown Cell)"
   ]
  },
  {
   "cell_type": "markdown",
   "metadata": {},
   "source": [
    "➡️ Type your answer / steps for Q2-(b) here. (Markdown Cell)"
   ]
  },
  {
   "cell_type": "markdown",
   "metadata": {},
   "source": [
    "➡️ Type your answer / steps for Q2-(c) here. (Markdown Cell)"
   ]
  },
  {
   "cell_type": "markdown",
   "metadata": {},
   "source": [
    "➡️ Type your answer / steps for Q2-(d) here. (Markdown Cell)"
   ]
  },
  {
   "cell_type": "markdown",
   "metadata": {},
   "source": [
    "➡️ Type your answer / steps for Q2-(e) here. (Markdown Cell)"
   ]
  },
  {
   "cell_type": "markdown",
   "metadata": {},
   "source": [
    "➡️ Type your answer / steps for Q2-(f) here. (Markdown Cell)"
   ]
  },
  {
   "cell_type": "markdown",
   "metadata": {},
   "source": [
    "➡️ Type your answer / steps for Q2-(g) here. (Markdown Cell)"
   ]
  },
  {
   "cell_type": "code",
   "execution_count": 3,
   "metadata": {},
   "outputs": [],
   "source": [
    "# Include any code used for Q2-(a)~(g) here. (Coding Cell) Final answers do not belong in this cell."
   ]
  },
  {
   "cell_type": "markdown",
   "metadata": {},
   "source": [
    "**(h) (5 points)** If I were to run the same regression using a random sample of size N=1000 drawn from the same population, the standard errors of the coefficients must increase compared to the estimates for N=100 as the amount of variation in our data will increase.\n",
    "\n",
    "Indicate: True or False or Depends: TRUE / FALSE / DEPENDS. And concisely explain **in a maximum of 2 sentences**."
   ]
  },
  {
   "cell_type": "markdown",
   "metadata": {},
   "source": [
    "➡️ Type your answer / steps for Q2-(h) here. (Markdown Cell)"
   ]
  },
  {
   "cell_type": "markdown",
   "metadata": {},
   "source": [
    "**(i) (5 points)** Using the R output below, test whether the distance of an airline flight (`dist`) and the number of passengers (`passen`) jointly influence airline fares. Show your work using the five steps of hypothesis testing. Use a significance level of α=0.05.\n",
    "\n",
    "Left Regression: $$reg1 \\text{ <- } lm(fare \\sim dist + passen + bmktshr, ~mydata100)$$\n",
    "\n",
    "Right Regression: $$reg2 \\text{ <- } lm(fare \\sim bmktshr, ~mydata100)$$"
   ]
  },
  {
   "cell_type": "markdown",
   "metadata": {},
   "source": [
    "<img src=\"images/MT_2021_Picture3.png\" width=\"800\"/>"
   ]
  },
  {
   "cell_type": "markdown",
   "metadata": {},
   "source": [
    "➡️ Type your answer / steps for Q2-(i) here. (Markdown Cell)"
   ]
  },
  {
   "cell_type": "code",
   "execution_count": null,
   "metadata": {},
   "outputs": [],
   "source": [
    "# Include any code used for Q2-(i) here. (Coding Cell) Final answers do not belong in this cell."
   ]
  },
  {
   "cell_type": "markdown",
   "metadata": {},
   "source": [
    "### Question 3 (Total: 20 Points)"
   ]
  },
  {
   "cell_type": "markdown",
   "metadata": {},
   "source": [
    "A researcher wishes to understand the effect of recent events on airline stock prices. They collected data on stock prices for the major airline company in their country from October 2020 through February 2021. The testable hypothesis is whether, after controlling for other factors, the airline stock price (measured in dollars) was affected by the spread of COVID-19 in that country. The researcher ran the following regression, where $Y_d$ = the log of stock price of the major airline on day d. The researcher has N=500 days of data. $Log(Number Cases)_d$ is the log of daily COVID-19 cases in the country, and $Accidents_d$ is a dummy variable equal to one if an airline accident occurred somewhere in the world on that day, and equal to zero otherwise. These are the estimated parameters and standard errors in parentheses underneath.\n",
    "\n",
    "$$Y_D = 0.31 - 0.5 \\log(Number~Cases)_d - 0.02 Accidents_d~~~~~~~~~ R^2 = 0.12$$\n",
    "$$~~~~~~~(0.07)~~(0.01)~~~~~~~~~~~~~~~~~~~~~~~~~~~~~~~~~~~~~(0.001)~~~~~~~~~~~~~~~~~~~~~N = 500$$"
   ]
  },
  {
   "cell_type": "markdown",
   "metadata": {},
   "source": [
    "**(a) (5 points)** Interpret the coefficient on log(Number Cases) (remember to discuss Sign, Size, and Significance)."
   ]
  },
  {
   "cell_type": "markdown",
   "metadata": {},
   "source": [
    "➡️ Type your answer / steps for Q3-(a) here. (Markdown Cell)"
   ]
  },
  {
   "cell_type": "code",
   "execution_count": 4,
   "metadata": {},
   "outputs": [],
   "source": [
    "# Include any code used for Q3-(a) here. (Coding Cell) Final answers do not belong in this cell."
   ]
  },
  {
   "cell_type": "markdown",
   "metadata": {},
   "source": [
    "**(b) (5 points)** What would be the predicted level of the airline stock price (measured in dollars) on an accident day when the number of COVID-19 cases equals 5000?  Show your work/explain."
   ]
  },
  {
   "cell_type": "markdown",
   "metadata": {},
   "source": [
    "➡️ Type your answer / steps for Q3-(b) here. (Markdown Cell)"
   ]
  },
  {
   "cell_type": "code",
   "execution_count": null,
   "metadata": {},
   "outputs": [],
   "source": [
    "# Include any code used for Q3-(b) here. (Coding Cell) Final answers do not belong in this cell."
   ]
  },
  {
   "cell_type": "markdown",
   "metadata": {},
   "source": [
    "**(c) (5 points)** The researcher may be concerned that the economy as a whole is generally doing poorly, and that this general decline also affects stock prices. Therefore, the researcher decides to add a daily trend (Trend$_d$) to the above regression and obtains the new sample regression:\n",
    "\n",
    "$$Y_D = 0.05 - 0.5 \\log(Number~Cases)_d - 0.04 Accidents_d - 0.004 Trends_d  ~~~~~~~R^2 = 0.42$$\n",
    "$$~~~~~~~(0.07)~~~~(0.01)~~~~~~~~~~~~~~~~~~~~~~~~~~~~~~~~~~~(0.001)~~~~~~~~~~~~~~~~~~(0.001)~~~~~~~~~~~~~~~~~N = 500$$\n",
    "\n",
    "Compare the coefficients on Accidents$_d$ in the two regressions (the regression immediately above versus the regression for parts (a) and (b)).  How does the coefficient change? Based on the estimated regression in (c), what can you say about the correlation between Accidents and the daily time variable?  Show your work/explain, using both an equation and words.\n"
   ]
  },
  {
   "cell_type": "markdown",
   "metadata": {},
   "source": [
    "➡️ Type your answer / steps for Q3-(c) here. (Markdown Cell)"
   ]
  },
  {
   "cell_type": "code",
   "execution_count": null,
   "metadata": {},
   "outputs": [],
   "source": [
    "# Include any code used for Q3-(c) here. (Coding Cell) Final answers do not belong in this cell. "
   ]
  },
  {
   "cell_type": "markdown",
   "metadata": {},
   "source": [
    "**(d) (5 points)** TRUE or FALSE: “Suppose the correlation between the log number of COVID-19 cases and the Unemployment Rate is 0.99.  If you add the unemployment rate into the regression, this will generate smaller standard errors for the estimated coefficient on log number of COVID-19 cases, as the unemployment rate controls for the general economic decline and improves the overall model fit.” "
   ]
  },
  {
   "cell_type": "markdown",
   "metadata": {},
   "source": [
    "State TRUE or FALSE below, and explain your answer in a **maximum of two sentences**.\n"
   ]
  },
  {
   "cell_type": "markdown",
   "metadata": {},
   "source": [
    "➡️ Type your answer / steps for Q3-(d) here. (Markdown Cell)"
   ]
  }
 ],
 "metadata": {
  "kernelspec": {
   "display_name": "R",
   "language": "R",
   "name": "ir"
  },
  "language_info": {
   "codemirror_mode": "r",
   "file_extension": ".r",
   "mimetype": "text/x-r-source",
   "name": "R",
   "pygments_lexer": "r",
   "version": "3.6.1"
  }
 },
 "nbformat": 4,
 "nbformat_minor": 4
}
