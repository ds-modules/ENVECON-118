{
 "cells": [
  {
   "cell_type": "markdown",
   "metadata": {},
   "source": [
    "# Problem Set 4, Spring 2021, Villas-Boas"
   ]
  },
  {
   "cell_type": "markdown",
   "metadata": {},
   "source": [
    "Due <u>As posted on bCourses Assignments page</u>\n",
    "\n",
    "This problem set is to be done using R. To receive full credit, answers must include a correct answer, demonstrate all steps (codes and corresponding output) used to obtain the answer, and be uploaded to [Gradescope](https://www.gradescope.com/courses/226571), correctly indicating on which pages your answers to each question can be found."
   ]
  },
  {
   "cell_type": "markdown",
   "metadata": {},
   "source": [
    "## Data\n",
    "\n",
    "The data set `Pset4_2021.dta` contains state-level data on the percent of children born with low birth-weight, infant mortality, and the percent of population on AFDC (Aid to Families with Dependent Children). AFDC was an entitlement program that guaranteed benefits to all recipients whose income and resources were below state-determined eligibility levels. The data set also contains variables describing additional state characteristics, including per-capita income, per-capita number of doctors, etc. for the year 1987.\n",
    "\n",
    "\n",
    "|Variable Name\t|\tDescription |\t\n",
    "| :----------- | :----------------------- |\n",
    "|lowbrth  | percent low weight births |\n",
    "|infmort  | infant mortality rate (unit: deaths per 1,000 live births) |\n",
    "|afdcprt  | # participants in AFDC (unit: 1000 persons) |\n",
    "|popul    | population (unit: 1000 persons) |\n",
    "|pcinc    | per capita income (unit: \\$ per capita) |\n",
    "|afdcprc  | percent of population on AFDC |\n",
    "|afdcpay  | average monthly AFDC payment (unit: \\$) |\n",
    "|afdcinc  | afdcpay as % per capita income |\n",
    "|stateabb | state postal code |\n",
    "|state    | name of state |\n",
    "|bedspc   | hospital beds per capita |\n",
    "|povrate  | % population below poverty line |\n",
    "|physicpc | physicians per capita |\n",
    "|GovDem   | = 1 if the state had a democratic governor in 1986, = 0 otherwise (i.e. Republican) \\*| \n",
    "\n",
    "\\* Source: https://en.wikipedia.org/wiki/1986 United States gubernatorial elections\n",
    "\n"
   ]
  },
  {
   "cell_type": "markdown",
   "metadata": {},
   "source": [
    "## Preamble\n",
    "\n",
    "Use the following code cell to load the dataset and any packages you plan to use (at least **tidyverse** and **haven**)."
   ]
  },
  {
   "cell_type": "code",
   "execution_count": 1,
   "metadata": {},
   "outputs": [],
   "source": [
    "# Add your preamble code here"
   ]
  },
  {
   "cell_type": "markdown",
   "metadata": {},
   "source": [
    "## Exercise 1"
   ]
  },
  {
   "cell_type": "markdown",
   "metadata": {},
   "source": [
    "**1.** Please provide a table of summary statistics (mean, median, std, min and max) for percent low birth weight, infant \n",
    "mortality rate, physicians per capita, average AFDC monthly payment, hospital beds per capita, percent population below the poverty line, and the indicator for Democratic Governor.\n",
    "\n",
    "*(Hint: See [Coding Bootcamp Part 5](https://r.datahub.berkeley.edu/hub/user-redirect/git-pull?repo=https%3A%2F%2Fgithub.com%2Fds-modules%2FENVECON-118&urlpath=tree%2FENVECON-118%2FSpring2021-J%2FSections%2FCoding+Bootcamps) for how to do this using the `stargazer` package.)*"
   ]
  },
  {
   "cell_type": "markdown",
   "metadata": {},
   "source": [
    "➡️ Type your written work for and answer to part Exercise 1 - Q1 here."
   ]
  },
  {
   "cell_type": "code",
   "execution_count": null,
   "metadata": {},
   "outputs": [],
   "source": [
    "# insert code here"
   ]
  },
  {
   "cell_type": "markdown",
   "metadata": {},
   "source": [
    "**2.** Please graph the histogram of percent low birthweight for all the states. Then, plot another histogram for states with average monthly AFDC payment (afdcpay) larger than the median. Finally, plot the same graph for states with average monthly AFDC payment (afdcpay) less than or equal to the median. What is the average low birthweight percentage for each group?"
   ]
  },
  {
   "cell_type": "markdown",
   "metadata": {},
   "source": [
    "➡️ Type your written work for and answer to part Exercise 1 - Q2 here."
   ]
  },
  {
   "cell_type": "code",
   "execution_count": null,
   "metadata": {},
   "outputs": [],
   "source": [
    "# insert code here"
   ]
  },
  {
   "cell_type": "markdown",
   "metadata": {},
   "source": [
    "**3.** Produce a new plot that overlaps the histograms for the below and above median groups. What do you conclude in terms of similarities and differences in the two histograms? (Keep answers brief: max 2-4 sentences)\n",
    "\n",
    "(Hint: see the Histograms section of [Coding Bootcamp Part 4](https://r.datahub.berkeley.edu/hub/user-redirect/git-pull?repo=https%3A%2F%2Fgithub.com%2Fds-modules%2FENVECON-118&urlpath=tree%2FENVECON-118%2FSpring2021-J%2FSections%2FCoding+Bootcamps) for help overlapping histograms)\n"
   ]
  },
  {
   "cell_type": "markdown",
   "metadata": {},
   "source": [
    "➡️ Type your written work for and answer to part Exercise 1 - Q3 here."
   ]
  },
  {
   "cell_type": "code",
   "execution_count": null,
   "metadata": {},
   "outputs": [],
   "source": [
    "# insert code here"
   ]
  },
  {
   "cell_type": "markdown",
   "metadata": {},
   "source": [
    "**4.** Estimate the model of low percent birth weight as a linear function of a constant, average monthly AFDC payment, and physicians per capita. Comment on the estimated intercept and each of the right hand side variables' estimated parameters in terms of Sign, Size, and Significance (SSS)."
   ]
  },
  {
   "cell_type": "markdown",
   "metadata": {},
   "source": [
    "➡️ Type your written work for and answer to part Exercise 1 - Q4 here."
   ]
  },
  {
   "cell_type": "code",
   "execution_count": null,
   "metadata": {},
   "outputs": [],
   "source": [
    "# insert code here"
   ]
  },
  {
   "cell_type": "markdown",
   "metadata": {},
   "source": [
    "**5.** In absolute terms, does the average monthly AFDC payment or the per capita number of physicians matter more in predicting the percent low birth weight in a state? (Use standardized approach)"
   ]
  },
  {
   "cell_type": "markdown",
   "metadata": {},
   "source": [
    "➡️ Type your written work for and answer to part Exercise 1 - Q5 here."
   ]
  },
  {
   "cell_type": "code",
   "execution_count": null,
   "metadata": {},
   "outputs": [],
   "source": [
    "# insert code here"
   ]
  },
  {
   "cell_type": "markdown",
   "metadata": {},
   "source": [
    "**6.** Estimate the model of low percent birth weight as a linear function of a constant, average monthly AFDC payment, hospital beds per capita, physicians per capita, and the percent below poverty rate. Test the joint significance of the hospital beds per capita and physicians per capita variables at the 10% significance level."
   ]
  },
  {
   "cell_type": "markdown",
   "metadata": {},
   "source": [
    "➡️ Type your written work for and answer to part Exercise 1 - Q6 here."
   ]
  },
  {
   "cell_type": "code",
   "execution_count": null,
   "metadata": {},
   "outputs": [],
   "source": [
    "# insert code here"
   ]
  },
  {
   "cell_type": "markdown",
   "metadata": {},
   "source": [
    "**7.** Specify a model to predict the **average low percent birthweight** of a state with a monthly average AFDC payment equal to \\$550, 0.008 hospital beds per capita, and 0.092 physicians per capita."
   ]
  },
  {
   "cell_type": "markdown",
   "metadata": {},
   "source": [
    "➡️ Type your written work for and answer to part Exercise 1 - Q7 here."
   ]
  },
  {
   "cell_type": "code",
   "execution_count": null,
   "metadata": {},
   "outputs": [],
   "source": [
    "# insert code here"
   ]
  },
  {
   "cell_type": "markdown",
   "metadata": {},
   "source": [
    "**8.** Run that same regression model specified in 7 that allows you to easily obtain \"inputs\" for a confidence interval for that average prediction and report the 99% confidence interval.\n",
    "\n",
    "(Hint for 7 and 8: Generate the new x variables such that when you regress y on newx1 newx2 newx3 the constant is what you need, <u>as we did in lecture 14</u>.)"
   ]
  },
  {
   "cell_type": "markdown",
   "metadata": {},
   "source": [
    "➡️ Type your written work for and answer to part Exercise 1 - Q8 here."
   ]
  },
  {
   "cell_type": "code",
   "execution_count": null,
   "metadata": {},
   "outputs": [],
   "source": [
    "# insert code here"
   ]
  },
  {
   "cell_type": "markdown",
   "metadata": {},
   "source": [
    "**9.** Estimate the model that allows you to easy obtain the 99% confidence interval <u>for the average predicted</u> **infant mortality rate** for a state with a monthly average AFDC payment equal to \\$550, 0.008 hospital beds per capita, and 0.092 physicians per capita."
   ]
  },
  {
   "cell_type": "markdown",
   "metadata": {},
   "source": [
    "➡️ Type your written work for and answer to part Exercise 1 - Q9 here."
   ]
  },
  {
   "cell_type": "code",
   "execution_count": null,
   "metadata": {},
   "outputs": [],
   "source": [
    "# insert code here"
   ]
  },
  {
   "cell_type": "markdown",
   "metadata": {},
   "source": [
    "**10.** Suppose I told you I want you to construct the 99% confidence interval for a <u>specific state's predicted</u> **infant mortality rate** according to the model you estimated in 9 above. <u>**True or False?**</u> \"The 99% confidence interval for a specific state's predicted infant mortality rate is wider than the CI you obtained in 9 for the predicted average infant mortality rate?\" <u>Explain briefly.</u> \n",
    "\n",
    "(Hint: See lectures 14 / 15)"
   ]
  },
  {
   "cell_type": "markdown",
   "metadata": {},
   "source": [
    "➡️ Type your written work for and answer to part Exercise 1 - Q10 here."
   ]
  },
  {
   "cell_type": "code",
   "execution_count": null,
   "metadata": {},
   "outputs": [],
   "source": [
    "# insert code here"
   ]
  },
  {
   "cell_type": "markdown",
   "metadata": {},
   "source": [
    "**11.** First, estimate the model (A) of infant mortality rate as a linear function of a constant, monthly average AFDC payment, per capita hospital beds, per capita hospital beds squared, per capita physicians, and the poverty rate. Next, consider and estimate an alternative model (B) of infant mortality rate as a linear function of a constant, the monthly average AFDC payment, the log of per capita hospital beds, per capita physicians, and the poverty rate. Which one do you prefer,\n",
    "model (A) or (B)? \n",
    "\n",
    "(Hint: See lecture 13)"
   ]
  },
  {
   "cell_type": "markdown",
   "metadata": {},
   "source": [
    "➡️ Type your written work for and answer to part Exercise 1 - Q11 here."
   ]
  },
  {
   "cell_type": "code",
   "execution_count": null,
   "metadata": {},
   "outputs": [],
   "source": [
    "# insert code here"
   ]
  },
  {
   "cell_type": "markdown",
   "metadata": {},
   "source": [
    "## Exercise 2"
   ]
  },
  {
   "cell_type": "markdown",
   "metadata": {},
   "source": [
    "Consider two models below:\n",
    "\\begin{align*}\n",
    "lowbrth &= \\beta_0 + \\beta_1 AFDC + \\beta_2 bedspc + \\beta_3 physicpc + u           & (\\text{model 2.A}) \\\\\n",
    "log(lowbrth) &= \\alpha_0 + \\alpha_1 AFDC + \\alpha_2 bedspc + \\alpha_3 physicpc + v  & (\\text{model 2.B})\n",
    "\\end{align*}"
   ]
  },
  {
   "cell_type": "markdown",
   "metadata": {},
   "source": [
    "**(a)** Predict the average percent low birth-weight for a state with afdcpay = 400, bedspc = 0.001 and physicpc = 0.1 using model 2.B.\n",
    "\n",
    "(Hint: See lectures 14/15)"
   ]
  },
  {
   "cell_type": "markdown",
   "metadata": {},
   "source": [
    "➡️ Type your written work for and answer to part Exercise 2 - Part (a) here."
   ]
  },
  {
   "cell_type": "code",
   "execution_count": null,
   "metadata": {},
   "outputs": [],
   "source": [
    "# insert code here"
   ]
  },
  {
   "cell_type": "markdown",
   "metadata": {},
   "source": [
    "**(b)** Which of the models do you prefer? Show all the calculations and the required values obtained via R to answer this question. \n",
    "\n",
    "(Hint: See lecture 15)"
   ]
  },
  {
   "cell_type": "markdown",
   "metadata": {},
   "source": [
    "➡️ Type your written work for and answer to part Exercise 2 - Part (b) here."
   ]
  },
  {
   "cell_type": "code",
   "execution_count": null,
   "metadata": {},
   "outputs": [],
   "source": [
    "# insert code here"
   ]
  },
  {
   "cell_type": "markdown",
   "metadata": {},
   "source": [
    "## Exercise 3"
   ]
  },
  {
   "cell_type": "markdown",
   "metadata": {},
   "source": [
    "**(a)** Estimate model 2.B separately for states with a democratic governor and for those with a republican governor in 1986. Formally test at the 10% significance level whether the estimation regression should be done separately or whether we can pool the data. \n",
    "\n",
    "(Hint: See lecture 17 slide 37 onward)"
   ]
  },
  {
   "cell_type": "markdown",
   "metadata": {},
   "source": [
    "➡️ Type your written work for and answer to part Exercise 3 - Part (a) here."
   ]
  },
  {
   "cell_type": "code",
   "execution_count": null,
   "metadata": {},
   "outputs": [],
   "source": [
    "# insert code here"
   ]
  },
  {
   "cell_type": "markdown",
   "metadata": {},
   "source": [
    "**(b)** I would like to know whether the effect of the monthly AFDC payments on the log of percent low birthweight (in model 2.B) differs depending on whether the governor is democrat or not (republican in that case). Estimate a model that enables you to test this and please interpret your findings. Compare the p value for the estimated coefficient of interest to the 10 percent significance level to conclude whether you reject the null of no heterogeneity in the effect of monthly AFDC payments on the percent low birth weight due to the governor's party affliation, against a two sided alternative, holding all else equal. \n",
    "\n",
    "(Hint: Generate the interaction you need and add it to the regression.)"
   ]
  },
  {
   "cell_type": "markdown",
   "metadata": {},
   "source": [
    "➡️ Type your written work for and answer to part Exercise 3 - Part (b) here."
   ]
  },
  {
   "cell_type": "code",
   "execution_count": null,
   "metadata": {},
   "outputs": [],
   "source": [
    "# insert code here"
   ]
  }
 ],
 "metadata": {
  "history": [
   {
    "code": "## Exercise 2: Vaccination Rates in 2021",
    "id": "4488a61daf25470e9817712f6e315186",
    "idx": 27,
    "time": "2021-02-01T07:40:46.621Z",
    "type": "execution"
   },
   {
    "code": "(b) List three other factors that could influence whether the vaccination rate increases (or decreases) that would be in the $u_i$. ",
    "id": "1dab6b9134c84b33864397c3f22431e1",
    "idx": 30,
    "time": "2021-02-01T07:42:50.602Z",
    "type": "execution"
   },
   {
    "code": "(b) List three other factors that could influence whether the vaccination rate increases (or decreases) that would be in the $u_i$. ",
    "id": "1dab6b9134c84b33864397c3f22431e1",
    "idx": 30,
    "time": "2021-02-01T07:42:51.568Z",
    "type": "execution"
   },
   {
    "code": "# insert code here",
    "id": "3d928bde07494cc6a476ae4a14699c6a",
    "idx": 26,
    "time": "2021-02-01T07:49:05.168Z",
    "type": "execution"
   },
   {
    "code": " Type your answer to _Exercise 1.4.a. here (replacing this text)",
    "id": "78ec47020d8d4959a408ef70471e35a8",
    "idx": 27,
    "time": "2021-02-01T07:49:07.160Z",
    "type": "execution"
   },
   {
    "code": "Consider  following model:\n\n$$ log(ncars) = \\beta_2 + \\beta_3 log(grossINC) + v $$\nyou need to generate the logarithm of the variables of interest for this question's model. Use log(), namely the log of number of cars and log of gross income.",
    "id": "927615d2f3464e28af3dfa434001621b",
    "idx": 23,
    "time": "2021-02-01T07:50:48.925Z",
    "type": "execution"
   },
   {
    "code": "(b) How well does total gross INCOME predict per capita number of cars?\n",
    "id": "cb25d5394be741abaebabd81f94940ef",
    "idx": 24,
    "time": "2021-02-01T07:54:48.520Z",
    "type": "execution"
   },
   {
    "code": "(b) How well does total gross INCOME predict per capita number of cars?\n",
    "id": "cb25d5394be741abaebabd81f94940ef",
    "idx": 24,
    "time": "2021-02-01T07:54:50.136Z",
    "type": "execution"
   },
   {
    "code": " Type your answer to _Exercise 1.2.a. here (replacing this text)",
    "id": "12a4fe7666af4dd9bd330f639fe4140a",
    "idx": 24,
    "time": "2021-02-01T07:55:41.688Z",
    "type": "execution"
   },
   {
    "code": " Type your answer to _Exercise 1.3.a. here (replacing this text)",
    "id": "fb20268ae160410ea17248fd12fe3f61",
    "idx": 27,
    "time": "2021-02-01T07:55:51.120Z",
    "type": "execution"
   },
   {
    "code": " Type your answer to _Exercise 1.2.c. here (replacing this text)",
    "id": "8af8b0b0850c4b4a852d80b4220a6058",
    "idx": 30,
    "time": "2021-02-01T07:56:10.176Z",
    "type": "execution"
   },
   {
    "code": "# Load Packages\nlibrary(haven)\nlibrary(tidyverse)\n# Load Dataset\nmy_data <- read_dta(\"dataPset2.dta\")\nmy_data",
    "id": "888a3bcdc3934afe9b300b14ae6d02de",
    "idx": 8,
    "time": "2021-02-06T16:59:30.940Z",
    "type": "execution"
   },
   {
    "id": "888a3bcdc3934afe9b300b14ae6d02de",
    "time": "2021-02-06T16:59:33.155Z",
    "type": "completion"
   },
   {
    "code": "my_data <- mutate(my_data, cpc = ncars/n)\nmy_data",
    "id": "4d9d96115c5d4d788dca78cc297c19a0",
    "idx": 17,
    "time": "2021-02-06T16:59:46.023Z",
    "type": "execution"
   },
   {
    "id": "4d9d96115c5d4d788dca78cc297c19a0",
    "time": "2021-02-06T16:59:46.219Z",
    "type": "completion"
   },
   {
    "code": "my_data <- mutate(my_data,\nlcars = log(ncars),\nlinc = log(incgross))\n# Estimate the new model\nreg2<-lm(lcars ~ linc,my_data)\nsummary(reg2)",
    "id": "38d3916099864f0ba46cffe6e216c255",
    "idx": 38,
    "time": "2021-02-06T17:00:21.327Z",
    "type": "execution"
   },
   {
    "id": "38d3916099864f0ba46cffe6e216c255",
    "time": "2021-02-06T17:00:21.512Z",
    "type": "completion"
   },
   {
    "code": "my_data <- mutate(my_data,\nlcars = log(ncars),\nlinc = log(incgross))\n# Estimate the new model\nreg2<-lm(cpc ~ linc,my_data)\nsummary(reg2)",
    "id": "38d3916099864f0ba46cffe6e216c255",
    "idx": 38,
    "time": "2021-02-06T17:00:42.826Z",
    "type": "execution"
   },
   {
    "id": "38d3916099864f0ba46cffe6e216c255",
    "time": "2021-02-06T17:00:42.962Z",
    "type": "completion"
   },
   {
    "code": "my_data <- mutate(my_data,\nlcars = log(ncars),\nlinc = log(incgross))\n# Estimate the new model\nreg2<-lm(lcars ~ linc,my_data)\nsummary(reg2)",
    "id": "38d3916099864f0ba46cffe6e216c255",
    "idx": 38,
    "time": "2021-02-06T17:00:46.609Z",
    "type": "execution"
   },
   {
    "id": "38d3916099864f0ba46cffe6e216c255",
    "time": "2021-02-06T17:00:46.800Z",
    "type": "completion"
   },
   {
    "code": "my_data <- mutate(my_data,\nlcars = log(ncars),\nlinc = log(incgross),\n                 lcpc = log(cpc))\n# Estimate the new model\nreg2<-lm(lcpc ~ linc,my_data)\nsummary(reg2)",
    "id": "38d3916099864f0ba46cffe6e216c255",
    "idx": 38,
    "time": "2021-02-06T17:02:51.744Z",
    "type": "execution"
   }
  ],
  "kernelspec": {
   "display_name": "R",
   "language": "R",
   "name": "ir"
  },
  "language_info": {
   "codemirror_mode": "r",
   "file_extension": ".r",
   "mimetype": "text/x-r-source",
   "name": "R",
   "pygments_lexer": "r",
   "version": "3.6.1"
  }
 },
 "nbformat": 4,
 "nbformat_minor": 4
}
