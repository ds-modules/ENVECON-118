{
 "cells": [
  {
   "cell_type": "markdown",
   "metadata": {},
   "source": [
    "# EEP/IAS 118 - Introductory Applied Econometrics\n",
    "## Problem Set 2, Spring 2021, Villas-Boas\n",
    "#### <span style=\"text-decoration: underline\"> Due as announced on bcourses </span> \n",
    "\n",
    "\n",
    "Submit materials (pdf of your Jupyter notebook with all code cells run) as one combined pdf on [Gradescope](https://www.gradescope.com/courses/226571)."
   ]
  },
  {
   "cell_type": "markdown",
   "metadata": {},
   "source": [
    "## Exercise 1: Food expenditures, food at home, away from home, in US, by region"
   ]
  },
  {
   "cell_type": "markdown",
   "metadata": {},
   "source": [
    "### Guidelines\n",
    "\n",
    "This exercise should be completed using R. Remember, when you want an output to show in the notebook, you need to *explicitly* call the object in your R code. For example, if you want to show the mean of number of cars per consumer unit, you can't just type `MeanNcars <- mean(ncars)`, because that will just save the output to `MeanNcars`. Instead, you need to then type `MeanNcars` on its own so it displays the output. **Answers that do not display the desired output will be graded as incorrect.**\n",
    "\n",
    "\n",
    "To write comments in your script (text that will appear but will not be read as commands), type a \\# at the beginning of the line. Use these as notes to keep track of which question you are trying to answer, the purpose of each command, etc.\n",
    " "
   ]
  },
  {
   "cell_type": "code",
   "execution_count": null,
   "metadata": {},
   "outputs": [],
   "source": [
    "# a commented out line of code - nothing happens if you run this cell"
   ]
  },
  {
   "cell_type": "markdown",
   "metadata": {},
   "source": [
    "To get started:\n",
    "\n",
    "This time you are opening a STATA-formatted \".dta\" file, so you will use the `read_dta()` command instead of the import command that was applied to a “.csv” spreadsheet in the first problem set. You will need to load the `haven` package to do this. Your command should look like this: \n",
    "\n",
    "`DataName <- read_dta(\"file_name\")`\n",
    "\n",
    "Exercises require both R work and written answers."
   ]
  },
  {
   "cell_type": "markdown",
   "metadata": {},
   "source": [
    "### R Tips\t\n",
    "* See the Coding Bootcamp Parts 1 and 2 for some basic operations (i.e. counting observations, scatterplots, generating variables) See also all the Lecture R command files to replicate lectures where we did most of what you are asked to do here : e.g., Lecture5.R, Lecture6.R, and Lecture7.R.\n",
    "\n",
    "\n",
    "* The command `table()` lists all values a variable takes in the sample and the number of times it takes each value. \n",
    "\n",
    "\n",
    "* To summarize data for a specified subset of the observations, you can use `filter()` to subset the data, and then either `summary()` for simple summary statistics or `summarise()` in `tidyverse` to generate more detailed summary statistics."
   ]
  },
  {
   "cell_type": "markdown",
   "metadata": {},
   "source": [
    "### Data Description\n",
    "The data for this exercise come from the Bureau of Labor Statistics (BLS) Consumer Expenditure Survey (CES). With special permission researchers can have access to very dis-aggregate data, but anyone can access their representative consumer spending data by U.S. census region and there are nine Census Regions. In this problem set we delve into that data to provide insights into number of cars in consumer units (households) for nine Census regions  and then relate number of cars per consumer units to the consumer unit's gross income and also to the number of people in the consumer unit. \n",
    "\n",
    "The **dataPset2.dta** file includes the following variables:\n",
    "\n",
    "| Variable Name | Description                             |\n",
    "|---------------|-----------------------------------------|\n",
    "| region        | U.S. Census Region                      |\n",
    "| ncu           | Number of consumer units (in thousands) |\n",
    "| incgross      | Income before taxes in 2018 (USD)       |\n",
    "| incnet        | Income after taxes in 2018 (USD)        |\n",
    "| n             | Number of people per consumer unit      |\n",
    "| ncars         | Number of Vehicles per consumer unit in 2018 |\n",
    "| exp           | Average annual expenditures of consumer unit in 2018 Dollars |\n",
    "| fahe          | Food at home expenditures in 2018 |\n",
    "| fawaye        | Food away from home expenditures in 2018 |\n"
   ]
  },
  {
   "cell_type": "markdown",
   "metadata": {},
   "source": [
    "### Preamble\n",
    "When writing R code, it's a good habit to start your notebooks or R scripts with a preamble, a section where you load all necessary packages, set paths or change the working directory, or declare other options.\n",
    "\n",
    "Use the below code cell to load in packages you will use throughout the problem set (at least `haven` and `tidyverse` this week):\n",
    "\n",
    "*Note:* **never** try to install packages on Datahub. All packages that you need are already installed and can be loaded immediately using the `library()` function. Attempting to install packages will create conflicts with the package versions on the server and potentially corrupt your notebook."
   ]
  },
  {
   "cell_type": "code",
   "execution_count": null,
   "metadata": {},
   "outputs": [],
   "source": [
    "# Use this cell to load desired packages"
   ]
  },
  {
   "cell_type": "markdown",
   "metadata": {},
   "source": [
    "### Question 1\n",
    "First we would like you to become familiar with your data:"
   ]
  },
  {
   "cell_type": "markdown",
   "metadata": {},
   "source": [
    "(a) Please detail the following: How many US regions are in the data set? How many regions have number of cars per consumer unit larger than 1.9?"
   ]
  },
  {
   "cell_type": "code",
   "execution_count": null,
   "metadata": {},
   "outputs": [],
   "source": [
    "# insert code here"
   ]
  },
  {
   "cell_type": "markdown",
   "metadata": {},
   "source": [
    "(b) What is the average number of cars per consumer unit in the data set?   "
   ]
  },
  {
   "cell_type": "code",
   "execution_count": null,
   "metadata": {},
   "outputs": [],
   "source": [
    "# insert code here"
   ]
  },
  {
   "cell_type": "markdown",
   "metadata": {},
   "source": [
    "(c) What is the range for the variable **incgross**, gross income, in the data? "
   ]
  },
  {
   "cell_type": "code",
   "execution_count": null,
   "metadata": {},
   "outputs": [],
   "source": [
    "# insert code here"
   ]
  },
  {
   "cell_type": "markdown",
   "metadata": {},
   "source": [
    "(d) Construct a variable *cpc* equal to the total number of cars **per capita** which is equal to total cars by consumer unit divided by Number of people in the consumer unit . You will need to create this new variable in R. "
   ]
  },
  {
   "cell_type": "code",
   "execution_count": null,
   "metadata": {},
   "outputs": [],
   "source": [
    "# insert code here"
   ]
  },
  {
   "cell_type": "markdown",
   "metadata": {},
   "source": [
    "(e) Plot a histogram of this constructed variable. What is the range of numbers of cars per capita in the US in 2018?"
   ]
  },
  {
   "cell_type": "code",
   "execution_count": null,
   "metadata": {},
   "outputs": [],
   "source": [
    "# insert code here"
   ]
  },
  {
   "cell_type": "markdown",
   "metadata": {},
   "source": [
    "(f) What is the mean of *cpc*? What is the median *cpc*?  "
   ]
  },
  {
   "cell_type": "code",
   "execution_count": null,
   "metadata": {},
   "outputs": [],
   "source": [
    "# insert code here"
   ]
  },
  {
   "cell_type": "markdown",
   "metadata": {},
   "source": [
    "(g) Compute the mean of number of cars per capita for households separately in coastal and non coastal regions (hint: use `group_by()` and `summarise()` in the `tidyverse` package. "
   ]
  },
  {
   "cell_type": "code",
   "execution_count": null,
   "metadata": {},
   "outputs": [],
   "source": [
    "# insert code here"
   ]
  },
  {
   "cell_type": "markdown",
   "metadata": {},
   "source": [
    "### Question 2"
   ]
  },
  {
   "cell_type": "markdown",
   "metadata": {},
   "source": [
    "Consider the following model of the number of cars per capita and gross income: \n",
    "\n",
    "$$cpc = \\beta_0 + \\beta_1 incgross + u$$"
   ]
  },
  {
   "cell_type": "markdown",
   "metadata": {},
   "source": [
    "(a) Estimate the model in R with the `lm()` command. Interpret your $\\hat \\beta_1$ coefficients, remembering the triplet S(ign), S(ignificance), S(ize), though you do not need to comment on significance in this problem set. **Make sure your uploaded pdf includes the R output.**\n"
   ]
  },
  {
   "cell_type": "code",
   "execution_count": null,
   "metadata": {},
   "outputs": [],
   "source": [
    "# insert code here"
   ]
  },
  {
   "cell_type": "markdown",
   "metadata": {},
   "source": [
    "➡️ Type your answer to _Exercise 1.2.a. here (replacing this text)"
   ]
  },
  {
   "cell_type": "markdown",
   "metadata": {},
   "source": [
    "(b) How well does total gross income predict per capita number of cars?\n"
   ]
  },
  {
   "cell_type": "code",
   "execution_count": null,
   "metadata": {},
   "outputs": [],
   "source": [
    "# insert code here"
   ]
  },
  {
   "cell_type": "markdown",
   "metadata": {},
   "source": [
    "➡️ Type your answer to _Exercise 1.2.b. here (replacing this text)"
   ]
  },
  {
   "cell_type": "markdown",
   "metadata": {},
   "source": [
    "(c) What are the predicted number of cars per capita for a consumer unit with total gross annual  income of 100,000 dollars? \n"
   ]
  },
  {
   "cell_type": "code",
   "execution_count": null,
   "metadata": {},
   "outputs": [],
   "source": [
    "# insert code here"
   ]
  },
  {
   "cell_type": "markdown",
   "metadata": {},
   "source": [
    "➡️ Type your answer to _Exercise 1.2.c. here (replacing this text)"
   ]
  },
  {
   "cell_type": "markdown",
   "metadata": {},
   "source": [
    "### Question 3"
   ]
  },
  {
   "cell_type": "markdown",
   "metadata": {},
   "source": [
    "Consider the following model:\n",
    "\n",
    "$$ log(ncars) = \\beta_2 + \\beta_3 log(incgross) + u $$\n",
    "\n",
    "you need to generate the logarithm of the variables of interest for this question's model, namely the log of number of cars and log of gross income. Use the `log()` function."
   ]
  },
  {
   "cell_type": "markdown",
   "metadata": {},
   "source": [
    "(a) Estimate the model, and interpret your $\\hat \\beta_3$ coefficient."
   ]
  },
  {
   "cell_type": "code",
   "execution_count": null,
   "metadata": {},
   "outputs": [],
   "source": [
    "# insert code here"
   ]
  },
  {
   "cell_type": "markdown",
   "metadata": {},
   "source": [
    "➡️ Type your answer to _Exercise 1.3.a. here (replacing this text)"
   ]
  },
  {
   "cell_type": "markdown",
   "metadata": {},
   "source": [
    "(b) Using the results from estimating equation (2), how would you expect per capita number of cars to change if gross income increases by 1\\%?\n"
   ]
  },
  {
   "cell_type": "code",
   "execution_count": null,
   "metadata": {},
   "outputs": [],
   "source": [
    "# insert code here"
   ]
  },
  {
   "cell_type": "markdown",
   "metadata": {},
   "source": [
    "➡️ Type your answer to _Exercise 1.3.b. here (replacing this text)"
   ]
  },
  {
   "cell_type": "markdown",
   "metadata": {},
   "source": [
    "(c) How about if gross income increases by 18\\% ?\n"
   ]
  },
  {
   "cell_type": "code",
   "execution_count": null,
   "metadata": {},
   "outputs": [],
   "source": [
    "# insert code here"
   ]
  },
  {
   "cell_type": "markdown",
   "metadata": {},
   "source": [
    "➡️ Type your answer to _Exercise 1.3.c. here (replacing this text)"
   ]
  },
  {
   "cell_type": "markdown",
   "metadata": {},
   "source": [
    "### Question 4\n",
    "We will now explore the role of consumer unit size in predicting the log of number of cars.\n",
    "\n",
    "$$ log(ncars) = \\beta_4 + \\beta_5 log(incgross) + \\beta_6 log(N) +u $$"
   ]
  },
  {
   "cell_type": "markdown",
   "metadata": {},
   "source": [
    "(a) How did your estimate $\\hat \\beta$ for gross income change between equation (3) and equation (4)? \n"
   ]
  },
  {
   "cell_type": "code",
   "execution_count": null,
   "metadata": {},
   "outputs": [],
   "source": [
    "# insert code here"
   ]
  },
  {
   "cell_type": "markdown",
   "metadata": {},
   "source": [
    "➡️ Type your answer to _Exercise 1.4.a. here (replacing this text)"
   ]
  },
  {
   "cell_type": "markdown",
   "metadata": {},
   "source": [
    "(b) Without performing any calculations, what information does this give you about the correlation between total gross income and household size? (Explain your reasoning in no more than 4 sentences.)"
   ]
  },
  {
   "cell_type": "markdown",
   "metadata": {},
   "source": [
    "➡️ Type your answer to _Exercise 1.4.b. here (replacing this text)"
   ]
  },
  {
   "cell_type": "markdown",
   "metadata": {},
   "source": [
    "(c) Predict the expected number of cars a consumer unit has, with 2 members and total gross income of 50,000 using your estimates from equation (4).  "
   ]
  },
  {
   "cell_type": "code",
   "execution_count": null,
   "metadata": {},
   "outputs": [],
   "source": [
    "# insert code here"
   ]
  },
  {
   "cell_type": "markdown",
   "metadata": {},
   "source": [
    "## Exercise 2: Vaccination Rates in 2021"
   ]
  },
  {
   "cell_type": "markdown",
   "metadata": {},
   "source": [
    "Many researchers have attempted to estimate important determinants of vaccination rates in the population. Suppose a researcher was interested in the effect of a public health ad and vaccine information campaign on the vaccination rate. One could estimate such a regression as follows:\n",
    "\n",
    "$$Npc_j=\\beta_0 + \\beta_1  Hpc_j +\\beta_2  Education_j + u_j \\ \\ \\ \\ \\ \\ \\ \\ \\ (1) $$\n",
    "where $Npc_j$ corresponds to the vaccination rate (number of vaccines given in arms, divided by population) in region $j$,  $Education_j$ is the average number of years of education in region $j$, and $Hpc_j$ is the per capita dollar amount (in 2021) spent on vaccine campaigns per region $j$. \t"
   ]
  },
  {
   "cell_type": "markdown",
   "metadata": {},
   "source": [
    "(a) What do you expect the sign of $\\beta_1$ to be in equation (1)? Why?"
   ]
  },
  {
   "cell_type": "markdown",
   "metadata": {},
   "source": [
    "➡️ Type your answer to _Exercise 2.a. here (replacing this text)"
   ]
  },
  {
   "cell_type": "markdown",
   "metadata": {},
   "source": [
    "(b) List three other factors that could influence whether the vaccination rate increases (or decreases) that would be in the $u_j$. "
   ]
  },
  {
   "cell_type": "markdown",
   "metadata": {},
   "source": [
    "➡️ Type your answer to _Exercise 2.b. here (replacing this text)"
   ]
  },
  {
   "cell_type": "markdown",
   "metadata": {},
   "source": [
    "(c) What would happen to $\\beta_1$ if you omit education from the estimation? Explain (very briefly) why."
   ]
  },
  {
   "cell_type": "markdown",
   "metadata": {},
   "source": [
    "➡️ Type your answer to _Exercise 2.c. here (replacing this text)"
   ]
  },
  {
   "cell_type": "markdown",
   "metadata": {},
   "source": [
    "(d) Give an example of one factor that would induce $\\beta_1$ to be biased. State the direction of the bias and how you determined that direction."
   ]
  },
  {
   "cell_type": "markdown",
   "metadata": {},
   "source": [
    "➡️ Type your answer to _Exercise 2.d. here (replacing this text)"
   ]
  },
  {
   "cell_type": "markdown",
   "metadata": {},
   "source": [
    "(e) What are the four conditions that must be satisfied for $\\beta_1$ to be unbiased? Explain whether you believe each assumption is satisfied, and why or why not (suppose we used vaccination rates of the covid vaccine and amount spent per capita in vaccine adds in major media across regions to estimate $\\beta_1$)."
   ]
  },
  {
   "cell_type": "markdown",
   "metadata": {},
   "source": [
    "➡️ Type your answer to _Exercise 2.e. here (replacing this text)"
   ]
  }
 ],
 "metadata": {
  "history": [
   {
    "code": "## Exercise 2: Vaccination Rates in 2021",
    "id": "4488a61daf25470e9817712f6e315186",
    "idx": 27,
    "time": "2021-02-01T07:40:46.621Z",
    "type": "execution"
   },
   {
    "code": "(b) List three other factors that could influence whether the vaccination rate increases (or decreases) that would be in the $u_i$. ",
    "id": "1dab6b9134c84b33864397c3f22431e1",
    "idx": 30,
    "time": "2021-02-01T07:42:50.602Z",
    "type": "execution"
   },
   {
    "code": "(b) List three other factors that could influence whether the vaccination rate increases (or decreases) that would be in the $u_i$. ",
    "id": "1dab6b9134c84b33864397c3f22431e1",
    "idx": 30,
    "time": "2021-02-01T07:42:51.568Z",
    "type": "execution"
   },
   {
    "code": "# insert code here",
    "id": "3d928bde07494cc6a476ae4a14699c6a",
    "idx": 26,
    "time": "2021-02-01T07:49:05.168Z",
    "type": "execution"
   },
   {
    "code": " Type your answer to _Exercise 1.4.a. here (replacing this text)",
    "id": "78ec47020d8d4959a408ef70471e35a8",
    "idx": 27,
    "time": "2021-02-01T07:49:07.160Z",
    "type": "execution"
   },
   {
    "code": "Consider  following model:\n\n$$ log(ncars) = \\beta_2 + \\beta_3 log(grossINC) + v $$\nyou need to generate the logarithm of the variables of interest for this question's model. Use log(), namely the log of number of cars and log of gross income.",
    "id": "927615d2f3464e28af3dfa434001621b",
    "idx": 23,
    "time": "2021-02-01T07:50:48.925Z",
    "type": "execution"
   },
   {
    "code": "(b) How well does total gross INCOME predict per capita number of cars?\n",
    "id": "cb25d5394be741abaebabd81f94940ef",
    "idx": 24,
    "time": "2021-02-01T07:54:48.520Z",
    "type": "execution"
   },
   {
    "code": "(b) How well does total gross INCOME predict per capita number of cars?\n",
    "id": "cb25d5394be741abaebabd81f94940ef",
    "idx": 24,
    "time": "2021-02-01T07:54:50.136Z",
    "type": "execution"
   },
   {
    "code": " Type your answer to _Exercise 1.2.a. here (replacing this text)",
    "id": "12a4fe7666af4dd9bd330f639fe4140a",
    "idx": 24,
    "time": "2021-02-01T07:55:41.688Z",
    "type": "execution"
   },
   {
    "code": " Type your answer to _Exercise 1.3.a. here (replacing this text)",
    "id": "fb20268ae160410ea17248fd12fe3f61",
    "idx": 27,
    "time": "2021-02-01T07:55:51.120Z",
    "type": "execution"
   },
   {
    "code": " Type your answer to _Exercise 1.2.c. here (replacing this text)",
    "id": "8af8b0b0850c4b4a852d80b4220a6058",
    "idx": 30,
    "time": "2021-02-01T07:56:10.176Z",
    "type": "execution"
   }
  ],
  "kernelspec": {
   "display_name": "R",
   "language": "R",
   "name": "ir"
  },
  "language_info": {
   "codemirror_mode": "r",
   "file_extension": ".r",
   "mimetype": "text/x-r-source",
   "name": "R",
   "pygments_lexer": "r",
   "version": "4.0.3"
  }
 },
 "nbformat": 4,
 "nbformat_minor": 4
}
