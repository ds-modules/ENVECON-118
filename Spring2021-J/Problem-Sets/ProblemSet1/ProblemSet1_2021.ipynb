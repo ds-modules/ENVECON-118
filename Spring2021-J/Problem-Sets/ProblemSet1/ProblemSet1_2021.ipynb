{
 "cells": [
  {
   "cell_type": "markdown",
   "metadata": {},
   "source": [
    "# EEP/IAS 118 - Introductory Applied Econometrics\n",
    "## Problem Set 1, Spring 2021, Villas-Boas\n",
    "#### <span style=\"text-decoration: underline\">Due 9:30am on February 4, 2021</span> \n",
    "\n",
    "\n",
    "Submit materials (all handwritten/typed answers, Excel workbooks, and R reports) as one combined pdf on [Gradescope](https://www.gradescope.com/courses/226571). All students currently on the EEP118 bCourses have been added using the bCourses email. If you do not have access to the Gradescope course, please reach out to the GSI's.\n",
    "\n",
    "For help combining pdf's, see the recent announcement on bCourses."
   ]
  },
  {
   "cell_type": "markdown",
   "metadata": {},
   "source": [
    "## Exercise 1 (Excel)\n",
    "**Relationship between Gasoline Consumption Data and Price of Gasoline in 18 OECD countries.** \n",
    "\n",
    "We will use data from Baltagi (2005) on gasoline consumption for 18 OECD countries. The original data span 19 years. In this first problem set we will only use the year 1960. \n",
    "\n",
    "This exercise is to be completed using Excel. Looking at the first graph in the paper, there appears to be an association between Gasoline consumption per car and the price of gasoline. We will establish a simple linear relationship on a subset of 9 countries at a time.\n",
    "\n",
    "*Note: in economics, log always refers to the natural log, ln().*"
   ]
  },
  {
   "cell_type": "markdown",
   "metadata": {},
   "source": [
    "\n",
    "<center><b> Table 1: Log of Gasoline Consumption Per Car and Log of Price of Gasoline, Sample 1</b></center>\n",
    "\n",
    "|CountryName\t|\tlog of Gasoline Consumption per Car\t|\tlog of Gasoline Price\t|\n",
    "|-----------|---------------|---------------|\n",
    "|sample 1\t|\tlog of Y\t|\tlog of X\t|\n",
    "|AUSTRIA| 4.173244195|-0.334547613|\n",
    "|BELGIUM|4.16401597|-0.165709611|\n",
    "|CANADA|4.855238441|-0.972106499|\n",
    "|DENMARK|4.50198595|-0.195702601|\n",
    "|FRANCE|3.907704233|-0.019598332|\n",
    "|GERMANY|3.916953172|-0.185910784|\n",
    "|GREECE|5.037405535|-0.083547398|\n",
    "|IRELAND|4.270420603|-0.076481181|\n",
    "|ITALY|4.050728238|0.165077076"
   ]
  },
  {
   "cell_type": "markdown",
   "metadata": {},
   "source": [
    "(a) Use Excel to create a scatter plot of these observations. Don't forget to (1) label the axes and their units, and (2) title your graph. **You should use the tables provided here for these calculations, not the actual observations from the .csv data file.**"
   ]
  },
  {
   "cell_type": "markdown",
   "metadata": {},
   "source": [
    "(b) This question has **two parts**. \n",
    "\n",
    "First: Estimate the linear relationship between the log of Gasoline\n",
    "consumption per car (log(Y)) and the log of gasoline prices (log(X)) by OLS, showing all intermediate\n",
    "calculations as we saw in the lecture 3 slides (use Excel to create the table and show all the steps).\n",
    "\n",
    "Second: interpret the value of the estimated parameters $\\beta_0$ and $\\beta_1$.\n",
    "\n",
    "$$ \\widehat{log (Y_i)} = \\hat{\\beta_0} + \\hat{\\beta_1} log(X_i) \\ \\ \\ \\ \\ \\ \\text{i = \\{first 9 countries\\}}$$"
   ]
  },
  {
   "cell_type": "markdown",
   "metadata": {},
   "source": [
    "➡️ Type your answer to _Exercise 1 (b) Second Part_ here (replacing this text)"
   ]
  },
  {
   "cell_type": "markdown",
   "metadata": {},
   "source": [
    "(c) In your table, compute the fitted value and the residual for each observation, and verify that the residuals (approximately) sum to 0."
   ]
  },
  {
   "cell_type": "markdown",
   "metadata": {},
   "source": [
    "(d) According to the estimated relation, what is the predicted $\\hat{Y}$ (**level**, not log) for a country with a log price of -2? (Pay attention to units)"
   ]
  },
  {
   "cell_type": "markdown",
   "metadata": {},
   "source": [
    "➡️ Type your answer to _Exercise 1 (d)_ here (replacing this text)"
   ]
  },
  {
   "cell_type": "markdown",
   "metadata": {},
   "source": [
    "(e) How much of the variation in per capita log gasoline consumption in these 9 countries is explained by the log of price of gasoline in the countries?"
   ]
  },
  {
   "cell_type": "markdown",
   "metadata": {},
   "source": [
    "➡️ Type your answer to _Exercise 1 (e)_ here (replacing this text)"
   ]
  },
  {
   "cell_type": "markdown",
   "metadata": {},
   "source": [
    "<center><b> Table 2: Log of Gasoline Consumption Per Car and Log of Price of Gasoline, Sample 2</b></center>\n",
    "\n",
    "|CountryName\t|\tlog of Gasoline Consumption per Car\t|\tlog of Gasoline Price\t|\n",
    "|-----------|---------------|---------------|\n",
    "|sample 2\t|\tlog of Y\t|\tlog of X\t|\n",
    "|JAPAN|5.995286556|-0.14532271|\n",
    "|NETHERLANDS|4.646268005|-0.201484804|\n",
    "|NORWAY|4.43504067|-0.139689574|\n",
    "|SPAIN|4.749409172|1.125310702|\n",
    "|SWEDEN|4.063010036|-2.52041588|\n",
    "|SWITZERLAND|4.397621493|-0.82321833|\n",
    "|TURKEY|6.129552849|-0.253408214|\n",
    "|U.K.|4.100244284|-0.391085814|\n",
    "|U.S.A.|4.823964512|-1.121114893|  \n",
    "\n"
   ]
  },
  {
   "cell_type": "markdown",
   "metadata": {},
   "source": [
    "(f) Repeat exercise (b) for one additional set of 9 countries below. **You should use Table 2 provided\n",
    "above for these calculations, not the actual observations from the .csv data file.**"
   ]
  },
  {
   "cell_type": "markdown",
   "metadata": {},
   "source": [
    "➡️ Type your answer to _Exercise 1 (e) Second Part_ here (replacing this text)"
   ]
  },
  {
   "cell_type": "markdown",
   "metadata": {},
   "source": [
    "(g) Do your estimates of $\\hat{\\beta_0}$ and $\\hat{\\beta_1}$ change between Tables 1, and 2? Why?\n"
   ]
  },
  {
   "cell_type": "markdown",
   "metadata": {},
   "source": [
    "➡️ Type your answer to _Exercise 1 (g)_ here (replacing this text)"
   ]
  },
  {
   "cell_type": "markdown",
   "metadata": {},
   "source": [
    "(h) Save a copy of your Excel workbook as a pdf (OLS tables and scatter plot) to combine with the later work."
   ]
  },
  {
   "cell_type": "markdown",
   "metadata": {},
   "source": [
    "## Exercise 2 (Functional Forms)"
   ]
  },
  {
   "cell_type": "markdown",
   "metadata": {},
   "source": [
    "(a) Suppose you estimate alternative specifications as given below for the year of 1972 using all countries:\n",
    "\n",
    "$$ \\text{A linear relationship:} ~~~~\\hat{Y_i} = 121 + 2.23 X_i$$\n",
    "$$ \\text{A linear-log relationship:} ~~~~\\hat{Y_i} = 4.5 + 0.06 \\log(X)_i$$\n",
    "$$ \\text{A log-log relationship:} ~~~~\\widehat{\\log(Y)}_i = 4 + 0.09 \\log(X)_i$$\n",
    "\n",
    "Note that it is convention to always use the natural log.\n",
    "\n",
    "  i. Interpret the parameter on gasoline price X (or log of gasoline price log(X)) in each of these equations.\n",
    "\n",
    "  ii. What is the predicted per car gasoline consumption in dollars for a country with a gasoline price of 2 in each of these equations?\n"
   ]
  },
  {
   "cell_type": "markdown",
   "metadata": {},
   "source": [
    "➡️ Type your answer to _Exercise 2 (a) i_ here (replacing this text)"
   ]
  },
  {
   "cell_type": "markdown",
   "metadata": {},
   "source": [
    "➡️ Type your answer to _Exercise 2 (a) ii_ here (replacing this text)"
   ]
  },
  {
   "cell_type": "markdown",
   "metadata": {},
   "source": [
    "## Exercise 3. Importing Data into R and Basic R First Commands \n",
    "\n",
    "For the purposes of this class, we will be primarily Berkeley's _Datahub_ to conduct our analysis remotely using these notebooks.\n",
    "\n",
    "If instead you already have an installation of R/RStudio on your personal computer and prefer to work offline, you can download the data for this assignment from bCourses (Make sure to install/update all packages mentioned in the problem sets in order to prevent issues regarding deprecated or outdated packages). The data files can be accessed directly  through $Datahub$ and do not require you to install anything on your computer. This exercise is designed to get you familiar with accessing the service, loading data, and obtaining summary statistics. To start off, we're going to use Jupyter notebooks to help familiarize you with some R commands. \n",
    "\n",
    "*Note: [Coding Bootcamp Part 1](https://bcourses.berkeley.edu/courses/1502259/external_tools/70734) covers all necessary R methods."
   ]
  },
  {
   "cell_type": "markdown",
   "metadata": {},
   "source": [
    "(a) To access the Jupyter notebook for this problem set on Datahub, click the following link:\n",
    "\n",
    "*Skip! You are already here - nice work.*\n"
   ]
  },
  {
   "cell_type": "markdown",
   "metadata": {},
   "source": [
    "(b) Load the data file *dataPset1_1960.csv* into R (since this is a \".csv\" file, you should use the `read.csv()` command)."
   ]
  },
  {
   "cell_type": "code",
   "execution_count": null,
   "metadata": {},
   "outputs": [],
   "source": [
    "# insert code here"
   ]
  },
  {
   "cell_type": "markdown",
   "metadata": {},
   "source": [
    "(c) Provide basic summary statistics on the log of Gas Consumption per car (*LGASPCAR*) in the dataframe. Use the `summary()` command. This command is part of base R, so you do not need to load any packages before using it. What is the median value of log gasoline consumption per car?"
   ]
  },
  {
   "cell_type": "code",
   "execution_count": null,
   "metadata": {},
   "outputs": [],
   "source": [
    "# insert code here"
   ]
  },
  {
   "cell_type": "markdown",
   "metadata": {},
   "source": [
    "(d) Next, generate custom summary statistics on the Log of Gasoline Price Variable(*LRPMG*) using the `summarise()` command provided by ***dplyr***. You will need to call the ***tidyverse*** package with the `library()` command to use it (***tidyverse*** is a collection of packages designed for data science. It includes ***dplyr*** and several other packages we'll use this term)."
   ]
  },
  {
   "cell_type": "code",
   "execution_count": null,
   "metadata": {},
   "outputs": [],
   "source": [
    "# insert code here"
   ]
  },
  {
   "cell_type": "markdown",
   "metadata": {},
   "source": [
    "(e) Create a scatter plot of the *LGASPCAR* and *LRPMG* data. Use\n",
    "\n",
    "`figureAsked <- plot(my_data$LRPMG, my_data$LGASPCAR, \n",
    "                    main = \"Scatter of Log Y on Log X\",\n",
    "                    xlab = \"Log(X)=Log of Gas Price\", \n",
    "                    ylab = \"Log Y = Log of Gas Consumption per Car\")`\n",
    "\n",
    "*Note:* Make sure to run the code cell to print the scatterplot in the notebook."
   ]
  },
  {
   "cell_type": "code",
   "execution_count": null,
   "metadata": {},
   "outputs": [],
   "source": [
    "# insert code here"
   ]
  },
  {
   "cell_type": "markdown",
   "metadata": {},
   "source": [
    "(f) Save a pdf to your computer (note:  this can be done by going to **File > Print Preview** in the menu and choosing to \"print\" the new tab as a pdf with Ctrl + P) and combine it with your excel workbook from Exercise 1 for submission on Gradescope."
   ]
  }
 ],
 "metadata": {
  "kernelspec": {
   "display_name": "R",
   "language": "R",
   "name": "ir"
  },
  "language_info": {
   "codemirror_mode": "r",
   "file_extension": ".r",
   "mimetype": "text/x-r-source",
   "name": "R",
   "pygments_lexer": "r",
   "version": "3.6.1"
  }
 },
 "nbformat": 4,
 "nbformat_minor": 4
}
