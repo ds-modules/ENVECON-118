{
 "cells": [
  {
   "cell_type": "markdown",
   "metadata": {},
   "source": [
    "# Problem Set 3, Spring 2021, Villas-Boas"
   ]
  },
  {
   "cell_type": "markdown",
   "metadata": {},
   "source": [
    "Due <u>as announced on bCourses, end of day Pacific Time</u>\n",
    "\n",
    "Submit materials (Jupyter notebook with all code cells run) as one pdf on [Gradescope](https://www.gradescope.com/courses/226571)."
   ]
  },
  {
   "cell_type": "markdown",
   "metadata": {},
   "source": [
    "# Exercise 1: The Value of Environmental Services"
   ]
  },
  {
   "cell_type": "markdown",
   "metadata": {},
   "source": [
    "## Background\n",
    "\n",
    "This exercise is based on the paper [Does Hazardous Waste Matter? Evidence from the Housing Market and the Superfund Program by Greenstone and Gallagher 2008](https://academic.oup.com/qje/article-abstract/123/3/951/1928203?redirectedFrom=fulltext). This\n",
    "paper explores individuals’ willingness to pay (WTP) for environmental quality by observing the\n",
    "impact of increasing environmental quality on housing prices. This method is known as the hedonic\n",
    "valuation method, whereby the price of a good is determined by each of its attributes. In the case of a house, its value is determined by all of its physical characteristics (e.g., number of bedrooms) as well as the characteristics of the neighborhood in which it is located (including environmental quality). \n",
    "\n",
    "For this paper, the change in environmental quality results from the cleanup of hazardous\n",
    "waste sites. The study focuses on Superfund sites, areas designated by the US government as\n",
    "contaminated by hazardous waste and that pose a hazard to environmental/human health. The\n",
    "EPA placed certain Superfund sites on the National Priorities List (NPL), which meant that these\n",
    "sites were legally required to undergo remediation. If individuals value environmental quality, then\n",
    "housing prices should increase after nearby NPL sites are cleaned up. To determine the extent to\n",
    "which individuals value the cleanup, we can compare housing close to a hazardous waste site that\n",
    "was cleaned up to *comparable* homes near a similar waste site that was not cleaned up.\n"
   ]
  },
  {
   "cell_type": "markdown",
   "metadata": {},
   "source": [
    "## Data\n",
    "\n",
    "The data include observations on 447 census tracts that are within 2 miles of a hazardous waste site.$^1$  This includes census tracts where the site in question was on the NPL, and thus was legally required to be cleaned up, as well as those that were not on the NPL. \n",
    "\n",
    "The shared dataset contains the following variables for each census tract in the year 2000.\n",
    "\n",
    "\n",
    "|Variable Name\t|\tDescription |\t\n",
    "| :----------- | :----------------------- |\n",
    "| _fips_   | Federal Information Processing Standards (FIPS) census tract identifier  |\n",
    "| _npl_\t|\tbinary indicator for whether the site in a given census tract was placed on the NPL|\n",
    "| _lnmdvalhs_ | log median housing value $^2$ |\n",
    "| *owner\\_occupied*\t| % of housing that is owner occupied |\n",
    "| *pop\\_den*\t| Population density|\n",
    "| *ba\\_or\\_better*\t| % of the population that has a Bachelors degree or higher |\n",
    "| *unemprt*\t| Unemployment rate |\n",
    "| *povrat*\t| Poverty rate |\n",
    "| *bedrms1-bedrms5*\t| % of housing with the indicated number of bedrooms |\n",
    "|  *bedrms\\_3orless*  |  % of housing with 3 bedrooms or less |\n",
    "|*blt0\\_10yrs* |% of housing $< 10$ years old |\n",
    "\n",
    "\n",
    "\n",
    "\n",
    "\n",
    "$^1$ : Census tracts are statistical subdivisions of a county that are defined by the Census Bureau to allow comparisons from census to census.\n",
    "\n",
    "$^2$ : Median Housing Value, *before logging*, is recorded in USD."
   ]
  },
  {
   "cell_type": "markdown",
   "metadata": {},
   "source": [
    "## Tips\n",
    "\n",
    "* Do **NOT** install packages on the server. All packages that you need to complete the assignment are already installedand can be loaded with the `library()` function. Trying to install packages will create conflicts and potentially require reloading a fresh copy of the notebook.\n",
    "* When submitting the notebook, do **NOT** include output of the entire dataset. This is a large dataset, and printing out all rows will take multiple pages of output and make it much harder for the GSIs to find your answers.\n",
    "\n",
    "* `xtable` and `stargazer` are two great packages for making tables. `xtable` is great for turning a dataframe into a table output, while `stargazer` is great for making a table of your regression results.$^2$ I recommend exploring these packages when you are making your summary statistics table and regression output table in this problem set. The first half of Coding Bootcamp Part 5 goes over these two packages and is accessible [here](https://r.datahub.berkeley.edu/hub/user-redirect/git-pull?repo=https%3A%2F%2Fgithub.com%2Fds-modules%2FENVECON-118&urlpath=tree%2FENVECON-118%2FSpring2021-J%2FSections%2FCoding+Bootcamps).\n",
    "\n",
    "* All packages that you need for this problem set are already installed and ready for use on Datahub. \\textbf{Do not try to install packages on the Datahub server}; if you want to use new packages in Datahub to solve the problem set inside the Problem Set 3 notebook, let any of the GSI's know so they ask for those packages you want to use to be installed.\n",
    "\n",
    "$^2$: `stargazer` is great for professional-looking LaTeX or postscript tables, but if you want to produce tables for your regression output in the notebook you will need to use `type = \"html\"` and then copy/paste the html output into a Markdown cell."
   ]
  },
  {
   "cell_type": "markdown",
   "metadata": {},
   "source": [
    "## Preamble\n",
    "\n",
    "#### Use the below code cell to load all your packages (we will use `haven()` and `tidyverse()`)."
   ]
  },
  {
   "cell_type": "code",
   "execution_count": null,
   "metadata": {},
   "outputs": [],
   "source": [
    "# Add your preamble code here"
   ]
  },
  {
   "cell_type": "markdown",
   "metadata": {},
   "source": [
    "**1.**  Load the data. This problem set will focus on census tracts that have more than 20% of homes built within the last ten years; that is for $blt0\\_ 10yrs > 0.2$.\n",
    "So first open the original data (`Greenstone_Gallagher_PS3_2021.dta`) and create a subset of the data to be used in this problem set. Call this data frame in R  $my\\_dataPset3$.  How many observations do you lose when you focus on this subset of the data?\n",
    "\n",
    "#### *Hint:* use `filter(data, condition)`"
   ]
  },
  {
   "cell_type": "code",
   "execution_count": null,
   "metadata": {},
   "outputs": [],
   "source": [
    "# Add any code for part 1 here."
   ]
  },
  {
   "cell_type": "markdown",
   "metadata": {},
   "source": [
    "➡️ Type your written answer for part 1 here."
   ]
  },
  {
   "cell_type": "markdown",
   "metadata": {},
   "source": [
    "**2.** Briefly describe your $my\\_dataPset3$ data set. Since these data use the impact of the NPL to estimate WTP for environmental services, you \n",
    "\n",
    "**(a)** Want to look at the number of census tracts in both the NPL group and the non-NPL group (and the number in the sample overall),\n",
    "\n",
    "**(b)** Create a variable that is the median value of housing price and call it $housep$, which is the median housing price in dollars (in levels, not logs) and report the average in npl=1 and in npl=0 groups, and \n",
    "\n",
    "**(c)** compare the means of the following characteristics (covariates)  of these census tracts across the two groups. By compare, we mean report them and discuss whether the sample averages are similar across groups, and why you might expect such a result (no need to test formally if means of these covariates are similar). The covariates you are to check are percent owner\\_occupied, unemployment rate, and poverty rate.\n",
    "\n",
    "(Hint: use `group_by()` and `summarise()` to obtain separate summary statistics according to the value of $npl$)"
   ]
  },
  {
   "cell_type": "code",
   "execution_count": null,
   "metadata": {},
   "outputs": [],
   "source": [
    "# Add any code for part 2 here."
   ]
  },
  {
   "cell_type": "markdown",
   "metadata": {},
   "source": [
    "➡️ Type your written answer for part 2 here."
   ]
  },
  {
   "cell_type": "markdown",
   "metadata": {},
   "source": [
    "**3.** We will now compare housing prices (in levels, not logs) across the two groups (group *npl* = 1 and\n",
    "*npl* = 0) using the $my\\_dataPset3$ sub dataset. Draw a histogram of the median housing price in\n",
    "each group.\n",
    "\n",
    "(Hint: see [Coding Bootcamp Part 4](https://r.datahub.berkeley.edu/hub/user-redirect/git-pull?repo=https%3A%2F%2Fgithub.com%2Fds-modules%2FENVECON-118&urlpath=tree%2FENVECON-118%2FSpring2021-J%2FSections%2FCoding+Bootcamps) for how to do this using **ggplot2**. For base R use `hist(data$variable, main = \"Title\", xlab = \"MedianHousingPrice\", ylab = \"Frequency\")`)\n"
   ]
  },
  {
   "cell_type": "code",
   "execution_count": null,
   "metadata": {},
   "outputs": [],
   "source": [
    "# Add any code for part 3 here."
   ]
  },
  {
   "cell_type": "markdown",
   "metadata": {},
   "source": [
    "**4.** Overlap both histograms into the same graph and comment on differences (be precise - and explain\n",
    "why the differences intuitively make sense).\n",
    "\n",
    "(Hint: see the Histograms section of [Coding Bootcamp Part 4](https://r.datahub.berkeley.edu/hub/user-redirect/git-pull?repo=https%3A%2F%2Fgithub.com%2Fds-modules%2FENVECON-118&urlpath=tree%2FENVECON-118%2FSpring2021-J%2FSections%2FCoding+Bootcamps))"
   ]
  },
  {
   "cell_type": "code",
   "execution_count": 1,
   "metadata": {},
   "outputs": [],
   "source": [
    "# Add any code for part 4 here."
   ]
  },
  {
   "cell_type": "markdown",
   "metadata": {},
   "source": [
    "➡️ Type your written answer for part 4 here."
   ]
  },
  {
   "cell_type": "markdown",
   "metadata": {},
   "source": [
    "**Show work for all steps for Questions 5-7. You can use R to calculate the sample mean,\n",
    "variance, and # obs, and perform arithmetic operations (or do it by hand). No credit will\n",
    "be given if you use a canned con\f",
    "dence interval/hypothesis test function in R. Credit will\n",
    "be lost if you do not clearly show your steps.**"
   ]
  },
  {
   "cell_type": "markdown",
   "metadata": {},
   "source": [
    "**5.** Compute an estimate for the mean of the variable housep for the NPL group (npl=1) in the\n",
    "$my\\_dataPset3$ data frame. Construct a 90% confidence interval for this mean. Give an interpretation of these results in a sentence.\n",
    "\n",
    "(Hint: use `mean()` and `sd()` to get the necessary information to construct the CI)"
   ]
  },
  {
   "cell_type": "code",
   "execution_count": null,
   "metadata": {},
   "outputs": [],
   "source": [
    "# Add any code for part 5 here."
   ]
  },
  {
   "cell_type": "markdown",
   "metadata": {},
   "source": [
    "➡️ Type your written work for and answer to part 5 here."
   ]
  },
  {
   "cell_type": "markdown",
   "metadata": {},
   "source": [
    "**6.** Let $D$ be the difference in $housep$ between the NPL (npl=1) and non-NPL (npl=0) groups. State\n",
    "an estimator $\\hat D$\n",
    "for $D$ and use the estimator to compute an estimate of $D$. Compute a standard\n",
    "error for $\\hat D$. Derive a 95% confidence interval for $D$ and interpret in one sentence."
   ]
  },
  {
   "cell_type": "code",
   "execution_count": null,
   "metadata": {},
   "outputs": [],
   "source": [
    "# Add any code for part 6 here."
   ]
  },
  {
   "cell_type": "markdown",
   "metadata": {},
   "source": [
    "➡️ Type your written work for and answer to part 6 here."
   ]
  },
  {
   "cell_type": "markdown",
   "metadata": {},
   "source": [
    "**7.** Using the $my\\_dataPset3$ data frame, test whether the average of the housing values ($housep$) for\n",
    "the NPL group is statistically different at the 10% significance level ($\\alpha = 0.1$) from average housing values in the non-NPL group (that is, in terms of the hypothesis, the null is equal, and the alternative is not equal). (Recall\n",
    "the 5 step-procedure for hypothesis testing).\n"
   ]
  },
  {
   "cell_type": "code",
   "execution_count": null,
   "metadata": {},
   "outputs": [],
   "source": [
    "# Add any code for part 7 here."
   ]
  },
  {
   "cell_type": "markdown",
   "metadata": {},
   "source": [
    "➡️ Type your written work for and answer to part 7 here."
   ]
  },
  {
   "cell_type": "code",
   "execution_count": null,
   "metadata": {},
   "outputs": [],
   "source": [
    "# insert code here"
   ]
  },
  {
   "cell_type": "markdown",
   "metadata": {},
   "source": [
    "**8.** Now we want to see how adding covariates on the right hand side of our equation affects the coefficient on the treatment indicator $npl$. We run the following regressions using the data $my\\_dataPset3$\n",
    "in R:\n",
    "\n",
    "\n",
    "\\begin{align}\n",
    "housep&= \\beta_0+\\beta_1 npl+ u  & (1)\\\\\n",
    "housep&= \\beta_0+\\beta_1 npl+ \\beta_2  unemprt +u    & (2)\\\\\n",
    "housep&= \\beta_0+\\beta_1 npl+ \\beta_2 unemprt + \\beta_3 owner\\_occupied +u &(3)\n",
    "\\end{align} "
   ]
  },
  {
   "cell_type": "markdown",
   "metadata": {},
   "source": [
    "**(a)** Interpret (SSS) the estimated coefficient, $\\hat \\beta_1$, that you obtain from estimating equation (1). \n"
   ]
  },
  {
   "cell_type": "markdown",
   "metadata": {},
   "source": [
    "➡️ Type your written answer to 8 (a) here."
   ]
  },
  {
   "cell_type": "markdown",
   "metadata": {},
   "source": [
    "**(b)** Looking both at $R^2$ and the evolution of $\\hat \\beta_1$ as we add variables from equation (1) to (2) to (3), \n",
    "\n",
    "1. Comment on which variable matters in explaining the outcome, and which is likely correlated with the variable $npl$ (go through equation by equation). \n",
    "2. What does this tell you about how sites were selected to end up on the National Priorities List (that is, about the correlation between $npl$ and those additional variables you added? (Hint: go through the OVB formula)\n"
   ]
  },
  {
   "cell_type": "markdown",
   "metadata": {},
   "source": [
    "➡️ Type your written answer to 8 (b) here."
   ]
  },
  {
   "cell_type": "markdown",
   "metadata": {},
   "source": [
    "**9.** If you estimate\n",
    "\n",
    "\\begin{align*}housep= \\beta_0+\\beta_1 npl+ u\\end{align*}\n",
    "\n",
    " using the complete data set  (not the subset $my\\_dataPset3$), what happens to the standard errors of the coefficient of $npl$? Explain briefly why that is. "
   ]
  },
  {
   "cell_type": "markdown",
   "metadata": {},
   "source": [
    "➡️ Type your written answer to 9 here."
   ]
  },
  {
   "cell_type": "markdown",
   "metadata": {},
   "source": [
    "## Exercise 2: Attitudes toward the COVID Vaccines"
   ]
  },
  {
   "cell_type": "markdown",
   "metadata": {},
   "source": [
    "*Note:* this question does not require R. If you do use R, you must show all steps used to calculate the relevant formulas from lecture. No credit will be given if a canned routine is used. Credit will be lost if values are given and work is not shown.\t"
   ]
  },
  {
   "cell_type": "markdown",
   "metadata": {},
   "source": [
    "The Institute of Global Health Innovation (Imperial College London) released a report about Global Attitudes towards a COVID-19 vaccine. The survey covers 15 countries and was implemented at different periods in time, from November 2020 to mid January of 2021. The total number of responses was around 13,500.\n",
    "\n",
    "In one of the questions, respondents were asked whether they strongly agreed (scale of 5), agreed (a4), neither agree nor disagree (a 3), disagree (a 2) or strongly disagree (a 1) with the statement:$^3$\n",
    "\n",
    "\"To what extent do you agree or disagree that if a COVID-19 vaccine were made available to you this week, you would defnitely get it?\"\n",
    "      \n",
    "\n",
    "$^3$: *Aggregate view of latest week available for each country - see page 13 for exact survey dates:* [Link to Nature Article](https://www.nature.com/articles/d41586-021-00368-6)"
   ]
  },
  {
   "cell_type": "markdown",
   "metadata": {},
   "source": [
    "In row 1 below are the percentage and number of respondents that agree or strongly agree with the statement, over the whole sample for all countries. Below that first row, we also report results broken down for the United Kingdom (UK) for two periods during which the survey was conducted (Nov 05-15,2020; and then Jan 11-17, 2021) in that country."
   ]
  },
  {
   "cell_type": "markdown",
   "metadata": {},
   "source": [
    "| | % Responding \"agree/strongly agree\"| Total Number of Respondents|\n",
    "|--|--|--|\n",
    "|All Countries and Periods of Survey | 54% | 13,500 |\n",
    "| UK: Nov 5-15, 2020 | 55% | 1,005|\n",
    "| UK: Jan 11-17, 2021 | 80% | 1,000|\n"
   ]
  },
  {
   "cell_type": "markdown",
   "metadata": {},
   "source": [
    "Consider first the overall result (all countries/periods). Let $p$ be the fraction of respondents that approve."
   ]
  },
  {
   "cell_type": "markdown",
   "metadata": {},
   "source": [
    "**1.** Use the survey results to estimate $p$. Also estimate the standard error of your estimate."
   ]
  },
  {
   "cell_type": "markdown",
   "metadata": {},
   "source": [
    "➡️ Type your written work for and answer to Part 1 here."
   ]
  },
  {
   "cell_type": "markdown",
   "metadata": {},
   "source": [
    "**2.** Construct a 95% confidence interval for $p$. Interpret."
   ]
  },
  {
   "cell_type": "markdown",
   "metadata": {},
   "source": [
    "➡️ Type your written work for and answer to Part 2 here."
   ]
  },
  {
   "cell_type": "markdown",
   "metadata": {},
   "source": [
    "**3.** Construct a 90% confidence interval for $p$. Is it larger or narrower than the 95% confidence interval?\n",
    "Why?"
   ]
  },
  {
   "cell_type": "markdown",
   "metadata": {},
   "source": [
    "➡️ Type your written work for and answer to Part 3 here."
   ]
  },
  {
   "cell_type": "markdown",
   "metadata": {},
   "source": [
    "**4.** Is there statistical evidence that more than 50% of UK in November 2020 agreed that they would\n",
    "get the vaccine if given to them? Use the 5 steps for hypothesis testing with a 1% signifiance level."
   ]
  },
  {
   "cell_type": "markdown",
   "metadata": {},
   "source": [
    "➡️ Type your written work for and answer to Part 4 here."
   ]
  },
  {
   "cell_type": "markdown",
   "metadata": {},
   "source": [
    "**5.** Is there statistical evidence that agreement with taking the vaccine in the UK increased in 2021\n",
    "relative to November 2020 at the 5% significance level? Explain (to answer this question use the 5\n",
    "steps for hypothesis testing)."
   ]
  },
  {
   "cell_type": "markdown",
   "metadata": {},
   "source": [
    "➡️ Type your written work for and answer to Part 5 here."
   ]
  }
 ],
 "metadata": {
  "history": [
   {
    "code": "## Exercise 2: Vaccination Rates in 2021",
    "id": "4488a61daf25470e9817712f6e315186",
    "idx": 27,
    "time": "2021-02-01T07:40:46.621Z",
    "type": "execution"
   },
   {
    "code": "(b) List three other factors that could influence whether the vaccination rate increases (or decreases) that would be in the $u_i$. ",
    "id": "1dab6b9134c84b33864397c3f22431e1",
    "idx": 30,
    "time": "2021-02-01T07:42:50.602Z",
    "type": "execution"
   },
   {
    "code": "(b) List three other factors that could influence whether the vaccination rate increases (or decreases) that would be in the $u_i$. ",
    "id": "1dab6b9134c84b33864397c3f22431e1",
    "idx": 30,
    "time": "2021-02-01T07:42:51.568Z",
    "type": "execution"
   },
   {
    "code": "# insert code here",
    "id": "3d928bde07494cc6a476ae4a14699c6a",
    "idx": 26,
    "time": "2021-02-01T07:49:05.168Z",
    "type": "execution"
   },
   {
    "code": " Type your answer to _Exercise 1.4.a. here (replacing this text)",
    "id": "78ec47020d8d4959a408ef70471e35a8",
    "idx": 27,
    "time": "2021-02-01T07:49:07.160Z",
    "type": "execution"
   },
   {
    "code": "Consider  following model:\n\n$$ log(ncars) = \\beta_2 + \\beta_3 log(grossINC) + v $$\nyou need to generate the logarithm of the variables of interest for this question's model. Use log(), namely the log of number of cars and log of gross income.",
    "id": "927615d2f3464e28af3dfa434001621b",
    "idx": 23,
    "time": "2021-02-01T07:50:48.925Z",
    "type": "execution"
   },
   {
    "code": "(b) How well does total gross INCOME predict per capita number of cars?\n",
    "id": "cb25d5394be741abaebabd81f94940ef",
    "idx": 24,
    "time": "2021-02-01T07:54:48.520Z",
    "type": "execution"
   },
   {
    "code": "(b) How well does total gross INCOME predict per capita number of cars?\n",
    "id": "cb25d5394be741abaebabd81f94940ef",
    "idx": 24,
    "time": "2021-02-01T07:54:50.136Z",
    "type": "execution"
   },
   {
    "code": " Type your answer to _Exercise 1.2.a. here (replacing this text)",
    "id": "12a4fe7666af4dd9bd330f639fe4140a",
    "idx": 24,
    "time": "2021-02-01T07:55:41.688Z",
    "type": "execution"
   },
   {
    "code": " Type your answer to _Exercise 1.3.a. here (replacing this text)",
    "id": "fb20268ae160410ea17248fd12fe3f61",
    "idx": 27,
    "time": "2021-02-01T07:55:51.120Z",
    "type": "execution"
   },
   {
    "code": " Type your answer to _Exercise 1.2.c. here (replacing this text)",
    "id": "8af8b0b0850c4b4a852d80b4220a6058",
    "idx": 30,
    "time": "2021-02-01T07:56:10.176Z",
    "type": "execution"
   },
   {
    "code": "# Load Packages\nlibrary(haven)\nlibrary(tidyverse)\n# Load Dataset\nmy_data <- read_dta(\"dataPset2.dta\")\nmy_data",
    "id": "888a3bcdc3934afe9b300b14ae6d02de",
    "idx": 8,
    "time": "2021-02-06T16:59:30.940Z",
    "type": "execution"
   },
   {
    "id": "888a3bcdc3934afe9b300b14ae6d02de",
    "time": "2021-02-06T16:59:33.155Z",
    "type": "completion"
   },
   {
    "code": "my_data <- mutate(my_data, cpc = ncars/n)\nmy_data",
    "id": "4d9d96115c5d4d788dca78cc297c19a0",
    "idx": 17,
    "time": "2021-02-06T16:59:46.023Z",
    "type": "execution"
   },
   {
    "id": "4d9d96115c5d4d788dca78cc297c19a0",
    "time": "2021-02-06T16:59:46.219Z",
    "type": "completion"
   },
   {
    "code": "my_data <- mutate(my_data,\nlcars = log(ncars),\nlinc = log(incgross))\n# Estimate the new model\nreg2<-lm(lcars ~ linc,my_data)\nsummary(reg2)",
    "id": "38d3916099864f0ba46cffe6e216c255",
    "idx": 38,
    "time": "2021-02-06T17:00:21.327Z",
    "type": "execution"
   },
   {
    "id": "38d3916099864f0ba46cffe6e216c255",
    "time": "2021-02-06T17:00:21.512Z",
    "type": "completion"
   },
   {
    "code": "my_data <- mutate(my_data,\nlcars = log(ncars),\nlinc = log(incgross))\n# Estimate the new model\nreg2<-lm(cpc ~ linc,my_data)\nsummary(reg2)",
    "id": "38d3916099864f0ba46cffe6e216c255",
    "idx": 38,
    "time": "2021-02-06T17:00:42.826Z",
    "type": "execution"
   },
   {
    "id": "38d3916099864f0ba46cffe6e216c255",
    "time": "2021-02-06T17:00:42.962Z",
    "type": "completion"
   },
   {
    "code": "my_data <- mutate(my_data,\nlcars = log(ncars),\nlinc = log(incgross))\n# Estimate the new model\nreg2<-lm(lcars ~ linc,my_data)\nsummary(reg2)",
    "id": "38d3916099864f0ba46cffe6e216c255",
    "idx": 38,
    "time": "2021-02-06T17:00:46.609Z",
    "type": "execution"
   },
   {
    "id": "38d3916099864f0ba46cffe6e216c255",
    "time": "2021-02-06T17:00:46.800Z",
    "type": "completion"
   },
   {
    "code": "my_data <- mutate(my_data,\nlcars = log(ncars),\nlinc = log(incgross),\n                 lcpc = log(cpc))\n# Estimate the new model\nreg2<-lm(lcpc ~ linc,my_data)\nsummary(reg2)",
    "id": "38d3916099864f0ba46cffe6e216c255",
    "idx": 38,
    "time": "2021-02-06T17:02:51.744Z",
    "type": "execution"
   }
  ],
  "kernelspec": {
   "display_name": "R",
   "language": "R",
   "name": "ir"
  },
  "language_info": {
   "codemirror_mode": "r",
   "file_extension": ".r",
   "mimetype": "text/x-r-source",
   "name": "R",
   "pygments_lexer": "r",
   "version": "4.0.3"
  }
 },
 "nbformat": 4,
 "nbformat_minor": 4
}
