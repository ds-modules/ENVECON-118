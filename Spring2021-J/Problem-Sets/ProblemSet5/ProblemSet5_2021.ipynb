{
 "cells": [
  {
   "cell_type": "markdown",
   "metadata": {},
   "source": [
    "# Problem Set 5, Spring 2021, Villas-Boas"
   ]
  },
  {
   "cell_type": "markdown",
   "metadata": {},
   "source": [
    "Due <u>As posted on bCourses Assignments page</u>\n",
    "\n",
    "This problem set is to be done using R. To receive full credit, answers must include a correct answer, demonstrate all steps (codes and corresponding output) used to obtain the answer, and be uploaded to [Gradescope](https://www.gradescope.com/courses/226571), correctly indicating on which pages your answers to each question can be found."
   ]
  },
  {
   "cell_type": "markdown",
   "metadata": {},
   "source": [
    "## Preamble\n",
    "Use the following code cell to load the dataset and any packages you plan to use (at least **tidyverse** and **haven**)."
   ]
  },
  {
   "cell_type": "code",
   "execution_count": null,
   "metadata": {},
   "outputs": [],
   "source": [
    "# Add your preamble code here"
   ]
  },
  {
   "cell_type": "markdown",
   "metadata": {},
   "source": [
    "### Exercise 1"
   ]
  },
  {
   "cell_type": "markdown",
   "metadata": {},
   "source": [
    "In this exercise you will use US firm level data in Michigan for three years to investigate the effects of a job training grant on worker productivity, salary, and ultimately how grants were allocated. This data set is a subset from the paper H. Holzer, R. Block, M. Cheatham, and J. Knott (1993), “Are Training Subsidies Effective? The Michigan Experience,” *Industrial and Labor Relations Review* 46, 625-636.\n",
    "\n",
    "For this problem set you will use the Stata file **pset5_2021.dta** provided on Datahub and on bCourses.\n",
    "\n",
    "Note that several of the problems require you to produce custom summary statistics and regression tables. For more information on how to produce these types of tables, see the [Coding Bootcamp Part 5](https://r.datahub.berkeley.edu/hub/user-redirect/git-pull?repo=https%3A%2F%2Fgithub.com%2Fds-modules%2FENVECON-118&urlpath=tree%2FENVECON-118%2FSpring2021-J%2FSections%2FCoding+Bootcamps) notebook posted on Datahub.\n",
    "\n",
    "The first dependent variable of interest is whether there was a training grant at the firm level. Let the variable `treated` = 0 or 1, where 1 means the firm ever received a grant and zero otherwise. You will use a linear probability model to explain the probability of a firm having a grant as a function of observables in 1987 (before any grant was awarded). You will also estimate a logit specification, interpret marginal effects, and perform hypothesis testing."
   ]
  },
  {
   "cell_type": "markdown",
   "metadata": {},
   "source": [
    "|Variable Name\t|\tVariable Label |\t\n",
    "| :----------- | :----------------------- |\n",
    "| year     | 1987, 1988, or 1989 |\n",
    "| fcode    | firm code number |\n",
    "| employ   | number of employees at plant |\n",
    "| sales    | annual sales, $ |\n",
    "| avgsal   | average employee salary |\n",
    "| scrap    | scrap rate (per 100 items) |\n",
    "| rework   | rework rate (per 100 items) |\n",
    "| tothrs   | total hours training |\n",
    "| union    | =1 if unionized |\n",
    "| grant\t   | =1 if received grant |\n",
    "| d89\t   | =1 if year = 1989 |\n",
    "| d88\t   | =1 if year = 1988 |\n",
    "| totrain  | total employees trained |\n",
    "| treated  | =1 if firm ever gets training, =0 otherwise |"
   ]
  },
  {
   "cell_type": "markdown",
   "metadata": {},
   "source": [
    "1.\tWhat are the number of observations in the whole dataset? Please filter the data to only observations for 1987 and 1988. How many observations do we lose from not considering the year 1989? (For the remainder of Exercise 1 and 2, we will use the filtered data.)"
   ]
  },
  {
   "cell_type": "markdown",
   "metadata": {},
   "source": [
    "➡️ Type your written work for and answer to part Exercise 1 - Q1 here."
   ]
  },
  {
   "cell_type": "code",
   "execution_count": null,
   "metadata": {},
   "outputs": [],
   "source": [
    "# insert code here"
   ]
  },
  {
   "cell_type": "markdown",
   "metadata": {},
   "source": [
    "2.\tHow many observations do we have for treated firms, and how many for control (untreated) firms in 1987 and in 1988, respectively? "
   ]
  },
  {
   "cell_type": "markdown",
   "metadata": {},
   "source": [
    "➡️ Type your written work for and answer to part Exercise 1 - Q2 here."
   ]
  },
  {
   "cell_type": "code",
   "execution_count": null,
   "metadata": {},
   "outputs": [],
   "source": [
    "# insert code here"
   ]
  },
  {
   "cell_type": "markdown",
   "metadata": {},
   "source": [
    "3.\tSummarize the averages and standard deviations of the variables `employ` (number of employees), `avgsal` (average salary), `scrap`, `rework`, and `union`, by Treatment status in the year 1987. This gives you the summary stats of observable firm variables before any grant was awarded (in the year 1987). Do so by creating a table, Table 1, with two columns, where the first is for the Treatment=0 group and the second for Treatment=1. Please provide the average and standard deviation of `employ` in rows 1 and 2, respectively. Continue by placing the average/standard deviations of `avgsal`, `scrap`, `rework`, and `union` in the following lines. Make sure to include the table number and a title at the top of the table."
   ]
  },
  {
   "cell_type": "markdown",
   "metadata": {},
   "source": [
    "➡️ Type your written work for and answer to part Exercise 1 - Q3 here."
   ]
  },
  {
   "cell_type": "code",
   "execution_count": null,
   "metadata": {},
   "outputs": [],
   "source": [
    "# insert code here"
   ]
  },
  {
   "cell_type": "markdown",
   "metadata": {},
   "source": [
    "4.\tRepeat the same for the year of 1988 now (the year grants were awarded to a subset of firms). Call this Table 2. "
   ]
  },
  {
   "cell_type": "markdown",
   "metadata": {},
   "source": [
    "➡️ Type your written work for and answer to part Exercise 1 - Q4 here."
   ]
  },
  {
   "cell_type": "code",
   "execution_count": null,
   "metadata": {},
   "outputs": [],
   "source": [
    "# insert code here"
   ]
  },
  {
   "cell_type": "markdown",
   "metadata": {},
   "source": [
    "5.\t`scrap` measures how much scrap is left after a shift. A lower scrap number means less waste.  Compute the difference in average scrap in treated and not treated firms in 1987 and compute the same difference in average scrap in 1988. How does that difference in waste, between Treated and Not Treated firms, change from 1987 to 1988?  "
   ]
  },
  {
   "cell_type": "markdown",
   "metadata": {},
   "source": [
    "➡️ Type your written work for and answer to part Exercise 1 - Q5 here."
   ]
  },
  {
   "cell_type": "code",
   "execution_count": null,
   "metadata": {},
   "outputs": [],
   "source": [
    "# insert code here"
   ]
  },
  {
   "cell_type": "markdown",
   "metadata": {},
   "source": [
    "6.\tThis part only uses data for 1987. We want to see what factors, in 1987, are correlated with the probability of a firm being treated (treated=1/0; where firms will be then treated in the following year 1988). Please estimate three linear probability model regressions as specified below and present the estimates in a three-column table and call it Table 3. Make sure you use robust standard errors always in all regressions. Let the dependent variable of all columns be the indicator variable of being Treated. For the regression in column 1, specify a constant (i.e. intercept) and `union` as regressors. In column 2, add to the constant and `union`, the `employ` variable.  In column 3 present the estimates and standard errors from the regression of the treatment indicator on a constant, `employ`, `union`, and `sales`. Produce the table also by denoting with a star * the coefficients that are significant at the 10\\% level, two stars  ** those significant at the 5\\% and three stars *** those significant at the 1\\% level. (Like in lecture 19, I am asking you to run separate regressions and present the estimates in a table with 3 columns. See Coding Bootcamp Part 5 for help producing these)\n",
    "\n",
    "    a.\tLooking at the whole table, which coefficient measures the estimated change in treatment probability for unionized firms controlling for no other covariates? What is its value?\n",
    "    \n",
    "    b.\tWhat does the estimated constant mean in column 1? Is it significantly different from zero?\n",
    "    \n",
    "    c.\tWhich coefficient measures the estimated change in treatment probability if employment increases by one unit holding union and sales constant? Is it statistically significant at the 5 percent level?"
   ]
  },
  {
   "cell_type": "code",
   "execution_count": null,
   "metadata": {},
   "outputs": [],
   "source": [
    "# insert code here"
   ]
  },
  {
   "cell_type": "markdown",
   "metadata": {},
   "source": [
    "➡️ Type your written work for and answer to part Exercise 1 - Q6 (a) here."
   ]
  },
  {
   "cell_type": "markdown",
   "metadata": {},
   "source": [
    "➡️ Type your written work for and answer to part Exercise 1 - Q6 (b) here."
   ]
  },
  {
   "cell_type": "markdown",
   "metadata": {},
   "source": [
    "➡️ Type your written work for and answer to part Exercise 1 - Q6 (c) here."
   ]
  },
  {
   "cell_type": "markdown",
   "metadata": {},
   "source": [
    "7.\tRun the linear probability model in column (3) of Table 3 without robust standard errors. What happened to the coefficient estimates and to the significance of the estimates? Which problem does this highlight?"
   ]
  },
  {
   "cell_type": "markdown",
   "metadata": {},
   "source": [
    "➡️ Type your written work for and answer to part Exercise 1 - Q7 here."
   ]
  },
  {
   "cell_type": "code",
   "execution_count": null,
   "metadata": {},
   "outputs": [],
   "source": [
    "# insert code here"
   ]
  },
  {
   "cell_type": "markdown",
   "metadata": {},
   "source": [
    "8.\tWhat are the problems/drawbacks associated with using a linear probability model?"
   ]
  },
  {
   "cell_type": "markdown",
   "metadata": {},
   "source": [
    "➡️ Type your written work for and answer to part Exercise 1 - Q8 here."
   ]
  },
  {
   "cell_type": "markdown",
   "metadata": {},
   "source": [
    "9.\tIn a sentence or two, describe how the Logit model addresses the problems with the linear probability model you mentioned in Q8. Estimate the same right-hand side specification as in column 3 of Table 3 above but now using a Logit model. After you estimate the model, type the marginal effects command in R as discussed in Lecture. \n",
    "\n",
    "    \\[What do you conclude in terms of the effect of the number of employees on the treatment probability of receiving a grant? What about unions at 5\\% significance? And unions at 10% significance?\\]"
   ]
  },
  {
   "cell_type": "markdown",
   "metadata": {},
   "source": [
    "➡️ Type your written work for and answer to part Exercise 1 - Q9 here."
   ]
  },
  {
   "cell_type": "code",
   "execution_count": null,
   "metadata": {},
   "outputs": [],
   "source": [
    "# insert code here"
   ]
  },
  {
   "cell_type": "markdown",
   "metadata": {},
   "source": [
    "10.\tEstimate a Logit model that, together with the estimation output from Q9, allows you to test whether the additional covariates added in column 3 of Table 3 relative to column 1 matter for the grant treatment probability or not. What do you conclude? ***Do the five steps of Hypothesis testing by hand, do not use R’s built-in test command.***"
   ]
  },
  {
   "cell_type": "markdown",
   "metadata": {},
   "source": [
    "➡️ Type your written work for and answer to part Exercise 1 - Q10 here."
   ]
  },
  {
   "cell_type": "code",
   "execution_count": null,
   "metadata": {},
   "outputs": [],
   "source": [
    "# insert code here"
   ]
  },
  {
   "cell_type": "markdown",
   "metadata": {},
   "source": [
    "11.\tCreate the necessary variables and then estimate a Logit model that allows you to test whether the impact of the number of employees is different depending on unionization status.  What do you conclude? ***Do the five steps of Hypothesis testing by hand, do not use R’s built-in test command.***"
   ]
  },
  {
   "cell_type": "markdown",
   "metadata": {},
   "source": [
    "➡️ Type your written work for and answer to part Exercise 1 - Q11 here."
   ]
  },
  {
   "cell_type": "code",
   "execution_count": null,
   "metadata": {},
   "outputs": [],
   "source": [
    "# insert code here"
   ]
  },
  {
   "cell_type": "markdown",
   "metadata": {},
   "source": [
    "### Exercise 2"
   ]
  },
  {
   "cell_type": "markdown",
   "metadata": {},
   "source": [
    "This question focuses on the effects of the grant training treatment (grant=1) on worker waste generated (scrap). A successful training program would cause a decrease in waste generated in the factory of the Michigan firms that were treated compared to the untreated firms."
   ]
  },
  {
   "cell_type": "markdown",
   "metadata": {},
   "source": [
    "\\begin{align*}\n",
    "Scrap_{jt} &= \\beta_0 +  \\beta_1 grant_{jt}  + u_{jt} & (\\text{Eq 2.1}) \\\\ \n",
    "Scrap_{jt} &= \\beta_0 +  \\beta_1  grant_{jt} + \\beta_2 union_{jt}  +  \\beta_3  employ_{jt} +  \\beta_4  sales_{jt}+ u_{jt} & (\\text{Eq 2.2})\n",
    "\\end{align*}"
   ]
  },
  {
   "cell_type": "markdown",
   "metadata": {},
   "source": [
    "1.\tWhat are the conditions needed so that we can interpret from equation (2.1) the coefficient of the grant Treatment variable (grant=1,0) as the causal impact of receiving a grant treatment on waste created (scrap)? What would be a simple set of tests you could run to support this? Do not run these tests - explain only what data you would use and collect and what tests you would run. Does the analysis in Exercise 1 also help answer this concern?"
   ]
  },
  {
   "cell_type": "markdown",
   "metadata": {},
   "source": [
    "➡️ Type your written work for and answer to part Exercise 2 - Q1 here."
   ]
  },
  {
   "cell_type": "markdown",
   "metadata": {},
   "source": [
    "2.\tEstimate both models and display the estimates in a table with two columns. Place the estimates from model (2.1) in column 1 and the results from model (2.2) with additional covariates in column 2. Does adding the covariates affect the estimated coefficient of the grant treatment (on the variable grant)? How do you interpret the point estimate of grant in column (2)? (using Size, Sign and Significance)"
   ]
  },
  {
   "cell_type": "markdown",
   "metadata": {},
   "source": [
    "➡️ Type your written work for and answer to part Exercise 2 - Q2 here."
   ]
  },
  {
   "cell_type": "code",
   "execution_count": null,
   "metadata": {},
   "outputs": [],
   "source": [
    "# insert code here"
   ]
  },
  {
   "cell_type": "markdown",
   "metadata": {},
   "source": [
    "3.\tEstimate the model above but only include a constant, grant and union. Add that to column (3) in the table above. Looking at the change in the grant estimate from column (1) to column (3), can you explain what that implies in terms of the correlation of the grant treatment and firms’ union status?"
   ]
  },
  {
   "cell_type": "markdown",
   "metadata": {},
   "source": [
    "➡️ Type your written work for and answer to part Exercise 2 - Q3 here."
   ]
  },
  {
   "cell_type": "code",
   "execution_count": null,
   "metadata": {},
   "outputs": [],
   "source": [
    "# insert code here"
   ]
  },
  {
   "cell_type": "markdown",
   "metadata": {},
   "source": [
    "### Exercise 3."
   ]
  },
  {
   "cell_type": "markdown",
   "metadata": {},
   "source": [
    "Open the original data set again with all the three years 1987, 1988 and 1989.\n",
    "\n",
    "The table below shows the results from estimating models of scrap by firm j in year t on the variables in rows, and each column considers different specifications."
   ]
  },
  {
   "cell_type": "markdown",
   "metadata": {},
   "source": [
    "<img src=\"images/PS5_EX3.png\" width=\"500\"/>"
   ]
  },
  {
   "cell_type": "markdown",
   "metadata": {},
   "source": [
    "Column 1 has no controls other than the grant, column 2 adds the same controls as exercise 2, and then column 3 adds year fixed effects to the specification in column 2 (we can do this because we see many firms in each year). Finally, column 4 has, in addition to everything in column 3, firm fixed effects (an indicator variable for each firm, which we can do because we see each firm in three different years)."
   ]
  },
  {
   "cell_type": "markdown",
   "metadata": {},
   "source": [
    "a.\tHow many firm fixed effects are estimated in column (4) given that we have a constant?"
   ]
  },
  {
   "cell_type": "markdown",
   "metadata": {},
   "source": [
    "➡️ Type your written work for and answer to part Exercise 3 - part (a) here."
   ]
  },
  {
   "cell_type": "markdown",
   "metadata": {},
   "source": [
    "b.\tWhy does the `union` variable not get estimated in column (4)?"
   ]
  },
  {
   "cell_type": "markdown",
   "metadata": {},
   "source": [
    "➡️ Type your written work for and answer to part Exercise 3 - part (b) here."
   ]
  },
  {
   "cell_type": "markdown",
   "metadata": {},
   "source": [
    "c. Why does the year 1987 indicator not get estimated in column (3)?"
   ]
  },
  {
   "cell_type": "markdown",
   "metadata": {},
   "source": [
    "➡️ Type your written work for and answer to part Exercise 3 - part (c) here."
   ]
  },
  {
   "cell_type": "markdown",
   "metadata": {},
   "source": [
    "d. In column (3) you see that the estimated fixed effects for year 1988 and for 1989 are negative. This means that scrap is lower in 1988 relative to 1987 (albeit not significant). How much less scrap in average is there in 1989 relative to 1987? Is that significantly different from zero?"
   ]
  },
  {
   "cell_type": "markdown",
   "metadata": {},
   "source": [
    "➡️ Type your written work for and answer to part Exercise 3 - part (d) here."
   ]
  },
  {
   "cell_type": "code",
   "execution_count": null,
   "metadata": {},
   "outputs": [],
   "source": [
    "# insert code here"
   ]
  },
  {
   "cell_type": "markdown",
   "metadata": {},
   "source": [
    "e. Given that scrap is decreasing over the years and the grant was implemented in year 1988 and 1989, please explain why you see the change in the estimated grant coefficient in column (3) relative to that one in column (2)? Hint: In column 2 you would say that the grant lowered scrap (albeit not significantly) whereas in column (3) what would you now say after controlling for time changing effects)"
   ]
  },
  {
   "cell_type": "markdown",
   "metadata": {},
   "source": [
    "➡️ Type your written work for and answer to part Exercise 3 - part (e) here."
   ]
  },
  {
   "cell_type": "markdown",
   "metadata": {},
   "source": [
    "f. Estimate in R the specification in 3.3 and 3.4 (replicate them both). Add a specification 3.5 by including the quadratic of employment and quadratic of sales as additional variables in the regression specification 3.4. Test the null that  the quadratic term of employment and quadratic term sales are both jointly zero. Conduct the test by hand using the 5 steps of hypothesis testing. Do you reject the null at the 5% level?"
   ]
  },
  {
   "cell_type": "markdown",
   "metadata": {},
   "source": [
    "➡️ Type your written work for and answer to part Exercise 3 - part (f) here."
   ]
  },
  {
   "cell_type": "code",
   "execution_count": null,
   "metadata": {},
   "outputs": [],
   "source": [
    "# insert code here"
   ]
  },
  {
   "cell_type": "markdown",
   "metadata": {},
   "source": [
    "g. Do you reject in the specification 3.5 that the grant has a coefficient that is zero at the ten percent significance level?"
   ]
  },
  {
   "cell_type": "markdown",
   "metadata": {},
   "source": [
    "➡️ Type your written work for and answer to part Exercise 3 - part (g) here."
   ]
  },
  {
   "cell_type": "code",
   "execution_count": null,
   "metadata": {},
   "outputs": [],
   "source": [
    "# insert code here"
   ]
  },
  {
   "cell_type": "markdown",
   "metadata": {},
   "source": [
    "### Exercise 4."
   ]
  },
  {
   "cell_type": "markdown",
   "metadata": {},
   "source": [
    "Does job training cause an increase in worker productivity? Firms j received a job training grant if their productivity in year T, was below X output per worker. \n",
    "\n",
    "Firms with productivity measurements in year T that were below the productivity threshold X were treated with a job training program. Firms above the threshold were not beneficiaries of this training. You have data over time t and for a random sample of firms j."
   ]
  },
  {
   "cell_type": "markdown",
   "metadata": {},
   "source": [
    "a) How would you estimate the causal effect of training on productivity? Write down the exact regression and define each variable. Also say which coefficient is interpreted as the causal effect of the training."
   ]
  },
  {
   "cell_type": "markdown",
   "metadata": {},
   "source": [
    "➡️ Type your written work for and answer to part Exercise 4 - part (a) here."
   ]
  },
  {
   "cell_type": "markdown",
   "metadata": {},
   "source": [
    "b) What assumption is key for you to interpret the coefficient as a causal effect of the training aimed at increasing worker productivity?"
   ]
  },
  {
   "cell_type": "markdown",
   "metadata": {},
   "source": [
    "➡️ Type your written work for and answer to part Exercise 4 - part (b) here."
   ]
  },
  {
   "cell_type": "markdown",
   "metadata": {},
   "source": [
    "### Exercise 5."
   ]
  },
  {
   "cell_type": "markdown",
   "metadata": {},
   "source": [
    "$Predicted ~ Outcome_{jt} = 150 + 80 After_{jt} - 35 Treated_{jt} + 50 After_{jt}*Treated_{jt}$ \n",
    "\n",
    "Using the above estimated equation, please fill out the table below:"
   ]
  },
  {
   "cell_type": "markdown",
   "metadata": {},
   "source": [
    "| Average Outcome\t|\tControl, Treated = 0 |\tTreated = 1  |\tDifference T-C in each row |\n",
    "| :----------- | :----------------------- | :----------------------- | :----------------------- |\n",
    "| Before, After = 0 | (a) | (d) | (g) |\n",
    "|  |  |  |  |\n",
    "| After = 1 | (b) | (e) | (h) |\n",
    "|  |  |  |  |\n",
    "| Difference After-Before in each Column | (c) | (f) | D in D = (i) |"
   ]
  },
  {
   "cell_type": "markdown",
   "metadata": {},
   "source": [
    "➡️ Type your answer to part Exercise 5 - (a) here."
   ]
  },
  {
   "cell_type": "markdown",
   "metadata": {},
   "source": [
    "➡️ Type your answer to part Exercise 5 - (b) here."
   ]
  },
  {
   "cell_type": "markdown",
   "metadata": {},
   "source": [
    "➡️ Type your answer to part Exercise 5 - (c) here."
   ]
  },
  {
   "cell_type": "markdown",
   "metadata": {},
   "source": [
    "➡️ Type your answer to part Exercise 5 - (d) here."
   ]
  },
  {
   "cell_type": "markdown",
   "metadata": {},
   "source": [
    "➡️ Type your answer to part Exercise 5 - (e) here."
   ]
  },
  {
   "cell_type": "markdown",
   "metadata": {},
   "source": [
    "➡️ Type your answer to part Exercise 5 - (f) here."
   ]
  },
  {
   "cell_type": "markdown",
   "metadata": {},
   "source": [
    "➡️ Type your answer to part Exercise 5 - (g) here."
   ]
  },
  {
   "cell_type": "markdown",
   "metadata": {},
   "source": [
    "➡️ Type your answer to part Exercise 5 - (h) here."
   ]
  },
  {
   "cell_type": "markdown",
   "metadata": {},
   "source": [
    "➡️ Type your answer to part Exercise 5 - (i) here."
   ]
  }
 ],
 "metadata": {
  "kernelspec": {
   "display_name": "R",
   "language": "R",
   "name": "ir"
  },
  "language_info": {
   "codemirror_mode": "r",
   "file_extension": ".r",
   "mimetype": "text/x-r-source",
   "name": "R",
   "pygments_lexer": "r",
   "version": "3.6.1"
  }
 },
 "nbformat": 4,
 "nbformat_minor": 4
}
